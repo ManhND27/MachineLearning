{
 "metadata": {
  "language_info": {
   "codemirror_mode": {
    "name": "ipython",
    "version": 3
   },
   "file_extension": ".py",
   "mimetype": "text/x-python",
   "name": "python",
   "nbconvert_exporter": "python",
   "pygments_lexer": "ipython3",
   "version": "3.9.5"
  },
  "orig_nbformat": 2,
  "kernelspec": {
   "name": "python395jvsc74a57bd0c2a992d86943bdbb1a93721aa8faf11a2d48a4b1fd05bac4b69f4b63e0ef12fd",
   "display_name": "Python 3.9.5 64-bit"
  },
  "metadata": {
   "interpreter": {
    "hash": "c2a992d86943bdbb1a93721aa8faf11a2d48a4b1fd05bac4b69f4b63e0ef12fd"
   }
  }
 },
 "nbformat": 4,
 "nbformat_minor": 2,
 "cells": [
  {
   "cell_type": "code",
   "execution_count": 1,
   "metadata": {},
   "outputs": [
    {
     "output_type": "stream",
     "name": "stdout",
     "text": [
      "22\n"
     ]
    }
   ],
   "source": [
    "birth_year = input('Birth yeart :')\n",
    "age = 2021 - int(birth_year)\n",
    "print(age)"
   ]
  },
  {
   "cell_type": "code",
   "execution_count": 2,
   "metadata": {},
   "outputs": [
    {
     "output_type": "stream",
     "name": "stdout",
     "text": [
      "128.88888888888889\n"
     ]
    }
   ],
   "source": [
    "weight_kg = input('Weigth (kg) : ')\n",
    "weight_lbs = int(weight_kg)/0.45\n",
    "print(weight_lbs)"
   ]
  },
  {
   "cell_type": "code",
   "execution_count": 13,
   "metadata": {},
   "outputs": [
    {
     "output_type": "stream",
     "name": "stdout",
     "text": [
      "Python for Beginner\nPython for Beginner \n20\nPYTHON FOR BEGINNER \npython for beginner \n-1\nPython for Master \n"
     ]
    }
   ],
   "source": [
    "course = \"Python for Beginner \"\n",
    "another = course[:]\n",
    "print(course[0:-1])\n",
    "print(another)\n",
    "print(len(course))\n",
    "print(course.upper())\n",
    "print(course.lower())\n",
    "print(course.find('k'))\n",
    "print(course.replace('Beginner', 'Master'))"
   ]
  },
  {
   "cell_type": "code",
   "execution_count": 7,
   "metadata": {},
   "outputs": [
    {
     "output_type": "stream",
     "name": "stdout",
     "text": [
      "Nguyen [Manh] is a code\nNguyen [Manh] is a code\n"
     ]
    }
   ],
   "source": [
    "first = 'Nguyen'\n",
    "last = 'Manh'\n",
    "message = first + ' [' + last + '] is a code'\n",
    "msg = f'{first} [{last}] is a code'\n",
    "print(message)\n",
    "print(msg)"
   ]
  },
  {
   "cell_type": "code",
   "execution_count": 19,
   "metadata": {},
   "outputs": [
    {
     "output_type": "execute_result",
     "data": {
      "text/plain": [
       "3"
      ]
     },
     "metadata": {},
     "execution_count": 19
    }
   ],
   "source": [
    "x = 10 + 3*2**2\n",
    "x\n",
    "k = 2.9\n",
    "round(abs(-2.9))"
   ]
  },
  {
   "cell_type": "code",
   "execution_count": 24,
   "metadata": {},
   "outputs": [
    {
     "output_type": "stream",
     "name": "stdout",
     "text": [
      "It's a hot day\nWear warm clothes\nEnjoy your day\n"
     ]
    }
   ],
   "source": [
    "is_hot = True\n",
    "if is_hot:\n",
    "    print(\"It's a hot day\")\n",
    "    print(\"Wear warm clothes\")\n",
    "else if:\n",
    "    print(\"It's a cold day\")\n",
    "    print(\"Wear warm clothes\")\n",
    "print(\"Enjoy your day\")"
   ]
  },
  {
   "cell_type": "code",
   "execution_count": 25,
   "metadata": {},
   "outputs": [
    {
     "output_type": "stream",
     "name": "stdout",
     "text": [
      "1\n2\n4\n5\n6\n"
     ]
    }
   ],
   "source": [
    "i = 0 \n",
    "while i < 6:\n",
    "    i += 1\n",
    "    if i == 3:\n",
    "        continue\n",
    "    print(i)"
   ]
  },
  {
   "cell_type": "code",
   "execution_count": 1,
   "metadata": {},
   "outputs": [
    {
     "output_type": "stream",
     "name": "stdout",
     "text": [
      "Download payment: 100.0\n"
     ]
    }
   ],
   "source": [
    "price = 1000\n",
    "has_good_credit = True\n",
    "if has_good_credit:\n",
    "    down_payment = 0.1*price\n",
    "else:\n",
    "    down_payment = 0.2*price\n",
    "print(f\"Download payment: {down_payment}\")"
   ]
  },
  {
   "cell_type": "code",
   "execution_count": 2,
   "metadata": {},
   "outputs": [
    {
     "output_type": "stream",
     "name": "stdout",
     "text": [
      "Manh Dep Trai \n"
     ]
    }
   ],
   "source": [
    "has_hiht_income = True\n",
    "has_good_credit = True\n",
    "if has_good_credit and has_hiht_income:\n",
    "    print(\"Manh Dep Trai \")"
   ]
  },
  {
   "cell_type": "code",
   "execution_count": 13,
   "metadata": {},
   "outputs": [
    {
     "output_type": "stream",
     "name": "stdout",
     "text": [
      "You are 888.8888888888889 pounds\n"
     ]
    }
   ],
   "source": [
    "weight = int(input('Weight: '))\n",
    "select = input('(L)bs or (K)g: ')\n",
    "if select.upper() == 'L':\n",
    "    converted = weight * 0.45\n",
    "    print(f\"You are {converted} kilogams\")\n",
    "elif select.upper() == 'K':\n",
    "    converted = weight / 0.45\n",
    "    print(f\"You are {converted} pounds\")\n",
    "else:\n",
    "    print(\"Please input again!\")"
   ]
  },
  {
   "cell_type": "code",
   "execution_count": 16,
   "metadata": {},
   "outputs": [],
   "source": [
    "secter_nunmber = 7\n",
    "guess_count = 0 \n",
    "guess_limit = 3\n",
    "while guess_count < guess_limit:\n",
    "    guess = int(input(\"Guess: \"))\n",
    "    guess_count += 1\n",
    "    if guess == secter_nunmber:\n",
    "        print(\"You won !\")\n",
    "        break"
   ]
  },
  {
   "cell_type": "code",
   "execution_count": 3,
   "metadata": {},
   "outputs": [
    {
     "output_type": "stream",
     "name": "stdout",
     "text": [
      "apple\n['mango', 'papaya', 'pineapple']\ncherry\n0\n"
     ]
    }
   ],
   "source": [
    "#tuple\n",
    "fruits = (\"apple\", \"mango\", \"papaya\", \"pineapple\", \"cherry\")\n",
    "\n",
    "(green, *tropic, red) = fruits\n",
    "\n",
    "print(green)\n",
    "print(tropic)\n",
    "print(red)\n",
    "print(fruits.index(\"apple\"))"
   ]
  },
  {
   "cell_type": "code",
   "execution_count": null,
   "metadata": {},
   "outputs": [],
   "source": []
  }
 ]
}