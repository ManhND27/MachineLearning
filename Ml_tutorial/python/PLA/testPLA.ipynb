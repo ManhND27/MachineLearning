{
 "metadata": {
  "language_info": {
   "codemirror_mode": {
    "name": "ipython",
    "version": 3
   },
   "file_extension": ".py",
   "mimetype": "text/x-python",
   "name": "python",
   "nbconvert_exporter": "python",
   "pygments_lexer": "ipython3",
   "version": "3.9.4"
  },
  "orig_nbformat": 2,
  "kernelspec": {
   "name": "python394jvsc74a57bd0d68dc3596d26fd4f71cc6c5f2c3cc1b3d0ed0ab64dd09e86f9aa75e5d2f92423",
   "display_name": "Python 3.9.4 64-bit"
  },
  "metadata": {
   "interpreter": {
    "hash": "d68dc3596d26fd4f71cc6c5f2c3cc1b3d0ed0ab64dd09e86f9aa75e5d2f92423"
   }
  }
 },
 "nbformat": 4,
 "nbformat_minor": 2,
 "cells": [
  {
   "cell_type": "code",
   "execution_count": 19,
   "metadata": {},
   "outputs": [],
   "source": [
    "import numpy as np\n",
    "import matplotlib.pyplot as plt \n",
    "from scipy.spatial.distance import cdist\n",
    "np.random.seed(2)"
   ]
  },
  {
   "cell_type": "code",
   "execution_count": 28,
   "metadata": {},
   "outputs": [
    {
     "output_type": "stream",
     "name": "stdout",
     "text": [
      "(2, 10)\n"
     ]
    }
   ],
   "source": [
    "means = [[2, 2], [4, 2]]\n",
    "cov = [[.3, .2], [.2, .3]]\n",
    "N = 10\n",
    "X0 = np.random.multivariate_normal(means[0], cov, N).T\n",
    "print(X0.shape)\n",
    "X1 = np.random.multivariate_normal(means[1], cov, N).T\n",
    "\n",
    "X = np.concatenate((X0, X1), axis=1)\n",
    "y = np.concatenate((np.ones((1, N)), -1*np.ones((1, N))), axis=1)\n",
    "#Xbar \n",
    "X = np.concatenate((np.ones((1, 2*N)), X), axis=0)\n"
   ]
  },
  {
   "cell_type": "code",
   "execution_count": 47,
   "metadata": {},
   "outputs": [
    {
     "output_type": "stream",
     "name": "stdout",
     "text": [
      "5\n"
     ]
    }
   ],
   "source": [
    "def h(w, x):\n",
    "    return np.sign(np.dot(w.T, x))\n",
    "#check hoi tu\n",
    "def has_converged(X, y, w):\n",
    "    return np.array_equal(h(w, X), y)\n",
    "\n",
    "def perceptron(X, y, w_init):\n",
    "    w = [w_init]\n",
    "    N = X.shape[1]\n",
    "    d = X.shape[0]\n",
    "    miss_points = []\n",
    "    loop = 0\n",
    "    while True:\n",
    "        # mix data\n",
    "        mix_id = np.random.permutation(N)\n",
    "        for i in range(N):\n",
    "            xi = X[:, mix_id[i]].reshape(d, 1)\n",
    "            yi = y[0, mix_id[i]]\n",
    "            if h(w[-1], xi) != yi :\n",
    "                miss_points.append(mix_id)\n",
    "                w_new = w[-1] + xi*yi\n",
    "                w.append(w_new)\n",
    "                loop = loop + 1\n",
    "        \n",
    "        if has_converged(X, y, w[-1]):\n",
    "            break\n",
    "    return (w, miss_points, loop)\n",
    "\n",
    "d = X.shape[0]\n",
    "w_init = np.random.rand(d, 1)\n",
    "(w, m, i) = perceptron(X, y, w_init)\n",
    "print(i)"
   ]
  },
  {
   "cell_type": "code",
   "execution_count": null,
   "metadata": {},
   "outputs": [],
   "source": []
  }
 ]
}