{
 "cells": [
  {
   "cell_type": "code",
   "execution_count": 46,
   "metadata": {},
   "outputs": [],
   "source": [
    "using DelimitedFiles\n",
    "using Plots"
   ]
  },
  {
   "cell_type": "code",
   "execution_count": 47,
   "metadata": {},
   "outputs": [
    {
     "data": {
      "text/plain": [
       "97×2 Array{Float64,2}:\n",
       "  6.1101  17.592\n",
       "  5.5277   9.1302\n",
       "  8.5186  13.662\n",
       "  7.0032  11.854\n",
       "  5.8598   6.8233\n",
       "  8.3829  11.886\n",
       "  7.4764   4.3483\n",
       "  8.5781  12.0\n",
       "  6.4862   6.5987\n",
       "  5.0546   3.8166\n",
       "  5.7107   3.2522\n",
       " 14.164   15.505\n",
       "  5.734    3.1551\n",
       "  ⋮       \n",
       "  8.5172   4.2415\n",
       "  9.1802   6.7981\n",
       "  6.002    0.92695\n",
       "  5.5204   0.152\n",
       "  5.0594   2.8214\n",
       "  5.7077   1.8451\n",
       "  7.6366   4.2959\n",
       "  5.8707   7.2029\n",
       "  5.3054   1.9869\n",
       "  8.2934   0.14454\n",
       " 13.394    9.0551\n",
       "  5.4369   0.61705"
      ]
     },
     "execution_count": 47,
     "metadata": {},
     "output_type": "execute_result"
    }
   ],
   "source": [
    "A = readdlm(\"./data/profits.txt\",',')"
   ]
  },
  {
   "cell_type": "code",
   "execution_count": 48,
   "metadata": {},
   "outputs": [
    {
     "data": {
      "text/plain": [
       "97-element Array{Float64,1}:\n",
       "  6.1101\n",
       "  5.5277\n",
       "  8.5186\n",
       "  7.0032\n",
       "  5.8598\n",
       "  8.3829\n",
       "  7.4764\n",
       "  8.5781\n",
       "  6.4862\n",
       "  5.0546\n",
       "  5.7107\n",
       " 14.164\n",
       "  5.734\n",
       "  ⋮\n",
       "  8.5172\n",
       "  9.1802\n",
       "  6.002\n",
       "  5.5204\n",
       "  5.0594\n",
       "  5.7077\n",
       "  7.6366\n",
       "  5.8707\n",
       "  5.3054\n",
       "  8.2934\n",
       " 13.394\n",
       "  5.4369"
      ]
     },
     "execution_count": 48,
     "metadata": {},
     "output_type": "execute_result"
    }
   ],
   "source": [
    "X = A[:,1]"
   ]
  },
  {
   "cell_type": "code",
   "execution_count": 49,
   "metadata": {
    "scrolled": true
   },
   "outputs": [
    {
     "data": {
      "text/plain": [
       "97-element Array{Float64,1}:\n",
       " 17.592\n",
       "  9.1302\n",
       " 13.662\n",
       " 11.854\n",
       "  6.8233\n",
       " 11.886\n",
       "  4.3483\n",
       " 12.0\n",
       "  6.5987\n",
       "  3.8166\n",
       "  3.2522\n",
       " 15.505\n",
       "  3.1551\n",
       "  ⋮\n",
       "  4.2415\n",
       "  6.7981\n",
       "  0.92695\n",
       "  0.152\n",
       "  2.8214\n",
       "  1.8451\n",
       "  4.2959\n",
       "  7.2029\n",
       "  1.9869\n",
       "  0.14454\n",
       "  9.0551\n",
       "  0.61705"
      ]
     },
     "execution_count": 49,
     "metadata": {},
     "output_type": "execute_result"
    }
   ],
   "source": [
    "y = A[:,2]"
   ]
  },
  {
   "cell_type": "code",
   "execution_count": 50,
   "metadata": {},
   "outputs": [
    {
     "data": {
      "image/svg+xml": [
       "<?xml version=\"1.0\" encoding=\"utf-8\"?>\n",
       "<svg xmlns=\"http://www.w3.org/2000/svg\" xmlns:xlink=\"http://www.w3.org/1999/xlink\" width=\"600\" height=\"400\" viewBox=\"0 0 2400 1600\">\n",
       "<defs>\n",
       "  <clipPath id=\"clip360\">\n",
       "    <rect x=\"0\" y=\"0\" width=\"2400\" height=\"1600\"/>\n",
       "  </clipPath>\n",
       "</defs>\n",
       "<path clip-path=\"url(#clip360)\" d=\"\n",
       "M0 1600 L2400 1600 L2400 0 L0 0  Z\n",
       "  \" fill=\"#ffffff\" fill-rule=\"evenodd\" fill-opacity=\"1\"/>\n",
       "<defs>\n",
       "  <clipPath id=\"clip361\">\n",
       "    <rect x=\"480\" y=\"0\" width=\"1681\" height=\"1600\"/>\n",
       "  </clipPath>\n",
       "</defs>\n",
       "<path clip-path=\"url(#clip360)\" d=\"\n",
       "M135.95 1486.45 L2352.76 1486.45 L2352.76 47.2441 L135.95 47.2441  Z\n",
       "  \" fill=\"#ffffff\" fill-rule=\"evenodd\" fill-opacity=\"1\"/>\n",
       "<defs>\n",
       "  <clipPath id=\"clip362\">\n",
       "    <rect x=\"135\" y=\"47\" width=\"2218\" height=\"1440\"/>\n",
       "  </clipPath>\n",
       "</defs>\n",
       "<polyline clip-path=\"url(#clip362)\" style=\"stroke:#000000; stroke-width:2; stroke-opacity:0.1; fill:none\" points=\"\n",
       "  195.415,1486.45 195.415,47.2441 \n",
       "  \"/>\n",
       "<polyline clip-path=\"url(#clip362)\" style=\"stroke:#000000; stroke-width:2; stroke-opacity:0.1; fill:none\" points=\"\n",
       "  804.204,1486.45 804.204,47.2441 \n",
       "  \"/>\n",
       "<polyline clip-path=\"url(#clip362)\" style=\"stroke:#000000; stroke-width:2; stroke-opacity:0.1; fill:none\" points=\"\n",
       "  1412.99,1486.45 1412.99,47.2441 \n",
       "  \"/>\n",
       "<polyline clip-path=\"url(#clip362)\" style=\"stroke:#000000; stroke-width:2; stroke-opacity:0.1; fill:none\" points=\"\n",
       "  2021.78,1486.45 2021.78,47.2441 \n",
       "  \"/>\n",
       "<polyline clip-path=\"url(#clip360)\" style=\"stroke:#000000; stroke-width:4; stroke-opacity:1; fill:none\" points=\"\n",
       "  135.95,1486.45 2352.76,1486.45 \n",
       "  \"/>\n",
       "<polyline clip-path=\"url(#clip360)\" style=\"stroke:#000000; stroke-width:4; stroke-opacity:1; fill:none\" points=\"\n",
       "  195.415,1486.45 195.415,1469.18 \n",
       "  \"/>\n",
       "<polyline clip-path=\"url(#clip360)\" style=\"stroke:#000000; stroke-width:4; stroke-opacity:1; fill:none\" points=\"\n",
       "  804.204,1486.45 804.204,1469.18 \n",
       "  \"/>\n",
       "<polyline clip-path=\"url(#clip360)\" style=\"stroke:#000000; stroke-width:4; stroke-opacity:1; fill:none\" points=\"\n",
       "  1412.99,1486.45 1412.99,1469.18 \n",
       "  \"/>\n",
       "<polyline clip-path=\"url(#clip360)\" style=\"stroke:#000000; stroke-width:4; stroke-opacity:1; fill:none\" points=\"\n",
       "  2021.78,1486.45 2021.78,1469.18 \n",
       "  \"/>\n",
       "<path clip-path=\"url(#clip360)\" d=\"M 0 0 M185.693 1512.56 L204.049 1512.56 L204.049 1516.5 L189.975 1516.5 L189.975 1524.97 Q190.993 1524.62 192.012 1524.46 Q193.03 1524.27 194.049 1524.27 Q199.836 1524.27 203.216 1527.44 Q206.595 1530.62 206.595 1536.03 Q206.595 1541.61 203.123 1544.71 Q199.651 1547.79 193.331 1547.79 Q191.155 1547.79 188.887 1547.42 Q186.642 1547.05 184.234 1546.31 L184.234 1541.61 Q186.318 1542.74 188.54 1543.3 Q190.762 1543.86 193.239 1543.86 Q197.243 1543.86 199.581 1541.75 Q201.919 1539.64 201.919 1536.03 Q201.919 1532.42 199.581 1530.31 Q197.243 1528.21 193.239 1528.21 Q191.364 1528.21 189.489 1528.62 Q187.637 1529.04 185.693 1529.92 L185.693 1512.56 Z\" fill=\"#000000\" fill-rule=\"evenodd\" fill-opacity=\"1\" /><path clip-path=\"url(#clip360)\" d=\"M 0 0 M781.079 1543.18 L788.718 1543.18 L788.718 1516.82 L780.408 1518.49 L780.408 1514.23 L788.672 1512.56 L793.348 1512.56 L793.348 1543.18 L800.987 1543.18 L800.987 1547.12 L781.079 1547.12 L781.079 1543.18 Z\" fill=\"#000000\" fill-rule=\"evenodd\" fill-opacity=\"1\" /><path clip-path=\"url(#clip360)\" d=\"M 0 0 M816.056 1515.64 Q812.445 1515.64 810.616 1519.2 Q808.811 1522.75 808.811 1529.87 Q808.811 1536.98 810.616 1540.55 Q812.445 1544.09 816.056 1544.09 Q819.69 1544.09 821.496 1540.55 Q823.325 1536.98 823.325 1529.87 Q823.325 1522.75 821.496 1519.2 Q819.69 1515.64 816.056 1515.64 M816.056 1511.93 Q821.866 1511.93 824.922 1516.54 Q828 1521.12 828 1529.87 Q828 1538.6 824.922 1543.21 Q821.866 1547.79 816.056 1547.79 Q810.246 1547.79 807.167 1543.21 Q804.112 1538.6 804.112 1529.87 Q804.112 1521.12 807.167 1516.54 Q810.246 1511.93 816.056 1511.93 Z\" fill=\"#000000\" fill-rule=\"evenodd\" fill-opacity=\"1\" /><path clip-path=\"url(#clip360)\" d=\"M 0 0 M1390.37 1543.18 L1398.01 1543.18 L1398.01 1516.82 L1389.7 1518.49 L1389.7 1514.23 L1397.96 1512.56 L1402.64 1512.56 L1402.64 1543.18 L1410.27 1543.18 L1410.27 1547.12 L1390.37 1547.12 L1390.37 1543.18 Z\" fill=\"#000000\" fill-rule=\"evenodd\" fill-opacity=\"1\" /><path clip-path=\"url(#clip360)\" d=\"M 0 0 M1415.39 1512.56 L1433.75 1512.56 L1433.75 1516.5 L1419.67 1516.5 L1419.67 1524.97 Q1420.69 1524.62 1421.71 1524.46 Q1422.73 1524.27 1423.75 1524.27 Q1429.53 1524.27 1432.91 1527.44 Q1436.29 1530.62 1436.29 1536.03 Q1436.29 1541.61 1432.82 1544.71 Q1429.35 1547.79 1423.03 1547.79 Q1420.85 1547.79 1418.58 1547.42 Q1416.34 1547.05 1413.93 1546.31 L1413.93 1541.61 Q1416.01 1542.74 1418.24 1543.3 Q1420.46 1543.86 1422.94 1543.86 Q1426.94 1543.86 1429.28 1541.75 Q1431.62 1539.64 1431.62 1536.03 Q1431.62 1532.42 1429.28 1530.31 Q1426.94 1528.21 1422.94 1528.21 Q1421.06 1528.21 1419.19 1528.62 Q1417.33 1529.04 1415.39 1529.92 L1415.39 1512.56 Z\" fill=\"#000000\" fill-rule=\"evenodd\" fill-opacity=\"1\" /><path clip-path=\"url(#clip360)\" d=\"M 0 0 M2002.93 1543.18 L2019.25 1543.18 L2019.25 1547.12 L1997.3 1547.12 L1997.3 1543.18 Q1999.97 1540.43 2004.55 1535.8 Q2009.16 1531.15 2010.34 1529.81 Q2012.58 1527.28 2013.46 1525.55 Q2014.36 1523.79 2014.36 1522.1 Q2014.36 1519.34 2012.42 1517.61 Q2010.5 1515.87 2007.4 1515.87 Q2005.2 1515.87 2002.74 1516.63 Q2000.31 1517.4 1997.54 1518.95 L1997.54 1514.23 Q2000.36 1513.09 2002.81 1512.51 Q2005.27 1511.93 2007.3 1511.93 Q2012.67 1511.93 2015.87 1514.62 Q2019.06 1517.31 2019.06 1521.8 Q2019.06 1523.93 2018.25 1525.85 Q2017.47 1527.74 2015.36 1530.34 Q2014.78 1531.01 2011.68 1534.23 Q2008.58 1537.42 2002.93 1543.18 Z\" fill=\"#000000\" fill-rule=\"evenodd\" fill-opacity=\"1\" /><path clip-path=\"url(#clip360)\" d=\"M 0 0 M2034.32 1515.64 Q2030.71 1515.64 2028.88 1519.2 Q2027.07 1522.75 2027.07 1529.87 Q2027.07 1536.98 2028.88 1540.55 Q2030.71 1544.09 2034.32 1544.09 Q2037.95 1544.09 2039.76 1540.55 Q2041.59 1536.98 2041.59 1529.87 Q2041.59 1522.75 2039.76 1519.2 Q2037.95 1515.64 2034.32 1515.64 M2034.32 1511.93 Q2040.13 1511.93 2043.18 1516.54 Q2046.26 1521.12 2046.26 1529.87 Q2046.26 1538.6 2043.18 1543.21 Q2040.13 1547.79 2034.32 1547.79 Q2028.51 1547.79 2025.43 1543.21 Q2022.37 1538.6 2022.37 1529.87 Q2022.37 1521.12 2025.43 1516.54 Q2028.51 1511.93 2034.32 1511.93 Z\" fill=\"#000000\" fill-rule=\"evenodd\" fill-opacity=\"1\" /><polyline clip-path=\"url(#clip362)\" style=\"stroke:#000000; stroke-width:2; stroke-opacity:0.1; fill:none\" points=\"\n",
       "  135.95,1310.05 2352.76,1310.05 \n",
       "  \"/>\n",
       "<polyline clip-path=\"url(#clip362)\" style=\"stroke:#000000; stroke-width:2; stroke-opacity:0.1; fill:none\" points=\"\n",
       "  135.95,1057 2352.76,1057 \n",
       "  \"/>\n",
       "<polyline clip-path=\"url(#clip362)\" style=\"stroke:#000000; stroke-width:2; stroke-opacity:0.1; fill:none\" points=\"\n",
       "  135.95,803.95 2352.76,803.95 \n",
       "  \"/>\n",
       "<polyline clip-path=\"url(#clip362)\" style=\"stroke:#000000; stroke-width:2; stroke-opacity:0.1; fill:none\" points=\"\n",
       "  135.95,550.902 2352.76,550.902 \n",
       "  \"/>\n",
       "<polyline clip-path=\"url(#clip362)\" style=\"stroke:#000000; stroke-width:2; stroke-opacity:0.1; fill:none\" points=\"\n",
       "  135.95,297.854 2352.76,297.854 \n",
       "  \"/>\n",
       "<polyline clip-path=\"url(#clip360)\" style=\"stroke:#000000; stroke-width:4; stroke-opacity:1; fill:none\" points=\"\n",
       "  135.95,1486.45 135.95,47.2441 \n",
       "  \"/>\n",
       "<polyline clip-path=\"url(#clip360)\" style=\"stroke:#000000; stroke-width:4; stroke-opacity:1; fill:none\" points=\"\n",
       "  135.95,1310.05 162.552,1310.05 \n",
       "  \"/>\n",
       "<polyline clip-path=\"url(#clip360)\" style=\"stroke:#000000; stroke-width:4; stroke-opacity:1; fill:none\" points=\"\n",
       "  135.95,1057 162.552,1057 \n",
       "  \"/>\n",
       "<polyline clip-path=\"url(#clip360)\" style=\"stroke:#000000; stroke-width:4; stroke-opacity:1; fill:none\" points=\"\n",
       "  135.95,803.95 162.552,803.95 \n",
       "  \"/>\n",
       "<polyline clip-path=\"url(#clip360)\" style=\"stroke:#000000; stroke-width:4; stroke-opacity:1; fill:none\" points=\"\n",
       "  135.95,550.902 162.552,550.902 \n",
       "  \"/>\n",
       "<polyline clip-path=\"url(#clip360)\" style=\"stroke:#000000; stroke-width:4; stroke-opacity:1; fill:none\" points=\"\n",
       "  135.95,297.854 162.552,297.854 \n",
       "  \"/>\n",
       "<path clip-path=\"url(#clip360)\" d=\"M 0 0 M88.0058 1295.85 Q84.3947 1295.85 82.566 1299.41 Q80.7605 1302.95 80.7605 1310.08 Q80.7605 1317.19 82.566 1320.75 Q84.3947 1324.29 88.0058 1324.29 Q91.6401 1324.29 93.4456 1320.75 Q95.2743 1317.19 95.2743 1310.08 Q95.2743 1302.95 93.4456 1299.41 Q91.6401 1295.85 88.0058 1295.85 M88.0058 1292.14 Q93.816 1292.14 96.8715 1296.75 Q99.9502 1301.33 99.9502 1310.08 Q99.9502 1318.81 96.8715 1323.41 Q93.816 1328 88.0058 1328 Q82.1957 1328 79.117 1323.41 Q76.0614 1318.81 76.0614 1310.08 Q76.0614 1301.33 79.117 1296.75 Q82.1957 1292.14 88.0058 1292.14 Z\" fill=\"#000000\" fill-rule=\"evenodd\" fill-opacity=\"1\" /><path clip-path=\"url(#clip360)\" d=\"M 0 0 M79.0475 1039.72 L97.4039 1039.72 L97.4039 1043.65 L83.3299 1043.65 L83.3299 1052.13 Q84.3484 1051.78 85.3669 1051.62 Q86.3855 1051.43 87.404 1051.43 Q93.191 1051.43 96.5706 1054.6 Q99.9502 1057.77 99.9502 1063.19 Q99.9502 1068.77 96.478 1071.87 Q93.0058 1074.95 86.6864 1074.95 Q84.5105 1074.95 82.242 1074.58 Q79.9966 1074.21 77.5892 1073.47 L77.5892 1068.77 Q79.6725 1069.9 81.8947 1070.46 Q84.1169 1071.01 86.5938 1071.01 Q90.5984 1071.01 92.9363 1068.91 Q95.2743 1066.8 95.2743 1063.19 Q95.2743 1059.58 92.9363 1057.47 Q90.5984 1055.37 86.5938 1055.37 Q84.7188 1055.37 82.8438 1055.78 Q80.992 1056.2 79.0475 1057.08 L79.0475 1039.72 Z\" fill=\"#000000\" fill-rule=\"evenodd\" fill-opacity=\"1\" /><path clip-path=\"url(#clip360)\" d=\"M 0 0 M53.0292 817.295 L60.668 817.295 L60.668 790.93 L52.3579 792.596 L52.3579 788.337 L60.6217 786.67 L65.2976 786.67 L65.2976 817.295 L72.9365 817.295 L72.9365 821.23 L53.0292 821.23 L53.0292 817.295 Z\" fill=\"#000000\" fill-rule=\"evenodd\" fill-opacity=\"1\" /><path clip-path=\"url(#clip360)\" d=\"M 0 0 M88.0058 789.749 Q84.3947 789.749 82.566 793.314 Q80.7605 796.856 80.7605 803.985 Q80.7605 811.092 82.566 814.656 Q84.3947 818.198 88.0058 818.198 Q91.6401 818.198 93.4456 814.656 Q95.2743 811.092 95.2743 803.985 Q95.2743 796.856 93.4456 793.314 Q91.6401 789.749 88.0058 789.749 M88.0058 786.045 Q93.816 786.045 96.8715 790.652 Q99.9502 795.235 99.9502 803.985 Q99.9502 812.712 96.8715 817.318 Q93.816 821.902 88.0058 821.902 Q82.1957 821.902 79.117 817.318 Q76.0614 812.712 76.0614 803.985 Q76.0614 795.235 79.117 790.652 Q82.1957 786.045 88.0058 786.045 Z\" fill=\"#000000\" fill-rule=\"evenodd\" fill-opacity=\"1\" /><path clip-path=\"url(#clip360)\" d=\"M 0 0 M54.0245 564.247 L61.6634 564.247 L61.6634 537.882 L53.3532 539.548 L53.3532 535.289 L61.6171 533.622 L66.293 533.622 L66.293 564.247 L73.9318 564.247 L73.9318 568.182 L54.0245 568.182 L54.0245 564.247 Z\" fill=\"#000000\" fill-rule=\"evenodd\" fill-opacity=\"1\" /><path clip-path=\"url(#clip360)\" d=\"M 0 0 M79.0475 533.622 L97.4039 533.622 L97.4039 537.558 L83.3299 537.558 L83.3299 546.03 Q84.3484 545.682 85.3669 545.52 Q86.3855 545.335 87.404 545.335 Q93.191 545.335 96.5706 548.507 Q99.9502 551.678 99.9502 557.094 Q99.9502 562.673 96.478 565.775 Q93.0058 568.854 86.6864 568.854 Q84.5105 568.854 82.242 568.483 Q79.9966 568.113 77.5892 567.372 L77.5892 562.673 Q79.6725 563.807 81.8947 564.363 Q84.1169 564.919 86.5938 564.919 Q90.5984 564.919 92.9363 562.812 Q95.2743 560.706 95.2743 557.094 Q95.2743 553.483 92.9363 551.377 Q90.5984 549.27 86.5938 549.27 Q84.7188 549.27 82.8438 549.687 Q80.992 550.104 79.0475 550.983 L79.0475 533.622 Z\" fill=\"#000000\" fill-rule=\"evenodd\" fill-opacity=\"1\" /><path clip-path=\"url(#clip360)\" d=\"M 0 0 M56.6171 311.199 L72.9365 311.199 L72.9365 315.134 L50.9921 315.134 L50.9921 311.199 Q53.6541 308.445 58.2375 303.815 Q62.8439 299.162 64.0245 297.82 Q66.2698 295.296 67.1494 293.56 Q68.0522 291.801 68.0522 290.111 Q68.0522 287.357 66.1078 285.621 Q64.1865 283.884 61.0847 283.884 Q58.8856 283.884 56.4319 284.648 Q54.0014 285.412 51.2236 286.963 L51.2236 282.241 Q54.0477 281.107 56.5014 280.528 Q58.955 279.949 60.9921 279.949 Q66.3624 279.949 69.5568 282.635 Q72.7513 285.32 72.7513 289.81 Q72.7513 291.94 71.9411 293.861 Q71.1541 295.759 69.0476 298.352 Q68.4689 299.023 65.367 302.241 Q62.2652 305.435 56.6171 311.199 Z\" fill=\"#000000\" fill-rule=\"evenodd\" fill-opacity=\"1\" /><path clip-path=\"url(#clip360)\" d=\"M 0 0 M88.0058 283.653 Q84.3947 283.653 82.566 287.218 Q80.7605 290.759 80.7605 297.889 Q80.7605 304.995 82.566 308.56 Q84.3947 312.102 88.0058 312.102 Q91.6401 312.102 93.4456 308.56 Q95.2743 304.995 95.2743 297.889 Q95.2743 290.759 93.4456 287.218 Q91.6401 283.653 88.0058 283.653 M88.0058 279.949 Q93.816 279.949 96.8715 284.556 Q99.9502 289.139 99.9502 297.889 Q99.9502 306.616 96.8715 311.222 Q93.816 315.806 88.0058 315.806 Q82.1957 315.806 79.117 311.222 Q76.0614 306.616 76.0614 297.889 Q76.0614 289.139 79.117 284.556 Q82.1957 279.949 88.0058 279.949 Z\" fill=\"#000000\" fill-rule=\"evenodd\" fill-opacity=\"1\" /><circle clip-path=\"url(#clip362)\" cx=\"330.578\" cy=\"419.722\" r=\"14\" fill=\"#009af9\" fill-rule=\"evenodd\" fill-opacity=\"1\" stroke=\"#000000\" stroke-opacity=\"1\" stroke-width=\"3.2\"/>\n",
       "<circle clip-path=\"url(#clip362)\" cx=\"259.666\" cy=\"847.971\" r=\"14\" fill=\"#009af9\" fill-rule=\"evenodd\" fill-opacity=\"1\" stroke=\"#000000\" stroke-opacity=\"1\" stroke-width=\"3.2\"/>\n",
       "<circle clip-path=\"url(#clip362)\" cx=\"623.832\" cy=\"618.618\" r=\"14\" fill=\"#009af9\" fill-rule=\"evenodd\" fill-opacity=\"1\" stroke=\"#000000\" stroke-opacity=\"1\" stroke-width=\"3.2\"/>\n",
       "<circle clip-path=\"url(#clip362)\" cx=\"439.32\" cy=\"710.12\" r=\"14\" fill=\"#009af9\" fill-rule=\"evenodd\" fill-opacity=\"1\" stroke=\"#000000\" stroke-opacity=\"1\" stroke-width=\"3.2\"/>\n",
       "<circle clip-path=\"url(#clip362)\" cx=\"300.102\" cy=\"964.722\" r=\"14\" fill=\"#009af9\" fill-rule=\"evenodd\" fill-opacity=\"1\" stroke=\"#000000\" stroke-opacity=\"1\" stroke-width=\"3.2\"/>\n",
       "<circle clip-path=\"url(#clip362)\" cx=\"607.31\" cy=\"708.501\" r=\"14\" fill=\"#009af9\" fill-rule=\"evenodd\" fill-opacity=\"1\" stroke=\"#000000\" stroke-opacity=\"1\" stroke-width=\"3.2\"/>\n",
       "<circle clip-path=\"url(#clip362)\" cx=\"496.936\" cy=\"1089.98\" r=\"14\" fill=\"#009af9\" fill-rule=\"evenodd\" fill-opacity=\"1\" stroke=\"#000000\" stroke-opacity=\"1\" stroke-width=\"3.2\"/>\n",
       "<circle clip-path=\"url(#clip362)\" cx=\"631.077\" cy=\"702.731\" r=\"14\" fill=\"#009af9\" fill-rule=\"evenodd\" fill-opacity=\"1\" stroke=\"#000000\" stroke-opacity=\"1\" stroke-width=\"3.2\"/>\n",
       "<circle clip-path=\"url(#clip362)\" cx=\"376.371\" cy=\"976.089\" r=\"14\" fill=\"#009af9\" fill-rule=\"evenodd\" fill-opacity=\"1\" stroke=\"#000000\" stroke-opacity=\"1\" stroke-width=\"3.2\"/>\n",
       "<circle clip-path=\"url(#clip362)\" cx=\"202.063\" cy=\"1116.89\" r=\"14\" fill=\"#009af9\" fill-rule=\"evenodd\" fill-opacity=\"1\" stroke=\"#000000\" stroke-opacity=\"1\" stroke-width=\"3.2\"/>\n",
       "<circle clip-path=\"url(#clip362)\" cx=\"281.948\" cy=\"1145.45\" r=\"14\" fill=\"#009af9\" fill-rule=\"evenodd\" fill-opacity=\"1\" stroke=\"#000000\" stroke-opacity=\"1\" stroke-width=\"3.2\"/>\n",
       "<circle clip-path=\"url(#clip362)\" cx=\"1311.2\" cy=\"525.345\" r=\"14\" fill=\"#009af9\" fill-rule=\"evenodd\" fill-opacity=\"1\" stroke=\"#000000\" stroke-opacity=\"1\" stroke-width=\"3.2\"/>\n",
       "<circle clip-path=\"url(#clip362)\" cx=\"284.785\" cy=\"1150.37\" r=\"14\" fill=\"#009af9\" fill-rule=\"evenodd\" fill-opacity=\"1\" stroke=\"#000000\" stroke-opacity=\"1\" stroke-width=\"3.2\"/>\n",
       "<circle clip-path=\"url(#clip362)\" cx=\"610.414\" cy=\"944.352\" r=\"14\" fill=\"#009af9\" fill-rule=\"evenodd\" fill-opacity=\"1\" stroke=\"#000000\" stroke-opacity=\"1\" stroke-width=\"3.2\"/>\n",
       "<circle clip-path=\"url(#clip362)\" cx=\"273.425\" cy=\"1273.8\" r=\"14\" fill=\"#009af9\" fill-rule=\"evenodd\" fill-opacity=\"1\" stroke=\"#000000\" stroke-opacity=\"1\" stroke-width=\"3.2\"/>\n",
       "<circle clip-path=\"url(#clip362)\" cx=\"241.61\" cy=\"1132.26\" r=\"14\" fill=\"#009af9\" fill-rule=\"evenodd\" fill-opacity=\"1\" stroke=\"#000000\" stroke-opacity=\"1\" stroke-width=\"3.2\"/>\n",
       "<circle clip-path=\"url(#clip362)\" cx=\"361.663\" cy=\"1041.57\" r=\"14\" fill=\"#009af9\" fill-rule=\"evenodd\" fill-opacity=\"1\" stroke=\"#000000\" stroke-opacity=\"1\" stroke-width=\"3.2\"/>\n",
       "<circle clip-path=\"url(#clip362)\" cx=\"211.255\" cy=\"1281.67\" r=\"14\" fill=\"#009af9\" fill-rule=\"evenodd\" fill-opacity=\"1\" stroke=\"#000000\" stroke-opacity=\"1\" stroke-width=\"3.2\"/>\n",
       "<circle clip-path=\"url(#clip362)\" cx=\"369.48\" cy=\"1125.23\" r=\"14\" fill=\"#009af9\" fill-rule=\"evenodd\" fill-opacity=\"1\" stroke=\"#000000\" stroke-opacity=\"1\" stroke-width=\"3.2\"/>\n",
       "<circle clip-path=\"url(#clip362)\" cx=\"447.551\" cy=\"1037.3\" r=\"14\" fill=\"#009af9\" fill-rule=\"evenodd\" fill-opacity=\"1\" stroke=\"#000000\" stroke-opacity=\"1\" stroke-width=\"3.2\"/>\n",
       "<circle clip-path=\"url(#clip362)\" cx=\"340.197\" cy=\"1151.2\" r=\"14\" fill=\"#009af9\" fill-rule=\"evenodd\" fill-opacity=\"1\" stroke=\"#000000\" stroke-opacity=\"1\" stroke-width=\"3.2\"/>\n",
       "<circle clip-path=\"url(#clip362)\" cx=\"2054.66\" cy=\"208.427\" r=\"14\" fill=\"#009af9\" fill-rule=\"evenodd\" fill-opacity=\"1\" stroke=\"#000000\" stroke-opacity=\"1\" stroke-width=\"3.2\"/>\n",
       "<circle clip-path=\"url(#clip362)\" cx=\"255.088\" cy=\"1094.3\" r=\"14\" fill=\"#009af9\" fill-rule=\"evenodd\" fill-opacity=\"1\" stroke=\"#000000\" stroke-opacity=\"1\" stroke-width=\"3.2\"/>\n",
       "<circle clip-path=\"url(#clip362)\" cx=\"356.878\" cy=\"1047.51\" r=\"14\" fill=\"#009af9\" fill-rule=\"evenodd\" fill-opacity=\"1\" stroke=\"#000000\" stroke-opacity=\"1\" stroke-width=\"3.2\"/>\n",
       "<circle clip-path=\"url(#clip362)\" cx=\"264.196\" cy=\"1154.04\" r=\"14\" fill=\"#009af9\" fill-rule=\"evenodd\" fill-opacity=\"1\" stroke=\"#000000\" stroke-opacity=\"1\" stroke-width=\"3.2\"/>\n",
       "<circle clip-path=\"url(#clip362)\" cx=\"1893.33\" cy=\"164.346\" r=\"14\" fill=\"#009af9\" fill-rule=\"evenodd\" fill-opacity=\"1\" stroke=\"#000000\" stroke-opacity=\"1\" stroke-width=\"3.2\"/>\n",
       "<circle clip-path=\"url(#clip362)\" cx=\"1148.54\" cy=\"626.766\" r=\"14\" fill=\"#009af9\" fill-rule=\"evenodd\" fill-opacity=\"1\" stroke=\"#000000\" stroke-opacity=\"1\" stroke-width=\"3.2\"/>\n",
       "<circle clip-path=\"url(#clip362)\" cx=\"920.727\" cy=\"953.416\" r=\"14\" fill=\"#009af9\" fill-rule=\"evenodd\" fill-opacity=\"1\" stroke=\"#000000\" stroke-opacity=\"1\" stroke-width=\"3.2\"/>\n",
       "<circle clip-path=\"url(#clip362)\" cx=\"1190.91\" cy=\"566.49\" r=\"14\" fill=\"#009af9\" fill-rule=\"evenodd\" fill-opacity=\"1\" stroke=\"#000000\" stroke-opacity=\"1\" stroke-width=\"3.2\"/>\n",
       "<circle clip-path=\"url(#clip362)\" cx=\"2290.02\" cy=\"87.9763\" r=\"14\" fill=\"#009af9\" fill-rule=\"evenodd\" fill-opacity=\"1\" stroke=\"#000000\" stroke-opacity=\"1\" stroke-width=\"3.2\"/>\n",
       "<circle clip-path=\"url(#clip362)\" cx=\"226.146\" cy=\"1371.79\" r=\"14\" fill=\"#009af9\" fill-rule=\"evenodd\" fill-opacity=\"1\" stroke=\"#000000\" stroke-opacity=\"1\" stroke-width=\"3.2\"/>\n",
       "<circle clip-path=\"url(#clip362)\" cx=\"388.937\" cy=\"1006.56\" r=\"14\" fill=\"#009af9\" fill-rule=\"evenodd\" fill-opacity=\"1\" stroke=\"#000000\" stroke-opacity=\"1\" stroke-width=\"3.2\"/>\n",
       "<circle clip-path=\"url(#clip362)\" cx=\"712.667\" cy=\"695.95\" r=\"14\" fill=\"#009af9\" fill-rule=\"evenodd\" fill-opacity=\"1\" stroke=\"#000000\" stroke-opacity=\"1\" stroke-width=\"3.2\"/>\n",
       "<circle clip-path=\"url(#clip362)\" cx=\"303.998\" cy=\"1216.44\" r=\"14\" fill=\"#009af9\" fill-rule=\"evenodd\" fill-opacity=\"1\" stroke=\"#000000\" stroke-opacity=\"1\" stroke-width=\"3.2\"/>\n",
       "<circle clip-path=\"url(#clip362)\" cx=\"586.392\" cy=\"978.928\" r=\"14\" fill=\"#009af9\" fill-rule=\"evenodd\" fill-opacity=\"1\" stroke=\"#000000\" stroke-opacity=\"1\" stroke-width=\"3.2\"/>\n",
       "<circle clip-path=\"url(#clip362)\" cx=\"552.579\" cy=\"1079.15\" r=\"14\" fill=\"#009af9\" fill-rule=\"evenodd\" fill-opacity=\"1\" stroke=\"#000000\" stroke-opacity=\"1\" stroke-width=\"3.2\"/>\n",
       "<circle clip-path=\"url(#clip362)\" cx=\"572.365\" cy=\"1101.72\" r=\"14\" fill=\"#009af9\" fill-rule=\"evenodd\" fill-opacity=\"1\" stroke=\"#000000\" stroke-opacity=\"1\" stroke-width=\"3.2\"/>\n",
       "<circle clip-path=\"url(#clip362)\" cx=\"269.237\" cy=\"1138.34\" r=\"14\" fill=\"#009af9\" fill-rule=\"evenodd\" fill-opacity=\"1\" stroke=\"#000000\" stroke-opacity=\"1\" stroke-width=\"3.2\"/>\n",
       "<circle clip-path=\"url(#clip362)\" cx=\"1149.51\" cy=\"798.029\" r=\"14\" fill=\"#009af9\" fill-rule=\"evenodd\" fill-opacity=\"1\" stroke=\"#000000\" stroke-opacity=\"1\" stroke-width=\"3.2\"/>\n",
       "<circle clip-path=\"url(#clip362)\" cx=\"360.202\" cy=\"1031.83\" r=\"14\" fill=\"#009af9\" fill-rule=\"evenodd\" fill-opacity=\"1\" stroke=\"#000000\" stroke-opacity=\"1\" stroke-width=\"3.2\"/>\n",
       "<circle clip-path=\"url(#clip362)\" cx=\"244.958\" cy=\"1281.88\" r=\"14\" fill=\"#009af9\" fill-rule=\"evenodd\" fill-opacity=\"1\" stroke=\"#000000\" stroke-opacity=\"1\" stroke-width=\"3.2\"/>\n",
       "<circle clip-path=\"url(#clip362)\" cx=\"424.624\" cy=\"1112.09\" r=\"14\" fill=\"#009af9\" fill-rule=\"evenodd\" fill-opacity=\"1\" stroke=\"#000000\" stroke-opacity=\"1\" stroke-width=\"3.2\"/>\n",
       "<circle clip-path=\"url(#clip362)\" cx=\"1012.17\" cy=\"1037.49\" r=\"14\" fill=\"#009af9\" fill-rule=\"evenodd\" fill-opacity=\"1\" stroke=\"#000000\" stroke-opacity=\"1\" stroke-width=\"3.2\"/>\n",
       "<circle clip-path=\"url(#clip362)\" cx=\"289.619\" cy=\"1186.53\" r=\"14\" fill=\"#009af9\" fill-rule=\"evenodd\" fill-opacity=\"1\" stroke=\"#000000\" stroke-opacity=\"1\" stroke-width=\"3.2\"/>\n",
       "<circle clip-path=\"url(#clip362)\" cx=\"539.344\" cy=\"969.353\" r=\"14\" fill=\"#009af9\" fill-rule=\"evenodd\" fill-opacity=\"1\" stroke=\"#000000\" stroke-opacity=\"1\" stroke-width=\"3.2\"/>\n",
       "<circle clip-path=\"url(#clip362)\" cx=\"450.266\" cy=\"1257.09\" r=\"14\" fill=\"#009af9\" fill-rule=\"evenodd\" fill-opacity=\"1\" stroke=\"#000000\" stroke-opacity=\"1\" stroke-width=\"3.2\"/>\n",
       "<circle clip-path=\"url(#clip362)\" cx=\"203.962\" cy=\"1050.23\" r=\"14\" fill=\"#009af9\" fill-rule=\"evenodd\" fill-opacity=\"1\" stroke=\"#000000\" stroke-opacity=\"1\" stroke-width=\"3.2\"/>\n",
       "<circle clip-path=\"url(#clip362)\" cx=\"292.991\" cy=\"1216.72\" r=\"14\" fill=\"#009af9\" fill-rule=\"evenodd\" fill-opacity=\"1\" stroke=\"#000000\" stroke-opacity=\"1\" stroke-width=\"3.2\"/>\n",
       "<circle clip-path=\"url(#clip362)\" cx=\"1011.19\" cy=\"904.952\" r=\"14\" fill=\"#009af9\" fill-rule=\"evenodd\" fill-opacity=\"1\" stroke=\"#000000\" stroke-opacity=\"1\" stroke-width=\"3.2\"/>\n",
       "<circle clip-path=\"url(#clip362)\" cx=\"261.359\" cy=\"1258.53\" r=\"14\" fill=\"#009af9\" fill-rule=\"evenodd\" fill-opacity=\"1\" stroke=\"#000000\" stroke-opacity=\"1\" stroke-width=\"3.2\"/>\n",
       "<circle clip-path=\"url(#clip362)\" cx=\"504.704\" cy=\"968.411\" r=\"14\" fill=\"#009af9\" fill-rule=\"evenodd\" fill-opacity=\"1\" stroke=\"#000000\" stroke-opacity=\"1\" stroke-width=\"3.2\"/>\n",
       "<circle clip-path=\"url(#clip362)\" cx=\"232.88\" cy=\"1216.95\" r=\"14\" fill=\"#009af9\" fill-rule=\"evenodd\" fill-opacity=\"1\" stroke=\"#000000\" stroke-opacity=\"1\" stroke-width=\"3.2\"/>\n",
       "<circle clip-path=\"url(#clip362)\" cx=\"490.544\" cy=\"1093.01\" r=\"14\" fill=\"#009af9\" fill-rule=\"evenodd\" fill-opacity=\"1\" stroke=\"#000000\" stroke-opacity=\"1\" stroke-width=\"3.2\"/>\n",
       "<circle clip-path=\"url(#clip362)\" cx=\"512.363\" cy=\"1057.09\" r=\"14\" fill=\"#009af9\" fill-rule=\"evenodd\" fill-opacity=\"1\" stroke=\"#000000\" stroke-opacity=\"1\" stroke-width=\"3.2\"/>\n",
       "<circle clip-path=\"url(#clip362)\" cx=\"357.694\" cy=\"1238.01\" r=\"14\" fill=\"#009af9\" fill-rule=\"evenodd\" fill-opacity=\"1\" stroke=\"#000000\" stroke-opacity=\"1\" stroke-width=\"3.2\"/>\n",
       "<circle clip-path=\"url(#clip362)\" cx=\"360.872\" cy=\"1381.97\" r=\"14\" fill=\"#009af9\" fill-rule=\"evenodd\" fill-opacity=\"1\" stroke=\"#000000\" stroke-opacity=\"1\" stroke-width=\"3.2\"/>\n",
       "<circle clip-path=\"url(#clip362)\" cx=\"350.559\" cy=\"1184.76\" r=\"14\" fill=\"#009af9\" fill-rule=\"evenodd\" fill-opacity=\"1\" stroke=\"#000000\" stroke-opacity=\"1\" stroke-width=\"3.2\"/>\n",
       "<circle clip-path=\"url(#clip362)\" cx=\"273.303\" cy=\"1077.03\" r=\"14\" fill=\"#009af9\" fill-rule=\"evenodd\" fill-opacity=\"1\" stroke=\"#000000\" stroke-opacity=\"1\" stroke-width=\"3.2\"/>\n",
       "<circle clip-path=\"url(#clip362)\" cx=\"720.216\" cy=\"1109.51\" r=\"14\" fill=\"#009af9\" fill-rule=\"evenodd\" fill-opacity=\"1\" stroke=\"#000000\" stroke-opacity=\"1\" stroke-width=\"3.2\"/>\n",
       "<circle clip-path=\"url(#clip362)\" cx=\"737.676\" cy=\"1036.04\" r=\"14\" fill=\"#009af9\" fill-rule=\"evenodd\" fill-opacity=\"1\" stroke=\"#000000\" stroke-opacity=\"1\" stroke-width=\"3.2\"/>\n",
       "<circle clip-path=\"url(#clip362)\" cx=\"661.187\" cy=\"1048.43\" r=\"14\" fill=\"#009af9\" fill-rule=\"evenodd\" fill-opacity=\"1\" stroke=\"#000000\" stroke-opacity=\"1\" stroke-width=\"3.2\"/>\n",
       "<circle clip-path=\"url(#clip362)\" cx=\"217.246\" cy=\"1347.64\" r=\"14\" fill=\"#009af9\" fill-rule=\"evenodd\" fill-opacity=\"1\" stroke=\"#000000\" stroke-opacity=\"1\" stroke-width=\"3.2\"/>\n",
       "<circle clip-path=\"url(#clip362)\" cx=\"2177.51\" cy=\"402.667\" r=\"14\" fill=\"#009af9\" fill-rule=\"evenodd\" fill-opacity=\"1\" stroke=\"#000000\" stroke-opacity=\"1\" stroke-width=\"3.2\"/>\n",
       "<circle clip-path=\"url(#clip362)\" cx=\"1401.79\" cy=\"699.998\" r=\"14\" fill=\"#009af9\" fill-rule=\"evenodd\" fill-opacity=\"1\" stroke=\"#000000\" stroke-opacity=\"1\" stroke-width=\"3.2\"/>\n",
       "<circle clip-path=\"url(#clip362)\" cx=\"1895.03\" cy=\"446.95\" r=\"14\" fill=\"#009af9\" fill-rule=\"evenodd\" fill-opacity=\"1\" stroke=\"#000000\" stroke-opacity=\"1\" stroke-width=\"3.2\"/>\n",
       "<circle clip-path=\"url(#clip362)\" cx=\"465.498\" cy=\"1062.81\" r=\"14\" fill=\"#009af9\" fill-rule=\"evenodd\" fill-opacity=\"1\" stroke=\"#000000\" stroke-opacity=\"1\" stroke-width=\"3.2\"/>\n",
       "<circle clip-path=\"url(#clip362)\" cx=\"596.619\" cy=\"1019.33\" r=\"14\" fill=\"#009af9\" fill-rule=\"evenodd\" fill-opacity=\"1\" stroke=\"#000000\" stroke-opacity=\"1\" stroke-width=\"3.2\"/>\n",
       "<circle clip-path=\"url(#clip362)\" cx=\"832.939\" cy=\"916.537\" r=\"14\" fill=\"#009af9\" fill-rule=\"evenodd\" fill-opacity=\"1\" stroke=\"#000000\" stroke-opacity=\"1\" stroke-width=\"3.2\"/>\n",
       "<circle clip-path=\"url(#clip362)\" cx=\"256.221\" cy=\"1258.56\" r=\"14\" fill=\"#009af9\" fill-rule=\"evenodd\" fill-opacity=\"1\" stroke=\"#000000\" stroke-opacity=\"1\" stroke-width=\"3.2\"/>\n",
       "<circle clip-path=\"url(#clip362)\" cx=\"2063.3\" cy=\"247.65\" r=\"14\" fill=\"#009af9\" fill-rule=\"evenodd\" fill-opacity=\"1\" stroke=\"#000000\" stroke-opacity=\"1\" stroke-width=\"3.2\"/>\n",
       "<circle clip-path=\"url(#clip362)\" cx=\"820.763\" cy=\"971.979\" r=\"14\" fill=\"#009af9\" fill-rule=\"evenodd\" fill-opacity=\"1\" stroke=\"#000000\" stroke-opacity=\"1\" stroke-width=\"3.2\"/>\n",
       "<circle clip-path=\"url(#clip362)\" cx=\"479.659\" cy=\"1106.3\" r=\"14\" fill=\"#009af9\" fill-rule=\"evenodd\" fill-opacity=\"1\" stroke=\"#000000\" stroke-opacity=\"1\" stroke-width=\"3.2\"/>\n",
       "<circle clip-path=\"url(#clip362)\" cx=\"317.928\" cy=\"1245.35\" r=\"14\" fill=\"#009af9\" fill-rule=\"evenodd\" fill-opacity=\"1\" stroke=\"#000000\" stroke-opacity=\"1\" stroke-width=\"3.2\"/>\n",
       "<circle clip-path=\"url(#clip362)\" cx=\"466.436\" cy=\"1140.95\" r=\"14\" fill=\"#009af9\" fill-rule=\"evenodd\" fill-opacity=\"1\" stroke=\"#000000\" stroke-opacity=\"1\" stroke-width=\"3.2\"/>\n",
       "<circle clip-path=\"url(#clip362)\" cx=\"198.69\" cy=\"1445.72\" r=\"14\" fill=\"#009af9\" fill-rule=\"evenodd\" fill-opacity=\"1\" stroke=\"#000000\" stroke-opacity=\"1\" stroke-width=\"3.2\"/>\n",
       "<circle clip-path=\"url(#clip362)\" cx=\"383.884\" cy=\"1295.03\" r=\"14\" fill=\"#009af9\" fill-rule=\"evenodd\" fill-opacity=\"1\" stroke=\"#000000\" stroke-opacity=\"1\" stroke-width=\"3.2\"/>\n",
       "<circle clip-path=\"url(#clip362)\" cx=\"504.509\" cy=\"1113.45\" r=\"14\" fill=\"#009af9\" fill-rule=\"evenodd\" fill-opacity=\"1\" stroke=\"#000000\" stroke-opacity=\"1\" stroke-width=\"3.2\"/>\n",
       "<circle clip-path=\"url(#clip362)\" cx=\"199.859\" cy=\"1021.5\" r=\"14\" fill=\"#009af9\" fill-rule=\"evenodd\" fill-opacity=\"1\" stroke=\"#000000\" stroke-opacity=\"1\" stroke-width=\"3.2\"/>\n",
       "<circle clip-path=\"url(#clip362)\" cx=\"837.566\" cy=\"968.3\" r=\"14\" fill=\"#009af9\" fill-rule=\"evenodd\" fill-opacity=\"1\" stroke=\"#000000\" stroke-opacity=\"1\" stroke-width=\"3.2\"/>\n",
       "<circle clip-path=\"url(#clip362)\" cx=\"208.528\" cy=\"1205.91\" r=\"14\" fill=\"#009af9\" fill-rule=\"evenodd\" fill-opacity=\"1\" stroke=\"#000000\" stroke-opacity=\"1\" stroke-width=\"3.2\"/>\n",
       "<circle clip-path=\"url(#clip362)\" cx=\"284.201\" cy=\"1285.78\" r=\"14\" fill=\"#009af9\" fill-rule=\"evenodd\" fill-opacity=\"1\" stroke=\"#000000\" stroke-opacity=\"1\" stroke-width=\"3.2\"/>\n",
       "<circle clip-path=\"url(#clip362)\" cx=\"218.354\" cy=\"1299.71\" r=\"14\" fill=\"#009af9\" fill-rule=\"evenodd\" fill-opacity=\"1\" stroke=\"#000000\" stroke-opacity=\"1\" stroke-width=\"3.2\"/>\n",
       "<circle clip-path=\"url(#clip362)\" cx=\"360.482\" cy=\"1275.7\" r=\"14\" fill=\"#009af9\" fill-rule=\"evenodd\" fill-opacity=\"1\" stroke=\"#000000\" stroke-opacity=\"1\" stroke-width=\"3.2\"/>\n",
       "<circle clip-path=\"url(#clip362)\" cx=\"776.042\" cy=\"928.273\" r=\"14\" fill=\"#009af9\" fill-rule=\"evenodd\" fill-opacity=\"1\" stroke=\"#000000\" stroke-opacity=\"1\" stroke-width=\"3.2\"/>\n",
       "<circle clip-path=\"url(#clip362)\" cx=\"379.988\" cy=\"1039.61\" r=\"14\" fill=\"#009af9\" fill-rule=\"evenodd\" fill-opacity=\"1\" stroke=\"#000000\" stroke-opacity=\"1\" stroke-width=\"3.2\"/>\n",
       "<circle clip-path=\"url(#clip362)\" cx=\"623.662\" cy=\"1095.39\" r=\"14\" fill=\"#009af9\" fill-rule=\"evenodd\" fill-opacity=\"1\" stroke=\"#000000\" stroke-opacity=\"1\" stroke-width=\"3.2\"/>\n",
       "<circle clip-path=\"url(#clip362)\" cx=\"704.387\" cy=\"965.997\" r=\"14\" fill=\"#009af9\" fill-rule=\"evenodd\" fill-opacity=\"1\" stroke=\"#000000\" stroke-opacity=\"1\" stroke-width=\"3.2\"/>\n",
       "<circle clip-path=\"url(#clip362)\" cx=\"317.416\" cy=\"1263.13\" r=\"14\" fill=\"#009af9\" fill-rule=\"evenodd\" fill-opacity=\"1\" stroke=\"#000000\" stroke-opacity=\"1\" stroke-width=\"3.2\"/>\n",
       "<circle clip-path=\"url(#clip362)\" cx=\"258.778\" cy=\"1302.35\" r=\"14\" fill=\"#009af9\" fill-rule=\"evenodd\" fill-opacity=\"1\" stroke=\"#000000\" stroke-opacity=\"1\" stroke-width=\"3.2\"/>\n",
       "<circle clip-path=\"url(#clip362)\" cx=\"202.647\" cy=\"1167.26\" r=\"14\" fill=\"#009af9\" fill-rule=\"evenodd\" fill-opacity=\"1\" stroke=\"#000000\" stroke-opacity=\"1\" stroke-width=\"3.2\"/>\n",
       "<circle clip-path=\"url(#clip362)\" cx=\"281.583\" cy=\"1216.67\" r=\"14\" fill=\"#009af9\" fill-rule=\"evenodd\" fill-opacity=\"1\" stroke=\"#000000\" stroke-opacity=\"1\" stroke-width=\"3.2\"/>\n",
       "<circle clip-path=\"url(#clip362)\" cx=\"516.442\" cy=\"1092.63\" r=\"14\" fill=\"#009af9\" fill-rule=\"evenodd\" fill-opacity=\"1\" stroke=\"#000000\" stroke-opacity=\"1\" stroke-width=\"3.2\"/>\n",
       "<circle clip-path=\"url(#clip362)\" cx=\"301.429\" cy=\"945.511\" r=\"14\" fill=\"#009af9\" fill-rule=\"evenodd\" fill-opacity=\"1\" stroke=\"#000000\" stroke-opacity=\"1\" stroke-width=\"3.2\"/>\n",
       "<circle clip-path=\"url(#clip362)\" cx=\"232.6\" cy=\"1209.49\" r=\"14\" fill=\"#009af9\" fill-rule=\"evenodd\" fill-opacity=\"1\" stroke=\"#000000\" stroke-opacity=\"1\" stroke-width=\"3.2\"/>\n",
       "<circle clip-path=\"url(#clip362)\" cx=\"596.412\" cy=\"1302.73\" r=\"14\" fill=\"#009af9\" fill-rule=\"evenodd\" fill-opacity=\"1\" stroke=\"#000000\" stroke-opacity=\"1\" stroke-width=\"3.2\"/>\n",
       "<circle clip-path=\"url(#clip362)\" cx=\"1217.45\" cy=\"851.771\" r=\"14\" fill=\"#009af9\" fill-rule=\"evenodd\" fill-opacity=\"1\" stroke=\"#000000\" stroke-opacity=\"1\" stroke-width=\"3.2\"/>\n",
       "<circle clip-path=\"url(#clip362)\" cx=\"248.611\" cy=\"1278.82\" r=\"14\" fill=\"#009af9\" fill-rule=\"evenodd\" fill-opacity=\"1\" stroke=\"#000000\" stroke-opacity=\"1\" stroke-width=\"3.2\"/>\n",
       "<path clip-path=\"url(#clip360)\" d=\"\n",
       "M1981.53 216.178 L2278.86 216.178 L2278.86 95.2176 L1981.53 95.2176  Z\n",
       "  \" fill=\"#ffffff\" fill-rule=\"evenodd\" fill-opacity=\"1\"/>\n",
       "<polyline clip-path=\"url(#clip360)\" style=\"stroke:#000000; stroke-width:4; stroke-opacity:1; fill:none\" points=\"\n",
       "  1981.53,216.178 2278.86,216.178 2278.86,95.2176 1981.53,95.2176 1981.53,216.178 \n",
       "  \"/>\n",
       "<circle clip-path=\"url(#clip360)\" cx=\"2080.06\" cy=\"155.698\" r=\"23\" fill=\"#009af9\" fill-rule=\"evenodd\" fill-opacity=\"1\" stroke=\"#000000\" stroke-opacity=\"1\" stroke-width=\"5.12\"/>\n",
       "<path clip-path=\"url(#clip360)\" d=\"M 0 0 M2192.42 175.385 Q2190.62 180.015 2188.91 181.427 Q2187.19 182.839 2184.32 182.839 L2180.92 182.839 L2180.92 179.274 L2183.42 179.274 Q2185.18 179.274 2186.15 178.44 Q2187.12 177.607 2188.3 174.505 L2189.07 172.561 L2178.58 147.052 L2183.1 147.052 L2191.2 167.329 L2199.3 147.052 L2203.81 147.052 L2192.42 175.385 Z\" fill=\"#000000\" fill-rule=\"evenodd\" fill-opacity=\"1\" /><path clip-path=\"url(#clip360)\" d=\"M 0 0 M2209.69 169.042 L2217.33 169.042 L2217.33 142.677 L2209.02 144.343 L2209.02 140.084 L2217.29 138.418 L2221.96 138.418 L2221.96 169.042 L2229.6 169.042 L2229.6 172.978 L2209.69 172.978 L2209.69 169.042 Z\" fill=\"#000000\" fill-rule=\"evenodd\" fill-opacity=\"1\" /></svg>\n"
      ]
     },
     "execution_count": 50,
     "metadata": {},
     "output_type": "execute_result"
    }
   ],
   "source": [
    "plot(X,y,st=:scatter)"
   ]
  },
  {
   "cell_type": "code",
   "execution_count": 51,
   "metadata": {},
   "outputs": [
    {
     "data": {
      "text/plain": [
       "97×2 Array{Float64,2}:\n",
       " 1.0   6.1101\n",
       " 1.0   5.5277\n",
       " 1.0   8.5186\n",
       " 1.0   7.0032\n",
       " 1.0   5.8598\n",
       " 1.0   8.3829\n",
       " 1.0   7.4764\n",
       " 1.0   8.5781\n",
       " 1.0   6.4862\n",
       " 1.0   5.0546\n",
       " 1.0   5.7107\n",
       " 1.0  14.164\n",
       " 1.0   5.734\n",
       " ⋮    \n",
       " 1.0   8.5172\n",
       " 1.0   9.1802\n",
       " 1.0   6.002\n",
       " 1.0   5.5204\n",
       " 1.0   5.0594\n",
       " 1.0   5.7077\n",
       " 1.0   7.6366\n",
       " 1.0   5.8707\n",
       " 1.0   5.3054\n",
       " 1.0   8.2934\n",
       " 1.0  13.394\n",
       " 1.0   5.4369"
      ]
     },
     "execution_count": 51,
     "metadata": {},
     "output_type": "execute_result"
    }
   ],
   "source": [
    "X_hc =[ones(length(y)) X]"
   ]
  },
  {
   "cell_type": "code",
   "execution_count": 52,
   "metadata": {},
   "outputs": [
    {
     "data": {
      "text/plain": [
       "2-element Array{Float64,1}:\n",
       " -3.895780878311886\n",
       "  1.1930336441895961"
      ]
     },
     "execution_count": 52,
     "metadata": {},
     "output_type": "execute_result"
    }
   ],
   "source": [
    "temps = inv(X_hc'*X_hc)*X_hc'*y"
   ]
  },
  {
   "cell_type": "code",
   "execution_count": 53,
   "metadata": {},
   "outputs": [
    {
     "data": {
      "text/plain": [
       "3.3937739910509657"
      ]
     },
     "execution_count": 53,
     "metadata": {},
     "output_type": "execute_result"
    }
   ],
   "source": [
    "y= temps'*X_hc[1,:]"
   ]
  },
  {
   "cell_type": "code",
   "execution_count": 54,
   "metadata": {},
   "outputs": [
    {
     "data": {
      "text/plain": [
       "12.083711751963564"
      ]
     },
     "execution_count": 54,
     "metadata": {},
     "output_type": "execute_result"
    }
   ],
   "source": [
    "y_end = temps'*X_hc[96,:]"
   ]
  },
  {
   "cell_type": "code",
   "execution_count": 55,
   "metadata": {},
   "outputs": [
    {
     "data": {
      "image/svg+xml": [
       "<?xml version=\"1.0\" encoding=\"utf-8\"?>\n",
       "<svg xmlns=\"http://www.w3.org/2000/svg\" xmlns:xlink=\"http://www.w3.org/1999/xlink\" width=\"600\" height=\"400\" viewBox=\"0 0 2400 1600\">\n",
       "<defs>\n",
       "  <clipPath id=\"clip400\">\n",
       "    <rect x=\"0\" y=\"0\" width=\"2400\" height=\"1600\"/>\n",
       "  </clipPath>\n",
       "</defs>\n",
       "<path clip-path=\"url(#clip400)\" d=\"\n",
       "M0 1600 L2400 1600 L2400 0 L0 0  Z\n",
       "  \" fill=\"#ffffff\" fill-rule=\"evenodd\" fill-opacity=\"1\"/>\n",
       "<defs>\n",
       "  <clipPath id=\"clip401\">\n",
       "    <rect x=\"480\" y=\"0\" width=\"1681\" height=\"1600\"/>\n",
       "  </clipPath>\n",
       "</defs>\n",
       "<path clip-path=\"url(#clip400)\" d=\"\n",
       "M135.95 1486.45 L2352.76 1486.45 L2352.76 47.2441 L135.95 47.2441  Z\n",
       "  \" fill=\"#ffffff\" fill-rule=\"evenodd\" fill-opacity=\"1\"/>\n",
       "<defs>\n",
       "  <clipPath id=\"clip402\">\n",
       "    <rect x=\"135\" y=\"47\" width=\"2218\" height=\"1440\"/>\n",
       "  </clipPath>\n",
       "</defs>\n",
       "<polyline clip-path=\"url(#clip402)\" style=\"stroke:#000000; stroke-width:2; stroke-opacity:0.1; fill:none\" points=\"\n",
       "  195.415,1486.45 195.415,47.2441 \n",
       "  \"/>\n",
       "<polyline clip-path=\"url(#clip402)\" style=\"stroke:#000000; stroke-width:2; stroke-opacity:0.1; fill:none\" points=\"\n",
       "  804.204,1486.45 804.204,47.2441 \n",
       "  \"/>\n",
       "<polyline clip-path=\"url(#clip402)\" style=\"stroke:#000000; stroke-width:2; stroke-opacity:0.1; fill:none\" points=\"\n",
       "  1412.99,1486.45 1412.99,47.2441 \n",
       "  \"/>\n",
       "<polyline clip-path=\"url(#clip402)\" style=\"stroke:#000000; stroke-width:2; stroke-opacity:0.1; fill:none\" points=\"\n",
       "  2021.78,1486.45 2021.78,47.2441 \n",
       "  \"/>\n",
       "<polyline clip-path=\"url(#clip400)\" style=\"stroke:#000000; stroke-width:4; stroke-opacity:1; fill:none\" points=\"\n",
       "  135.95,1486.45 2352.76,1486.45 \n",
       "  \"/>\n",
       "<polyline clip-path=\"url(#clip400)\" style=\"stroke:#000000; stroke-width:4; stroke-opacity:1; fill:none\" points=\"\n",
       "  195.415,1486.45 195.415,1469.18 \n",
       "  \"/>\n",
       "<polyline clip-path=\"url(#clip400)\" style=\"stroke:#000000; stroke-width:4; stroke-opacity:1; fill:none\" points=\"\n",
       "  804.204,1486.45 804.204,1469.18 \n",
       "  \"/>\n",
       "<polyline clip-path=\"url(#clip400)\" style=\"stroke:#000000; stroke-width:4; stroke-opacity:1; fill:none\" points=\"\n",
       "  1412.99,1486.45 1412.99,1469.18 \n",
       "  \"/>\n",
       "<polyline clip-path=\"url(#clip400)\" style=\"stroke:#000000; stroke-width:4; stroke-opacity:1; fill:none\" points=\"\n",
       "  2021.78,1486.45 2021.78,1469.18 \n",
       "  \"/>\n",
       "<path clip-path=\"url(#clip400)\" d=\"M 0 0 M185.693 1512.56 L204.049 1512.56 L204.049 1516.5 L189.975 1516.5 L189.975 1524.97 Q190.993 1524.62 192.012 1524.46 Q193.03 1524.27 194.049 1524.27 Q199.836 1524.27 203.216 1527.44 Q206.595 1530.62 206.595 1536.03 Q206.595 1541.61 203.123 1544.71 Q199.651 1547.79 193.331 1547.79 Q191.155 1547.79 188.887 1547.42 Q186.642 1547.05 184.234 1546.31 L184.234 1541.61 Q186.318 1542.74 188.54 1543.3 Q190.762 1543.86 193.239 1543.86 Q197.243 1543.86 199.581 1541.75 Q201.919 1539.64 201.919 1536.03 Q201.919 1532.42 199.581 1530.31 Q197.243 1528.21 193.239 1528.21 Q191.364 1528.21 189.489 1528.62 Q187.637 1529.04 185.693 1529.92 L185.693 1512.56 Z\" fill=\"#000000\" fill-rule=\"evenodd\" fill-opacity=\"1\" /><path clip-path=\"url(#clip400)\" d=\"M 0 0 M781.079 1543.18 L788.718 1543.18 L788.718 1516.82 L780.408 1518.49 L780.408 1514.23 L788.672 1512.56 L793.348 1512.56 L793.348 1543.18 L800.987 1543.18 L800.987 1547.12 L781.079 1547.12 L781.079 1543.18 Z\" fill=\"#000000\" fill-rule=\"evenodd\" fill-opacity=\"1\" /><path clip-path=\"url(#clip400)\" d=\"M 0 0 M816.056 1515.64 Q812.445 1515.64 810.616 1519.2 Q808.811 1522.75 808.811 1529.87 Q808.811 1536.98 810.616 1540.55 Q812.445 1544.09 816.056 1544.09 Q819.69 1544.09 821.496 1540.55 Q823.325 1536.98 823.325 1529.87 Q823.325 1522.75 821.496 1519.2 Q819.69 1515.64 816.056 1515.64 M816.056 1511.93 Q821.866 1511.93 824.922 1516.54 Q828 1521.12 828 1529.87 Q828 1538.6 824.922 1543.21 Q821.866 1547.79 816.056 1547.79 Q810.246 1547.79 807.167 1543.21 Q804.112 1538.6 804.112 1529.87 Q804.112 1521.12 807.167 1516.54 Q810.246 1511.93 816.056 1511.93 Z\" fill=\"#000000\" fill-rule=\"evenodd\" fill-opacity=\"1\" /><path clip-path=\"url(#clip400)\" d=\"M 0 0 M1390.37 1543.18 L1398.01 1543.18 L1398.01 1516.82 L1389.7 1518.49 L1389.7 1514.23 L1397.96 1512.56 L1402.64 1512.56 L1402.64 1543.18 L1410.27 1543.18 L1410.27 1547.12 L1390.37 1547.12 L1390.37 1543.18 Z\" fill=\"#000000\" fill-rule=\"evenodd\" fill-opacity=\"1\" /><path clip-path=\"url(#clip400)\" d=\"M 0 0 M1415.39 1512.56 L1433.75 1512.56 L1433.75 1516.5 L1419.67 1516.5 L1419.67 1524.97 Q1420.69 1524.62 1421.71 1524.46 Q1422.73 1524.27 1423.75 1524.27 Q1429.53 1524.27 1432.91 1527.44 Q1436.29 1530.62 1436.29 1536.03 Q1436.29 1541.61 1432.82 1544.71 Q1429.35 1547.79 1423.03 1547.79 Q1420.85 1547.79 1418.58 1547.42 Q1416.34 1547.05 1413.93 1546.31 L1413.93 1541.61 Q1416.01 1542.74 1418.24 1543.3 Q1420.46 1543.86 1422.94 1543.86 Q1426.94 1543.86 1429.28 1541.75 Q1431.62 1539.64 1431.62 1536.03 Q1431.62 1532.42 1429.28 1530.31 Q1426.94 1528.21 1422.94 1528.21 Q1421.06 1528.21 1419.19 1528.62 Q1417.33 1529.04 1415.39 1529.92 L1415.39 1512.56 Z\" fill=\"#000000\" fill-rule=\"evenodd\" fill-opacity=\"1\" /><path clip-path=\"url(#clip400)\" d=\"M 0 0 M2002.93 1543.18 L2019.25 1543.18 L2019.25 1547.12 L1997.3 1547.12 L1997.3 1543.18 Q1999.97 1540.43 2004.55 1535.8 Q2009.16 1531.15 2010.34 1529.81 Q2012.58 1527.28 2013.46 1525.55 Q2014.36 1523.79 2014.36 1522.1 Q2014.36 1519.34 2012.42 1517.61 Q2010.5 1515.87 2007.4 1515.87 Q2005.2 1515.87 2002.74 1516.63 Q2000.31 1517.4 1997.54 1518.95 L1997.54 1514.23 Q2000.36 1513.09 2002.81 1512.51 Q2005.27 1511.93 2007.3 1511.93 Q2012.67 1511.93 2015.87 1514.62 Q2019.06 1517.31 2019.06 1521.8 Q2019.06 1523.93 2018.25 1525.85 Q2017.47 1527.74 2015.36 1530.34 Q2014.78 1531.01 2011.68 1534.23 Q2008.58 1537.42 2002.93 1543.18 Z\" fill=\"#000000\" fill-rule=\"evenodd\" fill-opacity=\"1\" /><path clip-path=\"url(#clip400)\" d=\"M 0 0 M2034.32 1515.64 Q2030.71 1515.64 2028.88 1519.2 Q2027.07 1522.75 2027.07 1529.87 Q2027.07 1536.98 2028.88 1540.55 Q2030.71 1544.09 2034.32 1544.09 Q2037.95 1544.09 2039.76 1540.55 Q2041.59 1536.98 2041.59 1529.87 Q2041.59 1522.75 2039.76 1519.2 Q2037.95 1515.64 2034.32 1515.64 M2034.32 1511.93 Q2040.13 1511.93 2043.18 1516.54 Q2046.26 1521.12 2046.26 1529.87 Q2046.26 1538.6 2043.18 1543.21 Q2040.13 1547.79 2034.32 1547.79 Q2028.51 1547.79 2025.43 1543.21 Q2022.37 1538.6 2022.37 1529.87 Q2022.37 1521.12 2025.43 1516.54 Q2028.51 1511.93 2034.32 1511.93 Z\" fill=\"#000000\" fill-rule=\"evenodd\" fill-opacity=\"1\" /><polyline clip-path=\"url(#clip402)\" style=\"stroke:#000000; stroke-width:2; stroke-opacity:0.1; fill:none\" points=\"\n",
       "  135.95,1310.05 2352.76,1310.05 \n",
       "  \"/>\n",
       "<polyline clip-path=\"url(#clip402)\" style=\"stroke:#000000; stroke-width:2; stroke-opacity:0.1; fill:none\" points=\"\n",
       "  135.95,1057 2352.76,1057 \n",
       "  \"/>\n",
       "<polyline clip-path=\"url(#clip402)\" style=\"stroke:#000000; stroke-width:2; stroke-opacity:0.1; fill:none\" points=\"\n",
       "  135.95,803.95 2352.76,803.95 \n",
       "  \"/>\n",
       "<polyline clip-path=\"url(#clip402)\" style=\"stroke:#000000; stroke-width:2; stroke-opacity:0.1; fill:none\" points=\"\n",
       "  135.95,550.902 2352.76,550.902 \n",
       "  \"/>\n",
       "<polyline clip-path=\"url(#clip402)\" style=\"stroke:#000000; stroke-width:2; stroke-opacity:0.1; fill:none\" points=\"\n",
       "  135.95,297.854 2352.76,297.854 \n",
       "  \"/>\n",
       "<polyline clip-path=\"url(#clip400)\" style=\"stroke:#000000; stroke-width:4; stroke-opacity:1; fill:none\" points=\"\n",
       "  135.95,1486.45 135.95,47.2441 \n",
       "  \"/>\n",
       "<polyline clip-path=\"url(#clip400)\" style=\"stroke:#000000; stroke-width:4; stroke-opacity:1; fill:none\" points=\"\n",
       "  135.95,1310.05 162.552,1310.05 \n",
       "  \"/>\n",
       "<polyline clip-path=\"url(#clip400)\" style=\"stroke:#000000; stroke-width:4; stroke-opacity:1; fill:none\" points=\"\n",
       "  135.95,1057 162.552,1057 \n",
       "  \"/>\n",
       "<polyline clip-path=\"url(#clip400)\" style=\"stroke:#000000; stroke-width:4; stroke-opacity:1; fill:none\" points=\"\n",
       "  135.95,803.95 162.552,803.95 \n",
       "  \"/>\n",
       "<polyline clip-path=\"url(#clip400)\" style=\"stroke:#000000; stroke-width:4; stroke-opacity:1; fill:none\" points=\"\n",
       "  135.95,550.902 162.552,550.902 \n",
       "  \"/>\n",
       "<polyline clip-path=\"url(#clip400)\" style=\"stroke:#000000; stroke-width:4; stroke-opacity:1; fill:none\" points=\"\n",
       "  135.95,297.854 162.552,297.854 \n",
       "  \"/>\n",
       "<path clip-path=\"url(#clip400)\" d=\"M 0 0 M88.0058 1295.85 Q84.3947 1295.85 82.566 1299.41 Q80.7605 1302.95 80.7605 1310.08 Q80.7605 1317.19 82.566 1320.75 Q84.3947 1324.29 88.0058 1324.29 Q91.6401 1324.29 93.4456 1320.75 Q95.2743 1317.19 95.2743 1310.08 Q95.2743 1302.95 93.4456 1299.41 Q91.6401 1295.85 88.0058 1295.85 M88.0058 1292.14 Q93.816 1292.14 96.8715 1296.75 Q99.9502 1301.33 99.9502 1310.08 Q99.9502 1318.81 96.8715 1323.41 Q93.816 1328 88.0058 1328 Q82.1957 1328 79.117 1323.41 Q76.0614 1318.81 76.0614 1310.08 Q76.0614 1301.33 79.117 1296.75 Q82.1957 1292.14 88.0058 1292.14 Z\" fill=\"#000000\" fill-rule=\"evenodd\" fill-opacity=\"1\" /><path clip-path=\"url(#clip400)\" d=\"M 0 0 M79.0475 1039.72 L97.4039 1039.72 L97.4039 1043.65 L83.3299 1043.65 L83.3299 1052.13 Q84.3484 1051.78 85.3669 1051.62 Q86.3855 1051.43 87.404 1051.43 Q93.191 1051.43 96.5706 1054.6 Q99.9502 1057.77 99.9502 1063.19 Q99.9502 1068.77 96.478 1071.87 Q93.0058 1074.95 86.6864 1074.95 Q84.5105 1074.95 82.242 1074.58 Q79.9966 1074.21 77.5892 1073.47 L77.5892 1068.77 Q79.6725 1069.9 81.8947 1070.46 Q84.1169 1071.01 86.5938 1071.01 Q90.5984 1071.01 92.9363 1068.91 Q95.2743 1066.8 95.2743 1063.19 Q95.2743 1059.58 92.9363 1057.47 Q90.5984 1055.37 86.5938 1055.37 Q84.7188 1055.37 82.8438 1055.78 Q80.992 1056.2 79.0475 1057.08 L79.0475 1039.72 Z\" fill=\"#000000\" fill-rule=\"evenodd\" fill-opacity=\"1\" /><path clip-path=\"url(#clip400)\" d=\"M 0 0 M53.0292 817.295 L60.668 817.295 L60.668 790.93 L52.3579 792.596 L52.3579 788.337 L60.6217 786.67 L65.2976 786.67 L65.2976 817.295 L72.9365 817.295 L72.9365 821.23 L53.0292 821.23 L53.0292 817.295 Z\" fill=\"#000000\" fill-rule=\"evenodd\" fill-opacity=\"1\" /><path clip-path=\"url(#clip400)\" d=\"M 0 0 M88.0058 789.749 Q84.3947 789.749 82.566 793.314 Q80.7605 796.856 80.7605 803.985 Q80.7605 811.092 82.566 814.656 Q84.3947 818.198 88.0058 818.198 Q91.6401 818.198 93.4456 814.656 Q95.2743 811.092 95.2743 803.985 Q95.2743 796.856 93.4456 793.314 Q91.6401 789.749 88.0058 789.749 M88.0058 786.045 Q93.816 786.045 96.8715 790.652 Q99.9502 795.235 99.9502 803.985 Q99.9502 812.712 96.8715 817.318 Q93.816 821.902 88.0058 821.902 Q82.1957 821.902 79.117 817.318 Q76.0614 812.712 76.0614 803.985 Q76.0614 795.235 79.117 790.652 Q82.1957 786.045 88.0058 786.045 Z\" fill=\"#000000\" fill-rule=\"evenodd\" fill-opacity=\"1\" /><path clip-path=\"url(#clip400)\" d=\"M 0 0 M54.0245 564.247 L61.6634 564.247 L61.6634 537.882 L53.3532 539.548 L53.3532 535.289 L61.6171 533.622 L66.293 533.622 L66.293 564.247 L73.9318 564.247 L73.9318 568.182 L54.0245 568.182 L54.0245 564.247 Z\" fill=\"#000000\" fill-rule=\"evenodd\" fill-opacity=\"1\" /><path clip-path=\"url(#clip400)\" d=\"M 0 0 M79.0475 533.622 L97.4039 533.622 L97.4039 537.558 L83.3299 537.558 L83.3299 546.03 Q84.3484 545.682 85.3669 545.52 Q86.3855 545.335 87.404 545.335 Q93.191 545.335 96.5706 548.507 Q99.9502 551.678 99.9502 557.094 Q99.9502 562.673 96.478 565.775 Q93.0058 568.854 86.6864 568.854 Q84.5105 568.854 82.242 568.483 Q79.9966 568.113 77.5892 567.372 L77.5892 562.673 Q79.6725 563.807 81.8947 564.363 Q84.1169 564.919 86.5938 564.919 Q90.5984 564.919 92.9363 562.812 Q95.2743 560.706 95.2743 557.094 Q95.2743 553.483 92.9363 551.377 Q90.5984 549.27 86.5938 549.27 Q84.7188 549.27 82.8438 549.687 Q80.992 550.104 79.0475 550.983 L79.0475 533.622 Z\" fill=\"#000000\" fill-rule=\"evenodd\" fill-opacity=\"1\" /><path clip-path=\"url(#clip400)\" d=\"M 0 0 M56.6171 311.199 L72.9365 311.199 L72.9365 315.134 L50.9921 315.134 L50.9921 311.199 Q53.6541 308.445 58.2375 303.815 Q62.8439 299.162 64.0245 297.82 Q66.2698 295.296 67.1494 293.56 Q68.0522 291.801 68.0522 290.111 Q68.0522 287.357 66.1078 285.621 Q64.1865 283.884 61.0847 283.884 Q58.8856 283.884 56.4319 284.648 Q54.0014 285.412 51.2236 286.963 L51.2236 282.241 Q54.0477 281.107 56.5014 280.528 Q58.955 279.949 60.9921 279.949 Q66.3624 279.949 69.5568 282.635 Q72.7513 285.32 72.7513 289.81 Q72.7513 291.94 71.9411 293.861 Q71.1541 295.759 69.0476 298.352 Q68.4689 299.023 65.367 302.241 Q62.2652 305.435 56.6171 311.199 Z\" fill=\"#000000\" fill-rule=\"evenodd\" fill-opacity=\"1\" /><path clip-path=\"url(#clip400)\" d=\"M 0 0 M88.0058 283.653 Q84.3947 283.653 82.566 287.218 Q80.7605 290.759 80.7605 297.889 Q80.7605 304.995 82.566 308.56 Q84.3947 312.102 88.0058 312.102 Q91.6401 312.102 93.4456 308.56 Q95.2743 304.995 95.2743 297.889 Q95.2743 290.759 93.4456 287.218 Q91.6401 283.653 88.0058 283.653 M88.0058 279.949 Q93.816 279.949 96.8715 284.556 Q99.9502 289.139 99.9502 297.889 Q99.9502 306.616 96.8715 311.222 Q93.816 315.806 88.0058 315.806 Q82.1957 315.806 79.117 311.222 Q76.0614 306.616 76.0614 297.889 Q76.0614 289.139 79.117 284.556 Q82.1957 279.949 88.0058 279.949 Z\" fill=\"#000000\" fill-rule=\"evenodd\" fill-opacity=\"1\" /><circle clip-path=\"url(#clip402)\" cx=\"330.578\" cy=\"419.722\" r=\"14\" fill=\"#009af9\" fill-rule=\"evenodd\" fill-opacity=\"1\" stroke=\"#000000\" stroke-opacity=\"1\" stroke-width=\"3.2\"/>\n",
       "<circle clip-path=\"url(#clip402)\" cx=\"259.666\" cy=\"847.971\" r=\"14\" fill=\"#009af9\" fill-rule=\"evenodd\" fill-opacity=\"1\" stroke=\"#000000\" stroke-opacity=\"1\" stroke-width=\"3.2\"/>\n",
       "<circle clip-path=\"url(#clip402)\" cx=\"623.832\" cy=\"618.618\" r=\"14\" fill=\"#009af9\" fill-rule=\"evenodd\" fill-opacity=\"1\" stroke=\"#000000\" stroke-opacity=\"1\" stroke-width=\"3.2\"/>\n",
       "<circle clip-path=\"url(#clip402)\" cx=\"439.32\" cy=\"710.12\" r=\"14\" fill=\"#009af9\" fill-rule=\"evenodd\" fill-opacity=\"1\" stroke=\"#000000\" stroke-opacity=\"1\" stroke-width=\"3.2\"/>\n",
       "<circle clip-path=\"url(#clip402)\" cx=\"300.102\" cy=\"964.722\" r=\"14\" fill=\"#009af9\" fill-rule=\"evenodd\" fill-opacity=\"1\" stroke=\"#000000\" stroke-opacity=\"1\" stroke-width=\"3.2\"/>\n",
       "<circle clip-path=\"url(#clip402)\" cx=\"607.31\" cy=\"708.501\" r=\"14\" fill=\"#009af9\" fill-rule=\"evenodd\" fill-opacity=\"1\" stroke=\"#000000\" stroke-opacity=\"1\" stroke-width=\"3.2\"/>\n",
       "<circle clip-path=\"url(#clip402)\" cx=\"496.936\" cy=\"1089.98\" r=\"14\" fill=\"#009af9\" fill-rule=\"evenodd\" fill-opacity=\"1\" stroke=\"#000000\" stroke-opacity=\"1\" stroke-width=\"3.2\"/>\n",
       "<circle clip-path=\"url(#clip402)\" cx=\"631.077\" cy=\"702.731\" r=\"14\" fill=\"#009af9\" fill-rule=\"evenodd\" fill-opacity=\"1\" stroke=\"#000000\" stroke-opacity=\"1\" stroke-width=\"3.2\"/>\n",
       "<circle clip-path=\"url(#clip402)\" cx=\"376.371\" cy=\"976.089\" r=\"14\" fill=\"#009af9\" fill-rule=\"evenodd\" fill-opacity=\"1\" stroke=\"#000000\" stroke-opacity=\"1\" stroke-width=\"3.2\"/>\n",
       "<circle clip-path=\"url(#clip402)\" cx=\"202.063\" cy=\"1116.89\" r=\"14\" fill=\"#009af9\" fill-rule=\"evenodd\" fill-opacity=\"1\" stroke=\"#000000\" stroke-opacity=\"1\" stroke-width=\"3.2\"/>\n",
       "<circle clip-path=\"url(#clip402)\" cx=\"281.948\" cy=\"1145.45\" r=\"14\" fill=\"#009af9\" fill-rule=\"evenodd\" fill-opacity=\"1\" stroke=\"#000000\" stroke-opacity=\"1\" stroke-width=\"3.2\"/>\n",
       "<circle clip-path=\"url(#clip402)\" cx=\"1311.2\" cy=\"525.345\" r=\"14\" fill=\"#009af9\" fill-rule=\"evenodd\" fill-opacity=\"1\" stroke=\"#000000\" stroke-opacity=\"1\" stroke-width=\"3.2\"/>\n",
       "<circle clip-path=\"url(#clip402)\" cx=\"284.785\" cy=\"1150.37\" r=\"14\" fill=\"#009af9\" fill-rule=\"evenodd\" fill-opacity=\"1\" stroke=\"#000000\" stroke-opacity=\"1\" stroke-width=\"3.2\"/>\n",
       "<circle clip-path=\"url(#clip402)\" cx=\"610.414\" cy=\"944.352\" r=\"14\" fill=\"#009af9\" fill-rule=\"evenodd\" fill-opacity=\"1\" stroke=\"#000000\" stroke-opacity=\"1\" stroke-width=\"3.2\"/>\n",
       "<circle clip-path=\"url(#clip402)\" cx=\"273.425\" cy=\"1273.8\" r=\"14\" fill=\"#009af9\" fill-rule=\"evenodd\" fill-opacity=\"1\" stroke=\"#000000\" stroke-opacity=\"1\" stroke-width=\"3.2\"/>\n",
       "<circle clip-path=\"url(#clip402)\" cx=\"241.61\" cy=\"1132.26\" r=\"14\" fill=\"#009af9\" fill-rule=\"evenodd\" fill-opacity=\"1\" stroke=\"#000000\" stroke-opacity=\"1\" stroke-width=\"3.2\"/>\n",
       "<circle clip-path=\"url(#clip402)\" cx=\"361.663\" cy=\"1041.57\" r=\"14\" fill=\"#009af9\" fill-rule=\"evenodd\" fill-opacity=\"1\" stroke=\"#000000\" stroke-opacity=\"1\" stroke-width=\"3.2\"/>\n",
       "<circle clip-path=\"url(#clip402)\" cx=\"211.255\" cy=\"1281.67\" r=\"14\" fill=\"#009af9\" fill-rule=\"evenodd\" fill-opacity=\"1\" stroke=\"#000000\" stroke-opacity=\"1\" stroke-width=\"3.2\"/>\n",
       "<circle clip-path=\"url(#clip402)\" cx=\"369.48\" cy=\"1125.23\" r=\"14\" fill=\"#009af9\" fill-rule=\"evenodd\" fill-opacity=\"1\" stroke=\"#000000\" stroke-opacity=\"1\" stroke-width=\"3.2\"/>\n",
       "<circle clip-path=\"url(#clip402)\" cx=\"447.551\" cy=\"1037.3\" r=\"14\" fill=\"#009af9\" fill-rule=\"evenodd\" fill-opacity=\"1\" stroke=\"#000000\" stroke-opacity=\"1\" stroke-width=\"3.2\"/>\n",
       "<circle clip-path=\"url(#clip402)\" cx=\"340.197\" cy=\"1151.2\" r=\"14\" fill=\"#009af9\" fill-rule=\"evenodd\" fill-opacity=\"1\" stroke=\"#000000\" stroke-opacity=\"1\" stroke-width=\"3.2\"/>\n",
       "<circle clip-path=\"url(#clip402)\" cx=\"2054.66\" cy=\"208.427\" r=\"14\" fill=\"#009af9\" fill-rule=\"evenodd\" fill-opacity=\"1\" stroke=\"#000000\" stroke-opacity=\"1\" stroke-width=\"3.2\"/>\n",
       "<circle clip-path=\"url(#clip402)\" cx=\"255.088\" cy=\"1094.3\" r=\"14\" fill=\"#009af9\" fill-rule=\"evenodd\" fill-opacity=\"1\" stroke=\"#000000\" stroke-opacity=\"1\" stroke-width=\"3.2\"/>\n",
       "<circle clip-path=\"url(#clip402)\" cx=\"356.878\" cy=\"1047.51\" r=\"14\" fill=\"#009af9\" fill-rule=\"evenodd\" fill-opacity=\"1\" stroke=\"#000000\" stroke-opacity=\"1\" stroke-width=\"3.2\"/>\n",
       "<circle clip-path=\"url(#clip402)\" cx=\"264.196\" cy=\"1154.04\" r=\"14\" fill=\"#009af9\" fill-rule=\"evenodd\" fill-opacity=\"1\" stroke=\"#000000\" stroke-opacity=\"1\" stroke-width=\"3.2\"/>\n",
       "<circle clip-path=\"url(#clip402)\" cx=\"1893.33\" cy=\"164.346\" r=\"14\" fill=\"#009af9\" fill-rule=\"evenodd\" fill-opacity=\"1\" stroke=\"#000000\" stroke-opacity=\"1\" stroke-width=\"3.2\"/>\n",
       "<circle clip-path=\"url(#clip402)\" cx=\"1148.54\" cy=\"626.766\" r=\"14\" fill=\"#009af9\" fill-rule=\"evenodd\" fill-opacity=\"1\" stroke=\"#000000\" stroke-opacity=\"1\" stroke-width=\"3.2\"/>\n",
       "<circle clip-path=\"url(#clip402)\" cx=\"920.727\" cy=\"953.416\" r=\"14\" fill=\"#009af9\" fill-rule=\"evenodd\" fill-opacity=\"1\" stroke=\"#000000\" stroke-opacity=\"1\" stroke-width=\"3.2\"/>\n",
       "<circle clip-path=\"url(#clip402)\" cx=\"1190.91\" cy=\"566.49\" r=\"14\" fill=\"#009af9\" fill-rule=\"evenodd\" fill-opacity=\"1\" stroke=\"#000000\" stroke-opacity=\"1\" stroke-width=\"3.2\"/>\n",
       "<circle clip-path=\"url(#clip402)\" cx=\"2290.02\" cy=\"87.9763\" r=\"14\" fill=\"#009af9\" fill-rule=\"evenodd\" fill-opacity=\"1\" stroke=\"#000000\" stroke-opacity=\"1\" stroke-width=\"3.2\"/>\n",
       "<circle clip-path=\"url(#clip402)\" cx=\"226.146\" cy=\"1371.79\" r=\"14\" fill=\"#009af9\" fill-rule=\"evenodd\" fill-opacity=\"1\" stroke=\"#000000\" stroke-opacity=\"1\" stroke-width=\"3.2\"/>\n",
       "<circle clip-path=\"url(#clip402)\" cx=\"388.937\" cy=\"1006.56\" r=\"14\" fill=\"#009af9\" fill-rule=\"evenodd\" fill-opacity=\"1\" stroke=\"#000000\" stroke-opacity=\"1\" stroke-width=\"3.2\"/>\n",
       "<circle clip-path=\"url(#clip402)\" cx=\"712.667\" cy=\"695.95\" r=\"14\" fill=\"#009af9\" fill-rule=\"evenodd\" fill-opacity=\"1\" stroke=\"#000000\" stroke-opacity=\"1\" stroke-width=\"3.2\"/>\n",
       "<circle clip-path=\"url(#clip402)\" cx=\"303.998\" cy=\"1216.44\" r=\"14\" fill=\"#009af9\" fill-rule=\"evenodd\" fill-opacity=\"1\" stroke=\"#000000\" stroke-opacity=\"1\" stroke-width=\"3.2\"/>\n",
       "<circle clip-path=\"url(#clip402)\" cx=\"586.392\" cy=\"978.928\" r=\"14\" fill=\"#009af9\" fill-rule=\"evenodd\" fill-opacity=\"1\" stroke=\"#000000\" stroke-opacity=\"1\" stroke-width=\"3.2\"/>\n",
       "<circle clip-path=\"url(#clip402)\" cx=\"552.579\" cy=\"1079.15\" r=\"14\" fill=\"#009af9\" fill-rule=\"evenodd\" fill-opacity=\"1\" stroke=\"#000000\" stroke-opacity=\"1\" stroke-width=\"3.2\"/>\n",
       "<circle clip-path=\"url(#clip402)\" cx=\"572.365\" cy=\"1101.72\" r=\"14\" fill=\"#009af9\" fill-rule=\"evenodd\" fill-opacity=\"1\" stroke=\"#000000\" stroke-opacity=\"1\" stroke-width=\"3.2\"/>\n",
       "<circle clip-path=\"url(#clip402)\" cx=\"269.237\" cy=\"1138.34\" r=\"14\" fill=\"#009af9\" fill-rule=\"evenodd\" fill-opacity=\"1\" stroke=\"#000000\" stroke-opacity=\"1\" stroke-width=\"3.2\"/>\n",
       "<circle clip-path=\"url(#clip402)\" cx=\"1149.51\" cy=\"798.029\" r=\"14\" fill=\"#009af9\" fill-rule=\"evenodd\" fill-opacity=\"1\" stroke=\"#000000\" stroke-opacity=\"1\" stroke-width=\"3.2\"/>\n",
       "<circle clip-path=\"url(#clip402)\" cx=\"360.202\" cy=\"1031.83\" r=\"14\" fill=\"#009af9\" fill-rule=\"evenodd\" fill-opacity=\"1\" stroke=\"#000000\" stroke-opacity=\"1\" stroke-width=\"3.2\"/>\n",
       "<circle clip-path=\"url(#clip402)\" cx=\"244.958\" cy=\"1281.88\" r=\"14\" fill=\"#009af9\" fill-rule=\"evenodd\" fill-opacity=\"1\" stroke=\"#000000\" stroke-opacity=\"1\" stroke-width=\"3.2\"/>\n",
       "<circle clip-path=\"url(#clip402)\" cx=\"424.624\" cy=\"1112.09\" r=\"14\" fill=\"#009af9\" fill-rule=\"evenodd\" fill-opacity=\"1\" stroke=\"#000000\" stroke-opacity=\"1\" stroke-width=\"3.2\"/>\n",
       "<circle clip-path=\"url(#clip402)\" cx=\"1012.17\" cy=\"1037.49\" r=\"14\" fill=\"#009af9\" fill-rule=\"evenodd\" fill-opacity=\"1\" stroke=\"#000000\" stroke-opacity=\"1\" stroke-width=\"3.2\"/>\n",
       "<circle clip-path=\"url(#clip402)\" cx=\"289.619\" cy=\"1186.53\" r=\"14\" fill=\"#009af9\" fill-rule=\"evenodd\" fill-opacity=\"1\" stroke=\"#000000\" stroke-opacity=\"1\" stroke-width=\"3.2\"/>\n",
       "<circle clip-path=\"url(#clip402)\" cx=\"539.344\" cy=\"969.353\" r=\"14\" fill=\"#009af9\" fill-rule=\"evenodd\" fill-opacity=\"1\" stroke=\"#000000\" stroke-opacity=\"1\" stroke-width=\"3.2\"/>\n",
       "<circle clip-path=\"url(#clip402)\" cx=\"450.266\" cy=\"1257.09\" r=\"14\" fill=\"#009af9\" fill-rule=\"evenodd\" fill-opacity=\"1\" stroke=\"#000000\" stroke-opacity=\"1\" stroke-width=\"3.2\"/>\n",
       "<circle clip-path=\"url(#clip402)\" cx=\"203.962\" cy=\"1050.23\" r=\"14\" fill=\"#009af9\" fill-rule=\"evenodd\" fill-opacity=\"1\" stroke=\"#000000\" stroke-opacity=\"1\" stroke-width=\"3.2\"/>\n",
       "<circle clip-path=\"url(#clip402)\" cx=\"292.991\" cy=\"1216.72\" r=\"14\" fill=\"#009af9\" fill-rule=\"evenodd\" fill-opacity=\"1\" stroke=\"#000000\" stroke-opacity=\"1\" stroke-width=\"3.2\"/>\n",
       "<circle clip-path=\"url(#clip402)\" cx=\"1011.19\" cy=\"904.952\" r=\"14\" fill=\"#009af9\" fill-rule=\"evenodd\" fill-opacity=\"1\" stroke=\"#000000\" stroke-opacity=\"1\" stroke-width=\"3.2\"/>\n",
       "<circle clip-path=\"url(#clip402)\" cx=\"261.359\" cy=\"1258.53\" r=\"14\" fill=\"#009af9\" fill-rule=\"evenodd\" fill-opacity=\"1\" stroke=\"#000000\" stroke-opacity=\"1\" stroke-width=\"3.2\"/>\n",
       "<circle clip-path=\"url(#clip402)\" cx=\"504.704\" cy=\"968.411\" r=\"14\" fill=\"#009af9\" fill-rule=\"evenodd\" fill-opacity=\"1\" stroke=\"#000000\" stroke-opacity=\"1\" stroke-width=\"3.2\"/>\n",
       "<circle clip-path=\"url(#clip402)\" cx=\"232.88\" cy=\"1216.95\" r=\"14\" fill=\"#009af9\" fill-rule=\"evenodd\" fill-opacity=\"1\" stroke=\"#000000\" stroke-opacity=\"1\" stroke-width=\"3.2\"/>\n",
       "<circle clip-path=\"url(#clip402)\" cx=\"490.544\" cy=\"1093.01\" r=\"14\" fill=\"#009af9\" fill-rule=\"evenodd\" fill-opacity=\"1\" stroke=\"#000000\" stroke-opacity=\"1\" stroke-width=\"3.2\"/>\n",
       "<circle clip-path=\"url(#clip402)\" cx=\"512.363\" cy=\"1057.09\" r=\"14\" fill=\"#009af9\" fill-rule=\"evenodd\" fill-opacity=\"1\" stroke=\"#000000\" stroke-opacity=\"1\" stroke-width=\"3.2\"/>\n",
       "<circle clip-path=\"url(#clip402)\" cx=\"357.694\" cy=\"1238.01\" r=\"14\" fill=\"#009af9\" fill-rule=\"evenodd\" fill-opacity=\"1\" stroke=\"#000000\" stroke-opacity=\"1\" stroke-width=\"3.2\"/>\n",
       "<circle clip-path=\"url(#clip402)\" cx=\"360.872\" cy=\"1381.97\" r=\"14\" fill=\"#009af9\" fill-rule=\"evenodd\" fill-opacity=\"1\" stroke=\"#000000\" stroke-opacity=\"1\" stroke-width=\"3.2\"/>\n",
       "<circle clip-path=\"url(#clip402)\" cx=\"350.559\" cy=\"1184.76\" r=\"14\" fill=\"#009af9\" fill-rule=\"evenodd\" fill-opacity=\"1\" stroke=\"#000000\" stroke-opacity=\"1\" stroke-width=\"3.2\"/>\n",
       "<circle clip-path=\"url(#clip402)\" cx=\"273.303\" cy=\"1077.03\" r=\"14\" fill=\"#009af9\" fill-rule=\"evenodd\" fill-opacity=\"1\" stroke=\"#000000\" stroke-opacity=\"1\" stroke-width=\"3.2\"/>\n",
       "<circle clip-path=\"url(#clip402)\" cx=\"720.216\" cy=\"1109.51\" r=\"14\" fill=\"#009af9\" fill-rule=\"evenodd\" fill-opacity=\"1\" stroke=\"#000000\" stroke-opacity=\"1\" stroke-width=\"3.2\"/>\n",
       "<circle clip-path=\"url(#clip402)\" cx=\"737.676\" cy=\"1036.04\" r=\"14\" fill=\"#009af9\" fill-rule=\"evenodd\" fill-opacity=\"1\" stroke=\"#000000\" stroke-opacity=\"1\" stroke-width=\"3.2\"/>\n",
       "<circle clip-path=\"url(#clip402)\" cx=\"661.187\" cy=\"1048.43\" r=\"14\" fill=\"#009af9\" fill-rule=\"evenodd\" fill-opacity=\"1\" stroke=\"#000000\" stroke-opacity=\"1\" stroke-width=\"3.2\"/>\n",
       "<circle clip-path=\"url(#clip402)\" cx=\"217.246\" cy=\"1347.64\" r=\"14\" fill=\"#009af9\" fill-rule=\"evenodd\" fill-opacity=\"1\" stroke=\"#000000\" stroke-opacity=\"1\" stroke-width=\"3.2\"/>\n",
       "<circle clip-path=\"url(#clip402)\" cx=\"2177.51\" cy=\"402.667\" r=\"14\" fill=\"#009af9\" fill-rule=\"evenodd\" fill-opacity=\"1\" stroke=\"#000000\" stroke-opacity=\"1\" stroke-width=\"3.2\"/>\n",
       "<circle clip-path=\"url(#clip402)\" cx=\"1401.79\" cy=\"699.998\" r=\"14\" fill=\"#009af9\" fill-rule=\"evenodd\" fill-opacity=\"1\" stroke=\"#000000\" stroke-opacity=\"1\" stroke-width=\"3.2\"/>\n",
       "<circle clip-path=\"url(#clip402)\" cx=\"1895.03\" cy=\"446.95\" r=\"14\" fill=\"#009af9\" fill-rule=\"evenodd\" fill-opacity=\"1\" stroke=\"#000000\" stroke-opacity=\"1\" stroke-width=\"3.2\"/>\n",
       "<circle clip-path=\"url(#clip402)\" cx=\"465.498\" cy=\"1062.81\" r=\"14\" fill=\"#009af9\" fill-rule=\"evenodd\" fill-opacity=\"1\" stroke=\"#000000\" stroke-opacity=\"1\" stroke-width=\"3.2\"/>\n",
       "<circle clip-path=\"url(#clip402)\" cx=\"596.619\" cy=\"1019.33\" r=\"14\" fill=\"#009af9\" fill-rule=\"evenodd\" fill-opacity=\"1\" stroke=\"#000000\" stroke-opacity=\"1\" stroke-width=\"3.2\"/>\n",
       "<circle clip-path=\"url(#clip402)\" cx=\"832.939\" cy=\"916.537\" r=\"14\" fill=\"#009af9\" fill-rule=\"evenodd\" fill-opacity=\"1\" stroke=\"#000000\" stroke-opacity=\"1\" stroke-width=\"3.2\"/>\n",
       "<circle clip-path=\"url(#clip402)\" cx=\"256.221\" cy=\"1258.56\" r=\"14\" fill=\"#009af9\" fill-rule=\"evenodd\" fill-opacity=\"1\" stroke=\"#000000\" stroke-opacity=\"1\" stroke-width=\"3.2\"/>\n",
       "<circle clip-path=\"url(#clip402)\" cx=\"2063.3\" cy=\"247.65\" r=\"14\" fill=\"#009af9\" fill-rule=\"evenodd\" fill-opacity=\"1\" stroke=\"#000000\" stroke-opacity=\"1\" stroke-width=\"3.2\"/>\n",
       "<circle clip-path=\"url(#clip402)\" cx=\"820.763\" cy=\"971.979\" r=\"14\" fill=\"#009af9\" fill-rule=\"evenodd\" fill-opacity=\"1\" stroke=\"#000000\" stroke-opacity=\"1\" stroke-width=\"3.2\"/>\n",
       "<circle clip-path=\"url(#clip402)\" cx=\"479.659\" cy=\"1106.3\" r=\"14\" fill=\"#009af9\" fill-rule=\"evenodd\" fill-opacity=\"1\" stroke=\"#000000\" stroke-opacity=\"1\" stroke-width=\"3.2\"/>\n",
       "<circle clip-path=\"url(#clip402)\" cx=\"317.928\" cy=\"1245.35\" r=\"14\" fill=\"#009af9\" fill-rule=\"evenodd\" fill-opacity=\"1\" stroke=\"#000000\" stroke-opacity=\"1\" stroke-width=\"3.2\"/>\n",
       "<circle clip-path=\"url(#clip402)\" cx=\"466.436\" cy=\"1140.95\" r=\"14\" fill=\"#009af9\" fill-rule=\"evenodd\" fill-opacity=\"1\" stroke=\"#000000\" stroke-opacity=\"1\" stroke-width=\"3.2\"/>\n",
       "<circle clip-path=\"url(#clip402)\" cx=\"198.69\" cy=\"1445.72\" r=\"14\" fill=\"#009af9\" fill-rule=\"evenodd\" fill-opacity=\"1\" stroke=\"#000000\" stroke-opacity=\"1\" stroke-width=\"3.2\"/>\n",
       "<circle clip-path=\"url(#clip402)\" cx=\"383.884\" cy=\"1295.03\" r=\"14\" fill=\"#009af9\" fill-rule=\"evenodd\" fill-opacity=\"1\" stroke=\"#000000\" stroke-opacity=\"1\" stroke-width=\"3.2\"/>\n",
       "<circle clip-path=\"url(#clip402)\" cx=\"504.509\" cy=\"1113.45\" r=\"14\" fill=\"#009af9\" fill-rule=\"evenodd\" fill-opacity=\"1\" stroke=\"#000000\" stroke-opacity=\"1\" stroke-width=\"3.2\"/>\n",
       "<circle clip-path=\"url(#clip402)\" cx=\"199.859\" cy=\"1021.5\" r=\"14\" fill=\"#009af9\" fill-rule=\"evenodd\" fill-opacity=\"1\" stroke=\"#000000\" stroke-opacity=\"1\" stroke-width=\"3.2\"/>\n",
       "<circle clip-path=\"url(#clip402)\" cx=\"837.566\" cy=\"968.3\" r=\"14\" fill=\"#009af9\" fill-rule=\"evenodd\" fill-opacity=\"1\" stroke=\"#000000\" stroke-opacity=\"1\" stroke-width=\"3.2\"/>\n",
       "<circle clip-path=\"url(#clip402)\" cx=\"208.528\" cy=\"1205.91\" r=\"14\" fill=\"#009af9\" fill-rule=\"evenodd\" fill-opacity=\"1\" stroke=\"#000000\" stroke-opacity=\"1\" stroke-width=\"3.2\"/>\n",
       "<circle clip-path=\"url(#clip402)\" cx=\"284.201\" cy=\"1285.78\" r=\"14\" fill=\"#009af9\" fill-rule=\"evenodd\" fill-opacity=\"1\" stroke=\"#000000\" stroke-opacity=\"1\" stroke-width=\"3.2\"/>\n",
       "<circle clip-path=\"url(#clip402)\" cx=\"218.354\" cy=\"1299.71\" r=\"14\" fill=\"#009af9\" fill-rule=\"evenodd\" fill-opacity=\"1\" stroke=\"#000000\" stroke-opacity=\"1\" stroke-width=\"3.2\"/>\n",
       "<circle clip-path=\"url(#clip402)\" cx=\"360.482\" cy=\"1275.7\" r=\"14\" fill=\"#009af9\" fill-rule=\"evenodd\" fill-opacity=\"1\" stroke=\"#000000\" stroke-opacity=\"1\" stroke-width=\"3.2\"/>\n",
       "<circle clip-path=\"url(#clip402)\" cx=\"776.042\" cy=\"928.273\" r=\"14\" fill=\"#009af9\" fill-rule=\"evenodd\" fill-opacity=\"1\" stroke=\"#000000\" stroke-opacity=\"1\" stroke-width=\"3.2\"/>\n",
       "<circle clip-path=\"url(#clip402)\" cx=\"379.988\" cy=\"1039.61\" r=\"14\" fill=\"#009af9\" fill-rule=\"evenodd\" fill-opacity=\"1\" stroke=\"#000000\" stroke-opacity=\"1\" stroke-width=\"3.2\"/>\n",
       "<circle clip-path=\"url(#clip402)\" cx=\"623.662\" cy=\"1095.39\" r=\"14\" fill=\"#009af9\" fill-rule=\"evenodd\" fill-opacity=\"1\" stroke=\"#000000\" stroke-opacity=\"1\" stroke-width=\"3.2\"/>\n",
       "<circle clip-path=\"url(#clip402)\" cx=\"704.387\" cy=\"965.997\" r=\"14\" fill=\"#009af9\" fill-rule=\"evenodd\" fill-opacity=\"1\" stroke=\"#000000\" stroke-opacity=\"1\" stroke-width=\"3.2\"/>\n",
       "<circle clip-path=\"url(#clip402)\" cx=\"317.416\" cy=\"1263.13\" r=\"14\" fill=\"#009af9\" fill-rule=\"evenodd\" fill-opacity=\"1\" stroke=\"#000000\" stroke-opacity=\"1\" stroke-width=\"3.2\"/>\n",
       "<circle clip-path=\"url(#clip402)\" cx=\"258.778\" cy=\"1302.35\" r=\"14\" fill=\"#009af9\" fill-rule=\"evenodd\" fill-opacity=\"1\" stroke=\"#000000\" stroke-opacity=\"1\" stroke-width=\"3.2\"/>\n",
       "<circle clip-path=\"url(#clip402)\" cx=\"202.647\" cy=\"1167.26\" r=\"14\" fill=\"#009af9\" fill-rule=\"evenodd\" fill-opacity=\"1\" stroke=\"#000000\" stroke-opacity=\"1\" stroke-width=\"3.2\"/>\n",
       "<circle clip-path=\"url(#clip402)\" cx=\"281.583\" cy=\"1216.67\" r=\"14\" fill=\"#009af9\" fill-rule=\"evenodd\" fill-opacity=\"1\" stroke=\"#000000\" stroke-opacity=\"1\" stroke-width=\"3.2\"/>\n",
       "<circle clip-path=\"url(#clip402)\" cx=\"516.442\" cy=\"1092.63\" r=\"14\" fill=\"#009af9\" fill-rule=\"evenodd\" fill-opacity=\"1\" stroke=\"#000000\" stroke-opacity=\"1\" stroke-width=\"3.2\"/>\n",
       "<circle clip-path=\"url(#clip402)\" cx=\"301.429\" cy=\"945.511\" r=\"14\" fill=\"#009af9\" fill-rule=\"evenodd\" fill-opacity=\"1\" stroke=\"#000000\" stroke-opacity=\"1\" stroke-width=\"3.2\"/>\n",
       "<circle clip-path=\"url(#clip402)\" cx=\"232.6\" cy=\"1209.49\" r=\"14\" fill=\"#009af9\" fill-rule=\"evenodd\" fill-opacity=\"1\" stroke=\"#000000\" stroke-opacity=\"1\" stroke-width=\"3.2\"/>\n",
       "<circle clip-path=\"url(#clip402)\" cx=\"596.412\" cy=\"1302.73\" r=\"14\" fill=\"#009af9\" fill-rule=\"evenodd\" fill-opacity=\"1\" stroke=\"#000000\" stroke-opacity=\"1\" stroke-width=\"3.2\"/>\n",
       "<circle clip-path=\"url(#clip402)\" cx=\"1217.45\" cy=\"851.771\" r=\"14\" fill=\"#009af9\" fill-rule=\"evenodd\" fill-opacity=\"1\" stroke=\"#000000\" stroke-opacity=\"1\" stroke-width=\"3.2\"/>\n",
       "<circle clip-path=\"url(#clip402)\" cx=\"248.611\" cy=\"1278.82\" r=\"14\" fill=\"#009af9\" fill-rule=\"evenodd\" fill-opacity=\"1\" stroke=\"#000000\" stroke-opacity=\"1\" stroke-width=\"3.2\"/>\n",
       "<polyline clip-path=\"url(#clip402)\" style=\"stroke:#e26f46; stroke-width:4; stroke-opacity:1; fill:none\" points=\"\n",
       "  330.578,1138.29 1217.45,698.495 \n",
       "  \"/>\n",
       "<path clip-path=\"url(#clip400)\" d=\"\n",
       "M1981.53 276.658 L2278.86 276.658 L2278.86 95.2176 L1981.53 95.2176  Z\n",
       "  \" fill=\"#ffffff\" fill-rule=\"evenodd\" fill-opacity=\"1\"/>\n",
       "<polyline clip-path=\"url(#clip400)\" style=\"stroke:#000000; stroke-width:4; stroke-opacity:1; fill:none\" points=\"\n",
       "  1981.53,276.658 2278.86,276.658 2278.86,95.2176 1981.53,95.2176 1981.53,276.658 \n",
       "  \"/>\n",
       "<circle clip-path=\"url(#clip400)\" cx=\"2080.06\" cy=\"155.698\" r=\"23\" fill=\"#009af9\" fill-rule=\"evenodd\" fill-opacity=\"1\" stroke=\"#000000\" stroke-opacity=\"1\" stroke-width=\"5.12\"/>\n",
       "<path clip-path=\"url(#clip400)\" d=\"M 0 0 M2192.42 175.385 Q2190.62 180.015 2188.91 181.427 Q2187.19 182.839 2184.32 182.839 L2180.92 182.839 L2180.92 179.274 L2183.42 179.274 Q2185.18 179.274 2186.15 178.44 Q2187.12 177.607 2188.3 174.505 L2189.07 172.561 L2178.58 147.052 L2183.1 147.052 L2191.2 167.329 L2199.3 147.052 L2203.81 147.052 L2192.42 175.385 Z\" fill=\"#000000\" fill-rule=\"evenodd\" fill-opacity=\"1\" /><path clip-path=\"url(#clip400)\" d=\"M 0 0 M2209.69 169.042 L2217.33 169.042 L2217.33 142.677 L2209.02 144.343 L2209.02 140.084 L2217.29 138.418 L2221.96 138.418 L2221.96 169.042 L2229.6 169.042 L2229.6 172.978 L2209.69 172.978 L2209.69 169.042 Z\" fill=\"#000000\" fill-rule=\"evenodd\" fill-opacity=\"1\" /><polyline clip-path=\"url(#clip400)\" style=\"stroke:#e26f46; stroke-width:4; stroke-opacity:1; fill:none\" points=\"\n",
       "  2006.16,216.178 2153.95,216.178 \n",
       "  \"/>\n",
       "<path clip-path=\"url(#clip400)\" d=\"M 0 0 M2192.42 235.865 Q2190.62 240.495 2188.91 241.907 Q2187.19 243.319 2184.32 243.319 L2180.92 243.319 L2180.92 239.754 L2183.42 239.754 Q2185.18 239.754 2186.15 238.92 Q2187.12 238.087 2188.3 234.985 L2189.07 233.041 L2178.58 207.532 L2183.1 207.532 L2191.2 227.809 L2199.3 207.532 L2203.81 207.532 L2192.42 235.865 Z\" fill=\"#000000\" fill-rule=\"evenodd\" fill-opacity=\"1\" /><path clip-path=\"url(#clip400)\" d=\"M 0 0 M2212.91 229.522 L2229.23 229.522 L2229.23 233.458 L2207.29 233.458 L2207.29 229.522 Q2209.95 226.768 2214.53 222.138 Q2219.14 217.485 2220.32 216.143 Q2222.56 213.62 2223.44 211.884 Q2224.35 210.124 2224.35 208.435 Q2224.35 205.68 2222.4 203.944 Q2220.48 202.208 2217.38 202.208 Q2215.18 202.208 2212.73 202.972 Q2210.29 203.735 2207.52 205.286 L2207.52 200.564 Q2210.34 199.43 2212.79 198.851 Q2215.25 198.273 2217.29 198.273 Q2222.66 198.273 2225.85 200.958 Q2229.04 203.643 2229.04 208.134 Q2229.04 210.263 2228.23 212.185 Q2227.45 214.083 2225.34 216.675 Q2224.76 217.347 2221.66 220.564 Q2218.56 223.759 2212.91 229.522 Z\" fill=\"#000000\" fill-rule=\"evenodd\" fill-opacity=\"1\" /></svg>\n"
      ]
     },
     "execution_count": 55,
     "metadata": {},
     "output_type": "execute_result"
    }
   ],
   "source": [
    "plot!([X[1],X[96]],[y,y_end])"
   ]
  },
  {
   "cell_type": "code",
   "execution_count": 56,
   "metadata": {},
   "outputs": [
    {
     "data": {
      "text/plain": [
       "GradientDescent (generic function with 1 method)"
      ]
     },
     "execution_count": 56,
     "metadata": {},
     "output_type": "execute_result"
    }
   ],
   "source": [
    "function GradientDescent(X_hc,y,α)\n",
    "    N,D = size(X_hc)\n",
    "    θ = zeros(D)\n",
    "    for i=1:3000-1\n",
    "        ∇ = X_hc'*(X_hc*θ-y)/N\n",
    "        θ = θ - α*∇\n",
    "    end\n",
    "    return θ\n",
    "end"
   ]
  },
  {
   "cell_type": "code",
   "execution_count": 57,
   "metadata": {},
   "outputs": [
    {
     "ename": "LoadError",
     "evalue": "MethodError: no method matching -(::Array{Float64,1}, ::Float64)\nFor element-wise subtraction, use broadcasting with dot syntax: array .- scalar\nClosest candidates are:\n  -(!Matched::BigFloat, ::Union{Float16, Float32, Float64}) at mpfr.jl:437\n  -(!Matched::Complex{Bool}, ::Real) at complex.jl:307\n  -(!Matched::Missing, ::Number) at missing.jl:115\n  ...",
     "output_type": "error",
     "traceback": [
      "MethodError: no method matching -(::Array{Float64,1}, ::Float64)\nFor element-wise subtraction, use broadcasting with dot syntax: array .- scalar\nClosest candidates are:\n  -(!Matched::BigFloat, ::Union{Float16, Float32, Float64}) at mpfr.jl:437\n  -(!Matched::Complex{Bool}, ::Real) at complex.jl:307\n  -(!Matched::Missing, ::Number) at missing.jl:115\n  ...",
      "",
      "Stacktrace:",
      " [1] GradientDescent(::Array{Float64,2}, ::Float64, ::Float64) at .\\In[56]:5",
      " [2] top-level scope at In[57]:1",
      " [3] include_string(::Function, ::Module, ::String, ::String) at .\\loading.jl:1091",
      " [4] execute_code(::String, ::String) at C:\\Users\\ThinkPro\\.julia\\packages\\IJulia\\a1SNk\\src\\execute_request.jl:27",
      " [5] execute_request(::ZMQ.Socket, ::IJulia.Msg) at C:\\Users\\ThinkPro\\.julia\\packages\\IJulia\\a1SNk\\src\\execute_request.jl:86",
      " [6] #invokelatest#1 at .\\essentials.jl:710 [inlined]",
      " [7] invokelatest at .\\essentials.jl:709 [inlined]",
      " [8] eventloop(::ZMQ.Socket) at C:\\Users\\ThinkPro\\.julia\\packages\\IJulia\\a1SNk\\src\\eventloop.jl:8",
      " [9] (::IJulia.var\"#15#18\")() at .\\task.jl:356"
     ]
    }
   ],
   "source": [
    "θ = GradientDescent(X_hc,y,0.01)"
   ]
  },
  {
   "cell_type": "code",
   "execution_count": 58,
   "metadata": {},
   "outputs": [
    {
     "data": {
      "text/plain": [
       "2-element Array{Float64,1}:\n",
       " 0.0\n",
       " 0.0"
      ]
     },
     "execution_count": 58,
     "metadata": {},
     "output_type": "execute_result"
    }
   ],
   "source": [
    "N,D= size(X_hc)\n",
    "t= zeros(D)"
   ]
  },
  {
   "cell_type": "code",
   "execution_count": null,
   "metadata": {},
   "outputs": [],
   "source": []
  },
  {
   "cell_type": "code",
   "execution_count": 59,
   "metadata": {},
   "outputs": [
    {
     "data": {
      "image/svg+xml": [
       "<?xml version=\"1.0\" encoding=\"utf-8\"?>\n",
       "<svg xmlns=\"http://www.w3.org/2000/svg\" xmlns:xlink=\"http://www.w3.org/1999/xlink\" width=\"600\" height=\"400\" viewBox=\"0 0 2400 1600\">\n",
       "<defs>\n",
       "  <clipPath id=\"clip440\">\n",
       "    <rect x=\"0\" y=\"0\" width=\"2400\" height=\"1600\"/>\n",
       "  </clipPath>\n",
       "</defs>\n",
       "<path clip-path=\"url(#clip440)\" d=\"\n",
       "M0 1600 L2400 1600 L2400 0 L0 0  Z\n",
       "  \" fill=\"#ffffff\" fill-rule=\"evenodd\" fill-opacity=\"1\"/>\n",
       "<defs>\n",
       "  <clipPath id=\"clip441\">\n",
       "    <rect x=\"480\" y=\"0\" width=\"1681\" height=\"1600\"/>\n",
       "  </clipPath>\n",
       "</defs>\n",
       "<path clip-path=\"url(#clip440)\" d=\"\n",
       "M174.862 1486.45 L2352.76 1486.45 L2352.76 47.2441 L174.862 47.2441  Z\n",
       "  \" fill=\"#ffffff\" fill-rule=\"evenodd\" fill-opacity=\"1\"/>\n",
       "<defs>\n",
       "  <clipPath id=\"clip442\">\n",
       "    <rect x=\"174\" y=\"47\" width=\"2179\" height=\"1440\"/>\n",
       "  </clipPath>\n",
       "</defs>\n",
       "<polyline clip-path=\"url(#clip442)\" style=\"stroke:#000000; stroke-width:2; stroke-opacity:0.1; fill:none\" points=\"\n",
       "  464.791,1486.45 464.791,47.2441 \n",
       "  \"/>\n",
       "<polyline clip-path=\"url(#clip442)\" style=\"stroke:#000000; stroke-width:2; stroke-opacity:0.1; fill:none\" points=\"\n",
       "  921.373,1486.45 921.373,47.2441 \n",
       "  \"/>\n",
       "<polyline clip-path=\"url(#clip442)\" style=\"stroke:#000000; stroke-width:2; stroke-opacity:0.1; fill:none\" points=\"\n",
       "  1377.95,1486.45 1377.95,47.2441 \n",
       "  \"/>\n",
       "<polyline clip-path=\"url(#clip442)\" style=\"stroke:#000000; stroke-width:2; stroke-opacity:0.1; fill:none\" points=\"\n",
       "  1834.54,1486.45 1834.54,47.2441 \n",
       "  \"/>\n",
       "<polyline clip-path=\"url(#clip442)\" style=\"stroke:#000000; stroke-width:2; stroke-opacity:0.1; fill:none\" points=\"\n",
       "  2291.12,1486.45 2291.12,47.2441 \n",
       "  \"/>\n",
       "<polyline clip-path=\"url(#clip440)\" style=\"stroke:#000000; stroke-width:4; stroke-opacity:1; fill:none\" points=\"\n",
       "  174.862,1486.45 2352.76,1486.45 \n",
       "  \"/>\n",
       "<polyline clip-path=\"url(#clip440)\" style=\"stroke:#000000; stroke-width:4; stroke-opacity:1; fill:none\" points=\"\n",
       "  464.791,1486.45 464.791,1469.18 \n",
       "  \"/>\n",
       "<polyline clip-path=\"url(#clip440)\" style=\"stroke:#000000; stroke-width:4; stroke-opacity:1; fill:none\" points=\"\n",
       "  921.373,1486.45 921.373,1469.18 \n",
       "  \"/>\n",
       "<polyline clip-path=\"url(#clip440)\" style=\"stroke:#000000; stroke-width:4; stroke-opacity:1; fill:none\" points=\"\n",
       "  1377.95,1486.45 1377.95,1469.18 \n",
       "  \"/>\n",
       "<polyline clip-path=\"url(#clip440)\" style=\"stroke:#000000; stroke-width:4; stroke-opacity:1; fill:none\" points=\"\n",
       "  1834.54,1486.45 1834.54,1469.18 \n",
       "  \"/>\n",
       "<polyline clip-path=\"url(#clip440)\" style=\"stroke:#000000; stroke-width:4; stroke-opacity:1; fill:none\" points=\"\n",
       "  2291.12,1486.45 2291.12,1469.18 \n",
       "  \"/>\n",
       "<path clip-path=\"url(#clip440)\" d=\"M 0 0 M459.444 1543.18 L475.763 1543.18 L475.763 1547.12 L453.819 1547.12 L453.819 1543.18 Q456.481 1540.43 461.064 1535.8 Q465.671 1531.15 466.851 1529.81 Q469.097 1527.28 469.976 1525.55 Q470.879 1523.79 470.879 1522.1 Q470.879 1519.34 468.935 1517.61 Q467.014 1515.87 463.912 1515.87 Q461.713 1515.87 459.259 1516.63 Q456.828 1517.4 454.051 1518.95 L454.051 1514.23 Q456.875 1513.09 459.328 1512.51 Q461.782 1511.93 463.819 1511.93 Q469.189 1511.93 472.384 1514.62 Q475.578 1517.31 475.578 1521.8 Q475.578 1523.93 474.768 1525.85 Q473.981 1527.74 471.875 1530.34 Q471.296 1531.01 468.194 1534.23 Q465.092 1537.42 459.444 1543.18 Z\" fill=\"#000000\" fill-rule=\"evenodd\" fill-opacity=\"1\" /><path clip-path=\"url(#clip440)\" d=\"M 0 0 M924.382 1516.63 L912.577 1535.08 L924.382 1535.08 L924.382 1516.63 M923.155 1512.56 L929.035 1512.56 L929.035 1535.08 L933.965 1535.08 L933.965 1538.97 L929.035 1538.97 L929.035 1547.12 L924.382 1547.12 L924.382 1538.97 L908.78 1538.97 L908.78 1534.46 L923.155 1512.56 Z\" fill=\"#000000\" fill-rule=\"evenodd\" fill-opacity=\"1\" /><path clip-path=\"url(#clip440)\" d=\"M 0 0 M1378.36 1527.98 Q1375.21 1527.98 1373.36 1530.13 Q1371.53 1532.28 1371.53 1536.03 Q1371.53 1539.76 1373.36 1541.93 Q1375.21 1544.09 1378.36 1544.09 Q1381.51 1544.09 1383.34 1541.93 Q1385.19 1539.76 1385.19 1536.03 Q1385.19 1532.28 1383.34 1530.13 Q1381.51 1527.98 1378.36 1527.98 M1387.64 1513.32 L1387.64 1517.58 Q1385.88 1516.75 1384.08 1516.31 Q1382.29 1515.87 1380.54 1515.87 Q1375.91 1515.87 1373.45 1519 Q1371.02 1522.12 1370.67 1528.44 Q1372.04 1526.43 1374.1 1525.36 Q1376.16 1524.27 1378.64 1524.27 Q1383.85 1524.27 1386.85 1527.44 Q1389.89 1530.59 1389.89 1536.03 Q1389.89 1541.36 1386.74 1544.57 Q1383.59 1547.79 1378.36 1547.79 Q1372.36 1547.79 1369.19 1543.21 Q1366.02 1538.6 1366.02 1529.87 Q1366.02 1521.68 1369.91 1516.82 Q1373.8 1511.93 1380.35 1511.93 Q1382.11 1511.93 1383.89 1512.28 Q1385.7 1512.63 1387.64 1513.32 Z\" fill=\"#000000\" fill-rule=\"evenodd\" fill-opacity=\"1\" /><path clip-path=\"url(#clip440)\" d=\"M 0 0 M1834.54 1530.71 Q1831.2 1530.71 1829.28 1532.49 Q1827.38 1534.27 1827.38 1537.4 Q1827.38 1540.52 1829.28 1542.31 Q1831.2 1544.09 1834.54 1544.09 Q1837.87 1544.09 1839.79 1542.31 Q1841.71 1540.5 1841.71 1537.4 Q1841.71 1534.27 1839.79 1532.49 Q1837.89 1530.71 1834.54 1530.71 M1829.86 1528.72 Q1826.85 1527.98 1825.16 1525.92 Q1823.49 1523.86 1823.49 1520.89 Q1823.49 1516.75 1826.43 1514.34 Q1829.4 1511.93 1834.54 1511.93 Q1839.7 1511.93 1842.64 1514.34 Q1845.58 1516.75 1845.58 1520.89 Q1845.58 1523.86 1843.89 1525.92 Q1842.22 1527.98 1839.23 1528.72 Q1842.61 1529.5 1844.49 1531.8 Q1846.39 1534.09 1846.39 1537.4 Q1846.39 1542.42 1843.31 1545.11 Q1840.25 1547.79 1834.54 1547.79 Q1828.82 1547.79 1825.74 1545.11 Q1822.68 1542.42 1822.68 1537.4 Q1822.68 1534.09 1824.58 1531.8 Q1826.48 1529.5 1829.86 1528.72 M1828.15 1521.33 Q1828.15 1524.02 1829.81 1525.52 Q1831.5 1527.03 1834.54 1527.03 Q1837.55 1527.03 1839.23 1525.52 Q1840.95 1524.02 1840.95 1521.33 Q1840.95 1518.65 1839.23 1517.14 Q1837.55 1515.64 1834.54 1515.64 Q1831.5 1515.64 1829.81 1517.14 Q1828.15 1518.65 1828.15 1521.33 Z\" fill=\"#000000\" fill-rule=\"evenodd\" fill-opacity=\"1\" /><path clip-path=\"url(#clip440)\" d=\"M 0 0 M2267.99 1543.18 L2275.63 1543.18 L2275.63 1516.82 L2267.32 1518.49 L2267.32 1514.23 L2275.59 1512.56 L2280.26 1512.56 L2280.26 1543.18 L2287.9 1543.18 L2287.9 1547.12 L2267.99 1547.12 L2267.99 1543.18 Z\" fill=\"#000000\" fill-rule=\"evenodd\" fill-opacity=\"1\" /><path clip-path=\"url(#clip440)\" d=\"M 0 0 M2302.97 1515.64 Q2299.36 1515.64 2297.53 1519.2 Q2295.72 1522.75 2295.72 1529.87 Q2295.72 1536.98 2297.53 1540.55 Q2299.36 1544.09 2302.97 1544.09 Q2306.6 1544.09 2308.41 1540.55 Q2310.24 1536.98 2310.24 1529.87 Q2310.24 1522.75 2308.41 1519.2 Q2306.6 1515.64 2302.97 1515.64 M2302.97 1511.93 Q2308.78 1511.93 2311.83 1516.54 Q2314.91 1521.12 2314.91 1529.87 Q2314.91 1538.6 2311.83 1543.21 Q2308.78 1547.79 2302.97 1547.79 Q2297.16 1547.79 2294.08 1543.21 Q2291.02 1538.6 2291.02 1529.87 Q2291.02 1521.12 2294.08 1516.54 Q2297.16 1511.93 2302.97 1511.93 Z\" fill=\"#000000\" fill-rule=\"evenodd\" fill-opacity=\"1\" /><polyline clip-path=\"url(#clip442)\" style=\"stroke:#000000; stroke-width:2; stroke-opacity:0.1; fill:none\" points=\"\n",
       "  174.862,1479.57 2352.76,1479.57 \n",
       "  \"/>\n",
       "<polyline clip-path=\"url(#clip442)\" style=\"stroke:#000000; stroke-width:2; stroke-opacity:0.1; fill:none\" points=\"\n",
       "  174.862,1131.39 2352.76,1131.39 \n",
       "  \"/>\n",
       "<polyline clip-path=\"url(#clip442)\" style=\"stroke:#000000; stroke-width:2; stroke-opacity:0.1; fill:none\" points=\"\n",
       "  174.862,783.208 2352.76,783.208 \n",
       "  \"/>\n",
       "<polyline clip-path=\"url(#clip442)\" style=\"stroke:#000000; stroke-width:2; stroke-opacity:0.1; fill:none\" points=\"\n",
       "  174.862,435.027 2352.76,435.027 \n",
       "  \"/>\n",
       "<polyline clip-path=\"url(#clip442)\" style=\"stroke:#000000; stroke-width:2; stroke-opacity:0.1; fill:none\" points=\"\n",
       "  174.862,86.8461 2352.76,86.8461 \n",
       "  \"/>\n",
       "<polyline clip-path=\"url(#clip440)\" style=\"stroke:#000000; stroke-width:4; stroke-opacity:1; fill:none\" points=\"\n",
       "  174.862,1486.45 174.862,47.2441 \n",
       "  \"/>\n",
       "<polyline clip-path=\"url(#clip440)\" style=\"stroke:#000000; stroke-width:4; stroke-opacity:1; fill:none\" points=\"\n",
       "  174.862,1479.57 200.997,1479.57 \n",
       "  \"/>\n",
       "<polyline clip-path=\"url(#clip440)\" style=\"stroke:#000000; stroke-width:4; stroke-opacity:1; fill:none\" points=\"\n",
       "  174.862,1131.39 200.997,1131.39 \n",
       "  \"/>\n",
       "<polyline clip-path=\"url(#clip440)\" style=\"stroke:#000000; stroke-width:4; stroke-opacity:1; fill:none\" points=\"\n",
       "  174.862,783.208 200.997,783.208 \n",
       "  \"/>\n",
       "<polyline clip-path=\"url(#clip440)\" style=\"stroke:#000000; stroke-width:4; stroke-opacity:1; fill:none\" points=\"\n",
       "  174.862,435.027 200.997,435.027 \n",
       "  \"/>\n",
       "<polyline clip-path=\"url(#clip440)\" style=\"stroke:#000000; stroke-width:4; stroke-opacity:1; fill:none\" points=\"\n",
       "  174.862,86.8461 200.997,86.8461 \n",
       "  \"/>\n",
       "<path clip-path=\"url(#clip440)\" d=\"M 0 0 M62.9365 1465.37 Q59.3254 1465.37 57.4967 1468.93 Q55.6912 1472.48 55.6912 1479.61 Q55.6912 1486.71 57.4967 1490.28 Q59.3254 1493.82 62.9365 1493.82 Q66.5707 1493.82 68.3763 1490.28 Q70.205 1486.71 70.205 1479.61 Q70.205 1472.48 68.3763 1468.93 Q66.5707 1465.37 62.9365 1465.37 M62.9365 1461.67 Q68.7467 1461.67 71.8022 1466.27 Q74.8809 1470.86 74.8809 1479.61 Q74.8809 1488.33 71.8022 1492.94 Q68.7467 1497.52 62.9365 1497.52 Q57.1264 1497.52 54.0477 1492.94 Q50.9921 1488.33 50.9921 1479.61 Q50.9921 1470.86 54.0477 1466.27 Q57.1264 1461.67 62.9365 1461.67 Z\" fill=\"#000000\" fill-rule=\"evenodd\" fill-opacity=\"1\" /><path clip-path=\"url(#clip440)\" d=\"M 0 0 M79.9503 1490.97 L84.8345 1490.97 L84.8345 1496.85 L79.9503 1496.85 L79.9503 1490.97 Z\" fill=\"#000000\" fill-rule=\"evenodd\" fill-opacity=\"1\" /><path clip-path=\"url(#clip440)\" d=\"M 0 0 M99.9039 1465.37 Q96.2928 1465.37 94.4641 1468.93 Q92.6586 1472.48 92.6586 1479.61 Q92.6586 1486.71 94.4641 1490.28 Q96.2928 1493.82 99.9039 1493.82 Q103.538 1493.82 105.344 1490.28 Q107.172 1486.71 107.172 1479.61 Q107.172 1472.48 105.344 1468.93 Q103.538 1465.37 99.9039 1465.37 M99.9039 1461.67 Q105.714 1461.67 108.77 1466.27 Q111.848 1470.86 111.848 1479.61 Q111.848 1488.33 108.77 1492.94 Q105.714 1497.52 99.9039 1497.52 Q94.0937 1497.52 91.0151 1492.94 Q87.9595 1488.33 87.9595 1479.61 Q87.9595 1470.86 91.0151 1466.27 Q94.0937 1461.67 99.9039 1461.67 Z\" fill=\"#000000\" fill-rule=\"evenodd\" fill-opacity=\"1\" /><path clip-path=\"url(#clip440)\" d=\"M 0 0 M126.918 1465.37 Q123.307 1465.37 121.478 1468.93 Q119.672 1472.48 119.672 1479.61 Q119.672 1486.71 121.478 1490.28 Q123.307 1493.82 126.918 1493.82 Q130.552 1493.82 132.357 1490.28 Q134.186 1486.71 134.186 1479.61 Q134.186 1472.48 132.357 1468.93 Q130.552 1465.37 126.918 1465.37 M126.918 1461.67 Q132.728 1461.67 135.783 1466.27 Q138.862 1470.86 138.862 1479.61 Q138.862 1488.33 135.783 1492.94 Q132.728 1497.52 126.918 1497.52 Q121.107 1497.52 118.029 1492.94 Q114.973 1488.33 114.973 1479.61 Q114.973 1470.86 118.029 1466.27 Q121.107 1461.67 126.918 1461.67 Z\" fill=\"#000000\" fill-rule=\"evenodd\" fill-opacity=\"1\" /><path clip-path=\"url(#clip440)\" d=\"M 0 0 M65.5291 1117.19 Q61.918 1117.19 60.0893 1120.75 Q58.2838 1124.29 58.2838 1131.42 Q58.2838 1138.53 60.0893 1142.1 Q61.918 1145.64 65.5291 1145.64 Q69.1633 1145.64 70.9689 1142.1 Q72.7976 1138.53 72.7976 1131.42 Q72.7976 1124.29 70.9689 1120.75 Q69.1633 1117.19 65.5291 1117.19 M65.5291 1113.48 Q71.3392 1113.48 74.3948 1118.09 Q77.4735 1122.67 77.4735 1131.42 Q77.4735 1140.15 74.3948 1144.76 Q71.3392 1149.34 65.5291 1149.34 Q59.7189 1149.34 56.6402 1144.76 Q53.5847 1140.15 53.5847 1131.42 Q53.5847 1122.67 56.6402 1118.09 Q59.7189 1113.48 65.5291 1113.48 Z\" fill=\"#000000\" fill-rule=\"evenodd\" fill-opacity=\"1\" /><path clip-path=\"url(#clip440)\" d=\"M 0 0 M82.5429 1142.79 L87.4271 1142.79 L87.4271 1148.67 L82.5429 1148.67 L82.5429 1142.79 Z\" fill=\"#000000\" fill-rule=\"evenodd\" fill-opacity=\"1\" /><path clip-path=\"url(#clip440)\" d=\"M 0 0 M96.5243 1144.73 L112.844 1144.73 L112.844 1148.67 L90.8993 1148.67 L90.8993 1144.73 Q93.5613 1141.98 98.1447 1137.35 Q102.751 1132.7 103.932 1131.35 Q106.177 1128.83 107.057 1127.1 Q107.959 1125.34 107.959 1123.65 Q107.959 1120.89 106.015 1119.16 Q104.094 1117.42 100.992 1117.42 Q98.7928 1117.42 96.3391 1118.18 Q93.9086 1118.95 91.1308 1120.5 L91.1308 1115.78 Q93.9549 1114.64 96.4085 1114.06 Q98.8622 1113.48 100.899 1113.48 Q106.27 1113.48 109.464 1116.17 Q112.658 1118.85 112.658 1123.35 Q112.658 1125.48 111.848 1127.4 Q111.061 1129.29 108.955 1131.89 Q108.376 1132.56 105.274 1135.78 Q102.172 1138.97 96.5243 1144.73 Z\" fill=\"#000000\" fill-rule=\"evenodd\" fill-opacity=\"1\" /><path clip-path=\"url(#clip440)\" d=\"M 0 0 M117.959 1114.11 L136.316 1114.11 L136.316 1118.04 L122.242 1118.04 L122.242 1126.52 Q123.26 1126.17 124.279 1126.01 Q125.297 1125.82 126.316 1125.82 Q132.103 1125.82 135.482 1128.99 Q138.862 1132.17 138.862 1137.58 Q138.862 1143.16 135.39 1146.26 Q131.918 1149.34 125.598 1149.34 Q123.422 1149.34 121.154 1148.97 Q118.908 1148.6 116.501 1147.86 L116.501 1143.16 Q118.584 1144.29 120.807 1144.85 Q123.029 1145.41 125.506 1145.41 Q129.51 1145.41 131.848 1143.3 Q134.186 1141.19 134.186 1137.58 Q134.186 1133.97 131.848 1131.86 Q129.51 1129.76 125.506 1129.76 Q123.631 1129.76 121.756 1130.17 Q119.904 1130.59 117.959 1131.47 L117.959 1114.11 Z\" fill=\"#000000\" fill-rule=\"evenodd\" fill-opacity=\"1\" /><path clip-path=\"url(#clip440)\" d=\"M 0 0 M63.9319 769.007 Q60.3208 769.007 58.4921 772.572 Q56.6865 776.114 56.6865 783.243 Q56.6865 790.35 58.4921 793.914 Q60.3208 797.456 63.9319 797.456 Q67.5661 797.456 69.3717 793.914 Q71.2004 790.35 71.2004 783.243 Q71.2004 776.114 69.3717 772.572 Q67.5661 769.007 63.9319 769.007 M63.9319 765.303 Q69.742 765.303 72.7976 769.91 Q75.8763 774.493 75.8763 783.243 Q75.8763 791.97 72.7976 796.576 Q69.742 801.16 63.9319 801.16 Q58.1217 801.16 55.043 796.576 Q51.9875 791.97 51.9875 783.243 Q51.9875 774.493 55.043 769.91 Q58.1217 765.303 63.9319 765.303 Z\" fill=\"#000000\" fill-rule=\"evenodd\" fill-opacity=\"1\" /><path clip-path=\"url(#clip440)\" d=\"M 0 0 M80.9457 794.609 L85.8299 794.609 L85.8299 800.488 L80.9457 800.488 L80.9457 794.609 Z\" fill=\"#000000\" fill-rule=\"evenodd\" fill-opacity=\"1\" /><path clip-path=\"url(#clip440)\" d=\"M 0 0 M90.9456 765.928 L109.302 765.928 L109.302 769.864 L95.228 769.864 L95.228 778.336 Q96.2465 777.989 97.265 777.826 Q98.2835 777.641 99.3021 777.641 Q105.089 777.641 108.469 780.813 Q111.848 783.984 111.848 789.401 Q111.848 794.979 108.376 798.081 Q104.904 801.16 98.5845 801.16 Q96.4085 801.16 94.14 800.789 Q91.8947 800.419 89.4873 799.678 L89.4873 794.979 Q91.5706 796.113 93.7928 796.669 Q96.015 797.225 98.4919 797.225 Q102.496 797.225 104.834 795.118 Q107.172 793.012 107.172 789.401 Q107.172 785.789 104.834 783.683 Q102.496 781.576 98.4919 781.576 Q96.6169 781.576 94.7419 781.993 Q92.89 782.41 90.9456 783.289 L90.9456 765.928 Z\" fill=\"#000000\" fill-rule=\"evenodd\" fill-opacity=\"1\" /><path clip-path=\"url(#clip440)\" d=\"M 0 0 M126.918 769.007 Q123.307 769.007 121.478 772.572 Q119.672 776.114 119.672 783.243 Q119.672 790.35 121.478 793.914 Q123.307 797.456 126.918 797.456 Q130.552 797.456 132.357 793.914 Q134.186 790.35 134.186 783.243 Q134.186 776.114 132.357 772.572 Q130.552 769.007 126.918 769.007 M126.918 765.303 Q132.728 765.303 135.783 769.91 Q138.862 774.493 138.862 783.243 Q138.862 791.97 135.783 796.576 Q132.728 801.16 126.918 801.16 Q121.107 801.16 118.029 796.576 Q114.973 791.97 114.973 783.243 Q114.973 774.493 118.029 769.91 Q121.107 765.303 126.918 765.303 Z\" fill=\"#000000\" fill-rule=\"evenodd\" fill-opacity=\"1\" /><path clip-path=\"url(#clip440)\" d=\"M 0 0 M64.8346 420.826 Q61.2236 420.826 59.3949 424.391 Q57.5893 427.932 57.5893 435.062 Q57.5893 442.168 59.3949 445.733 Q61.2236 449.275 64.8346 449.275 Q68.4689 449.275 70.2744 445.733 Q72.1031 442.168 72.1031 435.062 Q72.1031 427.932 70.2744 424.391 Q68.4689 420.826 64.8346 420.826 M64.8346 417.122 Q70.6448 417.122 73.7003 421.729 Q76.779 426.312 76.779 435.062 Q76.779 443.789 73.7003 448.395 Q70.6448 452.979 64.8346 452.979 Q59.0245 452.979 55.9458 448.395 Q52.8903 443.789 52.8903 435.062 Q52.8903 426.312 55.9458 421.729 Q59.0245 417.122 64.8346 417.122 Z\" fill=\"#000000\" fill-rule=\"evenodd\" fill-opacity=\"1\" /><path clip-path=\"url(#clip440)\" d=\"M 0 0 M81.8484 446.428 L86.7327 446.428 L86.7327 452.307 L81.8484 452.307 L81.8484 446.428 Z\" fill=\"#000000\" fill-rule=\"evenodd\" fill-opacity=\"1\" /><path clip-path=\"url(#clip440)\" d=\"M 0 0 M90.6215 417.747 L112.844 417.747 L112.844 419.738 L100.297 452.307 L95.4132 452.307 L107.219 421.682 L90.6215 421.682 L90.6215 417.747 Z\" fill=\"#000000\" fill-rule=\"evenodd\" fill-opacity=\"1\" /><path clip-path=\"url(#clip440)\" d=\"M 0 0 M117.959 417.747 L136.316 417.747 L136.316 421.682 L122.242 421.682 L122.242 430.155 Q123.26 429.807 124.279 429.645 Q125.297 429.46 126.316 429.46 Q132.103 429.46 135.482 432.631 Q138.862 435.803 138.862 441.219 Q138.862 446.798 135.39 449.9 Q131.918 452.979 125.598 452.979 Q123.422 452.979 121.154 452.608 Q118.908 452.238 116.501 451.497 L116.501 446.798 Q118.584 447.932 120.807 448.488 Q123.029 449.043 125.506 449.043 Q129.51 449.043 131.848 446.937 Q134.186 444.83 134.186 441.219 Q134.186 437.608 131.848 435.502 Q129.51 433.395 125.506 433.395 Q123.631 433.395 121.756 433.812 Q119.904 434.229 117.959 435.108 L117.959 417.747 Z\" fill=\"#000000\" fill-rule=\"evenodd\" fill-opacity=\"1\" /><path clip-path=\"url(#clip440)\" d=\"M 0 0 M54.9736 100.191 L62.6124 100.191 L62.6124 73.8253 L54.3023 75.492 L54.3023 71.2327 L62.5661 69.5661 L67.242 69.5661 L67.242 100.191 L74.8809 100.191 L74.8809 104.126 L54.9736 104.126 L54.9736 100.191 Z\" fill=\"#000000\" fill-rule=\"evenodd\" fill-opacity=\"1\" /><path clip-path=\"url(#clip440)\" d=\"M 0 0 M79.9503 98.2465 L84.8345 98.2465 L84.8345 104.126 L79.9503 104.126 L79.9503 98.2465 Z\" fill=\"#000000\" fill-rule=\"evenodd\" fill-opacity=\"1\" /><path clip-path=\"url(#clip440)\" d=\"M 0 0 M99.9039 72.6448 Q96.2928 72.6448 94.4641 76.2096 Q92.6586 79.7512 92.6586 86.8808 Q92.6586 93.9872 94.4641 97.552 Q96.2928 101.094 99.9039 101.094 Q103.538 101.094 105.344 97.552 Q107.172 93.9872 107.172 86.8808 Q107.172 79.7512 105.344 76.2096 Q103.538 72.6448 99.9039 72.6448 M99.9039 68.9411 Q105.714 68.9411 108.77 73.5475 Q111.848 78.1308 111.848 86.8808 Q111.848 95.6076 108.77 100.214 Q105.714 104.797 99.9039 104.797 Q94.0937 104.797 91.0151 100.214 Q87.9595 95.6076 87.9595 86.8808 Q87.9595 78.1308 91.0151 73.5475 Q94.0937 68.9411 99.9039 68.9411 Z\" fill=\"#000000\" fill-rule=\"evenodd\" fill-opacity=\"1\" /><path clip-path=\"url(#clip440)\" d=\"M 0 0 M126.918 72.6448 Q123.307 72.6448 121.478 76.2096 Q119.672 79.7512 119.672 86.8808 Q119.672 93.9872 121.478 97.552 Q123.307 101.094 126.918 101.094 Q130.552 101.094 132.357 97.552 Q134.186 93.9872 134.186 86.8808 Q134.186 79.7512 132.357 76.2096 Q130.552 72.6448 126.918 72.6448 M126.918 68.9411 Q132.728 68.9411 135.783 73.5475 Q138.862 78.1308 138.862 86.8808 Q138.862 95.6076 135.783 100.214 Q132.728 104.797 126.918 104.797 Q121.107 104.797 118.029 100.214 Q114.973 95.6076 114.973 86.8808 Q114.973 78.1308 118.029 73.5475 Q121.107 68.9411 126.918 68.9411 Z\" fill=\"#000000\" fill-rule=\"evenodd\" fill-opacity=\"1\" /><polyline clip-path=\"url(#clip442)\" style=\"stroke:#009af9; stroke-width:4; stroke-opacity:1; fill:none\" points=\"\n",
       "  236.501,700.279 464.791,106.728 693.082,1177.67 921.373,87.9763 1149.66,1360.52 1377.95,253.205 1606.25,869.831 1834.54,1090.1 2062.83,1406.53 2291.12,1310.32 \n",
       "  \n",
       "  \"/>\n",
       "<polyline clip-path=\"url(#clip442)\" style=\"stroke:#e26f46; stroke-width:4; stroke-opacity:1; fill:none\" points=\"\n",
       "  236.501,1445.72 464.791,495.577 693.082,680.077 921.373,1109.6 1149.66,544.353 1377.95,826.76 1606.25,642.461 1834.54,243.514 2062.83,699.054 2291.12,176.931 \n",
       "  \n",
       "  \"/>\n",
       "<polyline clip-path=\"url(#clip442)\" style=\"stroke:#3da44d; stroke-width:4; stroke-opacity:1; fill:none\" points=\"\n",
       "  236.501,678.029 464.791,521.98 693.082,621.183 921.373,128.419 1149.66,781.031 1377.95,961.591 1606.25,625.267 1834.54,254.463 2062.83,1201.92 2291.12,1351.45 \n",
       "  \n",
       "  \"/>\n",
       "<path clip-path=\"url(#clip440)\" d=\"\n",
       "M1986.57 337.138 L2280.16 337.138 L2280.16 95.2176 L1986.57 95.2176  Z\n",
       "  \" fill=\"#ffffff\" fill-rule=\"evenodd\" fill-opacity=\"1\"/>\n",
       "<polyline clip-path=\"url(#clip440)\" style=\"stroke:#000000; stroke-width:4; stroke-opacity:1; fill:none\" points=\"\n",
       "  1986.57,337.138 2280.16,337.138 2280.16,95.2176 1986.57,95.2176 1986.57,337.138 \n",
       "  \"/>\n",
       "<polyline clip-path=\"url(#clip440)\" style=\"stroke:#009af9; stroke-width:4; stroke-opacity:1; fill:none\" points=\"\n",
       "  2010.77,155.698 2155.97,155.698 \n",
       "  \"/>\n",
       "<path clip-path=\"url(#clip440)\" d=\"M 0 0 M2194.01 175.385 Q2192.2 180.015 2190.49 181.427 Q2188.78 182.839 2185.91 182.839 L2182.5 182.839 L2182.5 179.274 L2185 179.274 Q2186.76 179.274 2187.73 178.44 Q2188.71 177.607 2189.89 174.505 L2190.65 172.561 L2180.16 147.052 L2184.68 147.052 L2192.78 167.329 L2200.88 147.052 L2205.4 147.052 L2194.01 175.385 Z\" fill=\"#000000\" fill-rule=\"evenodd\" fill-opacity=\"1\" /><path clip-path=\"url(#clip440)\" d=\"M 0 0 M2211.28 169.042 L2218.91 169.042 L2218.91 142.677 L2210.6 144.343 L2210.6 140.084 L2218.87 138.418 L2223.54 138.418 L2223.54 169.042 L2231.18 169.042 L2231.18 172.978 L2211.28 172.978 L2211.28 169.042 Z\" fill=\"#000000\" fill-rule=\"evenodd\" fill-opacity=\"1\" /><polyline clip-path=\"url(#clip440)\" style=\"stroke:#e26f46; stroke-width:4; stroke-opacity:1; fill:none\" points=\"\n",
       "  2010.77,216.178 2155.97,216.178 \n",
       "  \"/>\n",
       "<path clip-path=\"url(#clip440)\" d=\"M 0 0 M2194.01 235.865 Q2192.2 240.495 2190.49 241.907 Q2188.78 243.319 2185.91 243.319 L2182.5 243.319 L2182.5 239.754 L2185 239.754 Q2186.76 239.754 2187.73 238.92 Q2188.71 238.087 2189.89 234.985 L2190.65 233.041 L2180.16 207.532 L2184.68 207.532 L2192.78 227.809 L2200.88 207.532 L2205.4 207.532 L2194.01 235.865 Z\" fill=\"#000000\" fill-rule=\"evenodd\" fill-opacity=\"1\" /><path clip-path=\"url(#clip440)\" d=\"M 0 0 M2214.49 229.522 L2230.81 229.522 L2230.81 233.458 L2208.87 233.458 L2208.87 229.522 Q2211.53 226.768 2216.11 222.138 Q2220.72 217.485 2221.9 216.143 Q2224.15 213.62 2225.03 211.884 Q2225.93 210.124 2225.93 208.435 Q2225.93 205.68 2223.98 203.944 Q2222.06 202.208 2218.96 202.208 Q2216.76 202.208 2214.31 202.972 Q2211.88 203.735 2209.1 205.286 L2209.1 200.564 Q2211.92 199.43 2214.38 198.851 Q2216.83 198.273 2218.87 198.273 Q2224.24 198.273 2227.43 200.958 Q2230.63 203.643 2230.63 208.134 Q2230.63 210.263 2229.82 212.185 Q2229.03 214.083 2226.92 216.675 Q2226.35 217.347 2223.24 220.564 Q2220.14 223.759 2214.49 229.522 Z\" fill=\"#000000\" fill-rule=\"evenodd\" fill-opacity=\"1\" /><polyline clip-path=\"url(#clip440)\" style=\"stroke:#3da44d; stroke-width:4; stroke-opacity:1; fill:none\" points=\"\n",
       "  2010.77,276.658 2155.97,276.658 \n",
       "  \"/>\n",
       "<path clip-path=\"url(#clip440)\" d=\"M 0 0 M2194.01 296.345 Q2192.2 300.975 2190.49 302.387 Q2188.78 303.799 2185.91 303.799 L2182.5 303.799 L2182.5 300.234 L2185 300.234 Q2186.76 300.234 2187.73 299.4 Q2188.71 298.567 2189.89 295.465 L2190.65 293.521 L2180.16 268.012 L2184.68 268.012 L2192.78 288.289 L2200.88 268.012 L2205.4 268.012 L2194.01 296.345 Z\" fill=\"#000000\" fill-rule=\"evenodd\" fill-opacity=\"1\" /><path clip-path=\"url(#clip440)\" d=\"M 0 0 M2224.63 275.303 Q2227.99 276.021 2229.86 278.289 Q2231.76 280.558 2231.76 283.891 Q2231.76 289.007 2228.24 291.808 Q2224.72 294.609 2218.24 294.609 Q2216.07 294.609 2213.75 294.169 Q2211.46 293.752 2209.01 292.896 L2209.01 288.382 Q2210.95 289.516 2213.27 290.095 Q2215.58 290.674 2218.1 290.674 Q2222.5 290.674 2224.79 288.938 Q2227.11 287.201 2227.11 283.891 Q2227.11 280.836 2224.96 279.123 Q2222.83 277.387 2219.01 277.387 L2214.98 277.387 L2214.98 273.544 L2219.19 273.544 Q2222.64 273.544 2224.47 272.178 Q2226.3 270.79 2226.3 268.197 Q2226.3 265.535 2224.4 264.123 Q2222.53 262.688 2219.01 262.688 Q2217.09 262.688 2214.89 263.104 Q2212.69 263.521 2210.05 264.401 L2210.05 260.234 Q2212.71 259.493 2215.03 259.123 Q2217.36 258.753 2219.42 258.753 Q2224.75 258.753 2227.85 261.183 Q2230.95 263.59 2230.95 267.711 Q2230.95 270.581 2229.31 272.572 Q2227.66 274.54 2224.63 275.303 Z\" fill=\"#000000\" fill-rule=\"evenodd\" fill-opacity=\"1\" /></svg>\n"
      ]
     },
     "execution_count": 59,
     "metadata": {},
     "output_type": "execute_result"
    }
   ],
   "source": [
    "plot(rand(10,3))"
   ]
  },
  {
   "cell_type": "code",
   "execution_count": 63,
   "metadata": {
    "scrolled": true
   },
   "outputs": [
    {
     "data": {
      "image/svg+xml": [
       "<?xml version=\"1.0\" encoding=\"utf-8\"?>\n",
       "<svg xmlns=\"http://www.w3.org/2000/svg\" xmlns:xlink=\"http://www.w3.org/1999/xlink\" width=\"600\" height=\"400\" viewBox=\"0 0 2400 1600\">\n",
       "<defs>\n",
       "  <clipPath id=\"clip560\">\n",
       "    <rect x=\"0\" y=\"0\" width=\"2400\" height=\"1600\"/>\n",
       "  </clipPath>\n",
       "</defs>\n",
       "<path clip-path=\"url(#clip560)\" d=\"\n",
       "M0 1600 L2400 1600 L2400 0 L0 0  Z\n",
       "  \" fill=\"#ffffff\" fill-rule=\"evenodd\" fill-opacity=\"1\"/>\n",
       "<defs>\n",
       "  <clipPath id=\"clip561\">\n",
       "    <rect x=\"480\" y=\"0\" width=\"1681\" height=\"1600\"/>\n",
       "  </clipPath>\n",
       "</defs>\n",
       "<path clip-path=\"url(#clip560)\" d=\"\n",
       "M242.922 1423.18 L2352.76 1423.18 L2352.76 123.472 L242.922 123.472  Z\n",
       "  \" fill=\"#ffffff\" fill-rule=\"evenodd\" fill-opacity=\"1\"/>\n",
       "<defs>\n",
       "  <clipPath id=\"clip562\">\n",
       "    <rect x=\"242\" y=\"123\" width=\"2111\" height=\"1301\"/>\n",
       "  </clipPath>\n",
       "</defs>\n",
       "<polyline clip-path=\"url(#clip562)\" style=\"stroke:#000000; stroke-width:2; stroke-opacity:0.1; fill:none\" points=\"\n",
       "  302.634,1423.18 302.634,123.472 \n",
       "  \"/>\n",
       "<polyline clip-path=\"url(#clip562)\" style=\"stroke:#000000; stroke-width:2; stroke-opacity:0.1; fill:none\" points=\"\n",
       "  623.668,1423.18 623.668,123.472 \n",
       "  \"/>\n",
       "<polyline clip-path=\"url(#clip562)\" style=\"stroke:#000000; stroke-width:2; stroke-opacity:0.1; fill:none\" points=\"\n",
       "  944.702,1423.18 944.702,123.472 \n",
       "  \"/>\n",
       "<polyline clip-path=\"url(#clip562)\" style=\"stroke:#000000; stroke-width:2; stroke-opacity:0.1; fill:none\" points=\"\n",
       "  1265.74,1423.18 1265.74,123.472 \n",
       "  \"/>\n",
       "<polyline clip-path=\"url(#clip562)\" style=\"stroke:#000000; stroke-width:2; stroke-opacity:0.1; fill:none\" points=\"\n",
       "  1586.77,1423.18 1586.77,123.472 \n",
       "  \"/>\n",
       "<polyline clip-path=\"url(#clip562)\" style=\"stroke:#000000; stroke-width:2; stroke-opacity:0.1; fill:none\" points=\"\n",
       "  1907.8,1423.18 1907.8,123.472 \n",
       "  \"/>\n",
       "<polyline clip-path=\"url(#clip562)\" style=\"stroke:#000000; stroke-width:2; stroke-opacity:0.1; fill:none\" points=\"\n",
       "  2228.84,1423.18 2228.84,123.472 \n",
       "  \"/>\n",
       "<polyline clip-path=\"url(#clip560)\" style=\"stroke:#000000; stroke-width:4; stroke-opacity:1; fill:none\" points=\"\n",
       "  242.922,1423.18 2352.76,1423.18 \n",
       "  \"/>\n",
       "<polyline clip-path=\"url(#clip560)\" style=\"stroke:#000000; stroke-width:4; stroke-opacity:1; fill:none\" points=\"\n",
       "  302.634,1423.18 302.634,1407.58 \n",
       "  \"/>\n",
       "<polyline clip-path=\"url(#clip560)\" style=\"stroke:#000000; stroke-width:4; stroke-opacity:1; fill:none\" points=\"\n",
       "  623.668,1423.18 623.668,1407.58 \n",
       "  \"/>\n",
       "<polyline clip-path=\"url(#clip560)\" style=\"stroke:#000000; stroke-width:4; stroke-opacity:1; fill:none\" points=\"\n",
       "  944.702,1423.18 944.702,1407.58 \n",
       "  \"/>\n",
       "<polyline clip-path=\"url(#clip560)\" style=\"stroke:#000000; stroke-width:4; stroke-opacity:1; fill:none\" points=\"\n",
       "  1265.74,1423.18 1265.74,1407.58 \n",
       "  \"/>\n",
       "<polyline clip-path=\"url(#clip560)\" style=\"stroke:#000000; stroke-width:4; stroke-opacity:1; fill:none\" points=\"\n",
       "  1586.77,1423.18 1586.77,1407.58 \n",
       "  \"/>\n",
       "<polyline clip-path=\"url(#clip560)\" style=\"stroke:#000000; stroke-width:4; stroke-opacity:1; fill:none\" points=\"\n",
       "  1907.8,1423.18 1907.8,1407.58 \n",
       "  \"/>\n",
       "<polyline clip-path=\"url(#clip560)\" style=\"stroke:#000000; stroke-width:4; stroke-opacity:1; fill:none\" points=\"\n",
       "  2228.84,1423.18 2228.84,1407.58 \n",
       "  \"/>\n",
       "<path clip-path=\"url(#clip560)\" d=\"M 0 0 M302.634 1452.37 Q299.023 1452.37 297.194 1455.94 Q295.389 1459.48 295.389 1466.61 Q295.389 1473.71 297.194 1477.28 Q299.023 1480.82 302.634 1480.82 Q306.268 1480.82 308.074 1477.28 Q309.902 1473.71 309.902 1466.61 Q309.902 1459.48 308.074 1455.94 Q306.268 1452.37 302.634 1452.37 M302.634 1448.67 Q308.444 1448.67 311.5 1453.27 Q314.578 1457.86 314.578 1466.61 Q314.578 1475.33 311.5 1479.94 Q308.444 1484.52 302.634 1484.52 Q296.824 1484.52 293.745 1479.94 Q290.69 1475.33 290.69 1466.61 Q290.69 1457.86 293.745 1453.27 Q296.824 1448.67 302.634 1448.67 Z\" fill=\"#000000\" fill-rule=\"evenodd\" fill-opacity=\"1\" /><path clip-path=\"url(#clip560)\" d=\"M 0 0 M614.05 1479.92 L621.689 1479.92 L621.689 1453.55 L613.379 1455.22 L613.379 1450.96 L621.642 1449.29 L626.318 1449.29 L626.318 1479.92 L633.957 1479.92 L633.957 1483.85 L614.05 1483.85 L614.05 1479.92 Z\" fill=\"#000000\" fill-rule=\"evenodd\" fill-opacity=\"1\" /><path clip-path=\"url(#clip560)\" d=\"M 0 0 M939.354 1479.92 L955.674 1479.92 L955.674 1483.85 L933.729 1483.85 L933.729 1479.92 Q936.391 1477.16 940.975 1472.53 Q945.581 1467.88 946.762 1466.54 Q949.007 1464.01 949.887 1462.28 Q950.79 1460.52 950.79 1458.83 Q950.79 1456.07 948.845 1454.34 Q946.924 1452.6 943.822 1452.6 Q941.623 1452.6 939.169 1453.37 Q936.739 1454.13 933.961 1455.68 L933.961 1450.96 Q936.785 1449.82 939.239 1449.25 Q941.692 1448.67 943.729 1448.67 Q949.1 1448.67 952.294 1451.35 Q955.489 1454.04 955.489 1458.53 Q955.489 1460.66 954.678 1462.58 Q953.891 1464.48 951.785 1467.07 Q951.206 1467.74 948.104 1470.96 Q945.003 1474.15 939.354 1479.92 Z\" fill=\"#000000\" fill-rule=\"evenodd\" fill-opacity=\"1\" /><path clip-path=\"url(#clip560)\" d=\"M 0 0 M1269.98 1465.22 Q1273.34 1465.94 1275.21 1468.2 Q1277.11 1470.47 1277.11 1473.81 Q1277.11 1478.92 1273.59 1481.72 Q1270.08 1484.52 1263.59 1484.52 Q1261.42 1484.52 1259.1 1484.08 Q1256.81 1483.67 1254.36 1482.81 L1254.36 1478.3 Q1256.3 1479.43 1258.62 1480.01 Q1260.93 1480.59 1263.46 1480.59 Q1267.85 1480.59 1270.15 1478.85 Q1272.46 1477.12 1272.46 1473.81 Q1272.46 1470.75 1270.31 1469.04 Q1268.18 1467.3 1264.36 1467.3 L1260.33 1467.3 L1260.33 1463.46 L1264.54 1463.46 Q1267.99 1463.46 1269.82 1462.09 Q1271.65 1460.7 1271.65 1458.11 Q1271.65 1455.45 1269.75 1454.04 Q1267.88 1452.6 1264.36 1452.6 Q1262.44 1452.6 1260.24 1453.02 Q1258.04 1453.44 1255.4 1454.31 L1255.4 1450.15 Q1258.06 1449.41 1260.38 1449.04 Q1262.71 1448.67 1264.77 1448.67 Q1270.1 1448.67 1273.2 1451.1 Q1276.3 1453.5 1276.3 1457.63 Q1276.3 1460.5 1274.66 1462.49 Q1273.02 1464.45 1269.98 1465.22 Z\" fill=\"#000000\" fill-rule=\"evenodd\" fill-opacity=\"1\" /><path clip-path=\"url(#clip560)\" d=\"M 0 0 M1589.78 1453.37 L1577.97 1471.81 L1589.78 1471.81 L1589.78 1453.37 M1588.55 1449.29 L1594.43 1449.29 L1594.43 1471.81 L1599.36 1471.81 L1599.36 1475.7 L1594.43 1475.7 L1594.43 1483.85 L1589.78 1483.85 L1589.78 1475.7 L1574.18 1475.7 L1574.18 1471.19 L1588.55 1449.29 Z\" fill=\"#000000\" fill-rule=\"evenodd\" fill-opacity=\"1\" /><path clip-path=\"url(#clip560)\" d=\"M 0 0 M1898.08 1449.29 L1916.44 1449.29 L1916.44 1453.23 L1902.36 1453.23 L1902.36 1461.7 Q1903.38 1461.35 1904.4 1461.19 Q1905.42 1461 1906.44 1461 Q1912.22 1461 1915.6 1464.18 Q1918.98 1467.35 1918.98 1472.76 Q1918.98 1478.34 1915.51 1481.44 Q1912.04 1484.52 1905.72 1484.52 Q1903.54 1484.52 1901.28 1484.15 Q1899.03 1483.78 1896.62 1483.04 L1896.62 1478.34 Q1898.71 1479.48 1900.93 1480.03 Q1903.15 1480.59 1905.63 1480.59 Q1909.63 1480.59 1911.97 1478.48 Q1914.31 1476.38 1914.31 1472.76 Q1914.31 1469.15 1911.97 1467.05 Q1909.63 1464.94 1905.63 1464.94 Q1903.75 1464.94 1901.88 1465.36 Q1900.03 1465.77 1898.08 1466.65 L1898.08 1449.29 Z\" fill=\"#000000\" fill-rule=\"evenodd\" fill-opacity=\"1\" /><path clip-path=\"url(#clip560)\" d=\"M 0 0 M2229.24 1464.71 Q2226.09 1464.71 2224.24 1466.86 Q2222.41 1469.01 2222.41 1472.76 Q2222.41 1476.49 2224.24 1478.67 Q2226.09 1480.82 2229.24 1480.82 Q2232.39 1480.82 2234.22 1478.67 Q2236.07 1476.49 2236.07 1472.76 Q2236.07 1469.01 2234.22 1466.86 Q2232.39 1464.71 2229.24 1464.71 M2238.52 1450.06 L2238.52 1454.31 Q2236.77 1453.48 2234.96 1453.04 Q2233.18 1452.6 2231.42 1452.6 Q2226.79 1452.6 2224.33 1455.73 Q2221.9 1458.85 2221.56 1465.17 Q2222.92 1463.16 2224.98 1462.09 Q2227.04 1461 2229.52 1461 Q2234.73 1461 2237.74 1464.18 Q2240.77 1467.32 2240.77 1472.76 Q2240.77 1478.09 2237.62 1481.31 Q2234.47 1484.52 2229.24 1484.52 Q2223.25 1484.52 2220.08 1479.94 Q2216.9 1475.33 2216.9 1466.61 Q2216.9 1458.41 2220.79 1453.55 Q2224.68 1448.67 2231.23 1448.67 Q2232.99 1448.67 2234.77 1449.01 Q2236.58 1449.36 2238.52 1450.06 Z\" fill=\"#000000\" fill-rule=\"evenodd\" fill-opacity=\"1\" /><path clip-path=\"url(#clip560)\" d=\"M 0 0 M1314.45 1520.4 L1301.56 1537.74 L1315.12 1556.04 L1308.21 1556.04 L1297.84 1542.04 L1287.46 1556.04 L1280.56 1556.04 L1294.4 1537.39 L1281.73 1520.4 L1288.64 1520.4 L1298.09 1533.1 L1307.55 1520.4 L1314.45 1520.4 Z\" fill=\"#000000\" fill-rule=\"evenodd\" fill-opacity=\"1\" /><polyline clip-path=\"url(#clip562)\" style=\"stroke:#000000; stroke-width:2; stroke-opacity:0.1; fill:none\" points=\"\n",
       "  242.922,1386.44 2352.76,1386.44 \n",
       "  \"/>\n",
       "<polyline clip-path=\"url(#clip562)\" style=\"stroke:#000000; stroke-width:2; stroke-opacity:0.1; fill:none\" points=\"\n",
       "  242.922,1079.9 2352.76,1079.9 \n",
       "  \"/>\n",
       "<polyline clip-path=\"url(#clip562)\" style=\"stroke:#000000; stroke-width:2; stroke-opacity:0.1; fill:none\" points=\"\n",
       "  242.922,773.35 2352.76,773.35 \n",
       "  \"/>\n",
       "<polyline clip-path=\"url(#clip562)\" style=\"stroke:#000000; stroke-width:2; stroke-opacity:0.1; fill:none\" points=\"\n",
       "  242.922,466.803 2352.76,466.803 \n",
       "  \"/>\n",
       "<polyline clip-path=\"url(#clip562)\" style=\"stroke:#000000; stroke-width:2; stroke-opacity:0.1; fill:none\" points=\"\n",
       "  242.922,160.256 2352.76,160.256 \n",
       "  \"/>\n",
       "<polyline clip-path=\"url(#clip560)\" style=\"stroke:#000000; stroke-width:4; stroke-opacity:1; fill:none\" points=\"\n",
       "  242.922,1423.18 242.922,123.472 \n",
       "  \"/>\n",
       "<polyline clip-path=\"url(#clip560)\" style=\"stroke:#000000; stroke-width:4; stroke-opacity:1; fill:none\" points=\"\n",
       "  242.922,1386.44 268.24,1386.44 \n",
       "  \"/>\n",
       "<polyline clip-path=\"url(#clip560)\" style=\"stroke:#000000; stroke-width:4; stroke-opacity:1; fill:none\" points=\"\n",
       "  242.922,1079.9 268.24,1079.9 \n",
       "  \"/>\n",
       "<polyline clip-path=\"url(#clip560)\" style=\"stroke:#000000; stroke-width:4; stroke-opacity:1; fill:none\" points=\"\n",
       "  242.922,773.35 268.24,773.35 \n",
       "  \"/>\n",
       "<polyline clip-path=\"url(#clip560)\" style=\"stroke:#000000; stroke-width:4; stroke-opacity:1; fill:none\" points=\"\n",
       "  242.922,466.803 268.24,466.803 \n",
       "  \"/>\n",
       "<polyline clip-path=\"url(#clip560)\" style=\"stroke:#000000; stroke-width:4; stroke-opacity:1; fill:none\" points=\"\n",
       "  242.922,160.256 268.24,160.256 \n",
       "  \"/>\n",
       "<path clip-path=\"url(#clip560)\" d=\"M 0 0 M114.492 1386.89 L144.167 1386.89 L144.167 1390.83 L114.492 1390.83 L114.492 1386.89 Z\" fill=\"#000000\" fill-rule=\"evenodd\" fill-opacity=\"1\" /><path clip-path=\"url(#clip560)\" d=\"M 0 0 M150.047 1399.79 L157.686 1399.79 L157.686 1373.42 L149.376 1375.09 L149.376 1370.83 L157.64 1369.16 L162.315 1369.16 L162.315 1399.79 L169.954 1399.79 L169.954 1403.72 L150.047 1403.72 L150.047 1399.79 Z\" fill=\"#000000\" fill-rule=\"evenodd\" fill-opacity=\"1\" /><path clip-path=\"url(#clip560)\" d=\"M 0 0 M175.024 1397.84 L179.908 1397.84 L179.908 1403.72 L175.024 1403.72 L175.024 1397.84 Z\" fill=\"#000000\" fill-rule=\"evenodd\" fill-opacity=\"1\" /><path clip-path=\"url(#clip560)\" d=\"M 0 0 M194.977 1372.24 Q191.366 1372.24 189.538 1375.81 Q187.732 1379.35 187.732 1386.48 Q187.732 1393.58 189.538 1397.15 Q191.366 1400.69 194.977 1400.69 Q198.612 1400.69 200.417 1397.15 Q202.246 1393.58 202.246 1386.48 Q202.246 1379.35 200.417 1375.81 Q198.612 1372.24 194.977 1372.24 M194.977 1368.54 Q200.787 1368.54 203.843 1373.14 Q206.922 1377.73 206.922 1386.48 Q206.922 1395.2 203.843 1399.81 Q200.787 1404.39 194.977 1404.39 Q189.167 1404.39 186.088 1399.81 Q183.033 1395.2 183.033 1386.48 Q183.033 1377.73 186.088 1373.14 Q189.167 1368.54 194.977 1368.54 Z\" fill=\"#000000\" fill-rule=\"evenodd\" fill-opacity=\"1\" /><path clip-path=\"url(#clip560)\" d=\"M 0 0 M114.26 1080.35 L143.936 1080.35 L143.936 1084.28 L114.26 1084.28 L114.26 1080.35 Z\" fill=\"#000000\" fill-rule=\"evenodd\" fill-opacity=\"1\" /><path clip-path=\"url(#clip560)\" d=\"M 0 0 M159.005 1065.69 Q155.394 1065.69 153.566 1069.26 Q151.76 1072.8 151.76 1079.93 Q151.76 1087.04 153.566 1090.6 Q155.394 1094.14 159.005 1094.14 Q162.64 1094.14 164.445 1090.6 Q166.274 1087.04 166.274 1079.93 Q166.274 1072.8 164.445 1069.26 Q162.64 1065.69 159.005 1065.69 M159.005 1061.99 Q164.815 1061.99 167.871 1066.6 Q170.95 1071.18 170.95 1079.93 Q170.95 1088.66 167.871 1093.26 Q164.815 1097.85 159.005 1097.85 Q153.195 1097.85 150.116 1093.26 Q147.061 1088.66 147.061 1079.93 Q147.061 1071.18 150.116 1066.6 Q153.195 1061.99 159.005 1061.99 Z\" fill=\"#000000\" fill-rule=\"evenodd\" fill-opacity=\"1\" /><path clip-path=\"url(#clip560)\" d=\"M 0 0 M176.019 1091.3 L180.903 1091.3 L180.903 1097.18 L176.019 1097.18 L176.019 1091.3 Z\" fill=\"#000000\" fill-rule=\"evenodd\" fill-opacity=\"1\" /><path clip-path=\"url(#clip560)\" d=\"M 0 0 M186.019 1062.62 L204.375 1062.62 L204.375 1066.55 L190.301 1066.55 L190.301 1075.02 Q191.32 1074.68 192.338 1074.51 Q193.357 1074.33 194.375 1074.33 Q200.162 1074.33 203.542 1077.5 Q206.922 1080.67 206.922 1086.09 Q206.922 1091.67 203.449 1094.77 Q199.977 1097.85 193.658 1097.85 Q191.482 1097.85 189.213 1097.48 Q186.968 1097.11 184.561 1096.37 L184.561 1091.67 Q186.644 1092.8 188.866 1093.36 Q191.088 1093.91 193.565 1093.91 Q197.57 1093.91 199.908 1091.81 Q202.246 1089.7 202.246 1086.09 Q202.246 1082.48 199.908 1080.37 Q197.57 1078.26 193.565 1078.26 Q191.69 1078.26 189.815 1078.68 Q187.963 1079.1 186.019 1079.98 L186.019 1062.62 Z\" fill=\"#000000\" fill-rule=\"evenodd\" fill-opacity=\"1\" /><path clip-path=\"url(#clip560)\" d=\"M 0 0 M158.01 759.148 Q154.399 759.148 152.57 762.713 Q150.765 766.255 150.765 773.384 Q150.765 780.491 152.57 784.055 Q154.399 787.597 158.01 787.597 Q161.644 787.597 163.45 784.055 Q165.278 780.491 165.278 773.384 Q165.278 766.255 163.45 762.713 Q161.644 759.148 158.01 759.148 M158.01 755.445 Q163.82 755.445 166.876 760.051 Q169.954 764.634 169.954 773.384 Q169.954 782.111 166.876 786.717 Q163.82 791.301 158.01 791.301 Q152.2 791.301 149.121 786.717 Q146.066 782.111 146.066 773.384 Q146.066 764.634 149.121 760.051 Q152.2 755.445 158.01 755.445 Z\" fill=\"#000000\" fill-rule=\"evenodd\" fill-opacity=\"1\" /><path clip-path=\"url(#clip560)\" d=\"M 0 0 M175.024 784.75 L179.908 784.75 L179.908 790.63 L175.024 790.63 L175.024 784.75 Z\" fill=\"#000000\" fill-rule=\"evenodd\" fill-opacity=\"1\" /><path clip-path=\"url(#clip560)\" d=\"M 0 0 M194.977 759.148 Q191.366 759.148 189.538 762.713 Q187.732 766.255 187.732 773.384 Q187.732 780.491 189.538 784.055 Q191.366 787.597 194.977 787.597 Q198.612 787.597 200.417 784.055 Q202.246 780.491 202.246 773.384 Q202.246 766.255 200.417 762.713 Q198.612 759.148 194.977 759.148 M194.977 755.445 Q200.787 755.445 203.843 760.051 Q206.922 764.634 206.922 773.384 Q206.922 782.111 203.843 786.717 Q200.787 791.301 194.977 791.301 Q189.167 791.301 186.088 786.717 Q183.033 782.111 183.033 773.384 Q183.033 764.634 186.088 760.051 Q189.167 755.445 194.977 755.445 Z\" fill=\"#000000\" fill-rule=\"evenodd\" fill-opacity=\"1\" /><path clip-path=\"url(#clip560)\" d=\"M 0 0 M159.005 452.602 Q155.394 452.602 153.566 456.166 Q151.76 459.708 151.76 466.838 Q151.76 473.944 153.566 477.509 Q155.394 481.051 159.005 481.051 Q162.64 481.051 164.445 477.509 Q166.274 473.944 166.274 466.838 Q166.274 459.708 164.445 456.166 Q162.64 452.602 159.005 452.602 M159.005 448.898 Q164.815 448.898 167.871 453.504 Q170.95 458.088 170.95 466.838 Q170.95 475.564 167.871 480.171 Q164.815 484.754 159.005 484.754 Q153.195 484.754 150.116 480.171 Q147.061 475.564 147.061 466.838 Q147.061 458.088 150.116 453.504 Q153.195 448.898 159.005 448.898 Z\" fill=\"#000000\" fill-rule=\"evenodd\" fill-opacity=\"1\" /><path clip-path=\"url(#clip560)\" d=\"M 0 0 M176.019 478.203 L180.903 478.203 L180.903 484.083 L176.019 484.083 L176.019 478.203 Z\" fill=\"#000000\" fill-rule=\"evenodd\" fill-opacity=\"1\" /><path clip-path=\"url(#clip560)\" d=\"M 0 0 M186.019 449.523 L204.375 449.523 L204.375 453.458 L190.301 453.458 L190.301 461.93 Q191.32 461.583 192.338 461.421 Q193.357 461.236 194.375 461.236 Q200.162 461.236 203.542 464.407 Q206.922 467.578 206.922 472.995 Q206.922 478.574 203.449 481.676 Q199.977 484.754 193.658 484.754 Q191.482 484.754 189.213 484.384 Q186.968 484.013 184.561 483.273 L184.561 478.574 Q186.644 479.708 188.866 480.263 Q191.088 480.819 193.565 480.819 Q197.57 480.819 199.908 478.713 Q202.246 476.606 202.246 472.995 Q202.246 469.384 199.908 467.277 Q197.57 465.171 193.565 465.171 Q191.69 465.171 189.815 465.588 Q187.963 466.004 186.019 466.884 L186.019 449.523 Z\" fill=\"#000000\" fill-rule=\"evenodd\" fill-opacity=\"1\" /><path clip-path=\"url(#clip560)\" d=\"M 0 0 M150.047 173.601 L157.686 173.601 L157.686 147.236 L149.376 148.902 L149.376 144.643 L157.64 142.976 L162.315 142.976 L162.315 173.601 L169.954 173.601 L169.954 177.536 L150.047 177.536 L150.047 173.601 Z\" fill=\"#000000\" fill-rule=\"evenodd\" fill-opacity=\"1\" /><path clip-path=\"url(#clip560)\" d=\"M 0 0 M175.024 171.657 L179.908 171.657 L179.908 177.536 L175.024 177.536 L175.024 171.657 Z\" fill=\"#000000\" fill-rule=\"evenodd\" fill-opacity=\"1\" /><path clip-path=\"url(#clip560)\" d=\"M 0 0 M194.977 146.055 Q191.366 146.055 189.538 149.62 Q187.732 153.161 187.732 160.291 Q187.732 167.397 189.538 170.962 Q191.366 174.504 194.977 174.504 Q198.612 174.504 200.417 170.962 Q202.246 167.397 202.246 160.291 Q202.246 153.161 200.417 149.62 Q198.612 146.055 194.977 146.055 M194.977 142.351 Q200.787 142.351 203.843 146.958 Q206.922 151.541 206.922 160.291 Q206.922 169.018 203.843 173.624 Q200.787 178.208 194.977 178.208 Q189.167 178.208 186.088 173.624 Q183.033 169.018 183.033 160.291 Q183.033 151.541 186.088 146.958 Q189.167 142.351 194.977 142.351 Z\" fill=\"#000000\" fill-rule=\"evenodd\" fill-opacity=\"1\" /><path clip-path=\"url(#clip560)\" d=\"M 0 0 M91.3143 771.639 Q97.68 774.122 99.6216 776.477 Q101.563 778.832 101.563 782.779 L101.563 787.458 L96.6615 787.458 L96.6615 784.02 Q96.6615 781.601 95.5157 780.265 Q94.3699 778.928 90.1048 777.305 L87.4312 776.254 L52.3562 790.673 L52.3562 784.466 L80.238 773.326 L52.3562 762.186 L52.3562 755.979 L91.3143 771.639 Z\" fill=\"#000000\" fill-rule=\"evenodd\" fill-opacity=\"1\" /><path clip-path=\"url(#clip560)\" d=\"M 0 0 M1099.77 28.5427 L1099.77 35.5912 Q1096.61 33.9709 1093.21 33.1607 Q1089.8 32.3505 1086.16 32.3505 Q1080.61 32.3505 1077.81 34.0519 Q1075.06 35.7533 1075.06 39.156 Q1075.06 41.7486 1077.04 43.2475 Q1079.03 44.7058 1085.02 46.0426 L1087.58 46.6097 Q1095.52 48.3111 1098.84 51.4303 Q1102.2 54.509 1102.2 60.0587 Q1102.2 66.3781 1097.18 70.0644 Q1092.19 73.7508 1083.44 73.7508 Q1079.8 73.7508 1075.83 73.0216 Q1071.9 72.3329 1067.52 70.9151 L1067.52 63.2184 Q1071.66 65.3654 1075.67 66.4591 Q1079.68 67.5124 1083.61 67.5124 Q1088.87 67.5124 1091.71 65.73 Q1094.54 63.9071 1094.54 60.6258 Q1094.54 57.5877 1092.48 55.9673 Q1090.45 54.3469 1083.53 52.8481 L1080.93 52.2405 Q1074.01 50.7821 1070.93 47.7845 Q1067.85 44.7463 1067.85 39.4801 Q1067.85 33.0797 1072.39 29.5959 Q1076.92 26.1121 1085.27 26.1121 Q1089.4 26.1121 1093.05 26.7198 Q1096.69 27.3274 1099.77 28.5427 Z\" fill=\"#000000\" fill-rule=\"evenodd\" fill-opacity=\"1\" /><path clip-path=\"url(#clip560)\" d=\"M 0 0 M1110.02 27.2059 L1117.47 27.2059 L1117.47 72.576 L1110.02 72.576 L1110.02 27.2059 M1110.02 9.54393 L1117.47 9.54393 L1117.47 18.9825 L1110.02 18.9825 L1110.02 9.54393 Z\" fill=\"#000000\" fill-rule=\"evenodd\" fill-opacity=\"1\" /><path clip-path=\"url(#clip560)\" d=\"M 0 0 M1163 45.1919 L1163 72.576 L1155.55 72.576 L1155.55 45.4349 Q1155.55 38.994 1153.04 35.7938 Q1150.53 32.5936 1145.5 32.5936 Q1139.47 32.5936 1135.98 36.4419 Q1132.5 40.2903 1132.5 46.9338 L1132.5 72.576 L1125.01 72.576 L1125.01 27.2059 L1132.5 27.2059 L1132.5 34.2544 Q1135.17 30.163 1138.78 28.1376 Q1142.43 26.1121 1147.17 26.1121 Q1154.98 26.1121 1158.99 30.9732 Q1163 35.7938 1163 45.1919 Z\" fill=\"#000000\" fill-rule=\"evenodd\" fill-opacity=\"1\" /><path clip-path=\"url(#clip560)\" d=\"M 0 0 M1217.81 49.7694 Q1208.78 49.7694 1205.3 51.8354 Q1201.81 53.9013 1201.81 58.8839 Q1201.81 62.8538 1204.4 65.2034 Q1207.04 67.5124 1211.53 67.5124 Q1217.73 67.5124 1221.46 63.1374 Q1225.23 58.7219 1225.23 51.4303 L1225.23 49.7694 L1217.81 49.7694 M1232.68 46.6907 L1232.68 72.576 L1225.23 72.576 L1225.23 65.6895 Q1222.67 69.8214 1218.87 71.8063 Q1215.06 73.7508 1209.55 73.7508 Q1202.58 73.7508 1198.45 69.8619 Q1194.36 65.9325 1194.36 59.3701 Q1194.36 51.7138 1199.46 47.825 Q1204.61 43.9361 1214.78 43.9361 L1225.23 43.9361 L1225.23 43.2069 Q1225.23 38.0623 1221.82 35.2672 Q1218.46 32.4315 1212.34 32.4315 Q1208.46 32.4315 1204.77 33.3632 Q1201.08 34.295 1197.68 36.1584 L1197.68 29.2718 Q1201.77 27.692 1205.62 26.9223 Q1209.47 26.1121 1213.11 26.1121 Q1222.96 26.1121 1227.82 31.2163 Q1232.68 36.3204 1232.68 46.6907 Z\" fill=\"#000000\" fill-rule=\"evenodd\" fill-opacity=\"1\" /><path clip-path=\"url(#clip560)\" d=\"M 0 0 M1278.21 45.1919 L1278.21 72.576 L1270.76 72.576 L1270.76 45.4349 Q1270.76 38.994 1268.25 35.7938 Q1265.74 32.5936 1260.71 32.5936 Q1254.68 32.5936 1251.19 36.4419 Q1247.71 40.2903 1247.71 46.9338 L1247.71 72.576 L1240.21 72.576 L1240.21 27.2059 L1247.71 27.2059 L1247.71 34.2544 Q1250.38 30.163 1253.99 28.1376 Q1257.63 26.1121 1262.37 26.1121 Q1270.19 26.1121 1274.2 30.9732 Q1278.21 35.7938 1278.21 45.1919 Z\" fill=\"#000000\" fill-rule=\"evenodd\" fill-opacity=\"1\" /><path clip-path=\"url(#clip560)\" d=\"M 0 0 M1315.89 34.0924 L1315.89 9.54393 L1323.34 9.54393 L1323.34 72.576 L1315.89 72.576 L1315.89 65.7705 Q1313.54 69.8214 1309.93 71.8063 Q1306.37 73.7508 1301.34 73.7508 Q1293.12 73.7508 1287.93 67.1883 Q1282.79 60.6258 1282.79 49.9314 Q1282.79 39.2371 1287.93 32.6746 Q1293.12 26.1121 1301.34 26.1121 Q1306.37 26.1121 1309.93 28.0971 Q1313.54 30.0415 1315.89 34.0924 M1290.49 49.9314 Q1290.49 58.1548 1293.85 62.8538 Q1297.25 67.5124 1303.17 67.5124 Q1309.08 67.5124 1312.48 62.8538 Q1315.89 58.1548 1315.89 49.9314 Q1315.89 41.7081 1312.48 37.0496 Q1309.08 32.3505 1303.17 32.3505 Q1297.25 32.3505 1293.85 37.0496 Q1290.49 41.7081 1290.49 49.9314 Z\" fill=\"#000000\" fill-rule=\"evenodd\" fill-opacity=\"1\" /><path clip-path=\"url(#clip560)\" d=\"M 0 0 M1390.18 28.9478 L1390.18 35.9153 Q1387.02 34.1734 1383.82 33.3227 Q1380.66 32.4315 1377.42 32.4315 Q1370.17 32.4315 1366.16 37.0496 Q1362.15 41.6271 1362.15 49.9314 Q1362.15 58.2358 1366.16 62.8538 Q1370.17 67.4314 1377.42 67.4314 Q1380.66 67.4314 1383.82 66.5807 Q1387.02 65.6895 1390.18 63.9476 L1390.18 70.8341 Q1387.06 72.2924 1383.7 73.0216 Q1380.38 73.7508 1376.61 73.7508 Q1366.36 73.7508 1360.32 67.3098 Q1354.29 60.8689 1354.29 49.9314 Q1354.29 38.832 1360.36 32.472 Q1366.48 26.1121 1377.09 26.1121 Q1380.54 26.1121 1383.82 26.8413 Q1387.1 27.5299 1390.18 28.9478 Z\" fill=\"#000000\" fill-rule=\"evenodd\" fill-opacity=\"1\" /><path clip-path=\"url(#clip560)\" d=\"M 0 0 M1415.58 32.4315 Q1409.58 32.4315 1406.1 37.1306 Q1402.62 41.7891 1402.62 49.9314 Q1402.62 58.0738 1406.06 62.7728 Q1409.54 67.4314 1415.58 67.4314 Q1421.53 67.4314 1425.02 62.7323 Q1428.5 58.0333 1428.5 49.9314 Q1428.5 41.8701 1425.02 37.1711 Q1421.53 32.4315 1415.58 32.4315 M1415.58 26.1121 Q1425.3 26.1121 1430.85 32.4315 Q1436.4 38.7509 1436.4 49.9314 Q1436.4 61.0714 1430.85 67.4314 Q1425.3 73.7508 1415.58 73.7508 Q1405.82 73.7508 1400.27 67.4314 Q1394.76 61.0714 1394.76 49.9314 Q1394.76 38.7509 1400.27 32.4315 Q1405.82 26.1121 1415.58 26.1121 Z\" fill=\"#000000\" fill-rule=\"evenodd\" fill-opacity=\"1\" /><path clip-path=\"url(#clip560)\" d=\"M 0 0 M1474.07 34.0924 L1474.07 9.54393 L1481.53 9.54393 L1481.53 72.576 L1474.07 72.576 L1474.07 65.7705 Q1471.72 69.8214 1468.12 71.8063 Q1464.55 73.7508 1459.53 73.7508 Q1451.31 73.7508 1446.12 67.1883 Q1440.98 60.6258 1440.98 49.9314 Q1440.98 39.2371 1446.12 32.6746 Q1451.31 26.1121 1459.53 26.1121 Q1464.55 26.1121 1468.12 28.0971 Q1471.72 30.0415 1474.07 34.0924 M1448.67 49.9314 Q1448.67 58.1548 1452.04 62.8538 Q1455.44 67.5124 1461.35 67.5124 Q1467.27 67.5124 1470.67 62.8538 Q1474.07 58.1548 1474.07 49.9314 Q1474.07 41.7081 1470.67 37.0496 Q1467.27 32.3505 1461.35 32.3505 Q1455.44 32.3505 1452.04 37.0496 Q1448.67 41.7081 1448.67 49.9314 Z\" fill=\"#000000\" fill-rule=\"evenodd\" fill-opacity=\"1\" /><path clip-path=\"url(#clip560)\" d=\"M 0 0 M1528.15 48.0275 L1528.15 51.6733 L1493.88 51.6733 Q1494.37 59.3701 1498.5 63.421 Q1502.67 67.4314 1510.09 67.4314 Q1514.38 67.4314 1518.39 66.3781 Q1522.44 65.3249 1526.41 63.2184 L1526.41 70.267 Q1522.4 71.9684 1518.19 72.8596 Q1513.97 73.7508 1509.64 73.7508 Q1498.78 73.7508 1492.42 67.4314 Q1486.1 61.1119 1486.1 50.3365 Q1486.1 39.1965 1492.1 32.6746 Q1498.14 26.1121 1508.34 26.1121 Q1517.5 26.1121 1522.81 32.0264 Q1528.15 37.9003 1528.15 48.0275 M1520.7 45.84 Q1520.62 39.7232 1517.26 36.0774 Q1513.93 32.4315 1508.43 32.4315 Q1502.19 32.4315 1498.42 35.9558 Q1494.69 39.4801 1494.13 45.8805 L1520.7 45.84 Z\" fill=\"#000000\" fill-rule=\"evenodd\" fill-opacity=\"1\" /><polyline clip-path=\"url(#clip562)\" style=\"stroke:#009af9; stroke-width:8; stroke-opacity:1; fill:none\" points=\"\n",
       "  302.634,773.35 334.737,712.142 366.841,651.547 398.944,592.168 431.048,534.6 463.151,479.417 495.254,427.171 527.358,378.384 559.461,333.543 591.564,293.097 \n",
       "  623.668,257.449 655.771,226.956 687.875,201.923 719.978,182.599 752.081,169.177 784.185,161.792 816.288,160.518 848.391,165.367 880.495,176.29 912.598,193.179 \n",
       "  944.702,215.865 976.805,244.122 1008.91,277.666 1041.01,316.163 1073.12,359.228 1105.22,406.43 1137.32,457.299 1169.43,511.326 1201.53,567.971 1233.63,626.667 \n",
       "  1265.74,686.83 1297.84,747.857 1329.94,809.138 1362.05,870.062 1394.15,930.02 1426.25,988.412 1458.36,1044.66 1490.46,1098.19 1522.56,1148.48 1554.67,1195.01 \n",
       "  1586.77,1237.34 1618.87,1275.03 1650.98,1307.71 1683.08,1335.04 1715.18,1356.77 1747.29,1372.67 1779.39,1382.57 1811.49,1386.4 1843.6,1384.09 1875.7,1375.68 \n",
       "  1907.8,1361.26 1939.91,1340.96 1972.01,1314.99 2004.11,1283.61 2036.22,1247.13 2068.32,1205.91 2100.42,1160.37 2132.53,1110.97 2164.63,1058.19 2196.73,1002.57 \n",
       "  2228.84,944.657 2260.94,885.032 2293.04,824.291 \n",
       "  \"/>\n",
       "<polyline clip-path=\"url(#clip562)\" style=\"stroke:#e26f46; stroke-width:8; stroke-opacity:1; fill:none\" points=\"\n",
       "  302.634,160.256 334.737,163.319 366.841,172.477 398.944,187.639 431.048,208.653 463.151,235.31 495.254,267.342 527.358,304.43 559.461,346.203 591.564,392.245 \n",
       "  623.668,442.094 655.771,495.253 687.875,551.19 719.978,609.348 752.081,669.144 784.185,729.981 816.288,791.252 848.391,852.343 880.495,912.646 912.598,971.556 \n",
       "  944.702,1028.49 976.805,1082.87 1008.91,1134.16 1041.01,1181.84 1073.12,1225.44 1105.22,1264.53 1137.32,1298.7 1169.43,1327.63 1201.53,1351.02 1233.63,1368.64 \n",
       "  1265.74,1380.31 1297.84,1385.91 1329.94,1385.4 1362.05,1378.77 1394.15,1366.09 1426.25,1347.48 1458.36,1323.15 1490.46,1293.31 1522.56,1258.29 1554.67,1218.41 \n",
       "  1586.77,1174.09 1618.87,1125.77 1650.98,1073.93 1683.08,1019.08 1715.18,961.773 1747.29,902.587 1779.39,842.109 1811.49,780.945 1843.6,719.704 1875.7,659 \n",
       "  1907.8,599.438 1939.91,541.614 1972.01,486.105 2004.11,433.466 2036.22,384.224 2068.32,338.869 2100.42,297.855 2132.53,261.593 2164.63,230.444 2196.73,204.719 \n",
       "  2228.84,184.676 2260.94,170.514 2293.04,162.376 \n",
       "  \"/>\n",
       "<path clip-path=\"url(#clip560)\" d=\"\n",
       "M1978.7 348.236 L2282.43 348.236 L2282.43 166.796 L1978.7 166.796  Z\n",
       "  \" fill=\"#ffffff\" fill-rule=\"evenodd\" fill-opacity=\"1\"/>\n",
       "<polyline clip-path=\"url(#clip560)\" style=\"stroke:#000000; stroke-width:4; stroke-opacity:1; fill:none\" points=\"\n",
       "  1978.7,348.236 2282.43,348.236 2282.43,166.796 1978.7,166.796 1978.7,348.236 \n",
       "  \"/>\n",
       "<polyline clip-path=\"url(#clip560)\" style=\"stroke:#009af9; stroke-width:4; stroke-opacity:1; fill:none\" points=\"\n",
       "  2002.14,227.276 2142.8,227.276 \n",
       "  \"/>\n",
       "<path clip-path=\"url(#clip560)\" d=\"M 0 0 M2184.66 219.394 L2184.66 223.422 Q2182.86 222.496 2180.91 222.033 Q2178.97 221.57 2176.89 221.57 Q2173.71 221.57 2172.12 222.542 Q2170.54 223.514 2170.54 225.459 Q2170.54 226.94 2171.68 227.797 Q2172.81 228.63 2176.24 229.394 L2177.7 229.718 Q2182.23 230.69 2184.13 232.472 Q2186.05 234.232 2186.05 237.403 Q2186.05 241.014 2183.18 243.121 Q2180.33 245.227 2175.33 245.227 Q2173.25 245.227 2170.98 244.81 Q2168.74 244.417 2166.24 243.607 L2166.24 239.209 Q2168.6 240.435 2170.89 241.06 Q2173.18 241.662 2175.43 241.662 Q2178.44 241.662 2180.06 240.644 Q2181.68 239.602 2181.68 237.727 Q2181.68 235.991 2180.5 235.065 Q2179.34 234.139 2175.38 233.283 L2173.9 232.935 Q2169.94 232.102 2168.18 230.389 Q2166.42 228.653 2166.42 225.644 Q2166.42 221.986 2169.02 219.996 Q2171.61 218.005 2176.38 218.005 Q2178.74 218.005 2180.82 218.352 Q2182.9 218.699 2184.66 219.394 Z\" fill=\"#000000\" fill-rule=\"evenodd\" fill-opacity=\"1\" /><path clip-path=\"url(#clip560)\" d=\"M 0 0 M2190.52 218.63 L2194.78 218.63 L2194.78 244.556 L2190.52 244.556 L2190.52 218.63 M2190.52 208.537 L2194.78 208.537 L2194.78 213.931 L2190.52 213.931 L2190.52 208.537 Z\" fill=\"#000000\" fill-rule=\"evenodd\" fill-opacity=\"1\" /><path clip-path=\"url(#clip560)\" d=\"M 0 0 M2220.8 228.908 L2220.8 244.556 L2216.54 244.556 L2216.54 229.047 Q2216.54 225.366 2215.1 223.537 Q2213.67 221.709 2210.8 221.709 Q2207.35 221.709 2205.36 223.908 Q2203.37 226.107 2203.37 229.903 L2203.37 244.556 L2199.08 244.556 L2199.08 218.63 L2203.37 218.63 L2203.37 222.658 Q2204.89 220.32 2206.96 219.162 Q2209.04 218.005 2211.75 218.005 Q2216.21 218.005 2218.51 220.783 Q2220.8 223.537 2220.8 228.908 Z\" fill=\"#000000\" fill-rule=\"evenodd\" fill-opacity=\"1\" /><polyline clip-path=\"url(#clip560)\" style=\"stroke:#e26f46; stroke-width:4; stroke-opacity:1; fill:none\" points=\"\n",
       "  2002.14,287.756 2142.8,287.756 \n",
       "  \"/>\n",
       "<path clip-path=\"url(#clip560)\" d=\"M 0 0 M2186.75 280.105 L2186.75 284.087 Q2184.94 283.091 2183.11 282.605 Q2181.31 282.096 2179.46 282.096 Q2175.31 282.096 2173.02 284.735 Q2170.73 287.351 2170.73 292.096 Q2170.73 296.841 2173.02 299.48 Q2175.31 302.096 2179.46 302.096 Q2181.31 302.096 2183.11 301.61 Q2184.94 301.101 2186.75 300.105 L2186.75 304.04 Q2184.96 304.874 2183.04 305.29 Q2181.15 305.707 2178.99 305.707 Q2173.14 305.707 2169.69 302.026 Q2166.24 298.346 2166.24 292.096 Q2166.24 285.753 2169.71 282.119 Q2173.21 278.485 2179.27 278.485 Q2181.24 278.485 2183.11 278.902 Q2184.99 279.295 2186.75 280.105 Z\" fill=\"#000000\" fill-rule=\"evenodd\" fill-opacity=\"1\" /><path clip-path=\"url(#clip560)\" d=\"M 0 0 M2201.26 282.096 Q2197.83 282.096 2195.84 284.781 Q2193.85 287.443 2193.85 292.096 Q2193.85 296.749 2195.82 299.434 Q2197.81 302.096 2201.26 302.096 Q2204.66 302.096 2206.65 299.411 Q2208.64 296.726 2208.64 292.096 Q2208.64 287.49 2206.65 284.804 Q2204.66 282.096 2201.26 282.096 M2201.26 278.485 Q2206.82 278.485 2209.99 282.096 Q2213.16 285.707 2213.16 292.096 Q2213.16 298.462 2209.99 302.096 Q2206.82 305.707 2201.26 305.707 Q2195.68 305.707 2192.51 302.096 Q2189.36 298.462 2189.36 292.096 Q2189.36 285.707 2192.51 282.096 Q2195.68 278.485 2201.26 278.485 Z\" fill=\"#000000\" fill-rule=\"evenodd\" fill-opacity=\"1\" /><path clip-path=\"url(#clip560)\" d=\"M 0 0 M2234.15 279.874 L2234.15 283.902 Q2232.35 282.976 2230.4 282.513 Q2228.46 282.05 2226.38 282.05 Q2223.2 282.05 2221.61 283.022 Q2220.03 283.994 2220.03 285.939 Q2220.03 287.42 2221.17 288.277 Q2222.3 289.11 2225.73 289.874 L2227.19 290.198 Q2231.72 291.17 2233.62 292.952 Q2235.54 294.712 2235.54 297.883 Q2235.54 301.494 2232.67 303.601 Q2229.83 305.707 2224.83 305.707 Q2222.74 305.707 2220.47 305.29 Q2218.23 304.897 2215.73 304.087 L2215.73 299.689 Q2218.09 300.915 2220.38 301.54 Q2222.67 302.142 2224.92 302.142 Q2227.93 302.142 2229.55 301.124 Q2231.17 300.082 2231.17 298.207 Q2231.17 296.471 2229.99 295.545 Q2228.83 294.619 2224.87 293.763 L2223.39 293.415 Q2219.43 292.582 2217.67 290.869 Q2215.91 289.133 2215.91 286.124 Q2215.91 282.466 2218.51 280.476 Q2221.1 278.485 2225.87 278.485 Q2228.23 278.485 2230.31 278.832 Q2232.39 279.179 2234.15 279.874 Z\" fill=\"#000000\" fill-rule=\"evenodd\" fill-opacity=\"1\" /></svg>\n"
      ]
     },
     "execution_count": 63,
     "metadata": {},
     "output_type": "execute_result"
    }
   ],
   "source": [
    "plot([sin,cos],0:0.1:2π,label=[\"sin\" \"cos\"],xlabel=\"x\",ylabel=\"y\",lw=2,title=\"sin and code\")"
   ]
  },
  {
   "cell_type": "code",
   "execution_count": 68,
   "metadata": {},
   "outputs": [
    {
     "data": {
      "text/plain": [
       "17×2 Array{Float64,2}:\n",
       " 194.5  20.79\n",
       " 194.3  20.79\n",
       " 197.9  22.4\n",
       " 198.4  22.67\n",
       " 199.4  23.15\n",
       " 199.9  23.35\n",
       " 200.9  23.89\n",
       " 201.1  23.99\n",
       " 201.4  24.02\n",
       " 201.3  24.01\n",
       " 203.6  25.14\n",
       " 204.6  26.57\n",
       " 209.5  28.49\n",
       " 208.6  27.76\n",
       " 210.7  29.04\n",
       " 211.9  29.88\n",
       " 212.2  30.06"
      ]
     },
     "execution_count": 68,
     "metadata": {},
     "output_type": "execute_result"
    }
   ],
   "source": [
    "B = readdlm(\"./data/forbes.txt\",' ',Float64,'\\n')"
   ]
  },
  {
   "cell_type": "code",
   "execution_count": 70,
   "metadata": {},
   "outputs": [
    {
     "data": {
      "text/plain": [
       "17-element Array{Float64,1}:\n",
       " 194.5\n",
       " 194.3\n",
       " 197.9\n",
       " 198.4\n",
       " 199.4\n",
       " 199.9\n",
       " 200.9\n",
       " 201.1\n",
       " 201.4\n",
       " 201.3\n",
       " 203.6\n",
       " 204.6\n",
       " 209.5\n",
       " 208.6\n",
       " 210.7\n",
       " 211.9\n",
       " 212.2"
      ]
     },
     "execution_count": 70,
     "metadata": {},
     "output_type": "execute_result"
    }
   ],
   "source": [
    "temp = B[:,1]"
   ]
  },
  {
   "cell_type": "code",
   "execution_count": 71,
   "metadata": {},
   "outputs": [
    {
     "data": {
      "text/plain": [
       "17-element Array{Float64,1}:\n",
       " 20.79\n",
       " 20.79\n",
       " 22.4\n",
       " 22.67\n",
       " 23.15\n",
       " 23.35\n",
       " 23.89\n",
       " 23.99\n",
       " 24.02\n",
       " 24.01\n",
       " 25.14\n",
       " 26.57\n",
       " 28.49\n",
       " 27.76\n",
       " 29.04\n",
       " 29.88\n",
       " 30.06"
      ]
     },
     "execution_count": 71,
     "metadata": {},
     "output_type": "execute_result"
    }
   ],
   "source": [
    "pressure = B[:,2]"
   ]
  },
  {
   "cell_type": "code",
   "execution_count": 80,
   "metadata": {},
   "outputs": [
    {
     "data": {
      "image/svg+xml": [
       "<?xml version=\"1.0\" encoding=\"utf-8\"?>\n",
       "<svg xmlns=\"http://www.w3.org/2000/svg\" xmlns:xlink=\"http://www.w3.org/1999/xlink\" width=\"600\" height=\"400\" viewBox=\"0 0 2400 1600\">\n",
       "<defs>\n",
       "  <clipPath id=\"clip840\">\n",
       "    <rect x=\"0\" y=\"0\" width=\"2400\" height=\"1600\"/>\n",
       "  </clipPath>\n",
       "</defs>\n",
       "<path clip-path=\"url(#clip840)\" d=\"\n",
       "M0 1600 L2400 1600 L2400 0 L0 0  Z\n",
       "  \" fill=\"#ffffff\" fill-rule=\"evenodd\" fill-opacity=\"1\"/>\n",
       "<defs>\n",
       "  <clipPath id=\"clip841\">\n",
       "    <rect x=\"480\" y=\"0\" width=\"1681\" height=\"1600\"/>\n",
       "  </clipPath>\n",
       "</defs>\n",
       "<path clip-path=\"url(#clip840)\" d=\"\n",
       "M200.028 1423.18 L2352.76 1423.18 L2352.76 47.2441 L200.028 47.2441  Z\n",
       "  \" fill=\"#ffffff\" fill-rule=\"evenodd\" fill-opacity=\"1\"/>\n",
       "<defs>\n",
       "  <clipPath id=\"clip842\">\n",
       "    <rect x=\"200\" y=\"47\" width=\"2154\" height=\"1377\"/>\n",
       "  </clipPath>\n",
       "</defs>\n",
       "<polyline clip-path=\"url(#clip842)\" style=\"stroke:#000000; stroke-width:2; stroke-opacity:0.1; fill:none\" points=\"\n",
       "  340.374,1423.18 340.374,47.2441 \n",
       "  \"/>\n",
       "<polyline clip-path=\"url(#clip842)\" style=\"stroke:#000000; stroke-width:2; stroke-opacity:0.1; fill:none\" points=\"\n",
       "  907.658,1423.18 907.658,47.2441 \n",
       "  \"/>\n",
       "<polyline clip-path=\"url(#clip842)\" style=\"stroke:#000000; stroke-width:2; stroke-opacity:0.1; fill:none\" points=\"\n",
       "  1474.94,1423.18 1474.94,47.2441 \n",
       "  \"/>\n",
       "<polyline clip-path=\"url(#clip842)\" style=\"stroke:#000000; stroke-width:2; stroke-opacity:0.1; fill:none\" points=\"\n",
       "  2042.22,1423.18 2042.22,47.2441 \n",
       "  \"/>\n",
       "<polyline clip-path=\"url(#clip840)\" style=\"stroke:#000000; stroke-width:4; stroke-opacity:1; fill:none\" points=\"\n",
       "  200.028,1423.18 2352.76,1423.18 \n",
       "  \"/>\n",
       "<polyline clip-path=\"url(#clip840)\" style=\"stroke:#000000; stroke-width:4; stroke-opacity:1; fill:none\" points=\"\n",
       "  340.374,1423.18 340.374,1406.67 \n",
       "  \"/>\n",
       "<polyline clip-path=\"url(#clip840)\" style=\"stroke:#000000; stroke-width:4; stroke-opacity:1; fill:none\" points=\"\n",
       "  907.658,1423.18 907.658,1406.67 \n",
       "  \"/>\n",
       "<polyline clip-path=\"url(#clip840)\" style=\"stroke:#000000; stroke-width:4; stroke-opacity:1; fill:none\" points=\"\n",
       "  1474.94,1423.18 1474.94,1406.67 \n",
       "  \"/>\n",
       "<polyline clip-path=\"url(#clip840)\" style=\"stroke:#000000; stroke-width:4; stroke-opacity:1; fill:none\" points=\"\n",
       "  2042.22,1423.18 2042.22,1406.67 \n",
       "  \"/>\n",
       "<path clip-path=\"url(#clip840)\" d=\"M 0 0 M304.333 1479.92 L311.972 1479.92 L311.972 1453.55 L303.662 1455.22 L303.662 1450.96 L311.925 1449.29 L316.601 1449.29 L316.601 1479.92 L324.24 1479.92 L324.24 1483.85 L304.333 1483.85 L304.333 1479.92 Z\" fill=\"#000000\" fill-rule=\"evenodd\" fill-opacity=\"1\" /><path clip-path=\"url(#clip840)\" d=\"M 0 0 M329.448 1483.13 L329.448 1478.88 Q331.208 1479.71 333.013 1480.15 Q334.819 1480.59 336.555 1480.59 Q341.185 1480.59 343.615 1477.49 Q346.069 1474.36 346.416 1468.02 Q345.073 1470.01 343.013 1471.07 Q340.953 1472.14 338.453 1472.14 Q333.268 1472.14 330.236 1469.01 Q327.226 1465.87 327.226 1460.43 Q327.226 1455.1 330.374 1451.88 Q333.523 1448.67 338.754 1448.67 Q344.749 1448.67 347.897 1453.27 Q351.069 1457.86 351.069 1466.61 Q351.069 1474.78 347.18 1479.66 Q343.314 1484.52 336.763 1484.52 Q335.004 1484.52 333.198 1484.18 Q331.393 1483.83 329.448 1483.13 M338.754 1468.48 Q341.902 1468.48 343.731 1466.33 Q345.583 1464.18 345.583 1460.43 Q345.583 1456.7 343.731 1454.55 Q341.902 1452.37 338.754 1452.37 Q335.606 1452.37 333.754 1454.55 Q331.925 1456.7 331.925 1460.43 Q331.925 1464.18 333.754 1466.33 Q335.606 1468.48 338.754 1468.48 Z\" fill=\"#000000\" fill-rule=\"evenodd\" fill-opacity=\"1\" /><path clip-path=\"url(#clip840)\" d=\"M 0 0 M356.184 1449.29 L374.541 1449.29 L374.541 1453.23 L360.467 1453.23 L360.467 1461.7 Q361.485 1461.35 362.504 1461.19 Q363.522 1461 364.541 1461 Q370.328 1461 373.708 1464.18 Q377.087 1467.35 377.087 1472.76 Q377.087 1478.34 373.615 1481.44 Q370.143 1484.52 363.823 1484.52 Q361.647 1484.52 359.379 1484.15 Q357.134 1483.78 354.726 1483.04 L354.726 1478.34 Q356.809 1479.48 359.032 1480.03 Q361.254 1480.59 363.731 1480.59 Q367.735 1480.59 370.073 1478.48 Q372.411 1476.38 372.411 1472.76 Q372.411 1469.15 370.073 1467.05 Q367.735 1464.94 363.731 1464.94 Q361.856 1464.94 359.981 1465.36 Q358.129 1465.77 356.184 1466.65 L356.184 1449.29 Z\" fill=\"#000000\" fill-rule=\"evenodd\" fill-opacity=\"1\" /><path clip-path=\"url(#clip840)\" d=\"M 0 0 M875.297 1479.92 L891.616 1479.92 L891.616 1483.85 L869.672 1483.85 L869.672 1479.92 Q872.334 1477.16 876.917 1472.53 Q881.524 1467.88 882.704 1466.54 Q884.95 1464.01 885.829 1462.28 Q886.732 1460.52 886.732 1458.83 Q886.732 1456.07 884.788 1454.34 Q882.866 1452.6 879.765 1452.6 Q877.565 1452.6 875.112 1453.37 Q872.681 1454.13 869.903 1455.68 L869.903 1450.96 Q872.728 1449.82 875.181 1449.25 Q877.635 1448.67 879.672 1448.67 Q885.042 1448.67 888.237 1451.35 Q891.431 1454.04 891.431 1458.53 Q891.431 1460.66 890.621 1462.58 Q889.834 1464.48 887.727 1467.07 Q887.149 1467.74 884.047 1470.96 Q880.945 1474.15 875.297 1479.92 Z\" fill=\"#000000\" fill-rule=\"evenodd\" fill-opacity=\"1\" /><path clip-path=\"url(#clip840)\" d=\"M 0 0 M906.686 1452.37 Q903.075 1452.37 901.246 1455.94 Q899.44 1459.48 899.44 1466.61 Q899.44 1473.71 901.246 1477.28 Q903.075 1480.82 906.686 1480.82 Q910.32 1480.82 912.125 1477.28 Q913.954 1473.71 913.954 1466.61 Q913.954 1459.48 912.125 1455.94 Q910.32 1452.37 906.686 1452.37 M906.686 1448.67 Q912.496 1448.67 915.551 1453.27 Q918.63 1457.86 918.63 1466.61 Q918.63 1475.33 915.551 1479.94 Q912.496 1484.52 906.686 1484.52 Q900.875 1484.52 897.797 1479.94 Q894.741 1475.33 894.741 1466.61 Q894.741 1457.86 897.797 1453.27 Q900.875 1448.67 906.686 1448.67 Z\" fill=\"#000000\" fill-rule=\"evenodd\" fill-opacity=\"1\" /><path clip-path=\"url(#clip840)\" d=\"M 0 0 M933.699 1452.37 Q930.088 1452.37 928.26 1455.94 Q926.454 1459.48 926.454 1466.61 Q926.454 1473.71 928.26 1477.28 Q930.088 1480.82 933.699 1480.82 Q937.334 1480.82 939.139 1477.28 Q940.968 1473.71 940.968 1466.61 Q940.968 1459.48 939.139 1455.94 Q937.334 1452.37 933.699 1452.37 M933.699 1448.67 Q939.51 1448.67 942.565 1453.27 Q945.644 1457.86 945.644 1466.61 Q945.644 1475.33 942.565 1479.94 Q939.51 1484.52 933.699 1484.52 Q927.889 1484.52 924.811 1479.94 Q921.755 1475.33 921.755 1466.61 Q921.755 1457.86 924.811 1453.27 Q927.889 1448.67 933.699 1448.67 Z\" fill=\"#000000\" fill-rule=\"evenodd\" fill-opacity=\"1\" /><path clip-path=\"url(#clip840)\" d=\"M 0 0 M1443.08 1479.92 L1459.4 1479.92 L1459.4 1483.85 L1437.45 1483.85 L1437.45 1479.92 Q1440.12 1477.16 1444.7 1472.53 Q1449.3 1467.88 1450.49 1466.54 Q1452.73 1464.01 1453.61 1462.28 Q1454.51 1460.52 1454.51 1458.83 Q1454.51 1456.07 1452.57 1454.34 Q1450.65 1452.6 1447.55 1452.6 Q1445.35 1452.6 1442.89 1453.37 Q1440.46 1454.13 1437.68 1455.68 L1437.68 1450.96 Q1440.51 1449.82 1442.96 1449.25 Q1445.42 1448.67 1447.45 1448.67 Q1452.82 1448.67 1456.02 1451.35 Q1459.21 1454.04 1459.21 1458.53 Q1459.21 1460.66 1458.4 1462.58 Q1457.62 1464.48 1455.51 1467.07 Q1454.93 1467.74 1451.83 1470.96 Q1448.73 1474.15 1443.08 1479.92 Z\" fill=\"#000000\" fill-rule=\"evenodd\" fill-opacity=\"1\" /><path clip-path=\"url(#clip840)\" d=\"M 0 0 M1474.47 1452.37 Q1470.86 1452.37 1469.03 1455.94 Q1467.22 1459.48 1467.22 1466.61 Q1467.22 1473.71 1469.03 1477.28 Q1470.86 1480.82 1474.47 1480.82 Q1478.1 1480.82 1479.91 1477.28 Q1481.74 1473.71 1481.74 1466.61 Q1481.74 1459.48 1479.91 1455.94 Q1478.1 1452.37 1474.47 1452.37 M1474.47 1448.67 Q1480.28 1448.67 1483.33 1453.27 Q1486.41 1457.86 1486.41 1466.61 Q1486.41 1475.33 1483.33 1479.94 Q1480.28 1484.52 1474.47 1484.52 Q1468.66 1484.52 1465.58 1479.94 Q1462.52 1475.33 1462.52 1466.61 Q1462.52 1457.86 1465.58 1453.27 Q1468.66 1448.67 1474.47 1448.67 Z\" fill=\"#000000\" fill-rule=\"evenodd\" fill-opacity=\"1\" /><path clip-path=\"url(#clip840)\" d=\"M 0 0 M1491.53 1449.29 L1509.88 1449.29 L1509.88 1453.23 L1495.81 1453.23 L1495.81 1461.7 Q1496.83 1461.35 1497.85 1461.19 Q1498.86 1461 1499.88 1461 Q1505.67 1461 1509.05 1464.18 Q1512.43 1467.35 1512.43 1472.76 Q1512.43 1478.34 1508.96 1481.44 Q1505.49 1484.52 1499.17 1484.52 Q1496.99 1484.52 1494.72 1484.15 Q1492.48 1483.78 1490.07 1483.04 L1490.07 1478.34 Q1492.15 1479.48 1494.37 1480.03 Q1496.6 1480.59 1499.07 1480.59 Q1503.08 1480.59 1505.42 1478.48 Q1507.75 1476.38 1507.75 1472.76 Q1507.75 1469.15 1505.42 1467.05 Q1503.08 1464.94 1499.07 1464.94 Q1497.2 1464.94 1495.32 1465.36 Q1493.47 1465.77 1491.53 1466.65 L1491.53 1449.29 Z\" fill=\"#000000\" fill-rule=\"evenodd\" fill-opacity=\"1\" /><path clip-path=\"url(#clip840)\" d=\"M 0 0 M2010.48 1479.92 L2026.8 1479.92 L2026.8 1483.85 L2004.85 1483.85 L2004.85 1479.92 Q2007.51 1477.16 2012.1 1472.53 Q2016.7 1467.88 2017.88 1466.54 Q2020.13 1464.01 2021.01 1462.28 Q2021.91 1460.52 2021.91 1458.83 Q2021.91 1456.07 2019.97 1454.34 Q2018.05 1452.6 2014.94 1452.6 Q2012.75 1452.6 2010.29 1453.37 Q2007.86 1454.13 2005.08 1455.68 L2005.08 1450.96 Q2007.91 1449.82 2010.36 1449.25 Q2012.82 1448.67 2014.85 1448.67 Q2020.22 1448.67 2023.42 1451.35 Q2026.61 1454.04 2026.61 1458.53 Q2026.61 1460.66 2025.8 1462.58 Q2025.01 1464.48 2022.91 1467.07 Q2022.33 1467.74 2019.23 1470.96 Q2016.13 1474.15 2010.48 1479.92 Z\" fill=\"#000000\" fill-rule=\"evenodd\" fill-opacity=\"1\" /><path clip-path=\"url(#clip840)\" d=\"M 0 0 M2032.68 1479.92 L2040.32 1479.92 L2040.32 1453.55 L2032.01 1455.22 L2032.01 1450.96 L2040.27 1449.29 L2044.94 1449.29 L2044.94 1479.92 L2052.58 1479.92 L2052.58 1483.85 L2032.68 1483.85 L2032.68 1479.92 Z\" fill=\"#000000\" fill-rule=\"evenodd\" fill-opacity=\"1\" /><path clip-path=\"url(#clip840)\" d=\"M 0 0 M2067.65 1452.37 Q2064.04 1452.37 2062.21 1455.94 Q2060.41 1459.48 2060.41 1466.61 Q2060.41 1473.71 2062.21 1477.28 Q2064.04 1480.82 2067.65 1480.82 Q2071.29 1480.82 2073.09 1477.28 Q2074.92 1473.71 2074.92 1466.61 Q2074.92 1459.48 2073.09 1455.94 Q2071.29 1452.37 2067.65 1452.37 M2067.65 1448.67 Q2073.46 1448.67 2076.52 1453.27 Q2079.6 1457.86 2079.6 1466.61 Q2079.6 1475.33 2076.52 1479.94 Q2073.46 1484.52 2067.65 1484.52 Q2061.84 1484.52 2058.76 1479.94 Q2055.71 1475.33 2055.71 1466.61 Q2055.71 1457.86 2058.76 1453.27 Q2061.84 1448.67 2067.65 1448.67 Z\" fill=\"#000000\" fill-rule=\"evenodd\" fill-opacity=\"1\" /><path clip-path=\"url(#clip840)\" d=\"M 0 0 M1209.25 1510.27 L1209.25 1520.4 L1221.31 1520.4 L1221.31 1524.95 L1209.25 1524.95 L1209.25 1544.3 Q1209.25 1548.66 1210.43 1549.9 Q1211.64 1551.14 1215.3 1551.14 L1221.31 1551.14 L1221.31 1556.04 L1215.3 1556.04 Q1208.52 1556.04 1205.94 1553.53 Q1203.36 1550.98 1203.36 1544.3 L1203.36 1524.95 L1199.06 1524.95 L1199.06 1520.4 L1203.36 1520.4 L1203.36 1510.27 L1209.25 1510.27 Z\" fill=\"#000000\" fill-rule=\"evenodd\" fill-opacity=\"1\" /><path clip-path=\"url(#clip840)\" d=\"M 0 0 M1257.95 1536.76 L1257.95 1539.62 L1231.02 1539.62 Q1231.4 1545.67 1234.65 1548.85 Q1237.93 1552 1243.75 1552 Q1247.13 1552 1250.28 1551.17 Q1253.46 1550.35 1256.58 1548.69 L1256.58 1554.23 Q1253.43 1555.57 1250.12 1556.27 Q1246.81 1556.97 1243.4 1556.97 Q1234.87 1556.97 1229.87 1552 Q1224.91 1547.04 1224.91 1538.57 Q1224.91 1529.82 1229.62 1524.69 Q1234.36 1519.54 1242.38 1519.54 Q1249.58 1519.54 1253.75 1524.18 Q1257.95 1528.8 1257.95 1536.76 M1252.09 1535.04 Q1252.03 1530.23 1249.39 1527.37 Q1246.78 1524.5 1242.45 1524.5 Q1237.55 1524.5 1234.59 1527.27 Q1231.66 1530.04 1231.21 1535.07 L1252.09 1535.04 Z\" fill=\"#000000\" fill-rule=\"evenodd\" fill-opacity=\"1\" /><path clip-path=\"url(#clip840)\" d=\"M 0 0 M1291.84 1527.24 Q1294.04 1523.29 1297.1 1521.41 Q1300.15 1519.54 1304.29 1519.54 Q1309.86 1519.54 1312.88 1523.45 Q1315.91 1527.33 1315.91 1534.53 L1315.91 1556.04 L1310.02 1556.04 L1310.02 1534.72 Q1310.02 1529.59 1308.2 1527.11 Q1306.39 1524.63 1302.67 1524.63 Q1298.12 1524.63 1295.47 1527.65 Q1292.83 1530.68 1292.83 1535.9 L1292.83 1556.04 L1286.94 1556.04 L1286.94 1534.72 Q1286.94 1529.56 1285.13 1527.11 Q1283.31 1524.63 1279.53 1524.63 Q1275.04 1524.63 1272.4 1527.68 Q1269.76 1530.71 1269.76 1535.9 L1269.76 1556.04 L1263.87 1556.04 L1263.87 1520.4 L1269.76 1520.4 L1269.76 1525.93 Q1271.76 1522.66 1274.56 1521.1 Q1277.36 1519.54 1281.21 1519.54 Q1285.1 1519.54 1287.8 1521.51 Q1290.54 1523.48 1291.84 1527.24 Z\" fill=\"#000000\" fill-rule=\"evenodd\" fill-opacity=\"1\" /><path clip-path=\"url(#clip840)\" d=\"M 0 0 M1327.72 1550.7 L1327.72 1569.6 L1321.83 1569.6 L1321.83 1520.4 L1327.72 1520.4 L1327.72 1525.81 Q1329.56 1522.62 1332.36 1521.1 Q1335.2 1519.54 1339.11 1519.54 Q1345.6 1519.54 1349.65 1524.69 Q1353.72 1529.85 1353.72 1538.25 Q1353.72 1546.65 1349.65 1551.81 Q1345.6 1556.97 1339.11 1556.97 Q1335.2 1556.97 1332.36 1555.44 Q1329.56 1553.88 1327.72 1550.7 M1347.64 1538.25 Q1347.64 1531.79 1344.97 1528.13 Q1342.32 1524.44 1337.68 1524.44 Q1333.03 1524.44 1330.36 1528.13 Q1327.72 1531.79 1327.72 1538.25 Q1327.72 1544.71 1330.36 1548.4 Q1333.03 1552.07 1337.68 1552.07 Q1342.32 1552.07 1344.97 1548.4 Q1347.64 1544.71 1347.64 1538.25 Z\" fill=\"#000000\" fill-rule=\"evenodd\" fill-opacity=\"1\" /><polyline clip-path=\"url(#clip842)\" style=\"stroke:#000000; stroke-width:2; stroke-opacity:0.1; fill:none\" points=\"\n",
       "  200.028,1214.81 2352.76,1214.81 \n",
       "  \"/>\n",
       "<polyline clip-path=\"url(#clip842)\" style=\"stroke:#000000; stroke-width:2; stroke-opacity:0.1; fill:none\" points=\"\n",
       "  200.028,934.751 2352.76,934.751 \n",
       "  \"/>\n",
       "<polyline clip-path=\"url(#clip842)\" style=\"stroke:#000000; stroke-width:2; stroke-opacity:0.1; fill:none\" points=\"\n",
       "  200.028,654.696 2352.76,654.696 \n",
       "  \"/>\n",
       "<polyline clip-path=\"url(#clip842)\" style=\"stroke:#000000; stroke-width:2; stroke-opacity:0.1; fill:none\" points=\"\n",
       "  200.028,374.642 2352.76,374.642 \n",
       "  \"/>\n",
       "<polyline clip-path=\"url(#clip842)\" style=\"stroke:#000000; stroke-width:2; stroke-opacity:0.1; fill:none\" points=\"\n",
       "  200.028,94.5873 2352.76,94.5873 \n",
       "  \"/>\n",
       "<polyline clip-path=\"url(#clip840)\" style=\"stroke:#000000; stroke-width:4; stroke-opacity:1; fill:none\" points=\"\n",
       "  200.028,1423.18 200.028,47.2441 \n",
       "  \"/>\n",
       "<polyline clip-path=\"url(#clip840)\" style=\"stroke:#000000; stroke-width:4; stroke-opacity:1; fill:none\" points=\"\n",
       "  200.028,1214.81 225.861,1214.81 \n",
       "  \"/>\n",
       "<polyline clip-path=\"url(#clip840)\" style=\"stroke:#000000; stroke-width:4; stroke-opacity:1; fill:none\" points=\"\n",
       "  200.028,934.751 225.861,934.751 \n",
       "  \"/>\n",
       "<polyline clip-path=\"url(#clip840)\" style=\"stroke:#000000; stroke-width:4; stroke-opacity:1; fill:none\" points=\"\n",
       "  200.028,654.696 225.861,654.696 \n",
       "  \"/>\n",
       "<polyline clip-path=\"url(#clip840)\" style=\"stroke:#000000; stroke-width:4; stroke-opacity:1; fill:none\" points=\"\n",
       "  200.028,374.642 225.861,374.642 \n",
       "  \"/>\n",
       "<polyline clip-path=\"url(#clip840)\" style=\"stroke:#000000; stroke-width:4; stroke-opacity:1; fill:none\" points=\"\n",
       "  200.028,94.5873 225.861,94.5873 \n",
       "  \"/>\n",
       "<path clip-path=\"url(#clip840)\" d=\"M 0 0 M122.293 1228.15 L138.612 1228.15 L138.612 1232.09 L116.668 1232.09 L116.668 1228.15 Q119.33 1225.4 123.913 1220.77 Q128.519 1216.11 129.7 1214.77 Q131.945 1212.25 132.825 1210.51 Q133.728 1208.75 133.728 1207.06 Q133.728 1204.31 131.783 1202.57 Q129.862 1200.84 126.76 1200.84 Q124.561 1200.84 122.107 1201.6 Q119.677 1202.36 116.899 1203.91 L116.899 1199.19 Q119.723 1198.06 122.177 1197.48 Q124.63 1196.9 126.667 1196.9 Q132.038 1196.9 135.232 1199.59 Q138.427 1202.27 138.427 1206.76 Q138.427 1208.89 137.617 1210.81 Q136.829 1212.71 134.723 1215.3 Q134.144 1215.97 131.042 1219.19 Q127.941 1222.39 122.293 1228.15 Z\" fill=\"#000000\" fill-rule=\"evenodd\" fill-opacity=\"1\" /><path clip-path=\"url(#clip840)\" d=\"M 0 0 M147.709 1228.15 L164.028 1228.15 L164.028 1232.09 L142.084 1232.09 L142.084 1228.15 Q144.746 1225.4 149.329 1220.77 Q153.936 1216.11 155.116 1214.77 Q157.362 1212.25 158.241 1210.51 Q159.144 1208.75 159.144 1207.06 Q159.144 1204.31 157.2 1202.57 Q155.278 1200.84 152.177 1200.84 Q149.978 1200.84 147.524 1201.6 Q145.093 1202.36 142.316 1203.91 L142.316 1199.19 Q145.14 1198.06 147.593 1197.48 Q150.047 1196.9 152.084 1196.9 Q157.454 1196.9 160.649 1199.59 Q163.843 1202.27 163.843 1206.76 Q163.843 1208.89 163.033 1210.81 Q162.246 1212.71 160.14 1215.3 Q159.561 1215.97 156.459 1219.19 Q153.357 1222.39 147.709 1228.15 Z\" fill=\"#000000\" fill-rule=\"evenodd\" fill-opacity=\"1\" /><path clip-path=\"url(#clip840)\" d=\"M 0 0 M120.209 948.096 L136.529 948.096 L136.529 952.031 L114.584 952.031 L114.584 948.096 Q117.246 945.341 121.83 940.711 Q126.436 936.059 127.617 934.716 Q129.862 932.193 130.742 930.457 Q131.644 928.698 131.644 927.008 Q131.644 924.253 129.7 922.517 Q127.779 920.781 124.677 920.781 Q122.478 920.781 120.024 921.545 Q117.593 922.309 114.816 923.86 L114.816 919.137 Q117.64 918.003 120.093 917.425 Q122.547 916.846 124.584 916.846 Q129.955 916.846 133.149 919.531 Q136.343 922.216 136.343 926.707 Q136.343 928.836 135.533 930.758 Q134.746 932.656 132.64 935.248 Q132.061 935.92 128.959 939.137 Q125.857 942.332 120.209 948.096 Z\" fill=\"#000000\" fill-rule=\"evenodd\" fill-opacity=\"1\" /><path clip-path=\"url(#clip840)\" d=\"M 0 0 M154.445 921.545 L142.64 939.994 L154.445 939.994 L154.445 921.545 M153.218 917.471 L159.098 917.471 L159.098 939.994 L164.028 939.994 L164.028 943.883 L159.098 943.883 L159.098 952.031 L154.445 952.031 L154.445 943.883 L138.843 943.883 L138.843 939.369 L153.218 917.471 Z\" fill=\"#000000\" fill-rule=\"evenodd\" fill-opacity=\"1\" /><path clip-path=\"url(#clip840)\" d=\"M 0 0 M120.533 668.041 L136.853 668.041 L136.853 671.976 L114.908 671.976 L114.908 668.041 Q117.57 665.287 122.154 660.657 Q126.76 656.004 127.941 654.662 Q130.186 652.138 131.066 650.402 Q131.968 648.643 131.968 646.953 Q131.968 644.199 130.024 642.463 Q128.103 640.726 125.001 640.726 Q122.802 640.726 120.348 641.49 Q117.918 642.254 115.14 643.805 L115.14 639.083 Q117.964 637.949 120.418 637.37 Q122.871 636.791 124.908 636.791 Q130.279 636.791 133.473 639.476 Q136.667 642.162 136.667 646.652 Q136.667 648.782 135.857 650.703 Q135.07 652.601 132.964 655.194 Q132.385 655.865 129.283 659.083 Q126.181 662.277 120.533 668.041 Z\" fill=\"#000000\" fill-rule=\"evenodd\" fill-opacity=\"1\" /><path clip-path=\"url(#clip840)\" d=\"M 0 0 M152.501 652.833 Q149.353 652.833 147.501 654.986 Q145.672 657.138 145.672 660.888 Q145.672 664.615 147.501 666.791 Q149.353 668.944 152.501 668.944 Q155.649 668.944 157.478 666.791 Q159.329 664.615 159.329 660.888 Q159.329 657.138 157.478 654.986 Q155.649 652.833 152.501 652.833 M161.783 638.18 L161.783 642.439 Q160.024 641.606 158.218 641.166 Q156.436 640.726 154.677 640.726 Q150.047 640.726 147.593 643.851 Q145.163 646.976 144.816 653.296 Q146.181 651.282 148.241 650.217 Q150.302 649.129 152.778 649.129 Q157.987 649.129 160.996 652.3 Q164.028 655.449 164.028 660.888 Q164.028 666.212 160.88 669.43 Q157.732 672.648 152.501 672.648 Q146.505 672.648 143.334 668.064 Q140.163 663.458 140.163 654.731 Q140.163 646.537 144.052 641.676 Q147.941 636.791 154.491 636.791 Q156.251 636.791 158.033 637.139 Q159.839 637.486 161.783 638.18 Z\" fill=\"#000000\" fill-rule=\"evenodd\" fill-opacity=\"1\" /><path clip-path=\"url(#clip840)\" d=\"M 0 0 M120.788 387.987 L137.107 387.987 L137.107 391.922 L115.163 391.922 L115.163 387.987 Q117.825 385.232 122.408 380.602 Q127.015 375.95 128.195 374.607 Q130.441 372.084 131.32 370.348 Q132.223 368.589 132.223 366.899 Q132.223 364.144 130.279 362.408 Q128.357 360.672 125.255 360.672 Q123.056 360.672 120.603 361.436 Q118.172 362.2 115.394 363.751 L115.394 359.028 Q118.218 357.894 120.672 357.316 Q123.126 356.737 125.163 356.737 Q130.533 356.737 133.728 359.422 Q136.922 362.107 136.922 366.598 Q136.922 368.727 136.112 370.649 Q135.325 372.547 133.218 375.139 Q132.64 375.811 129.538 379.028 Q126.436 382.223 120.788 387.987 Z\" fill=\"#000000\" fill-rule=\"evenodd\" fill-opacity=\"1\" /><path clip-path=\"url(#clip840)\" d=\"M 0 0 M152.177 375.51 Q148.843 375.51 146.922 377.292 Q145.024 379.075 145.024 382.2 Q145.024 385.325 146.922 387.107 Q148.843 388.889 152.177 388.889 Q155.51 388.889 157.431 387.107 Q159.353 385.301 159.353 382.2 Q159.353 379.075 157.431 377.292 Q155.533 375.51 152.177 375.51 M147.501 373.519 Q144.491 372.778 142.802 370.718 Q141.135 368.658 141.135 365.695 Q141.135 361.552 144.075 359.144 Q147.038 356.737 152.177 356.737 Q157.339 356.737 160.278 359.144 Q163.218 361.552 163.218 365.695 Q163.218 368.658 161.528 370.718 Q159.862 372.778 156.876 373.519 Q160.255 374.306 162.13 376.598 Q164.028 378.889 164.028 382.2 Q164.028 387.223 160.95 389.908 Q157.894 392.593 152.177 392.593 Q146.459 392.593 143.38 389.908 Q140.325 387.223 140.325 382.2 Q140.325 378.889 142.223 376.598 Q144.121 374.306 147.501 373.519 M145.788 366.135 Q145.788 368.82 147.454 370.325 Q149.144 371.829 152.177 371.829 Q155.186 371.829 156.876 370.325 Q158.589 368.82 158.589 366.135 Q158.589 363.45 156.876 361.945 Q155.186 360.44 152.177 360.44 Q149.144 360.44 147.454 361.945 Q145.788 363.45 145.788 366.135 Z\" fill=\"#000000\" fill-rule=\"evenodd\" fill-opacity=\"1\" /><path clip-path=\"url(#clip840)\" d=\"M 0 0 M129.885 93.2331 Q133.242 93.9507 135.117 96.2192 Q137.015 98.4877 137.015 101.821 Q137.015 106.937 133.496 109.738 Q129.978 112.539 123.496 112.539 Q121.32 112.539 119.006 112.099 Q116.714 111.682 114.26 110.826 L114.26 106.312 Q116.205 107.446 118.519 108.025 Q120.834 108.603 123.357 108.603 Q127.755 108.603 130.047 106.867 Q132.362 105.131 132.362 101.821 Q132.362 98.7655 130.209 97.0526 Q128.08 95.3165 124.26 95.3165 L120.232 95.3165 L120.232 91.4739 L124.445 91.4739 Q127.894 91.4739 129.723 90.1082 Q131.552 88.7193 131.552 86.1267 Q131.552 83.4647 129.654 82.0527 Q127.779 80.6175 124.26 80.6175 Q122.339 80.6175 120.14 81.0341 Q117.941 81.4508 115.302 82.3304 L115.302 78.1638 Q117.964 77.423 120.279 77.0527 Q122.617 76.6823 124.677 76.6823 Q130.001 76.6823 133.103 79.1129 Q136.204 81.5202 136.204 85.6406 Q136.204 88.511 134.561 90.5017 Q132.917 92.4693 129.885 93.2331 Z\" fill=\"#000000\" fill-rule=\"evenodd\" fill-opacity=\"1\" /><path clip-path=\"url(#clip840)\" d=\"M 0 0 M152.084 80.386 Q148.473 80.386 146.644 83.9508 Q144.839 87.4924 144.839 94.622 Q144.839 101.728 146.644 105.293 Q148.473 108.835 152.084 108.835 Q155.718 108.835 157.524 105.293 Q159.353 101.728 159.353 94.622 Q159.353 87.4924 157.524 83.9508 Q155.718 80.386 152.084 80.386 M152.084 76.6823 Q157.894 76.6823 160.95 81.2888 Q164.028 85.8721 164.028 94.622 Q164.028 103.349 160.95 107.955 Q157.894 112.539 152.084 112.539 Q146.274 112.539 143.195 107.955 Q140.14 103.349 140.14 94.622 Q140.14 85.8721 143.195 81.2888 Q146.274 76.6823 152.084 76.6823 Z\" fill=\"#000000\" fill-rule=\"evenodd\" fill-opacity=\"1\" /><path clip-path=\"url(#clip840)\" d=\"M 0 0 M82.657 855.747 L101.563 855.747 L101.563 861.635 L52.3562 861.635 L52.3562 855.747 L57.7671 855.747 Q54.5842 853.901 53.0564 851.1 Q51.4968 848.267 51.4968 844.352 Q51.4968 837.859 56.6531 833.817 Q61.8093 829.743 70.212 829.743 Q78.6147 829.743 83.771 833.817 Q88.9272 837.859 88.9272 844.352 Q88.9272 848.267 87.3994 851.1 Q85.8398 853.901 82.657 855.747 M70.212 835.822 Q63.7508 835.822 60.0905 838.496 Q56.3984 841.137 56.3984 845.784 Q56.3984 850.431 60.0905 853.105 Q63.7508 855.747 70.212 855.747 Q76.6732 855.747 80.3653 853.105 Q84.0256 850.431 84.0256 845.784 Q84.0256 841.137 80.3653 838.496 Q76.6732 835.822 70.212 835.822 Z\" fill=\"#000000\" fill-rule=\"evenodd\" fill-opacity=\"1\" /><path clip-path=\"url(#clip840)\" d=\"M 0 0 M57.8307 802.943 Q57.2578 803.93 57.0032 805.107 Q56.7167 806.253 56.7167 807.654 Q56.7167 812.619 59.9632 815.293 Q63.1779 817.934 69.2253 817.934 L88.0042 817.934 L88.0042 823.823 L52.3562 823.823 L52.3562 817.934 L57.8944 817.934 Q54.6479 816.088 53.0883 813.128 Q51.4968 810.168 51.4968 805.935 Q51.4968 805.33 51.5923 804.598 Q51.656 803.866 51.8151 802.975 L57.8307 802.943 Z\" fill=\"#000000\" fill-rule=\"evenodd\" fill-opacity=\"1\" /><path clip-path=\"url(#clip840)\" d=\"M 0 0 M68.7161 767.741 L71.5806 767.741 L71.5806 794.668 Q77.6281 794.286 80.8109 791.039 Q83.9619 787.761 83.9619 781.936 Q83.9619 778.562 83.1344 775.411 Q82.3069 772.229 80.6518 769.109 L86.1899 769.109 Q87.5267 772.26 88.227 775.571 Q88.9272 778.881 88.9272 782.286 Q88.9272 790.816 83.9619 795.813 Q78.9967 800.779 70.5303 800.779 Q61.7774 800.779 56.6531 796.068 Q51.4968 791.326 51.4968 783.305 Q51.4968 776.112 56.1438 771.942 Q60.7589 767.741 68.7161 767.741 M66.9973 773.597 Q62.1912 773.661 59.3266 776.303 Q56.4621 778.913 56.4621 783.241 Q56.4621 788.143 59.2312 791.103 Q62.0002 794.031 67.0292 794.477 L66.9973 773.597 Z\" fill=\"#000000\" fill-rule=\"evenodd\" fill-opacity=\"1\" /><path clip-path=\"url(#clip840)\" d=\"M 0 0 M53.4065 738.872 L58.9447 738.872 Q57.6716 741.355 57.035 744.028 Q56.3984 746.702 56.3984 749.567 Q56.3984 753.927 57.7352 756.123 Q59.072 758.288 61.7456 758.288 Q63.7826 758.288 64.9603 756.728 Q66.1061 755.168 67.1565 750.458 L67.6021 748.453 Q68.9389 742.214 71.3897 739.604 Q73.8086 736.963 78.1691 736.963 Q83.1344 736.963 86.0308 740.909 Q88.9272 744.824 88.9272 751.699 Q88.9272 754.564 88.3543 757.683 Q87.8132 760.77 86.6992 764.208 L80.6518 764.208 Q82.3387 760.961 83.198 757.81 Q84.0256 754.659 84.0256 751.572 Q84.0256 747.434 82.6251 745.206 Q81.1929 742.978 78.6147 742.978 Q76.2276 742.978 74.9545 744.601 Q73.6813 746.193 72.5037 751.635 L72.0262 753.673 Q70.8804 759.115 68.5251 761.534 Q66.138 763.953 62.0002 763.953 Q56.9713 763.953 54.2341 760.388 Q51.4968 756.824 51.4968 750.267 Q51.4968 747.02 51.9743 744.156 Q52.4517 741.291 53.4065 738.872 Z\" fill=\"#000000\" fill-rule=\"evenodd\" fill-opacity=\"1\" /><path clip-path=\"url(#clip840)\" d=\"M 0 0 M53.4065 708.094 L58.9447 708.094 Q57.6716 710.577 57.035 713.25 Q56.3984 715.924 56.3984 718.788 Q56.3984 723.149 57.7352 725.345 Q59.072 727.509 61.7456 727.509 Q63.7826 727.509 64.9603 725.95 Q66.1061 724.39 67.1565 719.68 L67.6021 717.674 Q68.9389 711.436 71.3897 708.826 Q73.8086 706.184 78.1691 706.184 Q83.1344 706.184 86.0308 710.131 Q88.9272 714.046 88.9272 720.921 Q88.9272 723.786 88.3543 726.905 Q87.8132 729.992 86.6992 733.43 L80.6518 733.43 Q82.3387 730.183 83.198 727.032 Q84.0256 723.881 84.0256 720.794 Q84.0256 716.656 82.6251 714.428 Q81.1929 712.2 78.6147 712.2 Q76.2276 712.2 74.9545 713.823 Q73.6813 715.415 72.5037 720.857 L72.0262 722.894 Q70.8804 728.337 68.5251 730.756 Q66.138 733.175 62.0002 733.175 Q56.9713 733.175 54.2341 729.61 Q51.4968 726.045 51.4968 719.489 Q51.4968 716.242 51.9743 713.378 Q52.4517 710.513 53.4065 708.094 Z\" fill=\"#000000\" fill-rule=\"evenodd\" fill-opacity=\"1\" /><path clip-path=\"url(#clip840)\" d=\"M 0 0 M73.9359 700.646 L52.3562 700.646 L52.3562 694.79 L73.7131 694.79 Q78.7739 694.79 81.3202 692.816 Q83.8346 690.843 83.8346 686.896 Q83.8346 682.154 80.8109 679.417 Q77.7872 676.647 72.5673 676.647 L52.3562 676.647 L52.3562 670.791 L88.0042 670.791 L88.0042 676.647 L82.5296 676.647 Q85.7762 678.78 87.3676 681.613 Q88.9272 684.414 88.9272 688.138 Q88.9272 694.28 85.1078 697.463 Q81.2883 700.646 73.9359 700.646 M51.4968 685.91 L51.4968 685.91 Z\" fill=\"#000000\" fill-rule=\"evenodd\" fill-opacity=\"1\" /><path clip-path=\"url(#clip840)\" d=\"M 0 0 M57.8307 643.991 Q57.2578 644.978 57.0032 646.156 Q56.7167 647.302 56.7167 648.702 Q56.7167 653.667 59.9632 656.341 Q63.1779 658.983 69.2253 658.983 L88.0042 658.983 L88.0042 664.871 L52.3562 664.871 L52.3562 658.983 L57.8944 658.983 Q54.6479 657.137 53.0883 654.177 Q51.4968 651.216 51.4968 646.983 Q51.4968 646.379 51.5923 645.646 Q51.656 644.914 51.8151 644.023 L57.8307 643.991 Z\" fill=\"#000000\" fill-rule=\"evenodd\" fill-opacity=\"1\" /><path clip-path=\"url(#clip840)\" d=\"M 0 0 M68.7161 608.789 L71.5806 608.789 L71.5806 635.716 Q77.6281 635.334 80.8109 632.088 Q83.9619 628.809 83.9619 622.985 Q83.9619 619.611 83.1344 616.46 Q82.3069 613.277 80.6518 610.158 L86.1899 610.158 Q87.5267 613.309 88.227 616.619 Q88.9272 619.929 88.9272 623.335 Q88.9272 631.865 83.9619 636.862 Q78.9967 641.827 70.5303 641.827 Q61.7774 641.827 56.6531 637.116 Q51.4968 632.374 51.4968 624.353 Q51.4968 617.16 56.1438 612.99 Q60.7589 608.789 68.7161 608.789 M66.9973 614.645 Q62.1912 614.709 59.3266 617.351 Q56.4621 619.961 56.4621 624.29 Q56.4621 629.191 59.2312 632.151 Q62.0002 635.079 67.0292 635.525 L66.9973 614.645 Z\" fill=\"#000000\" fill-rule=\"evenodd\" fill-opacity=\"1\" /><circle clip-path=\"url(#clip842)\" cx=\"283.646\" cy=\"1384.24\" r=\"14\" fill=\"#009af9\" fill-rule=\"evenodd\" fill-opacity=\"1\" stroke=\"#000000\" stroke-opacity=\"1\" stroke-width=\"3.2\"/>\n",
       "<circle clip-path=\"url(#clip842)\" cx=\"260.955\" cy=\"1384.24\" r=\"14\" fill=\"#009af9\" fill-rule=\"evenodd\" fill-opacity=\"1\" stroke=\"#000000\" stroke-opacity=\"1\" stroke-width=\"3.2\"/>\n",
       "<circle clip-path=\"url(#clip842)\" cx=\"669.399\" cy=\"1158.79\" r=\"14\" fill=\"#009af9\" fill-rule=\"evenodd\" fill-opacity=\"1\" stroke=\"#000000\" stroke-opacity=\"1\" stroke-width=\"3.2\"/>\n",
       "<circle clip-path=\"url(#clip842)\" cx=\"726.127\" cy=\"1120.99\" r=\"14\" fill=\"#009af9\" fill-rule=\"evenodd\" fill-opacity=\"1\" stroke=\"#000000\" stroke-opacity=\"1\" stroke-width=\"3.2\"/>\n",
       "<circle clip-path=\"url(#clip842)\" cx=\"839.584\" cy=\"1053.77\" r=\"14\" fill=\"#009af9\" fill-rule=\"evenodd\" fill-opacity=\"1\" stroke=\"#000000\" stroke-opacity=\"1\" stroke-width=\"3.2\"/>\n",
       "<circle clip-path=\"url(#clip842)\" cx=\"896.312\" cy=\"1025.77\" r=\"14\" fill=\"#009af9\" fill-rule=\"evenodd\" fill-opacity=\"1\" stroke=\"#000000\" stroke-opacity=\"1\" stroke-width=\"3.2\"/>\n",
       "<circle clip-path=\"url(#clip842)\" cx=\"1009.77\" cy=\"950.154\" r=\"14\" fill=\"#009af9\" fill-rule=\"evenodd\" fill-opacity=\"1\" stroke=\"#000000\" stroke-opacity=\"1\" stroke-width=\"3.2\"/>\n",
       "<circle clip-path=\"url(#clip842)\" cx=\"1032.46\" cy=\"936.151\" r=\"14\" fill=\"#009af9\" fill-rule=\"evenodd\" fill-opacity=\"1\" stroke=\"#000000\" stroke-opacity=\"1\" stroke-width=\"3.2\"/>\n",
       "<circle clip-path=\"url(#clip842)\" cx=\"1066.5\" cy=\"931.95\" r=\"14\" fill=\"#009af9\" fill-rule=\"evenodd\" fill-opacity=\"1\" stroke=\"#000000\" stroke-opacity=\"1\" stroke-width=\"3.2\"/>\n",
       "<circle clip-path=\"url(#clip842)\" cx=\"1055.15\" cy=\"933.351\" r=\"14\" fill=\"#009af9\" fill-rule=\"evenodd\" fill-opacity=\"1\" stroke=\"#000000\" stroke-opacity=\"1\" stroke-width=\"3.2\"/>\n",
       "<circle clip-path=\"url(#clip842)\" cx=\"1316.1\" cy=\"775.12\" r=\"14\" fill=\"#009af9\" fill-rule=\"evenodd\" fill-opacity=\"1\" stroke=\"#000000\" stroke-opacity=\"1\" stroke-width=\"3.2\"/>\n",
       "<circle clip-path=\"url(#clip842)\" cx=\"1429.56\" cy=\"574.881\" r=\"14\" fill=\"#009af9\" fill-rule=\"evenodd\" fill-opacity=\"1\" stroke=\"#000000\" stroke-opacity=\"1\" stroke-width=\"3.2\"/>\n",
       "<circle clip-path=\"url(#clip842)\" cx=\"1985.5\" cy=\"306.028\" r=\"14\" fill=\"#009af9\" fill-rule=\"evenodd\" fill-opacity=\"1\" stroke=\"#000000\" stroke-opacity=\"1\" stroke-width=\"3.2\"/>\n",
       "<circle clip-path=\"url(#clip842)\" cx=\"1883.39\" cy=\"408.248\" r=\"14\" fill=\"#009af9\" fill-rule=\"evenodd\" fill-opacity=\"1\" stroke=\"#000000\" stroke-opacity=\"1\" stroke-width=\"3.2\"/>\n",
       "<circle clip-path=\"url(#clip842)\" cx=\"2121.64\" cy=\"229.013\" r=\"14\" fill=\"#009af9\" fill-rule=\"evenodd\" fill-opacity=\"1\" stroke=\"#000000\" stroke-opacity=\"1\" stroke-width=\"3.2\"/>\n",
       "<circle clip-path=\"url(#clip842)\" cx=\"2257.79\" cy=\"111.391\" r=\"14\" fill=\"#009af9\" fill-rule=\"evenodd\" fill-opacity=\"1\" stroke=\"#000000\" stroke-opacity=\"1\" stroke-width=\"3.2\"/>\n",
       "<circle clip-path=\"url(#clip842)\" cx=\"2291.83\" cy=\"86.1857\" r=\"14\" fill=\"#009af9\" fill-rule=\"evenodd\" fill-opacity=\"1\" stroke=\"#000000\" stroke-opacity=\"1\" stroke-width=\"3.2\"/>\n",
       "</svg>\n"
      ]
     },
     "execution_count": 80,
     "metadata": {},
     "output_type": "execute_result"
    }
   ],
   "source": [
    "plot(temp,pressure,seriestype=:scatter,xlabel=\"temp\",ylabel=\"pressure\",labels=\"\")"
   ]
  },
  {
   "cell_type": "code",
   "execution_count": 81,
   "metadata": {},
   "outputs": [
    {
     "data": {
      "text/plain": [
       "17"
      ]
     },
     "execution_count": 81,
     "metadata": {},
     "output_type": "execute_result"
    }
   ],
   "source": [
    "#pressure = h(temp)\n",
    "#pressure = theta_0 + theta_1*temp\n",
    "N = length(temp)"
   ]
  },
  {
   "cell_type": "code",
   "execution_count": 83,
   "metadata": {},
   "outputs": [
    {
     "data": {
      "text/plain": [
       "17-element Array{Float64,1}:\n",
       " 1.0\n",
       " 1.0\n",
       " 1.0\n",
       " 1.0\n",
       " 1.0\n",
       " 1.0\n",
       " 1.0\n",
       " 1.0\n",
       " 1.0\n",
       " 1.0\n",
       " 1.0\n",
       " 1.0\n",
       " 1.0\n",
       " 1.0\n",
       " 1.0\n",
       " 1.0\n",
       " 1.0"
      ]
     },
     "execution_count": 83,
     "metadata": {},
     "output_type": "execute_result"
    }
   ],
   "source": [
    "ones(N)"
   ]
  },
  {
   "cell_type": "code",
   "execution_count": 84,
   "metadata": {},
   "outputs": [
    {
     "data": {
      "text/plain": [
       "17×2 Array{Float64,2}:\n",
       " 1.0  194.5\n",
       " 1.0  194.3\n",
       " 1.0  197.9\n",
       " 1.0  198.4\n",
       " 1.0  199.4\n",
       " 1.0  199.9\n",
       " 1.0  200.9\n",
       " 1.0  201.1\n",
       " 1.0  201.4\n",
       " 1.0  201.3\n",
       " 1.0  203.6\n",
       " 1.0  204.6\n",
       " 1.0  209.5\n",
       " 1.0  208.6\n",
       " 1.0  210.7\n",
       " 1.0  211.9\n",
       " 1.0  212.2"
      ]
     },
     "execution_count": 84,
     "metadata": {},
     "output_type": "execute_result"
    }
   ],
   "source": [
    "X = [ones(N) temp]"
   ]
  },
  {
   "cell_type": "code",
   "execution_count": 85,
   "metadata": {},
   "outputs": [
    {
     "data": {
      "text/plain": [
       "17-element Array{Float64,1}:\n",
       " 20.79\n",
       " 20.79\n",
       " 22.4\n",
       " 22.67\n",
       " 23.15\n",
       " 23.35\n",
       " 23.89\n",
       " 23.99\n",
       " 24.02\n",
       " 24.01\n",
       " 25.14\n",
       " 26.57\n",
       " 28.49\n",
       " 27.76\n",
       " 29.04\n",
       " 29.88\n",
       " 30.06"
      ]
     },
     "execution_count": 85,
     "metadata": {},
     "output_type": "execute_result"
    }
   ],
   "source": [
    "y = pressure"
   ]
  },
  {
   "cell_type": "code",
   "execution_count": 86,
   "metadata": {},
   "outputs": [
    {
     "data": {
      "text/plain": [
       "2-element Array{Float64,1}:\n",
       " -81.06372712863958\n",
       "   0.5228924007845421"
      ]
     },
     "execution_count": 86,
     "metadata": {},
     "output_type": "execute_result"
    }
   ],
   "source": [
    "θ = inv(X'*X)*(X'*y)"
   ]
  },
  {
   "cell_type": "code",
   "execution_count": 88,
   "metadata": {},
   "outputs": [
    {
     "data": {
      "text/plain": [
       "29.89404031784025"
      ]
     },
     "execution_count": 88,
     "metadata": {},
     "output_type": "execute_result"
    }
   ],
   "source": [
    "a = X[1, :]\n",
    "b = X[N, :]\n",
    "u = a'*θ\n",
    "v = b'*θ"
   ]
  },
  {
   "cell_type": "code",
   "execution_count": 100,
   "metadata": {},
   "outputs": [
    {
     "data": {
      "image/svg+xml": [
       "<?xml version=\"1.0\" encoding=\"utf-8\"?>\n",
       "<svg xmlns=\"http://www.w3.org/2000/svg\" xmlns:xlink=\"http://www.w3.org/1999/xlink\" width=\"600\" height=\"400\" viewBox=\"0 0 2400 1600\">\n",
       "<defs>\n",
       "  <clipPath id=\"clip100\">\n",
       "    <rect x=\"0\" y=\"0\" width=\"2400\" height=\"1600\"/>\n",
       "  </clipPath>\n",
       "</defs>\n",
       "<path clip-path=\"url(#clip100)\" d=\"\n",
       "M0 1600 L2400 1600 L2400 0 L0 0  Z\n",
       "  \" fill=\"#ffffff\" fill-rule=\"evenodd\" fill-opacity=\"1\"/>\n",
       "<defs>\n",
       "  <clipPath id=\"clip101\">\n",
       "    <rect x=\"480\" y=\"0\" width=\"1681\" height=\"1600\"/>\n",
       "  </clipPath>\n",
       "</defs>\n",
       "<path clip-path=\"url(#clip100)\" d=\"\n",
       "M200.028 1423.18 L2352.76 1423.18 L2352.76 47.2441 L200.028 47.2441  Z\n",
       "  \" fill=\"#ffffff\" fill-rule=\"evenodd\" fill-opacity=\"1\"/>\n",
       "<defs>\n",
       "  <clipPath id=\"clip102\">\n",
       "    <rect x=\"200\" y=\"47\" width=\"2154\" height=\"1377\"/>\n",
       "  </clipPath>\n",
       "</defs>\n",
       "<polyline clip-path=\"url(#clip102)\" style=\"stroke:#000000; stroke-width:2; stroke-opacity:0.1; fill:none\" points=\"\n",
       "  340.374,1423.18 340.374,47.2441 \n",
       "  \"/>\n",
       "<polyline clip-path=\"url(#clip102)\" style=\"stroke:#000000; stroke-width:2; stroke-opacity:0.1; fill:none\" points=\"\n",
       "  907.658,1423.18 907.658,47.2441 \n",
       "  \"/>\n",
       "<polyline clip-path=\"url(#clip102)\" style=\"stroke:#000000; stroke-width:2; stroke-opacity:0.1; fill:none\" points=\"\n",
       "  1474.94,1423.18 1474.94,47.2441 \n",
       "  \"/>\n",
       "<polyline clip-path=\"url(#clip102)\" style=\"stroke:#000000; stroke-width:2; stroke-opacity:0.1; fill:none\" points=\"\n",
       "  2042.22,1423.18 2042.22,47.2441 \n",
       "  \"/>\n",
       "<polyline clip-path=\"url(#clip100)\" style=\"stroke:#000000; stroke-width:4; stroke-opacity:1; fill:none\" points=\"\n",
       "  200.028,1423.18 2352.76,1423.18 \n",
       "  \"/>\n",
       "<polyline clip-path=\"url(#clip100)\" style=\"stroke:#000000; stroke-width:4; stroke-opacity:1; fill:none\" points=\"\n",
       "  340.374,1423.18 340.374,1406.67 \n",
       "  \"/>\n",
       "<polyline clip-path=\"url(#clip100)\" style=\"stroke:#000000; stroke-width:4; stroke-opacity:1; fill:none\" points=\"\n",
       "  907.658,1423.18 907.658,1406.67 \n",
       "  \"/>\n",
       "<polyline clip-path=\"url(#clip100)\" style=\"stroke:#000000; stroke-width:4; stroke-opacity:1; fill:none\" points=\"\n",
       "  1474.94,1423.18 1474.94,1406.67 \n",
       "  \"/>\n",
       "<polyline clip-path=\"url(#clip100)\" style=\"stroke:#000000; stroke-width:4; stroke-opacity:1; fill:none\" points=\"\n",
       "  2042.22,1423.18 2042.22,1406.67 \n",
       "  \"/>\n",
       "<path clip-path=\"url(#clip100)\" d=\"M 0 0 M304.333 1479.92 L311.972 1479.92 L311.972 1453.55 L303.662 1455.22 L303.662 1450.96 L311.925 1449.29 L316.601 1449.29 L316.601 1479.92 L324.24 1479.92 L324.24 1483.85 L304.333 1483.85 L304.333 1479.92 Z\" fill=\"#000000\" fill-rule=\"evenodd\" fill-opacity=\"1\" /><path clip-path=\"url(#clip100)\" d=\"M 0 0 M329.448 1483.13 L329.448 1478.88 Q331.208 1479.71 333.013 1480.15 Q334.819 1480.59 336.555 1480.59 Q341.185 1480.59 343.615 1477.49 Q346.069 1474.36 346.416 1468.02 Q345.073 1470.01 343.013 1471.07 Q340.953 1472.14 338.453 1472.14 Q333.268 1472.14 330.236 1469.01 Q327.226 1465.87 327.226 1460.43 Q327.226 1455.1 330.374 1451.88 Q333.523 1448.67 338.754 1448.67 Q344.749 1448.67 347.897 1453.27 Q351.069 1457.86 351.069 1466.61 Q351.069 1474.78 347.18 1479.66 Q343.314 1484.52 336.763 1484.52 Q335.004 1484.52 333.198 1484.18 Q331.393 1483.83 329.448 1483.13 M338.754 1468.48 Q341.902 1468.48 343.731 1466.33 Q345.583 1464.18 345.583 1460.43 Q345.583 1456.7 343.731 1454.55 Q341.902 1452.37 338.754 1452.37 Q335.606 1452.37 333.754 1454.55 Q331.925 1456.7 331.925 1460.43 Q331.925 1464.18 333.754 1466.33 Q335.606 1468.48 338.754 1468.48 Z\" fill=\"#000000\" fill-rule=\"evenodd\" fill-opacity=\"1\" /><path clip-path=\"url(#clip100)\" d=\"M 0 0 M356.184 1449.29 L374.541 1449.29 L374.541 1453.23 L360.467 1453.23 L360.467 1461.7 Q361.485 1461.35 362.504 1461.19 Q363.522 1461 364.541 1461 Q370.328 1461 373.708 1464.18 Q377.087 1467.35 377.087 1472.76 Q377.087 1478.34 373.615 1481.44 Q370.143 1484.52 363.823 1484.52 Q361.647 1484.52 359.379 1484.15 Q357.134 1483.78 354.726 1483.04 L354.726 1478.34 Q356.809 1479.48 359.032 1480.03 Q361.254 1480.59 363.731 1480.59 Q367.735 1480.59 370.073 1478.48 Q372.411 1476.38 372.411 1472.76 Q372.411 1469.15 370.073 1467.05 Q367.735 1464.94 363.731 1464.94 Q361.856 1464.94 359.981 1465.36 Q358.129 1465.77 356.184 1466.65 L356.184 1449.29 Z\" fill=\"#000000\" fill-rule=\"evenodd\" fill-opacity=\"1\" /><path clip-path=\"url(#clip100)\" d=\"M 0 0 M875.297 1479.92 L891.616 1479.92 L891.616 1483.85 L869.672 1483.85 L869.672 1479.92 Q872.334 1477.16 876.917 1472.53 Q881.524 1467.88 882.704 1466.54 Q884.95 1464.01 885.829 1462.28 Q886.732 1460.52 886.732 1458.83 Q886.732 1456.07 884.788 1454.34 Q882.866 1452.6 879.765 1452.6 Q877.565 1452.6 875.112 1453.37 Q872.681 1454.13 869.903 1455.68 L869.903 1450.96 Q872.728 1449.82 875.181 1449.25 Q877.635 1448.67 879.672 1448.67 Q885.042 1448.67 888.237 1451.35 Q891.431 1454.04 891.431 1458.53 Q891.431 1460.66 890.621 1462.58 Q889.834 1464.48 887.727 1467.07 Q887.149 1467.74 884.047 1470.96 Q880.945 1474.15 875.297 1479.92 Z\" fill=\"#000000\" fill-rule=\"evenodd\" fill-opacity=\"1\" /><path clip-path=\"url(#clip100)\" d=\"M 0 0 M906.686 1452.37 Q903.075 1452.37 901.246 1455.94 Q899.44 1459.48 899.44 1466.61 Q899.44 1473.71 901.246 1477.28 Q903.075 1480.82 906.686 1480.82 Q910.32 1480.82 912.125 1477.28 Q913.954 1473.71 913.954 1466.61 Q913.954 1459.48 912.125 1455.94 Q910.32 1452.37 906.686 1452.37 M906.686 1448.67 Q912.496 1448.67 915.551 1453.27 Q918.63 1457.86 918.63 1466.61 Q918.63 1475.33 915.551 1479.94 Q912.496 1484.52 906.686 1484.52 Q900.875 1484.52 897.797 1479.94 Q894.741 1475.33 894.741 1466.61 Q894.741 1457.86 897.797 1453.27 Q900.875 1448.67 906.686 1448.67 Z\" fill=\"#000000\" fill-rule=\"evenodd\" fill-opacity=\"1\" /><path clip-path=\"url(#clip100)\" d=\"M 0 0 M933.699 1452.37 Q930.088 1452.37 928.26 1455.94 Q926.454 1459.48 926.454 1466.61 Q926.454 1473.71 928.26 1477.28 Q930.088 1480.82 933.699 1480.82 Q937.334 1480.82 939.139 1477.28 Q940.968 1473.71 940.968 1466.61 Q940.968 1459.48 939.139 1455.94 Q937.334 1452.37 933.699 1452.37 M933.699 1448.67 Q939.51 1448.67 942.565 1453.27 Q945.644 1457.86 945.644 1466.61 Q945.644 1475.33 942.565 1479.94 Q939.51 1484.52 933.699 1484.52 Q927.889 1484.52 924.811 1479.94 Q921.755 1475.33 921.755 1466.61 Q921.755 1457.86 924.811 1453.27 Q927.889 1448.67 933.699 1448.67 Z\" fill=\"#000000\" fill-rule=\"evenodd\" fill-opacity=\"1\" /><path clip-path=\"url(#clip100)\" d=\"M 0 0 M1443.08 1479.92 L1459.4 1479.92 L1459.4 1483.85 L1437.45 1483.85 L1437.45 1479.92 Q1440.12 1477.16 1444.7 1472.53 Q1449.3 1467.88 1450.49 1466.54 Q1452.73 1464.01 1453.61 1462.28 Q1454.51 1460.52 1454.51 1458.83 Q1454.51 1456.07 1452.57 1454.34 Q1450.65 1452.6 1447.55 1452.6 Q1445.35 1452.6 1442.89 1453.37 Q1440.46 1454.13 1437.68 1455.68 L1437.68 1450.96 Q1440.51 1449.82 1442.96 1449.25 Q1445.42 1448.67 1447.45 1448.67 Q1452.82 1448.67 1456.02 1451.35 Q1459.21 1454.04 1459.21 1458.53 Q1459.21 1460.66 1458.4 1462.58 Q1457.62 1464.48 1455.51 1467.07 Q1454.93 1467.74 1451.83 1470.96 Q1448.73 1474.15 1443.08 1479.92 Z\" fill=\"#000000\" fill-rule=\"evenodd\" fill-opacity=\"1\" /><path clip-path=\"url(#clip100)\" d=\"M 0 0 M1474.47 1452.37 Q1470.86 1452.37 1469.03 1455.94 Q1467.22 1459.48 1467.22 1466.61 Q1467.22 1473.71 1469.03 1477.28 Q1470.86 1480.82 1474.47 1480.82 Q1478.1 1480.82 1479.91 1477.28 Q1481.74 1473.71 1481.74 1466.61 Q1481.74 1459.48 1479.91 1455.94 Q1478.1 1452.37 1474.47 1452.37 M1474.47 1448.67 Q1480.28 1448.67 1483.33 1453.27 Q1486.41 1457.86 1486.41 1466.61 Q1486.41 1475.33 1483.33 1479.94 Q1480.28 1484.52 1474.47 1484.52 Q1468.66 1484.52 1465.58 1479.94 Q1462.52 1475.33 1462.52 1466.61 Q1462.52 1457.86 1465.58 1453.27 Q1468.66 1448.67 1474.47 1448.67 Z\" fill=\"#000000\" fill-rule=\"evenodd\" fill-opacity=\"1\" /><path clip-path=\"url(#clip100)\" d=\"M 0 0 M1491.53 1449.29 L1509.88 1449.29 L1509.88 1453.23 L1495.81 1453.23 L1495.81 1461.7 Q1496.83 1461.35 1497.85 1461.19 Q1498.86 1461 1499.88 1461 Q1505.67 1461 1509.05 1464.18 Q1512.43 1467.35 1512.43 1472.76 Q1512.43 1478.34 1508.96 1481.44 Q1505.49 1484.52 1499.17 1484.52 Q1496.99 1484.52 1494.72 1484.15 Q1492.48 1483.78 1490.07 1483.04 L1490.07 1478.34 Q1492.15 1479.48 1494.37 1480.03 Q1496.6 1480.59 1499.07 1480.59 Q1503.08 1480.59 1505.42 1478.48 Q1507.75 1476.38 1507.75 1472.76 Q1507.75 1469.15 1505.42 1467.05 Q1503.08 1464.94 1499.07 1464.94 Q1497.2 1464.94 1495.32 1465.36 Q1493.47 1465.77 1491.53 1466.65 L1491.53 1449.29 Z\" fill=\"#000000\" fill-rule=\"evenodd\" fill-opacity=\"1\" /><path clip-path=\"url(#clip100)\" d=\"M 0 0 M2010.48 1479.92 L2026.8 1479.92 L2026.8 1483.85 L2004.85 1483.85 L2004.85 1479.92 Q2007.51 1477.16 2012.1 1472.53 Q2016.7 1467.88 2017.88 1466.54 Q2020.13 1464.01 2021.01 1462.28 Q2021.91 1460.52 2021.91 1458.83 Q2021.91 1456.07 2019.97 1454.34 Q2018.05 1452.6 2014.94 1452.6 Q2012.75 1452.6 2010.29 1453.37 Q2007.86 1454.13 2005.08 1455.68 L2005.08 1450.96 Q2007.91 1449.82 2010.36 1449.25 Q2012.82 1448.67 2014.85 1448.67 Q2020.22 1448.67 2023.42 1451.35 Q2026.61 1454.04 2026.61 1458.53 Q2026.61 1460.66 2025.8 1462.58 Q2025.01 1464.48 2022.91 1467.07 Q2022.33 1467.74 2019.23 1470.96 Q2016.13 1474.15 2010.48 1479.92 Z\" fill=\"#000000\" fill-rule=\"evenodd\" fill-opacity=\"1\" /><path clip-path=\"url(#clip100)\" d=\"M 0 0 M2032.68 1479.92 L2040.32 1479.92 L2040.32 1453.55 L2032.01 1455.22 L2032.01 1450.96 L2040.27 1449.29 L2044.94 1449.29 L2044.94 1479.92 L2052.58 1479.92 L2052.58 1483.85 L2032.68 1483.85 L2032.68 1479.92 Z\" fill=\"#000000\" fill-rule=\"evenodd\" fill-opacity=\"1\" /><path clip-path=\"url(#clip100)\" d=\"M 0 0 M2067.65 1452.37 Q2064.04 1452.37 2062.21 1455.94 Q2060.41 1459.48 2060.41 1466.61 Q2060.41 1473.71 2062.21 1477.28 Q2064.04 1480.82 2067.65 1480.82 Q2071.29 1480.82 2073.09 1477.28 Q2074.92 1473.71 2074.92 1466.61 Q2074.92 1459.48 2073.09 1455.94 Q2071.29 1452.37 2067.65 1452.37 M2067.65 1448.67 Q2073.46 1448.67 2076.52 1453.27 Q2079.6 1457.86 2079.6 1466.61 Q2079.6 1475.33 2076.52 1479.94 Q2073.46 1484.52 2067.65 1484.52 Q2061.84 1484.52 2058.76 1479.94 Q2055.71 1475.33 2055.71 1466.61 Q2055.71 1457.86 2058.76 1453.27 Q2061.84 1448.67 2067.65 1448.67 Z\" fill=\"#000000\" fill-rule=\"evenodd\" fill-opacity=\"1\" /><path clip-path=\"url(#clip100)\" d=\"M 0 0 M1209.25 1510.27 L1209.25 1520.4 L1221.31 1520.4 L1221.31 1524.95 L1209.25 1524.95 L1209.25 1544.3 Q1209.25 1548.66 1210.43 1549.9 Q1211.64 1551.14 1215.3 1551.14 L1221.31 1551.14 L1221.31 1556.04 L1215.3 1556.04 Q1208.52 1556.04 1205.94 1553.53 Q1203.36 1550.98 1203.36 1544.3 L1203.36 1524.95 L1199.06 1524.95 L1199.06 1520.4 L1203.36 1520.4 L1203.36 1510.27 L1209.25 1510.27 Z\" fill=\"#000000\" fill-rule=\"evenodd\" fill-opacity=\"1\" /><path clip-path=\"url(#clip100)\" d=\"M 0 0 M1257.95 1536.76 L1257.95 1539.62 L1231.02 1539.62 Q1231.4 1545.67 1234.65 1548.85 Q1237.93 1552 1243.75 1552 Q1247.13 1552 1250.28 1551.17 Q1253.46 1550.35 1256.58 1548.69 L1256.58 1554.23 Q1253.43 1555.57 1250.12 1556.27 Q1246.81 1556.97 1243.4 1556.97 Q1234.87 1556.97 1229.87 1552 Q1224.91 1547.04 1224.91 1538.57 Q1224.91 1529.82 1229.62 1524.69 Q1234.36 1519.54 1242.38 1519.54 Q1249.58 1519.54 1253.75 1524.18 Q1257.95 1528.8 1257.95 1536.76 M1252.09 1535.04 Q1252.03 1530.23 1249.39 1527.37 Q1246.78 1524.5 1242.45 1524.5 Q1237.55 1524.5 1234.59 1527.27 Q1231.66 1530.04 1231.21 1535.07 L1252.09 1535.04 Z\" fill=\"#000000\" fill-rule=\"evenodd\" fill-opacity=\"1\" /><path clip-path=\"url(#clip100)\" d=\"M 0 0 M1291.84 1527.24 Q1294.04 1523.29 1297.1 1521.41 Q1300.15 1519.54 1304.29 1519.54 Q1309.86 1519.54 1312.88 1523.45 Q1315.91 1527.33 1315.91 1534.53 L1315.91 1556.04 L1310.02 1556.04 L1310.02 1534.72 Q1310.02 1529.59 1308.2 1527.11 Q1306.39 1524.63 1302.67 1524.63 Q1298.12 1524.63 1295.47 1527.65 Q1292.83 1530.68 1292.83 1535.9 L1292.83 1556.04 L1286.94 1556.04 L1286.94 1534.72 Q1286.94 1529.56 1285.13 1527.11 Q1283.31 1524.63 1279.53 1524.63 Q1275.04 1524.63 1272.4 1527.68 Q1269.76 1530.71 1269.76 1535.9 L1269.76 1556.04 L1263.87 1556.04 L1263.87 1520.4 L1269.76 1520.4 L1269.76 1525.93 Q1271.76 1522.66 1274.56 1521.1 Q1277.36 1519.54 1281.21 1519.54 Q1285.1 1519.54 1287.8 1521.51 Q1290.54 1523.48 1291.84 1527.24 Z\" fill=\"#000000\" fill-rule=\"evenodd\" fill-opacity=\"1\" /><path clip-path=\"url(#clip100)\" d=\"M 0 0 M1327.72 1550.7 L1327.72 1569.6 L1321.83 1569.6 L1321.83 1520.4 L1327.72 1520.4 L1327.72 1525.81 Q1329.56 1522.62 1332.36 1521.1 Q1335.2 1519.54 1339.11 1519.54 Q1345.6 1519.54 1349.65 1524.69 Q1353.72 1529.85 1353.72 1538.25 Q1353.72 1546.65 1349.65 1551.81 Q1345.6 1556.97 1339.11 1556.97 Q1335.2 1556.97 1332.36 1555.44 Q1329.56 1553.88 1327.72 1550.7 M1347.64 1538.25 Q1347.64 1531.79 1344.97 1528.13 Q1342.32 1524.44 1337.68 1524.44 Q1333.03 1524.44 1330.36 1528.13 Q1327.72 1531.79 1327.72 1538.25 Q1327.72 1544.71 1330.36 1548.4 Q1333.03 1552.07 1337.68 1552.07 Q1342.32 1552.07 1344.97 1548.4 Q1347.64 1544.71 1347.64 1538.25 Z\" fill=\"#000000\" fill-rule=\"evenodd\" fill-opacity=\"1\" /><polyline clip-path=\"url(#clip102)\" style=\"stroke:#000000; stroke-width:2; stroke-opacity:0.1; fill:none\" points=\"\n",
       "  200.028,1196.7 2352.76,1196.7 \n",
       "  \"/>\n",
       "<polyline clip-path=\"url(#clip102)\" style=\"stroke:#000000; stroke-width:2; stroke-opacity:0.1; fill:none\" points=\"\n",
       "  200.028,921.136 2352.76,921.136 \n",
       "  \"/>\n",
       "<polyline clip-path=\"url(#clip102)\" style=\"stroke:#000000; stroke-width:2; stroke-opacity:0.1; fill:none\" points=\"\n",
       "  200.028,645.575 2352.76,645.575 \n",
       "  \"/>\n",
       "<polyline clip-path=\"url(#clip102)\" style=\"stroke:#000000; stroke-width:2; stroke-opacity:0.1; fill:none\" points=\"\n",
       "  200.028,370.014 2352.76,370.014 \n",
       "  \"/>\n",
       "<polyline clip-path=\"url(#clip102)\" style=\"stroke:#000000; stroke-width:2; stroke-opacity:0.1; fill:none\" points=\"\n",
       "  200.028,94.4525 2352.76,94.4525 \n",
       "  \"/>\n",
       "<polyline clip-path=\"url(#clip100)\" style=\"stroke:#000000; stroke-width:4; stroke-opacity:1; fill:none\" points=\"\n",
       "  200.028,1423.18 200.028,47.2441 \n",
       "  \"/>\n",
       "<polyline clip-path=\"url(#clip100)\" style=\"stroke:#000000; stroke-width:4; stroke-opacity:1; fill:none\" points=\"\n",
       "  200.028,1196.7 225.861,1196.7 \n",
       "  \"/>\n",
       "<polyline clip-path=\"url(#clip100)\" style=\"stroke:#000000; stroke-width:4; stroke-opacity:1; fill:none\" points=\"\n",
       "  200.028,921.136 225.861,921.136 \n",
       "  \"/>\n",
       "<polyline clip-path=\"url(#clip100)\" style=\"stroke:#000000; stroke-width:4; stroke-opacity:1; fill:none\" points=\"\n",
       "  200.028,645.575 225.861,645.575 \n",
       "  \"/>\n",
       "<polyline clip-path=\"url(#clip100)\" style=\"stroke:#000000; stroke-width:4; stroke-opacity:1; fill:none\" points=\"\n",
       "  200.028,370.014 225.861,370.014 \n",
       "  \"/>\n",
       "<polyline clip-path=\"url(#clip100)\" style=\"stroke:#000000; stroke-width:4; stroke-opacity:1; fill:none\" points=\"\n",
       "  200.028,94.4525 225.861,94.4525 \n",
       "  \"/>\n",
       "<path clip-path=\"url(#clip100)\" d=\"M 0 0 M122.293 1210.04 L138.612 1210.04 L138.612 1213.98 L116.668 1213.98 L116.668 1210.04 Q119.33 1207.29 123.913 1202.66 Q128.519 1198.01 129.7 1196.66 Q131.945 1194.14 132.825 1192.4 Q133.728 1190.64 133.728 1188.95 Q133.728 1186.2 131.783 1184.46 Q129.862 1182.73 126.76 1182.73 Q124.561 1182.73 122.107 1183.49 Q119.677 1184.26 116.899 1185.81 L116.899 1181.08 Q119.723 1179.95 122.177 1179.37 Q124.63 1178.79 126.667 1178.79 Q132.038 1178.79 135.232 1181.48 Q138.427 1184.16 138.427 1188.65 Q138.427 1190.78 137.617 1192.7 Q136.829 1194.6 134.723 1197.2 Q134.144 1197.87 131.042 1201.08 Q127.941 1204.28 122.293 1210.04 Z\" fill=\"#000000\" fill-rule=\"evenodd\" fill-opacity=\"1\" /><path clip-path=\"url(#clip100)\" d=\"M 0 0 M147.709 1210.04 L164.028 1210.04 L164.028 1213.98 L142.084 1213.98 L142.084 1210.04 Q144.746 1207.29 149.329 1202.66 Q153.936 1198.01 155.116 1196.66 Q157.362 1194.14 158.241 1192.4 Q159.144 1190.64 159.144 1188.95 Q159.144 1186.2 157.2 1184.46 Q155.278 1182.73 152.177 1182.73 Q149.978 1182.73 147.524 1183.49 Q145.093 1184.26 142.316 1185.81 L142.316 1181.08 Q145.14 1179.95 147.593 1179.37 Q150.047 1178.79 152.084 1178.79 Q157.454 1178.79 160.649 1181.48 Q163.843 1184.16 163.843 1188.65 Q163.843 1190.78 163.033 1192.7 Q162.246 1194.6 160.14 1197.2 Q159.561 1197.87 156.459 1201.08 Q153.357 1204.28 147.709 1210.04 Z\" fill=\"#000000\" fill-rule=\"evenodd\" fill-opacity=\"1\" /><path clip-path=\"url(#clip100)\" d=\"M 0 0 M120.209 934.481 L136.529 934.481 L136.529 938.416 L114.584 938.416 L114.584 934.481 Q117.246 931.726 121.83 927.097 Q126.436 922.444 127.617 921.102 Q129.862 918.578 130.742 916.842 Q131.644 915.083 131.644 913.393 Q131.644 910.639 129.7 908.902 Q127.779 907.166 124.677 907.166 Q122.478 907.166 120.024 907.93 Q117.593 908.694 114.816 910.245 L114.816 905.523 Q117.64 904.389 120.093 903.81 Q122.547 903.231 124.584 903.231 Q129.955 903.231 133.149 905.916 Q136.343 908.602 136.343 913.092 Q136.343 915.222 135.533 917.143 Q134.746 919.041 132.64 921.634 Q132.061 922.305 128.959 925.523 Q125.857 928.717 120.209 934.481 Z\" fill=\"#000000\" fill-rule=\"evenodd\" fill-opacity=\"1\" /><path clip-path=\"url(#clip100)\" d=\"M 0 0 M154.445 907.93 L142.64 926.379 L154.445 926.379 L154.445 907.93 M153.218 903.856 L159.098 903.856 L159.098 926.379 L164.028 926.379 L164.028 930.268 L159.098 930.268 L159.098 938.416 L154.445 938.416 L154.445 930.268 L138.843 930.268 L138.843 925.754 L153.218 903.856 Z\" fill=\"#000000\" fill-rule=\"evenodd\" fill-opacity=\"1\" /><path clip-path=\"url(#clip100)\" d=\"M 0 0 M120.533 658.92 L136.853 658.92 L136.853 662.855 L114.908 662.855 L114.908 658.92 Q117.57 656.165 122.154 651.536 Q126.76 646.883 127.941 645.54 Q130.186 643.017 131.066 641.281 Q131.968 639.522 131.968 637.832 Q131.968 635.077 130.024 633.341 Q128.103 631.605 125.001 631.605 Q122.802 631.605 120.348 632.369 Q117.918 633.133 115.14 634.684 L115.14 629.962 Q117.964 628.827 120.418 628.249 Q122.871 627.67 124.908 627.67 Q130.279 627.67 133.473 630.355 Q136.667 633.04 136.667 637.531 Q136.667 639.661 135.857 641.582 Q135.07 643.48 132.964 646.073 Q132.385 646.744 129.283 649.962 Q126.181 653.156 120.533 658.92 Z\" fill=\"#000000\" fill-rule=\"evenodd\" fill-opacity=\"1\" /><path clip-path=\"url(#clip100)\" d=\"M 0 0 M152.501 643.712 Q149.353 643.712 147.501 645.864 Q145.672 648.017 145.672 651.767 Q145.672 655.494 147.501 657.67 Q149.353 659.823 152.501 659.823 Q155.649 659.823 157.478 657.67 Q159.329 655.494 159.329 651.767 Q159.329 648.017 157.478 645.864 Q155.649 643.712 152.501 643.712 M161.783 629.059 L161.783 633.318 Q160.024 632.485 158.218 632.045 Q156.436 631.605 154.677 631.605 Q150.047 631.605 147.593 634.73 Q145.163 637.855 144.816 644.175 Q146.181 642.161 148.241 641.096 Q150.302 640.008 152.778 640.008 Q157.987 640.008 160.996 643.179 Q164.028 646.327 164.028 651.767 Q164.028 657.091 160.88 660.309 Q157.732 663.526 152.501 663.526 Q146.505 663.526 143.334 658.943 Q140.163 654.337 140.163 645.61 Q140.163 637.415 144.052 632.554 Q147.941 627.67 154.491 627.67 Q156.251 627.67 158.033 628.017 Q159.839 628.364 161.783 629.059 Z\" fill=\"#000000\" fill-rule=\"evenodd\" fill-opacity=\"1\" /><path clip-path=\"url(#clip100)\" d=\"M 0 0 M120.788 383.359 L137.107 383.359 L137.107 387.294 L115.163 387.294 L115.163 383.359 Q117.825 380.604 122.408 375.974 Q127.015 371.322 128.195 369.979 Q130.441 367.456 131.32 365.72 Q132.223 363.961 132.223 362.271 Q132.223 359.516 130.279 357.78 Q128.357 356.044 125.255 356.044 Q123.056 356.044 120.603 356.808 Q118.172 357.572 115.394 359.123 L115.394 354.4 Q118.218 353.266 120.672 352.687 Q123.126 352.109 125.163 352.109 Q130.533 352.109 133.728 354.794 Q136.922 357.479 136.922 361.97 Q136.922 364.099 136.112 366.021 Q135.325 367.919 133.218 370.511 Q132.64 371.183 129.538 374.4 Q126.436 377.595 120.788 383.359 Z\" fill=\"#000000\" fill-rule=\"evenodd\" fill-opacity=\"1\" /><path clip-path=\"url(#clip100)\" d=\"M 0 0 M152.177 370.882 Q148.843 370.882 146.922 372.664 Q145.024 374.447 145.024 377.572 Q145.024 380.697 146.922 382.479 Q148.843 384.261 152.177 384.261 Q155.51 384.261 157.431 382.479 Q159.353 380.673 159.353 377.572 Q159.353 374.447 157.431 372.664 Q155.533 370.882 152.177 370.882 M147.501 368.891 Q144.491 368.15 142.802 366.09 Q141.135 364.03 141.135 361.067 Q141.135 356.924 144.075 354.516 Q147.038 352.109 152.177 352.109 Q157.339 352.109 160.278 354.516 Q163.218 356.924 163.218 361.067 Q163.218 364.03 161.528 366.09 Q159.862 368.15 156.876 368.891 Q160.255 369.678 162.13 371.97 Q164.028 374.261 164.028 377.572 Q164.028 382.595 160.95 385.28 Q157.894 387.965 152.177 387.965 Q146.459 387.965 143.38 385.28 Q140.325 382.595 140.325 377.572 Q140.325 374.261 142.223 371.97 Q144.121 369.678 147.501 368.891 M145.788 361.507 Q145.788 364.192 147.454 365.697 Q149.144 367.201 152.177 367.201 Q155.186 367.201 156.876 365.697 Q158.589 364.192 158.589 361.507 Q158.589 358.822 156.876 357.317 Q155.186 355.812 152.177 355.812 Q149.144 355.812 147.454 357.317 Q145.788 358.822 145.788 361.507 Z\" fill=\"#000000\" fill-rule=\"evenodd\" fill-opacity=\"1\" /><path clip-path=\"url(#clip100)\" d=\"M 0 0 M129.885 93.0983 Q133.242 93.8159 135.117 96.0844 Q137.015 98.353 137.015 101.686 Q137.015 106.802 133.496 109.603 Q129.978 112.404 123.496 112.404 Q121.32 112.404 119.006 111.964 Q116.714 111.547 114.26 110.691 L114.26 106.177 Q116.205 107.311 118.519 107.89 Q120.834 108.469 123.357 108.469 Q127.755 108.469 130.047 106.733 Q132.362 104.996 132.362 101.686 Q132.362 98.6307 130.209 96.9178 Q128.08 95.1817 124.26 95.1817 L120.232 95.1817 L120.232 91.3391 L124.445 91.3391 Q127.894 91.3391 129.723 89.9734 Q131.552 88.5845 131.552 85.9919 Q131.552 83.3299 129.654 81.9179 Q127.779 80.4827 124.26 80.4827 Q122.339 80.4827 120.14 80.8993 Q117.941 81.316 115.302 82.1956 L115.302 78.029 Q117.964 77.2882 120.279 76.9179 Q122.617 76.5475 124.677 76.5475 Q130.001 76.5475 133.103 78.9781 Q136.204 81.3854 136.204 85.5058 Q136.204 88.3762 134.561 90.3669 Q132.917 92.3345 129.885 93.0983 Z\" fill=\"#000000\" fill-rule=\"evenodd\" fill-opacity=\"1\" /><path clip-path=\"url(#clip100)\" d=\"M 0 0 M152.084 80.2512 Q148.473 80.2512 146.644 83.816 Q144.839 87.3576 144.839 94.4872 Q144.839 101.594 146.644 105.158 Q148.473 108.7 152.084 108.7 Q155.718 108.7 157.524 105.158 Q159.353 101.594 159.353 94.4872 Q159.353 87.3576 157.524 83.816 Q155.718 80.2512 152.084 80.2512 M152.084 76.5475 Q157.894 76.5475 160.95 81.154 Q164.028 85.7373 164.028 94.4872 Q164.028 103.214 160.95 107.82 Q157.894 112.404 152.084 112.404 Q146.274 112.404 143.195 107.82 Q140.14 103.214 140.14 94.4872 Q140.14 85.7373 143.195 81.154 Q146.274 76.5475 152.084 76.5475 Z\" fill=\"#000000\" fill-rule=\"evenodd\" fill-opacity=\"1\" /><path clip-path=\"url(#clip100)\" d=\"M 0 0 M82.657 855.747 L101.563 855.747 L101.563 861.635 L52.3562 861.635 L52.3562 855.747 L57.7671 855.747 Q54.5842 853.901 53.0564 851.1 Q51.4968 848.267 51.4968 844.352 Q51.4968 837.859 56.6531 833.817 Q61.8093 829.743 70.212 829.743 Q78.6147 829.743 83.771 833.817 Q88.9272 837.859 88.9272 844.352 Q88.9272 848.267 87.3994 851.1 Q85.8398 853.901 82.657 855.747 M70.212 835.822 Q63.7508 835.822 60.0905 838.496 Q56.3984 841.137 56.3984 845.784 Q56.3984 850.431 60.0905 853.105 Q63.7508 855.747 70.212 855.747 Q76.6732 855.747 80.3653 853.105 Q84.0256 850.431 84.0256 845.784 Q84.0256 841.137 80.3653 838.496 Q76.6732 835.822 70.212 835.822 Z\" fill=\"#000000\" fill-rule=\"evenodd\" fill-opacity=\"1\" /><path clip-path=\"url(#clip100)\" d=\"M 0 0 M57.8307 802.943 Q57.2578 803.93 57.0032 805.107 Q56.7167 806.253 56.7167 807.654 Q56.7167 812.619 59.9632 815.293 Q63.1779 817.934 69.2253 817.934 L88.0042 817.934 L88.0042 823.823 L52.3562 823.823 L52.3562 817.934 L57.8944 817.934 Q54.6479 816.088 53.0883 813.128 Q51.4968 810.168 51.4968 805.935 Q51.4968 805.33 51.5923 804.598 Q51.656 803.866 51.8151 802.975 L57.8307 802.943 Z\" fill=\"#000000\" fill-rule=\"evenodd\" fill-opacity=\"1\" /><path clip-path=\"url(#clip100)\" d=\"M 0 0 M68.7161 767.741 L71.5806 767.741 L71.5806 794.668 Q77.6281 794.286 80.8109 791.039 Q83.9619 787.761 83.9619 781.936 Q83.9619 778.562 83.1344 775.411 Q82.3069 772.229 80.6518 769.109 L86.1899 769.109 Q87.5267 772.26 88.227 775.571 Q88.9272 778.881 88.9272 782.286 Q88.9272 790.816 83.9619 795.813 Q78.9967 800.779 70.5303 800.779 Q61.7774 800.779 56.6531 796.068 Q51.4968 791.326 51.4968 783.305 Q51.4968 776.112 56.1438 771.942 Q60.7589 767.741 68.7161 767.741 M66.9973 773.597 Q62.1912 773.661 59.3266 776.303 Q56.4621 778.913 56.4621 783.241 Q56.4621 788.143 59.2312 791.103 Q62.0002 794.031 67.0292 794.477 L66.9973 773.597 Z\" fill=\"#000000\" fill-rule=\"evenodd\" fill-opacity=\"1\" /><path clip-path=\"url(#clip100)\" d=\"M 0 0 M53.4065 738.872 L58.9447 738.872 Q57.6716 741.355 57.035 744.028 Q56.3984 746.702 56.3984 749.567 Q56.3984 753.927 57.7352 756.123 Q59.072 758.288 61.7456 758.288 Q63.7826 758.288 64.9603 756.728 Q66.1061 755.168 67.1565 750.458 L67.6021 748.453 Q68.9389 742.214 71.3897 739.604 Q73.8086 736.963 78.1691 736.963 Q83.1344 736.963 86.0308 740.909 Q88.9272 744.824 88.9272 751.699 Q88.9272 754.564 88.3543 757.683 Q87.8132 760.77 86.6992 764.208 L80.6518 764.208 Q82.3387 760.961 83.198 757.81 Q84.0256 754.659 84.0256 751.572 Q84.0256 747.434 82.6251 745.206 Q81.1929 742.978 78.6147 742.978 Q76.2276 742.978 74.9545 744.601 Q73.6813 746.193 72.5037 751.635 L72.0262 753.673 Q70.8804 759.115 68.5251 761.534 Q66.138 763.953 62.0002 763.953 Q56.9713 763.953 54.2341 760.388 Q51.4968 756.824 51.4968 750.267 Q51.4968 747.02 51.9743 744.156 Q52.4517 741.291 53.4065 738.872 Z\" fill=\"#000000\" fill-rule=\"evenodd\" fill-opacity=\"1\" /><path clip-path=\"url(#clip100)\" d=\"M 0 0 M53.4065 708.094 L58.9447 708.094 Q57.6716 710.577 57.035 713.25 Q56.3984 715.924 56.3984 718.788 Q56.3984 723.149 57.7352 725.345 Q59.072 727.509 61.7456 727.509 Q63.7826 727.509 64.9603 725.95 Q66.1061 724.39 67.1565 719.68 L67.6021 717.674 Q68.9389 711.436 71.3897 708.826 Q73.8086 706.184 78.1691 706.184 Q83.1344 706.184 86.0308 710.131 Q88.9272 714.046 88.9272 720.921 Q88.9272 723.786 88.3543 726.905 Q87.8132 729.992 86.6992 733.43 L80.6518 733.43 Q82.3387 730.183 83.198 727.032 Q84.0256 723.881 84.0256 720.794 Q84.0256 716.656 82.6251 714.428 Q81.1929 712.2 78.6147 712.2 Q76.2276 712.2 74.9545 713.823 Q73.6813 715.415 72.5037 720.857 L72.0262 722.894 Q70.8804 728.337 68.5251 730.756 Q66.138 733.175 62.0002 733.175 Q56.9713 733.175 54.2341 729.61 Q51.4968 726.045 51.4968 719.489 Q51.4968 716.242 51.9743 713.378 Q52.4517 710.513 53.4065 708.094 Z\" fill=\"#000000\" fill-rule=\"evenodd\" fill-opacity=\"1\" /><path clip-path=\"url(#clip100)\" d=\"M 0 0 M73.9359 700.646 L52.3562 700.646 L52.3562 694.79 L73.7131 694.79 Q78.7739 694.79 81.3202 692.816 Q83.8346 690.843 83.8346 686.896 Q83.8346 682.154 80.8109 679.417 Q77.7872 676.647 72.5673 676.647 L52.3562 676.647 L52.3562 670.791 L88.0042 670.791 L88.0042 676.647 L82.5296 676.647 Q85.7762 678.78 87.3676 681.613 Q88.9272 684.414 88.9272 688.138 Q88.9272 694.28 85.1078 697.463 Q81.2883 700.646 73.9359 700.646 M51.4968 685.91 L51.4968 685.91 Z\" fill=\"#000000\" fill-rule=\"evenodd\" fill-opacity=\"1\" /><path clip-path=\"url(#clip100)\" d=\"M 0 0 M57.8307 643.991 Q57.2578 644.978 57.0032 646.156 Q56.7167 647.302 56.7167 648.702 Q56.7167 653.667 59.9632 656.341 Q63.1779 658.983 69.2253 658.983 L88.0042 658.983 L88.0042 664.871 L52.3562 664.871 L52.3562 658.983 L57.8944 658.983 Q54.6479 657.137 53.0883 654.177 Q51.4968 651.216 51.4968 646.983 Q51.4968 646.379 51.5923 645.646 Q51.656 644.914 51.8151 644.023 L57.8307 643.991 Z\" fill=\"#000000\" fill-rule=\"evenodd\" fill-opacity=\"1\" /><path clip-path=\"url(#clip100)\" d=\"M 0 0 M68.7161 608.789 L71.5806 608.789 L71.5806 635.716 Q77.6281 635.334 80.8109 632.088 Q83.9619 628.809 83.9619 622.985 Q83.9619 619.611 83.1344 616.46 Q82.3069 613.277 80.6518 610.158 L86.1899 610.158 Q87.5267 613.309 88.227 616.619 Q88.9272 619.929 88.9272 623.335 Q88.9272 631.865 83.9619 636.862 Q78.9967 641.827 70.5303 641.827 Q61.7774 641.827 56.6531 637.116 Q51.4968 632.374 51.4968 624.353 Q51.4968 617.16 56.1438 612.99 Q60.7589 608.789 68.7161 608.789 M66.9973 614.645 Q62.1912 614.709 59.3266 617.351 Q56.4621 619.961 56.4621 624.29 Q56.4621 629.191 59.2312 632.151 Q62.0002 635.079 67.0292 635.525 L66.9973 614.645 Z\" fill=\"#000000\" fill-rule=\"evenodd\" fill-opacity=\"1\" /><circle clip-path=\"url(#clip102)\" cx=\"283.646\" cy=\"1363.41\" r=\"14\" fill=\"#009af9\" fill-rule=\"evenodd\" fill-opacity=\"1\" stroke=\"#000000\" stroke-opacity=\"1\" stroke-width=\"3.2\"/>\n",
       "<circle clip-path=\"url(#clip102)\" cx=\"260.955\" cy=\"1363.41\" r=\"14\" fill=\"#009af9\" fill-rule=\"evenodd\" fill-opacity=\"1\" stroke=\"#000000\" stroke-opacity=\"1\" stroke-width=\"3.2\"/>\n",
       "<circle clip-path=\"url(#clip102)\" cx=\"669.399\" cy=\"1141.59\" r=\"14\" fill=\"#009af9\" fill-rule=\"evenodd\" fill-opacity=\"1\" stroke=\"#000000\" stroke-opacity=\"1\" stroke-width=\"3.2\"/>\n",
       "<circle clip-path=\"url(#clip102)\" cx=\"726.127\" cy=\"1104.38\" r=\"14\" fill=\"#009af9\" fill-rule=\"evenodd\" fill-opacity=\"1\" stroke=\"#000000\" stroke-opacity=\"1\" stroke-width=\"3.2\"/>\n",
       "<circle clip-path=\"url(#clip102)\" cx=\"839.584\" cy=\"1038.25\" r=\"14\" fill=\"#009af9\" fill-rule=\"evenodd\" fill-opacity=\"1\" stroke=\"#000000\" stroke-opacity=\"1\" stroke-width=\"3.2\"/>\n",
       "<circle clip-path=\"url(#clip102)\" cx=\"896.312\" cy=\"1010.69\" r=\"14\" fill=\"#009af9\" fill-rule=\"evenodd\" fill-opacity=\"1\" stroke=\"#000000\" stroke-opacity=\"1\" stroke-width=\"3.2\"/>\n",
       "<circle clip-path=\"url(#clip102)\" cx=\"1009.77\" cy=\"936.292\" r=\"14\" fill=\"#009af9\" fill-rule=\"evenodd\" fill-opacity=\"1\" stroke=\"#000000\" stroke-opacity=\"1\" stroke-width=\"3.2\"/>\n",
       "<circle clip-path=\"url(#clip102)\" cx=\"1032.46\" cy=\"922.514\" r=\"14\" fill=\"#009af9\" fill-rule=\"evenodd\" fill-opacity=\"1\" stroke=\"#000000\" stroke-opacity=\"1\" stroke-width=\"3.2\"/>\n",
       "<circle clip-path=\"url(#clip102)\" cx=\"1066.5\" cy=\"918.381\" r=\"14\" fill=\"#009af9\" fill-rule=\"evenodd\" fill-opacity=\"1\" stroke=\"#000000\" stroke-opacity=\"1\" stroke-width=\"3.2\"/>\n",
       "<circle clip-path=\"url(#clip102)\" cx=\"1055.15\" cy=\"919.758\" r=\"14\" fill=\"#009af9\" fill-rule=\"evenodd\" fill-opacity=\"1\" stroke=\"#000000\" stroke-opacity=\"1\" stroke-width=\"3.2\"/>\n",
       "<circle clip-path=\"url(#clip102)\" cx=\"1316.1\" cy=\"764.066\" r=\"14\" fill=\"#009af9\" fill-rule=\"evenodd\" fill-opacity=\"1\" stroke=\"#000000\" stroke-opacity=\"1\" stroke-width=\"3.2\"/>\n",
       "<circle clip-path=\"url(#clip102)\" cx=\"1429.56\" cy=\"567.04\" r=\"14\" fill=\"#009af9\" fill-rule=\"evenodd\" fill-opacity=\"1\" stroke=\"#000000\" stroke-opacity=\"1\" stroke-width=\"3.2\"/>\n",
       "<circle clip-path=\"url(#clip102)\" cx=\"1985.5\" cy=\"302.501\" r=\"14\" fill=\"#009af9\" fill-rule=\"evenodd\" fill-opacity=\"1\" stroke=\"#000000\" stroke-opacity=\"1\" stroke-width=\"3.2\"/>\n",
       "<circle clip-path=\"url(#clip102)\" cx=\"1883.39\" cy=\"403.081\" r=\"14\" fill=\"#009af9\" fill-rule=\"evenodd\" fill-opacity=\"1\" stroke=\"#000000\" stroke-opacity=\"1\" stroke-width=\"3.2\"/>\n",
       "<circle clip-path=\"url(#clip102)\" cx=\"2121.64\" cy=\"226.722\" r=\"14\" fill=\"#009af9\" fill-rule=\"evenodd\" fill-opacity=\"1\" stroke=\"#000000\" stroke-opacity=\"1\" stroke-width=\"3.2\"/>\n",
       "<circle clip-path=\"url(#clip102)\" cx=\"2257.79\" cy=\"110.986\" r=\"14\" fill=\"#009af9\" fill-rule=\"evenodd\" fill-opacity=\"1\" stroke=\"#000000\" stroke-opacity=\"1\" stroke-width=\"3.2\"/>\n",
       "<circle clip-path=\"url(#clip102)\" cx=\"2291.83\" cy=\"86.1857\" r=\"14\" fill=\"#009af9\" fill-rule=\"evenodd\" fill-opacity=\"1\" stroke=\"#000000\" stroke-opacity=\"1\" stroke-width=\"3.2\"/>\n",
       "<polyline clip-path=\"url(#clip102)\" style=\"stroke:#e26f46; stroke-width:20; stroke-opacity:1; fill:none\" points=\"\n",
       "  283.646,1384.24 2291.83,109.052 \n",
       "  \"/>\n",
       "</svg>\n"
      ]
     },
     "execution_count": 100,
     "metadata": {},
     "output_type": "execute_result"
    }
   ],
   "source": [
    "plot(temp,pressure,seriestype=:scatter,xlabel=\"temp\",ylabel=\"pressure\",labels=\"\")\n",
    "plot!([a[2] , b[2]], [u , v], labels=\"\",lw=5)"
   ]
  },
  {
   "cell_type": "code",
   "execution_count": 101,
   "metadata": {},
   "outputs": [
    {
     "data": {
      "text/plain": [
       "train (generic function with 1 method)"
      ]
     },
     "execution_count": 101,
     "metadata": {},
     "output_type": "execute_result"
    }
   ],
   "source": [
    "function train(X,y)\n",
    "    θ = inv(X'*X)*X'*y\n",
    "end"
   ]
  },
  {
   "cell_type": "code",
   "execution_count": null,
   "metadata": {},
   "outputs": [],
   "source": []
  }
 ],
 "metadata": {
  "kernelspec": {
   "display_name": "Julia 1.5.2",
   "language": "julia",
   "name": "julia-1.5"
  },
  "language_info": {
   "file_extension": ".jl",
   "mimetype": "application/julia",
   "name": "julia",
   "version": "1.5.2"
  }
 },
 "nbformat": 4,
 "nbformat_minor": 4
}
