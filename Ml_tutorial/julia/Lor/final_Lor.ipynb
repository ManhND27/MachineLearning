{
 "cells": [
  {
   "cell_type": "code",
   "execution_count": 1,
   "metadata": {},
   "outputs": [],
   "source": [
    "using DelimitedFiles\n",
    "using Plots"
   ]
  },
  {
   "cell_type": "code",
   "execution_count": 2,
   "metadata": {},
   "outputs": [
    {
     "data": {
      "text/plain": [
       "100×3 Array{Float64,2}:\n",
       " 34.6237  78.0247  0.0\n",
       " 30.2867  43.895   0.0\n",
       " 35.8474  72.9022  0.0\n",
       " 60.1826  86.3086  1.0\n",
       " 79.0327  75.3444  1.0\n",
       " 45.0833  56.3164  0.0\n",
       " 61.1067  96.5114  1.0\n",
       " 75.0247  46.554   1.0\n",
       " 76.0988  87.4206  1.0\n",
       " 84.4328  43.5334  1.0\n",
       " 95.8616  38.2253  0.0\n",
       " 75.0137  30.6033  0.0\n",
       " 82.3071  76.482   1.0\n",
       "  ⋮                \n",
       " 78.6354  96.6474  1.0\n",
       " 52.348   60.7695  0.0\n",
       " 94.0943  77.1591  1.0\n",
       " 90.4486  87.5088  1.0\n",
       " 55.4822  35.5707  0.0\n",
       " 74.4927  84.8451  1.0\n",
       " 89.8458  45.3583  1.0\n",
       " 83.4892  48.3803  1.0\n",
       " 42.2617  87.1039  1.0\n",
       " 99.315   68.7754  1.0\n",
       " 55.34    64.9319  1.0\n",
       " 74.7759  89.5298  1.0"
      ]
     },
     "execution_count": 2,
     "metadata": {},
     "output_type": "execute_result"
    }
   ],
   "source": [
    "A = readdlm(\"data/admission.txt\",',',Float64,'\\n')"
   ]
  },
  {
   "cell_type": "code",
   "execution_count": 3,
   "metadata": {},
   "outputs": [
    {
     "data": {
      "text/plain": [
       "100×2 Array{Float64,2}:\n",
       " 34.6237  78.0247\n",
       " 30.2867  43.895\n",
       " 35.8474  72.9022\n",
       " 60.1826  86.3086\n",
       " 79.0327  75.3444\n",
       " 45.0833  56.3164\n",
       " 61.1067  96.5114\n",
       " 75.0247  46.554\n",
       " 76.0988  87.4206\n",
       " 84.4328  43.5334\n",
       " 95.8616  38.2253\n",
       " 75.0137  30.6033\n",
       " 82.3071  76.482\n",
       "  ⋮       \n",
       " 78.6354  96.6474\n",
       " 52.348   60.7695\n",
       " 94.0943  77.1591\n",
       " 90.4486  87.5088\n",
       " 55.4822  35.5707\n",
       " 74.4927  84.8451\n",
       " 89.8458  45.3583\n",
       " 83.4892  48.3803\n",
       " 42.2617  87.1039\n",
       " 99.315   68.7754\n",
       " 55.34    64.9319\n",
       " 74.7759  89.5298"
      ]
     },
     "execution_count": 3,
     "metadata": {},
     "output_type": "execute_result"
    }
   ],
   "source": [
    "X = A[:,1:2]"
   ]
  },
  {
   "cell_type": "code",
   "execution_count": 4,
   "metadata": {},
   "outputs": [
    {
     "data": {
      "text/plain": [
       "100-element Array{Float64,1}:\n",
       " 0.0\n",
       " 0.0\n",
       " 0.0\n",
       " 1.0\n",
       " 1.0\n",
       " 0.0\n",
       " 1.0\n",
       " 1.0\n",
       " 1.0\n",
       " 1.0\n",
       " 0.0\n",
       " 0.0\n",
       " 1.0\n",
       " ⋮\n",
       " 1.0\n",
       " 0.0\n",
       " 1.0\n",
       " 1.0\n",
       " 0.0\n",
       " 1.0\n",
       " 1.0\n",
       " 1.0\n",
       " 1.0\n",
       " 1.0\n",
       " 1.0\n",
       " 1.0"
      ]
     },
     "execution_count": 4,
     "metadata": {},
     "output_type": "execute_result"
    }
   ],
   "source": [
    "y = A[:,3]"
   ]
  },
  {
   "cell_type": "code",
   "execution_count": 5,
   "metadata": {},
   "outputs": [
    {
     "data": {
      "text/plain": [
       "100×3 Array{Float64,2}:\n",
       " 1.0  34.6237  78.0247\n",
       " 1.0  30.2867  43.895\n",
       " 1.0  35.8474  72.9022\n",
       " 1.0  60.1826  86.3086\n",
       " 1.0  79.0327  75.3444\n",
       " 1.0  45.0833  56.3164\n",
       " 1.0  61.1067  96.5114\n",
       " 1.0  75.0247  46.554\n",
       " 1.0  76.0988  87.4206\n",
       " 1.0  84.4328  43.5334\n",
       " 1.0  95.8616  38.2253\n",
       " 1.0  75.0137  30.6033\n",
       " 1.0  82.3071  76.482\n",
       " ⋮             \n",
       " 1.0  78.6354  96.6474\n",
       " 1.0  52.348   60.7695\n",
       " 1.0  94.0943  77.1591\n",
       " 1.0  90.4486  87.5088\n",
       " 1.0  55.4822  35.5707\n",
       " 1.0  74.4927  84.8451\n",
       " 1.0  89.8458  45.3583\n",
       " 1.0  83.4892  48.3803\n",
       " 1.0  42.2617  87.1039\n",
       " 1.0  99.315   68.7754\n",
       " 1.0  55.34    64.9319\n",
       " 1.0  74.7759  89.5298"
      ]
     },
     "execution_count": 5,
     "metadata": {},
     "output_type": "execute_result"
    }
   ],
   "source": [
    "X_hc = [ones(length(y)) X]"
   ]
  },
  {
   "cell_type": "code",
   "execution_count": 20,
   "metadata": {},
   "outputs": [
    {
     "data": {
      "text/plain": [
       "sigmoid (generic function with 1 method)"
      ]
     },
     "execution_count": 20,
     "metadata": {},
     "output_type": "execute_result"
    }
   ],
   "source": [
    "#sigmoid function\n",
    "function sigmoid(X,θ)\n",
    "    z = X*θ\n",
    "    h = 1 ./ (1 .+ exp.(z))\n",
    "end"
   ]
  },
  {
   "cell_type": "code",
   "execution_count": 18,
   "metadata": {},
   "outputs": [
    {
     "data": {
      "text/plain": [
       "3×2 Array{Float64,2}:\n",
       " 1.0  1.0\n",
       " 1.0  1.0\n",
       " 1.0  1.0"
      ]
     },
     "execution_count": 18,
     "metadata": {},
     "output_type": "execute_result"
    }
   ],
   "source": [
    "θ = ones(3,length(unique(y)))"
   ]
  },
  {
   "cell_type": "code",
   "execution_count": 21,
   "metadata": {
    "scrolled": true
   },
   "outputs": [
    {
     "data": {
      "text/plain": [
       "100×2 Array{Float64,2}:\n",
       " 4.39691e-50  4.39691e-50\n",
       " 2.23357e-33  2.23357e-33\n",
       " 2.16946e-48  2.16946e-48\n",
       " 8.81874e-65  8.81874e-65\n",
       " 3.31572e-68  3.31572e-68\n",
       " 3.37596e-45  3.37596e-45\n",
       " 1.29729e-69  1.29729e-69\n",
       " 5.8173e-54   5.8173e-54\n",
       " 3.54937e-72  3.54937e-72\n",
       " 9.7878e-57   9.7878e-57\n",
       " 2.15047e-59  2.15047e-59\n",
       " 4.97576e-47  4.97576e-47\n",
       " 4.02265e-70  4.02265e-70\n",
       " ⋮            \n",
       " 2.76268e-77  2.76268e-77\n",
       " 2.7504e-50   2.7504e-50\n",
       " 1.5534e-75   1.5534e-75\n",
       " 1.90464e-78  1.90464e-78\n",
       " 1.05184e-40  1.05184e-40\n",
       " 2.32362e-70  2.32362e-70\n",
       " 7.03583e-60  7.03583e-60\n",
       " 1.97484e-58  1.97484e-58\n",
       " 2.41524e-57  2.41524e-57\n",
       " 3.67252e-74  3.67252e-74\n",
       " 2.14911e-53  2.14911e-53\n",
       " 1.61675e-72  1.61675e-72"
      ]
     },
     "execution_count": 21,
     "metadata": {},
     "output_type": "execute_result"
    }
   ],
   "source": [
    "sigmoid(X_hc,θ)"
   ]
  },
  {
   "cell_type": "code",
   "execution_count": null,
   "metadata": {},
   "outputs": [],
   "source": [
    "#loss function \n",
    "function loss(X,y,w,λ,θ)\n",
    "    g = sigmoid(X,θ)\n",
    "    J = -w'*(y'*log.(g) + )\n",
    "end"
   ]
  }
 ],
 "metadata": {
  "kernelspec": {
   "display_name": "Julia 1.5.2",
   "language": "julia",
   "name": "julia-1.5"
  },
  "language_info": {
   "file_extension": ".jl",
   "mimetype": "application/julia",
   "name": "julia",
   "version": "1.5.2"
  }
 },
 "nbformat": 4,
 "nbformat_minor": 4
}
