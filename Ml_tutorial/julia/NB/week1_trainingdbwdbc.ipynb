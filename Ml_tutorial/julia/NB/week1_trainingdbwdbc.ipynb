{
 "cells": [
  {
   "cell_type": "code",
   "execution_count": 2,
   "metadata": {},
   "outputs": [
    {
     "data": {
      "text/plain": [
       "5-element Array{Float64,1}:\n",
       " 0.4506843835985943\n",
       " 0.8279585202438178\n",
       " 0.24021655100449624\n",
       " 0.6705868179263774\n",
       " 0.44107466244340165"
      ]
     },
     "execution_count": 2,
     "metadata": {},
     "output_type": "execute_result"
    }
   ],
   "source": [
    "x = rand(5)"
   ]
  },
  {
   "cell_type": "code",
   "execution_count": 3,
   "metadata": {},
   "outputs": [
    {
     "data": {
      "text/plain": [
       "5"
      ]
     },
     "execution_count": 3,
     "metadata": {},
     "output_type": "execute_result"
    }
   ],
   "source": [
    "length(x)"
   ]
  },
  {
   "cell_type": "code",
   "execution_count": 4,
   "metadata": {},
   "outputs": [],
   "source": [
    "using DelimitedFiles #thu vien doc du lieu"
   ]
  },
  {
   "cell_type": "code",
   "execution_count": 5,
   "metadata": {},
   "outputs": [
    {
     "data": {
      "text/plain": [
       "569×32 Array{Float64,2}:\n",
       " 842302.0        0.0  17.99   10.38  …  0.7119  0.2654   0.4601  0.1189\n",
       " 842517.0        0.0  20.57   17.77     0.2416  0.186    0.275   0.08902\n",
       "      8.43009e7  0.0  19.69   21.25     0.4504  0.243    0.3613  0.08758\n",
       "      8.43483e7  0.0  11.42   20.38     0.6869  0.2575   0.6638  0.173\n",
       "      8.43584e7  0.0  20.29   14.34     0.4     0.1625   0.2364  0.07678\n",
       " 843786.0        0.0  12.45   15.7   …  0.5355  0.1741   0.3985  0.1244\n",
       " 844359.0        0.0  18.25   19.98     0.3784  0.1932   0.3063  0.08368\n",
       "      8.44582e7  0.0  13.71   20.83     0.2678  0.1556   0.3196  0.1151\n",
       " 844981.0        0.0  13.0    21.82     0.539   0.206    0.4378  0.1072\n",
       "      8.4501e7   0.0  12.46   24.04     1.105   0.221    0.4366  0.2075\n",
       " 845636.0        0.0  16.02   23.24  …  0.1459  0.09975  0.2948  0.08452\n",
       "      8.461e7    0.0  15.78   17.89     0.3965  0.181    0.3792  0.1048\n",
       " 846226.0        0.0  19.17   24.8      0.3639  0.1767   0.3176  0.1023\n",
       "      ⋮                              ⋱                   ⋮       \n",
       " 925236.0        1.0   9.423  27.88     0.0     0.0      0.2475  0.06969\n",
       " 925277.0        1.0  14.59   22.68     0.3662  0.1105   0.2258  0.08004\n",
       " 925291.0        1.0  11.51   23.93     0.363   0.09653  0.2112  0.08732\n",
       " 925292.0        1.0  14.05   27.15  …  0.1326  0.1048   0.225   0.08321\n",
       " 925311.0        1.0  11.2    29.37     0.0     0.0      0.1566  0.05905\n",
       " 925622.0        0.0  15.22   30.62     1.17    0.2356   0.4089  0.1409\n",
       " 926125.0        0.0  20.92   25.09     0.6599  0.2542   0.2929  0.09873\n",
       " 926424.0        0.0  21.56   22.39     0.4107  0.2216   0.206   0.07115\n",
       " 926682.0        0.0  20.13   28.25  …  0.3215  0.1628   0.2572  0.06637\n",
       " 926954.0        0.0  16.6    28.08     0.3403  0.1418   0.2218  0.0782\n",
       " 927241.0        0.0  20.6    29.33     0.9387  0.265    0.4087  0.124\n",
       "  92751.0        1.0   7.76   24.54     0.0     0.0      0.2871  0.07039"
      ]
     },
     "execution_count": 5,
     "metadata": {},
     "output_type": "execute_result"
    }
   ],
   "source": [
    "A = readdlm(\"data/wdbc.txt\", ',', Float64, '\\n')"
   ]
  },
  {
   "cell_type": "code",
   "execution_count": 6,
   "metadata": {},
   "outputs": [
    {
     "data": {
      "text/plain": [
       "569-element Array{Float64,1}:\n",
       " 1.0\n",
       " 1.0\n",
       " 1.0\n",
       " 1.0\n",
       " 1.0\n",
       " 1.0\n",
       " 1.0\n",
       " 1.0\n",
       " 1.0\n",
       " 1.0\n",
       " 1.0\n",
       " 1.0\n",
       " 1.0\n",
       " ⋮\n",
       " 2.0\n",
       " 2.0\n",
       " 2.0\n",
       " 2.0\n",
       " 2.0\n",
       " 1.0\n",
       " 1.0\n",
       " 1.0\n",
       " 1.0\n",
       " 1.0\n",
       " 1.0\n",
       " 2.0"
      ]
     },
     "execution_count": 6,
     "metadata": {},
     "output_type": "execute_result"
    }
   ],
   "source": [
    "y = A[:, 2] .+ 1"
   ]
  },
  {
   "cell_type": "code",
   "execution_count": 7,
   "metadata": {},
   "outputs": [
    {
     "data": {
      "text/plain": [
       "569×10 Array{Float64,2}:\n",
       " 17.99   10.38  122.8   1001.0  0.1184   …  0.3001   0.1471   0.2419  0.07871\n",
       " 20.57   17.77  132.9   1326.0  0.08474     0.0869   0.07017  0.1812  0.05667\n",
       " 19.69   21.25  130.0   1203.0  0.1096      0.1974   0.1279   0.2069  0.05999\n",
       " 11.42   20.38   77.58   386.1  0.1425      0.2414   0.1052   0.2597  0.09744\n",
       " 20.29   14.34  135.1   1297.0  0.1003      0.198    0.1043   0.1809  0.05883\n",
       " 12.45   15.7    82.57   477.1  0.1278   …  0.1578   0.08089  0.2087  0.07613\n",
       " 18.25   19.98  119.6   1040.0  0.09463     0.1127   0.074    0.1794  0.05742\n",
       " 13.71   20.83   90.2    577.9  0.1189      0.09366  0.05985  0.2196  0.07451\n",
       " 13.0    21.82   87.5    519.8  0.1273      0.1859   0.09353  0.235   0.07389\n",
       " 12.46   24.04   83.97   475.9  0.1186      0.2273   0.08543  0.203   0.08243\n",
       " 16.02   23.24  102.7    797.8  0.08206  …  0.03299  0.03323  0.1528  0.05697\n",
       " 15.78   17.89  103.6    781.0  0.0971      0.09954  0.06606  0.1842  0.06082\n",
       " 19.17   24.8   132.4   1123.0  0.0974      0.2065   0.1118   0.2397  0.078\n",
       "  ⋮                                      ⋱                            \n",
       "  9.423  27.88   59.26   271.3  0.08123     0.0      0.0      0.1742  0.06059\n",
       " 14.59   22.68   96.39   657.1  0.08473     0.1029   0.03736  0.1454  0.06147\n",
       " 11.51   23.93   74.52   403.5  0.09261     0.1112   0.04105  0.1388  0.0657\n",
       " 14.05   27.15   91.38   600.4  0.09929  …  0.04462  0.04304  0.1537  0.06171\n",
       " 11.2    29.37   70.67   386.0  0.07449     0.0      0.0      0.106   0.05502\n",
       " 15.22   30.62  103.4    716.9  0.1048      0.255    0.09429  0.2128  0.07152\n",
       " 20.92   25.09  143.0   1347.0  0.1099      0.3174   0.1474   0.2149  0.06879\n",
       " 21.56   22.39  142.0   1479.0  0.111       0.2439   0.1389   0.1726  0.05623\n",
       " 20.13   28.25  131.2   1261.0  0.0978   …  0.144    0.09791  0.1752  0.05533\n",
       " 16.6    28.08  108.3    858.1  0.08455     0.09251  0.05302  0.159   0.05648\n",
       " 20.6    29.33  140.1   1265.0  0.1178      0.3514   0.152    0.2397  0.07016\n",
       "  7.76   24.54   47.92   181.0  0.05263     0.0      0.0      0.1587  0.05884"
      ]
     },
     "execution_count": 7,
     "metadata": {},
     "output_type": "execute_result"
    }
   ],
   "source": [
    "X = A[:, 3:12]"
   ]
  },
  {
   "cell_type": "code",
   "execution_count": 8,
   "metadata": {},
   "outputs": [
    {
     "data": {
      "text/plain": [
       "(569, 10)"
      ]
     },
     "execution_count": 8,
     "metadata": {},
     "output_type": "execute_result"
    }
   ],
   "source": [
    "size(X)"
   ]
  },
  {
   "cell_type": "code",
   "execution_count": 9,
   "metadata": {},
   "outputs": [
    {
     "data": {
      "text/plain": [
       "569×30 Array{Float64,2}:\n",
       " 17.99   10.38  122.8   1001.0  0.1184   …  0.7119  0.2654   0.4601  0.1189\n",
       " 20.57   17.77  132.9   1326.0  0.08474     0.2416  0.186    0.275   0.08902\n",
       " 19.69   21.25  130.0   1203.0  0.1096      0.4504  0.243    0.3613  0.08758\n",
       " 11.42   20.38   77.58   386.1  0.1425      0.6869  0.2575   0.6638  0.173\n",
       " 20.29   14.34  135.1   1297.0  0.1003      0.4     0.1625   0.2364  0.07678\n",
       " 12.45   15.7    82.57   477.1  0.1278   …  0.5355  0.1741   0.3985  0.1244\n",
       " 18.25   19.98  119.6   1040.0  0.09463     0.3784  0.1932   0.3063  0.08368\n",
       " 13.71   20.83   90.2    577.9  0.1189      0.2678  0.1556   0.3196  0.1151\n",
       " 13.0    21.82   87.5    519.8  0.1273      0.539   0.206    0.4378  0.1072\n",
       " 12.46   24.04   83.97   475.9  0.1186      1.105   0.221    0.4366  0.2075\n",
       " 16.02   23.24  102.7    797.8  0.08206  …  0.1459  0.09975  0.2948  0.08452\n",
       " 15.78   17.89  103.6    781.0  0.0971      0.3965  0.181    0.3792  0.1048\n",
       " 19.17   24.8   132.4   1123.0  0.0974      0.3639  0.1767   0.3176  0.1023\n",
       "  ⋮                                      ⋱                           \n",
       "  9.423  27.88   59.26   271.3  0.08123     0.0     0.0      0.2475  0.06969\n",
       " 14.59   22.68   96.39   657.1  0.08473     0.3662  0.1105   0.2258  0.08004\n",
       " 11.51   23.93   74.52   403.5  0.09261     0.363   0.09653  0.2112  0.08732\n",
       " 14.05   27.15   91.38   600.4  0.09929  …  0.1326  0.1048   0.225   0.08321\n",
       " 11.2    29.37   70.67   386.0  0.07449     0.0     0.0      0.1566  0.05905\n",
       " 15.22   30.62  103.4    716.9  0.1048      1.17    0.2356   0.4089  0.1409\n",
       " 20.92   25.09  143.0   1347.0  0.1099      0.6599  0.2542   0.2929  0.09873\n",
       " 21.56   22.39  142.0   1479.0  0.111       0.4107  0.2216   0.206   0.07115\n",
       " 20.13   28.25  131.2   1261.0  0.0978   …  0.3215  0.1628   0.2572  0.06637\n",
       " 16.6    28.08  108.3    858.1  0.08455     0.3403  0.1418   0.2218  0.0782\n",
       " 20.6    29.33  140.1   1265.0  0.1178      0.9387  0.265    0.4087  0.124\n",
       "  7.76   24.54   47.92   181.0  0.05263     0.0     0.0      0.2871  0.07039"
      ]
     },
     "execution_count": 9,
     "metadata": {},
     "output_type": "execute_result"
    }
   ],
   "source": [
    "X_all = A[:, 3:end]"
   ]
  },
  {
   "cell_type": "code",
   "execution_count": 10,
   "metadata": {},
   "outputs": [
    {
     "data": {
      "text/plain": [
       "(569, 30)"
      ]
     },
     "execution_count": 10,
     "metadata": {},
     "output_type": "execute_result"
    }
   ],
   "source": [
    "size(X_all)"
   ]
  },
  {
   "cell_type": "code",
   "execution_count": 1,
   "metadata": {},
   "outputs": [
    {
     "data": {
      "text/plain": [
       "2-element Array{Float64,1}:\n",
       " 0.0\n",
       " 0.0"
      ]
     },
     "execution_count": 1,
     "metadata": {},
     "output_type": "execute_result"
    }
   ],
   "source": [
    "θ = zeros(2) #tao mang 2*1"
   ]
  },
  {
   "cell_type": "code",
   "execution_count": 2,
   "metadata": {},
   "outputs": [
    {
     "data": {
      "text/plain": [
       "(2,)"
      ]
     },
     "execution_count": 2,
     "metadata": {},
     "output_type": "execute_result"
    }
   ],
   "source": [
    "size(θ)"
   ]
  },
  {
   "cell_type": "code",
   "execution_count": 12,
   "metadata": {},
   "outputs": [
    {
     "data": {
      "text/plain": [
       "(569, 10)"
      ]
     },
     "execution_count": 12,
     "metadata": {},
     "output_type": "execute_result"
    }
   ],
   "source": [
    "N, D = size(X)"
   ]
  },
  {
   "cell_type": "code",
   "execution_count": 13,
   "metadata": {},
   "outputs": [
    {
     "data": {
      "text/plain": [
       "2"
      ]
     },
     "execution_count": 13,
     "metadata": {},
     "output_type": "execute_result"
    }
   ],
   "source": [
    "K =2"
   ]
  },
  {
   "cell_type": "code",
   "execution_count": 14,
   "metadata": {},
   "outputs": [
    {
     "data": {
      "text/plain": [
       "2×10 Array{Float64,2}:\n",
       " 0.0  0.0  0.0  0.0  0.0  0.0  0.0  0.0  0.0  0.0\n",
       " 0.0  0.0  0.0  0.0  0.0  0.0  0.0  0.0  0.0  0.0"
      ]
     },
     "execution_count": 14,
     "metadata": {},
     "output_type": "execute_result"
    }
   ],
   "source": [
    "μ = zeros(K, D)\n",
    "σ = zeros(K, D)"
   ]
  },
  {
   "cell_type": "code",
   "execution_count": 15,
   "metadata": {},
   "outputs": [],
   "source": [
    "using Statistics #chua ham mean"
   ]
  },
  {
   "cell_type": "code",
   "execution_count": 16,
   "metadata": {},
   "outputs": [
    {
     "data": {
      "text/plain": [
       "2-element Array{Float64,1}:\n",
       " 0.37258347978910367\n",
       " 0.6274165202108963"
      ]
     },
     "execution_count": 16,
     "metadata": {},
     "output_type": "execute_result"
    }
   ],
   "source": [
    "θ[1] = sum(y .== 1)/N\n",
    "θ[2] = sum(y .== 2)/N\n",
    "θ"
   ]
  },
  {
   "cell_type": "code",
   "execution_count": 17,
   "metadata": {},
   "outputs": [
    {
     "data": {
      "text/plain": [
       "2×10 Array{Float64,2}:\n",
       " 17.4628  21.6049  115.365   978.376  …  0.08799    0.192909  0.0626801\n",
       " 12.1465  17.9148   78.0754  462.79      0.0257174  0.174186  0.0628674"
      ]
     },
     "execution_count": 17,
     "metadata": {},
     "output_type": "execute_result"
    }
   ],
   "source": [
    "X_1 = X[y .== 1, :]\n",
    "X_2 = X[y .==2, :]\n",
    "μ[1, :] = mean(X_1, dims=1) #dims=1 tinh theo cot =2 tinh theo hang\n",
    "μ[2, :] = mean(X_2, dims=1)\n",
    "μ"
   ]
  },
  {
   "cell_type": "code",
   "execution_count": 18,
   "metadata": {},
   "outputs": [
    {
     "data": {
      "text/plain": [
       "2×10 Array{Float64,2}:\n",
       " 3.20397  3.77947  21.8547  367.938  …  0.0343739  0.0276381  0.00757332\n",
       " 1.78051  3.99512  11.8074  134.287     0.0159088  0.0248068  0.00674734"
      ]
     },
     "execution_count": 18,
     "metadata": {},
     "output_type": "execute_result"
    }
   ],
   "source": [
    "σ[1, :] = std(X_1, dims=1) #ham std dung de tinh ki vong \n",
    "σ[2, :] = std(X_2, dims=1)\n",
    "σ"
   ]
  },
  {
   "cell_type": "code",
   "execution_count": 19,
   "metadata": {},
   "outputs": [
    {
     "data": {
      "text/plain": [
       "([0.37258347978910367, 0.6274165202108963], [17.462830188679245 21.604905660377362 … 0.19290896226415097 0.06268009433962264; 12.146523809523813 17.914761904761903 … 0.17418599439775911 0.0628673949579832], [3.203971100779367 3.779469920776341 … 0.027638092143030174 0.007573315024808589; 1.7805116461410393 3.995124593675911 … 0.02480675820679328 0.0067473428139250636])"
      ]
     },
     "execution_count": 19,
     "metadata": {},
     "output_type": "execute_result"
    }
   ],
   "source": [
    "(θ, μ, σ)"
   ]
  },
  {
   "cell_type": "code",
   "execution_count": 20,
   "metadata": {},
   "outputs": [
    {
     "data": {
      "text/plain": [
       "train (generic function with 1 method)"
      ]
     },
     "execution_count": 20,
     "metadata": {},
     "output_type": "execute_result"
    }
   ],
   "source": [
    "function train(X, y)\n",
    "    N, D = size(X)\n",
    "    K = length(unique(y)) #lay cac gia tri khac nhau\n",
    "    θ = zeros(K)\n",
    "    μ = zeros(K, D)\n",
    "    σ = zeros(K, D)\n",
    "    for k=1:K\n",
    "        θ[k] = sum(y .==k)/N\n",
    "        X_k = X[y .==k, :]\n",
    "        μ[k, :] =mean(X_k, dims=1)\n",
    "        σ[k, :] =std(X_k, dims=1)\n",
    "    end\n",
    "    (θ, μ, σ)\n",
    "end"
   ]
  },
  {
   "cell_type": "code",
   "execution_count": 21,
   "metadata": {},
   "outputs": [
    {
     "data": {
      "text/plain": [
       "569×10 Array{Float64,2}:\n",
       " 17.99   10.38  122.8   1001.0  0.1184   …  0.3001   0.1471   0.2419  0.07871\n",
       " 20.57   17.77  132.9   1326.0  0.08474     0.0869   0.07017  0.1812  0.05667\n",
       " 19.69   21.25  130.0   1203.0  0.1096      0.1974   0.1279   0.2069  0.05999\n",
       " 11.42   20.38   77.58   386.1  0.1425      0.2414   0.1052   0.2597  0.09744\n",
       " 20.29   14.34  135.1   1297.0  0.1003      0.198    0.1043   0.1809  0.05883\n",
       " 12.45   15.7    82.57   477.1  0.1278   …  0.1578   0.08089  0.2087  0.07613\n",
       " 18.25   19.98  119.6   1040.0  0.09463     0.1127   0.074    0.1794  0.05742\n",
       " 13.71   20.83   90.2    577.9  0.1189      0.09366  0.05985  0.2196  0.07451\n",
       " 13.0    21.82   87.5    519.8  0.1273      0.1859   0.09353  0.235   0.07389\n",
       " 12.46   24.04   83.97   475.9  0.1186      0.2273   0.08543  0.203   0.08243\n",
       " 16.02   23.24  102.7    797.8  0.08206  …  0.03299  0.03323  0.1528  0.05697\n",
       " 15.78   17.89  103.6    781.0  0.0971      0.09954  0.06606  0.1842  0.06082\n",
       " 19.17   24.8   132.4   1123.0  0.0974      0.2065   0.1118   0.2397  0.078\n",
       "  ⋮                                      ⋱                            \n",
       "  9.423  27.88   59.26   271.3  0.08123     0.0      0.0      0.1742  0.06059\n",
       " 14.59   22.68   96.39   657.1  0.08473     0.1029   0.03736  0.1454  0.06147\n",
       " 11.51   23.93   74.52   403.5  0.09261     0.1112   0.04105  0.1388  0.0657\n",
       " 14.05   27.15   91.38   600.4  0.09929  …  0.04462  0.04304  0.1537  0.06171\n",
       " 11.2    29.37   70.67   386.0  0.07449     0.0      0.0      0.106   0.05502\n",
       " 15.22   30.62  103.4    716.9  0.1048      0.255    0.09429  0.2128  0.07152\n",
       " 20.92   25.09  143.0   1347.0  0.1099      0.3174   0.1474   0.2149  0.06879\n",
       " 21.56   22.39  142.0   1479.0  0.111       0.2439   0.1389   0.1726  0.05623\n",
       " 20.13   28.25  131.2   1261.0  0.0978   …  0.144    0.09791  0.1752  0.05533\n",
       " 16.6    28.08  108.3    858.1  0.08455     0.09251  0.05302  0.159   0.05648\n",
       " 20.6    29.33  140.1   1265.0  0.1178      0.3514   0.152    0.2397  0.07016\n",
       "  7.76   24.54   47.92   181.0  0.05263     0.0      0.0      0.1587  0.05884"
      ]
     },
     "execution_count": 21,
     "metadata": {},
     "output_type": "execute_result"
    }
   ],
   "source": [
    "X "
   ]
  },
  {
   "cell_type": "code",
   "execution_count": 22,
   "metadata": {},
   "outputs": [
    {
     "data": {
      "text/plain": [
       "569-element Array{Float64,1}:\n",
       " 1.0\n",
       " 1.0\n",
       " 1.0\n",
       " 1.0\n",
       " 1.0\n",
       " 1.0\n",
       " 1.0\n",
       " 1.0\n",
       " 1.0\n",
       " 1.0\n",
       " 1.0\n",
       " 1.0\n",
       " 1.0\n",
       " ⋮\n",
       " 2.0\n",
       " 2.0\n",
       " 2.0\n",
       " 2.0\n",
       " 2.0\n",
       " 1.0\n",
       " 1.0\n",
       " 1.0\n",
       " 1.0\n",
       " 1.0\n",
       " 1.0\n",
       " 2.0"
      ]
     },
     "execution_count": 22,
     "metadata": {},
     "output_type": "execute_result"
    }
   ],
   "source": [
    "y"
   ]
  },
  {
   "cell_type": "code",
   "execution_count": 23,
   "metadata": {},
   "outputs": [
    {
     "data": {
      "text/plain": [
       "([0.37258347978910367, 0.6274165202108963], [17.462830188679245 21.604905660377362 … 0.19290896226415097 0.06268009433962264; 12.146523809523813 17.914761904761903 … 0.17418599439775911 0.0628673949579832], [3.203971100779367 3.779469920776341 … 0.027638092143030174 0.007573315024808589; 1.7805116461410393 3.995124593675911 … 0.02480675820679328 0.0067473428139250636])"
      ]
     },
     "execution_count": 23,
     "metadata": {},
     "output_type": "execute_result"
    }
   ],
   "source": [
    "(θ, μ, σ) = train(X, y)"
   ]
  },
  {
   "cell_type": "code",
   "execution_count": 24,
   "metadata": {},
   "outputs": [
    {
     "data": {
      "text/plain": [
       "10-element Array{Float64,1}:\n",
       "  14.42\n",
       "  19.77\n",
       "  94.48\n",
       " 642.5\n",
       "   0.09752\n",
       "   0.1141\n",
       "   0.09388\n",
       "   0.05839\n",
       "   0.1879\n",
       "   0.0639"
      ]
     },
     "execution_count": 24,
     "metadata": {},
     "output_type": "execute_result"
    }
   ],
   "source": [
    "X[100, :]"
   ]
  },
  {
   "cell_type": "code",
   "execution_count": 25,
   "metadata": {},
   "outputs": [
    {
     "data": {
      "text/plain": [
       "1.0"
      ]
     },
     "execution_count": 25,
     "metadata": {},
     "output_type": "execute_result"
    }
   ],
   "source": [
    "y[100]"
   ]
  },
  {
   "cell_type": "code",
   "execution_count": 26,
   "metadata": {},
   "outputs": [
    {
     "data": {
      "text/plain": [
       "10-element Array{Float64,1}:\n",
       "  11.8\n",
       "  17.26\n",
       "  75.26\n",
       " 431.9\n",
       "   0.09087\n",
       "   0.06232\n",
       "   0.02853\n",
       "   0.01638\n",
       "   0.1847\n",
       "   0.06019"
      ]
     },
     "execution_count": 26,
     "metadata": {},
     "output_type": "execute_result"
    }
   ],
   "source": [
    "X[400, :]"
   ]
  },
  {
   "cell_type": "code",
   "execution_count": 27,
   "metadata": {},
   "outputs": [
    {
     "data": {
      "text/plain": [
       "2.0"
      ]
     },
     "execution_count": 27,
     "metadata": {},
     "output_type": "execute_result"
    }
   ],
   "source": [
    "y[400]"
   ]
  },
  {
   "cell_type": "code",
   "execution_count": 28,
   "metadata": {},
   "outputs": [
    {
     "data": {
      "text/plain": [
       "10-element Array{Float64,1}:\n",
       "  14.42\n",
       "  19.77\n",
       "  94.48\n",
       " 642.5\n",
       "   0.09752\n",
       "   0.1141\n",
       "   0.09388\n",
       "   0.05839\n",
       "   0.1879\n",
       "   0.0639"
      ]
     },
     "execution_count": 28,
     "metadata": {},
     "output_type": "execute_result"
    }
   ],
   "source": [
    "xNew = X[100, :]"
   ]
  },
  {
   "cell_type": "code",
   "execution_count": 29,
   "metadata": {},
   "outputs": [
    {
     "data": {
      "text/plain": [
       "1×1 Array{Int64,2}:\n",
       " 14"
      ]
     },
     "execution_count": 29,
     "metadata": {},
     "output_type": "execute_result"
    }
   ],
   "source": [
    "u = [1 2 3]\n",
    "u*u'"
   ]
  },
  {
   "cell_type": "code",
   "execution_count": 30,
   "metadata": {},
   "outputs": [
    {
     "data": {
      "text/plain": [
       "-8.098419462134306"
      ]
     },
     "execution_count": 30,
     "metadata": {},
     "output_type": "execute_result"
    }
   ],
   "source": [
    "# Computer posterior probability distribution : P(y = 1|xNew), P(y = 2|xNew)\n",
    "\n",
    "#log P(y = 1|xNew) ∝ log(prior_1) + log(likelihood_1) = α_1 + β_1\n",
    "α_1 = log(θ[1])\n",
    "u = (xNew - μ[1, :])./σ[1 , :]\n",
    "β_1 = sum(log.(σ[1, :])) + sum(u.*u)/2    #log cua vector\n",
    "\n",
    "#log P(y = 2|xNew) ∝ log(prior_2) + log(likelihood_2) = α_2 + β_2\n",
    "α_2 = log(θ[2])\n",
    "v = (xNew - μ[2, :])./σ[2 , :]\n",
    "β_2 = sum(log.(σ[2, :])) + sum(v.*v)/2 "
   ]
  },
  {
   "cell_type": "code",
   "execution_count": 31,
   "metadata": {},
   "outputs": [
    {
     "data": {
      "text/plain": [
       "6.754347357346591"
      ]
     },
     "execution_count": 31,
     "metadata": {},
     "output_type": "execute_result"
    }
   ],
   "source": [
    "α_1 -β_1"
   ]
  },
  {
   "cell_type": "code",
   "execution_count": 32,
   "metadata": {},
   "outputs": [
    {
     "data": {
      "text/plain": [
       "7.632274809787614"
      ]
     },
     "execution_count": 32,
     "metadata": {},
     "output_type": "execute_result"
    }
   ],
   "source": [
    "α_2 - β_2"
   ]
  },
  {
   "cell_type": "code",
   "execution_count": 33,
   "metadata": {},
   "outputs": [
    {
     "data": {
      "text/plain": [
       "5-element Array{Float64,1}:\n",
       " 0.14656459159435475\n",
       " 0.8500973514026027\n",
       " 0.33057223566803984\n",
       " 0.8763350311135896\n",
       " 0.08290551697989712"
      ]
     },
     "execution_count": 33,
     "metadata": {},
     "output_type": "execute_result"
    }
   ],
   "source": [
    "u = rand(5)"
   ]
  },
  {
   "cell_type": "code",
   "execution_count": 34,
   "metadata": {},
   "outputs": [
    {
     "data": {
      "text/plain": [
       "4"
      ]
     },
     "execution_count": 34,
     "metadata": {},
     "output_type": "execute_result"
    }
   ],
   "source": [
    "argmax(u)"
   ]
  },
  {
   "cell_type": "code",
   "execution_count": 35,
   "metadata": {},
   "outputs": [
    {
     "data": {
      "text/plain": [
       "classify (generic function with 1 method)"
      ]
     },
     "execution_count": 35,
     "metadata": {},
     "output_type": "execute_result"
    }
   ],
   "source": [
    "function classify(xNew, θ, μ, σ)\n",
    "    K = length(θ)\n",
    "    scores = zeros(K)\n",
    "    for k = 1 : K\n",
    "        α_k = log(θ[k])\n",
    "        u = (xNew - μ[k, :])./σ[k , :]\n",
    "        β_k = sum(log.(σ[k, :])) + sum(u.*u)/2 \n",
    "        scores[k]= α_k - β_k\n",
    "    end\n",
    "    argmax(scores)\n",
    "end"
   ]
  },
  {
   "cell_type": "code",
   "execution_count": 36,
   "metadata": {},
   "outputs": [
    {
     "data": {
      "text/plain": [
       "2"
      ]
     },
     "execution_count": 36,
     "metadata": {},
     "output_type": "execute_result"
    }
   ],
   "source": [
    "xNew = X[100, :]\n",
    "yNew = classify(xNew, θ, μ, σ)"
   ]
  },
  {
   "cell_type": "code",
   "execution_count": 37,
   "metadata": {},
   "outputs": [
    {
     "data": {
      "text/plain": [
       "2"
      ]
     },
     "execution_count": 37,
     "metadata": {},
     "output_type": "execute_result"
    }
   ],
   "source": [
    "xNew = X[400, :]\n",
    "yNew = classify(xNew, θ, μ, σ)"
   ]
  },
  {
   "cell_type": "code",
   "execution_count": 38,
   "metadata": {},
   "outputs": [],
   "source": [
    "ŷ = zeros(N)\n",
    "for i=1:N\n",
    "    ŷ[i] = classify(X[i, :], θ, μ, σ)\n",
    "end"
   ]
  },
  {
   "cell_type": "code",
   "execution_count": 39,
   "metadata": {},
   "outputs": [
    {
     "data": {
      "text/plain": [
       "569-element Array{Float64,1}:\n",
       " 1.0\n",
       " 1.0\n",
       " 1.0\n",
       " 1.0\n",
       " 1.0\n",
       " 1.0\n",
       " 1.0\n",
       " 1.0\n",
       " 1.0\n",
       " 1.0\n",
       " 2.0\n",
       " 1.0\n",
       " 1.0\n",
       " ⋮\n",
       " 2.0\n",
       " 2.0\n",
       " 2.0\n",
       " 2.0\n",
       " 2.0\n",
       " 1.0\n",
       " 1.0\n",
       " 1.0\n",
       " 1.0\n",
       " 1.0\n",
       " 1.0\n",
       " 2.0"
      ]
     },
     "execution_count": 39,
     "metadata": {},
     "output_type": "execute_result"
    }
   ],
   "source": [
    "ŷ"
   ]
  },
  {
   "cell_type": "code",
   "execution_count": 40,
   "metadata": {},
   "outputs": [
    {
     "data": {
      "text/plain": [
       "0.9138840070298769"
      ]
     },
     "execution_count": 40,
     "metadata": {},
     "output_type": "execute_result"
    }
   ],
   "source": [
    "accuracy = sum(y.==ŷ)/N"
   ]
  },
  {
   "cell_type": "code",
   "execution_count": 41,
   "metadata": {},
   "outputs": [
    {
     "data": {
      "text/plain": [
       "(569, 10)"
      ]
     },
     "execution_count": 41,
     "metadata": {},
     "output_type": "execute_result"
    }
   ],
   "source": [
    "size(X)"
   ]
  },
  {
   "cell_type": "code",
   "execution_count": 42,
   "metadata": {},
   "outputs": [
    {
     "data": {
      "text/plain": [
       "2-element Array{Float64,1}:\n",
       " 0.37258347978910367\n",
       " 0.6274165202108963"
      ]
     },
     "execution_count": 42,
     "metadata": {},
     "output_type": "execute_result"
    }
   ],
   "source": [
    "θ"
   ]
  },
  {
   "cell_type": "code",
   "execution_count": 43,
   "metadata": {},
   "outputs": [
    {
     "data": {
      "text/plain": [
       "evaluate (generic function with 1 method)"
      ]
     },
     "execution_count": 43,
     "metadata": {},
     "output_type": "execute_result"
    }
   ],
   "source": [
    "function evaluate(X, y, θ, μ, σ)\n",
    "    N = length(y)\n",
    "    ŷ = zeros(N)\n",
    "    for i=1:N\n",
    "        ŷ[i] = classify(X[i, :], θ, μ, σ)\n",
    "    end\n",
    "    sum(y .== ŷ)/N\n",
    "end"
   ]
  },
  {
   "cell_type": "code",
   "execution_count": 44,
   "metadata": {},
   "outputs": [
    {
     "data": {
      "text/plain": [
       "0.9138840070298769"
      ]
     },
     "execution_count": 44,
     "metadata": {},
     "output_type": "execute_result"
    }
   ],
   "source": [
    "evaluate(X, y, θ, μ, σ)"
   ]
  },
  {
   "cell_type": "code",
   "execution_count": 45,
   "metadata": {},
   "outputs": [
    {
     "data": {
      "text/plain": [
       "0.83"
      ]
     },
     "execution_count": 45,
     "metadata": {},
     "output_type": "execute_result"
    }
   ],
   "source": [
    "evaluate(X[1:100, :], y[1:100], θ, μ, σ)"
   ]
  },
  {
   "cell_type": "code",
   "execution_count": 46,
   "metadata": {},
   "outputs": [
    {
     "data": {
      "text/plain": [
       "0.9306930693069307"
      ]
     },
     "execution_count": 46,
     "metadata": {},
     "output_type": "execute_result"
    }
   ],
   "source": [
    "evaluate(X[N-100:end, :], y[N-100:end], θ, μ, σ)"
   ]
  },
  {
   "cell_type": "code",
   "execution_count": 47,
   "metadata": {},
   "outputs": [
    {
     "data": {
      "text/plain": [
       "evaluate (generic function with 1 method)"
      ]
     },
     "execution_count": 47,
     "metadata": {},
     "output_type": "execute_result"
    }
   ],
   "source": [
    "function train1(X, y)\n",
    "    N, D = size(X)\n",
    "    K = length(unique(y)) #lay cac gia tri khac nhau\n",
    "    θ = zeros(K)\n",
    "    μ = zeros(K, D)\n",
    "    σ = zeros(K, D)\n",
    "    for k=1:K\n",
    "        θ[k] = sum(y .==k)/N\n",
    "        X_k = X[y .==k, :]\n",
    "        μ[k, :] =mean(X_k, dims=1)\n",
    "        σ[k, :] =std(X_k, dims=1)\n",
    "    end\n",
    "    (θ, μ, σ)\n",
    "end\n",
    "\n",
    "function classify(xNew, θ, μ, σ)\n",
    "    K = length(θ)\n",
    "    scores = zeros(K)\n",
    "    for k = 1 : K\n",
    "        α_k = log(θ[k])\n",
    "        u = (xNew - μ[k, :])./σ[k , :]\n",
    "        β_k = sum(log.(σ[k, :])) + sum(u.*u)/2 \n",
    "        scores[k]= α_k - β_k\n",
    "    end\n",
    "    argmax(scores)\n",
    "end\n",
    "\n",
    "function evaluate(X, y, θ, μ, σ)\n",
    "    N = length(y)\n",
    "    ŷ = zeros(N)\n",
    "    for i=1:N\n",
    "        ŷ[i] = classify(X[i, :], θ, μ, σ)\n",
    "    end\n",
    "    sum(y .== ŷ)/N\n",
    "end"
   ]
  },
  {
   "cell_type": "code",
   "execution_count": 48,
   "metadata": {},
   "outputs": [
    {
     "data": {
      "text/plain": [
       "569×30 Array{Float64,2}:\n",
       " 17.99   10.38  122.8   1001.0  0.1184   …  0.7119  0.2654   0.4601  0.1189\n",
       " 20.57   17.77  132.9   1326.0  0.08474     0.2416  0.186    0.275   0.08902\n",
       " 19.69   21.25  130.0   1203.0  0.1096      0.4504  0.243    0.3613  0.08758\n",
       " 11.42   20.38   77.58   386.1  0.1425      0.6869  0.2575   0.6638  0.173\n",
       " 20.29   14.34  135.1   1297.0  0.1003      0.4     0.1625   0.2364  0.07678\n",
       " 12.45   15.7    82.57   477.1  0.1278   …  0.5355  0.1741   0.3985  0.1244\n",
       " 18.25   19.98  119.6   1040.0  0.09463     0.3784  0.1932   0.3063  0.08368\n",
       " 13.71   20.83   90.2    577.9  0.1189      0.2678  0.1556   0.3196  0.1151\n",
       " 13.0    21.82   87.5    519.8  0.1273      0.539   0.206    0.4378  0.1072\n",
       " 12.46   24.04   83.97   475.9  0.1186      1.105   0.221    0.4366  0.2075\n",
       " 16.02   23.24  102.7    797.8  0.08206  …  0.1459  0.09975  0.2948  0.08452\n",
       " 15.78   17.89  103.6    781.0  0.0971      0.3965  0.181    0.3792  0.1048\n",
       " 19.17   24.8   132.4   1123.0  0.0974      0.3639  0.1767   0.3176  0.1023\n",
       "  ⋮                                      ⋱                           \n",
       "  9.423  27.88   59.26   271.3  0.08123     0.0     0.0      0.2475  0.06969\n",
       " 14.59   22.68   96.39   657.1  0.08473     0.3662  0.1105   0.2258  0.08004\n",
       " 11.51   23.93   74.52   403.5  0.09261     0.363   0.09653  0.2112  0.08732\n",
       " 14.05   27.15   91.38   600.4  0.09929  …  0.1326  0.1048   0.225   0.08321\n",
       " 11.2    29.37   70.67   386.0  0.07449     0.0     0.0      0.1566  0.05905\n",
       " 15.22   30.62  103.4    716.9  0.1048      1.17    0.2356   0.4089  0.1409\n",
       " 20.92   25.09  143.0   1347.0  0.1099      0.6599  0.2542   0.2929  0.09873\n",
       " 21.56   22.39  142.0   1479.0  0.111       0.4107  0.2216   0.206   0.07115\n",
       " 20.13   28.25  131.2   1261.0  0.0978   …  0.3215  0.1628   0.2572  0.06637\n",
       " 16.6    28.08  108.3    858.1  0.08455     0.3403  0.1418   0.2218  0.0782\n",
       " 20.6    29.33  140.1   1265.0  0.1178      0.9387  0.265    0.4087  0.124\n",
       "  7.76   24.54   47.92   181.0  0.05263     0.0     0.0      0.2871  0.07039"
      ]
     },
     "execution_count": 48,
     "metadata": {},
     "output_type": "execute_result"
    }
   ],
   "source": [
    "X = A[:, 3:end]"
   ]
  },
  {
   "cell_type": "code",
   "execution_count": null,
   "metadata": {
    "scrolled": false
   },
   "outputs": [],
   "source": []
  },
  {
   "cell_type": "code",
   "execution_count": 49,
   "metadata": {},
   "outputs": [
    {
     "data": {
      "text/plain": [
       "([0.37258347978910367, 0.6274165202108963], [17.462830188679245 21.604905660377362 … 0.32346792452830186 0.09152995283018867; 12.146523809523813 17.914761904761903 … 0.27024593837535005 0.07944207282913165], [3.203971100779367 3.779469920776341 … 0.0746849560686125 0.02155288851442655; 1.7805116461410393 3.995124593675911 … 0.0417447664287058 0.013804045110823396])"
      ]
     },
     "execution_count": 49,
     "metadata": {},
     "output_type": "execute_result"
    }
   ],
   "source": [
    "(θ, μ, σ) = train(X, y)"
   ]
  },
  {
   "cell_type": "code",
   "execution_count": 81,
   "metadata": {},
   "outputs": [
    {
     "data": {
      "text/plain": [
       "(2, 30)"
      ]
     },
     "execution_count": 81,
     "metadata": {},
     "output_type": "execute_result"
    }
   ],
   "source": [
    "size(μ)"
   ]
  },
  {
   "cell_type": "code",
   "execution_count": 82,
   "metadata": {},
   "outputs": [
    {
     "data": {
      "text/plain": [
       "(2, 30)"
      ]
     },
     "execution_count": 82,
     "metadata": {},
     "output_type": "execute_result"
    }
   ],
   "source": [
    "size(σ)"
   ]
  },
  {
   "cell_type": "code",
   "execution_count": 83,
   "metadata": {},
   "outputs": [
    {
     "data": {
      "text/plain": [
       "0.9402460456942003"
      ]
     },
     "execution_count": 83,
     "metadata": {},
     "output_type": "execute_result"
    }
   ],
   "source": [
    "evaluate(X, y, θ, μ, σ)"
   ]
  },
  {
   "cell_type": "code",
   "execution_count": 6,
   "metadata": {},
   "outputs": [
    {
     "data": {
      "text/plain": [
       "3×3 Array{Int64,2}:\n",
       " 3  5  6\n",
       " 4  5  6\n",
       " 6  6  5"
      ]
     },
     "execution_count": 6,
     "metadata": {},
     "output_type": "execute_result"
    }
   ],
   "source": [
    "A=[3 5 6;4 5 6;6 6 5]"
   ]
  },
  {
   "cell_type": "code",
   "execution_count": 8,
   "metadata": {},
   "outputs": [
    {
     "data": {
      "text/plain": [
       "3"
      ]
     },
     "execution_count": 8,
     "metadata": {},
     "output_type": "execute_result"
    }
   ],
   "source": [
    "sum(Int.(A[:,:]).==5)"
   ]
  },
  {
   "cell_type": "code",
   "execution_count": 9,
   "metadata": {},
   "outputs": [
    {
     "ename": "LoadError",
     "evalue": "UndefVarError: Sum not defined",
     "output_type": "error",
     "traceback": [
      "UndefVarError: Sum not defined",
      "",
      "Stacktrace:",
      " [1] top-level scope at In[9]:1",
      " [2] include_string(::Function, ::Module, ::String, ::String) at .\\loading.jl:1091",
      " [3] execute_code(::String, ::String) at C:\\Users\\ThinkPro\\.julia\\packages\\IJulia\\a1SNk\\src\\execute_request.jl:27",
      " [4] execute_request(::ZMQ.Socket, ::IJulia.Msg) at C:\\Users\\ThinkPro\\.julia\\packages\\IJulia\\a1SNk\\src\\execute_request.jl:86",
      " [5] #invokelatest#1 at .\\essentials.jl:710 [inlined]",
      " [6] invokelatest at .\\essentials.jl:709 [inlined]",
      " [7] eventloop(::ZMQ.Socket) at C:\\Users\\ThinkPro\\.julia\\packages\\IJulia\\a1SNk\\src\\eventloop.jl:8",
      " [8] (::IJulia.var\"#15#18\")() at .\\task.jl:356"
     ]
    }
   ],
   "source": []
  },
  {
   "cell_type": "code",
   "execution_count": null,
   "metadata": {},
   "outputs": [],
   "source": []
  }
 ],
 "metadata": {
  "kernelspec": {
   "display_name": "Julia 1.5.2",
   "language": "julia",
   "name": "julia-1.5"
  },
  "language_info": {
   "file_extension": ".jl",
   "mimetype": "application/julia",
   "name": "julia",
   "version": "1.5.2"
  }
 },
 "nbformat": 4,
 "nbformat_minor": 4
}
