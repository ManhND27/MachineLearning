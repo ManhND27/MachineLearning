{
 "metadata": {
  "language_info": {
   "codemirror_mode": {
    "name": "ipython",
    "version": 3
   },
   "file_extension": ".py",
   "mimetype": "text/x-python",
   "name": "python",
   "nbconvert_exporter": "python",
   "pygments_lexer": "ipython3",
   "version": "3.9.4"
  },
  "orig_nbformat": 2,
  "kernelspec": {
   "name": "python394jvsc74a57bd0d68dc3596d26fd4f71cc6c5f2c3cc1b3d0ed0ab64dd09e86f9aa75e5d2f92423",
   "display_name": "Python 3.9.4 64-bit"
  },
  "metadata": {
   "interpreter": {
    "hash": "d68dc3596d26fd4f71cc6c5f2c3cc1b3d0ed0ab64dd09e86f9aa75e5d2f92423"
   }
  }
 },
 "nbformat": 4,
 "nbformat_minor": 2,
 "cells": [
  {
   "cell_type": "code",
   "execution_count": 2,
   "metadata": {},
   "outputs": [
    {
     "output_type": "stream",
     "name": "stdout",
     "text": [
      "\\neu mot ngay\n"
     ]
    }
   ],
   "source": [
    "# r accept using '\\' in string\n",
    "print(r\"\\neu mot ngay\")"
   ]
  },
  {
   "cell_type": "code",
   "execution_count": 12,
   "metadata": {},
   "outputs": [
    {
     "output_type": "stream",
     "name": "stdout",
     "text": [
      "(1, 2, 1, 1, 3)\n<class 'tuple'>\n<class 'int'>\n"
     ]
    }
   ],
   "source": [
    "# tuple\n",
    "tup = (1,2,1,1,3)\n",
    "print(tup)\n",
    "print(type(tup))\n",
    "tup = 1\n",
    "print(type(tup))"
   ]
  },
  {
   "cell_type": "code",
   "execution_count": 3,
   "metadata": {},
   "outputs": [
    {
     "output_type": "stream",
     "name": "stdout",
     "text": [
      "Vi chinh em co gai ngay hom qua da cuop mat anh\nVi chinh em co gai ngay hom qua da cuop mat anh\nVi chinh em co gai ngay hom qua da cuop mat anh\nh\n"
     ]
    }
   ],
   "source": [
    "s = 'Vi chinh em co gai ngay hom qua da cuop mat anh'\n",
    "print(s[0:len(s):1])\n",
    "print(s[0::1])\n",
    "print(s[0:None:1])\n",
    "print(s[-1:None:1])"
   ]
  },
  {
   "cell_type": "code",
   "execution_count": 6,
   "metadata": {},
   "outputs": [
    {
     "output_type": "stream",
     "name": "stdout",
     "text": [
      "1 That\nchắc em đang ngủ vùi\n"
     ]
    }
   ],
   "source": [
    "print('%d %s' % (1, 'That'))\n",
    "print(\"chắc em đang ngủ vùi\")"
   ]
  },
  {
   "cell_type": "code",
   "execution_count": 7,
   "metadata": {},
   "outputs": [],
   "source": [
    "# diff %s abd %r\n",
    "class SomeThing: \n",
    "    def __repr__(seft):\n",
    "        return 'This is __repr__'\n",
    "    def __str__(seft):\n",
    "        return 'This is __str__'"
   ]
  },
  {
   "cell_type": "code",
   "execution_count": 8,
   "metadata": {},
   "outputs": [],
   "source": [
    "sthing = SomeThing()"
   ]
  },
  {
   "cell_type": "code",
   "execution_count": 9,
   "metadata": {},
   "outputs": [
    {
     "output_type": "execute_result",
     "data": {
      "text/plain": [
       "__main__.SomeThing"
      ]
     },
     "metadata": {},
     "execution_count": 9
    }
   ],
   "source": [
    "type(sthing)"
   ]
  },
  {
   "cell_type": "code",
   "execution_count": 10,
   "metadata": {},
   "outputs": [
    {
     "output_type": "execute_result",
     "data": {
      "text/plain": [
       "This is __repr__"
      ]
     },
     "metadata": {},
     "execution_count": 10
    }
   ],
   "source": [
    "sthing"
   ]
  },
  {
   "cell_type": "code",
   "execution_count": 11,
   "metadata": {},
   "outputs": [
    {
     "output_type": "stream",
     "name": "stdout",
     "text": [
      "This is __str__\n"
     ]
    }
   ],
   "source": [
    "print(sthing)"
   ]
  },
  {
   "cell_type": "code",
   "execution_count": 19,
   "metadata": {},
   "outputs": [
    {
     "output_type": "stream",
     "name": "stdout",
     "text": [
      "My number favorite is 1\n1: {one}, 2: {a}, 3: Three\n"
     ]
    }
   ],
   "source": [
    "# f string\n",
    "a = 1\n",
    "print(f'My number favorite is {a}')\n",
    "variable = 'Three'\n",
    "print(f'1: {{one}}, 2: {{a}}, 3: {variable}')"
   ]
  },
  {
   "cell_type": "code",
   "execution_count": 27,
   "metadata": {},
   "outputs": [
    {
     "output_type": "stream",
     "name": "stdout",
     "text": [
      "a : 3, b : 2, c : 1\na : 1, b : 2, c : 3\na : three, b : two, c : one\nNumber\n"
     ]
    }
   ],
   "source": [
    "# Định dạng = format\n",
    "print('a : {}, b : {}, c : {}'.format(3, 2, 1))\n",
    "print('a : %d, b : %d, c : %d' % (1, 2, 3))\n",
    "\n",
    "print(\"a : {2}, b : {1}, c : {0}\".format('one', 'two', 'three'))\n",
    "\n",
    "print('Number')"
   ]
  },
  {
   "cell_type": "code",
   "execution_count": null,
   "metadata": {},
   "outputs": [],
   "source": []
  }
 ]
}