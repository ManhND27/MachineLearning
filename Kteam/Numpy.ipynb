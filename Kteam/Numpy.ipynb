{
 "metadata": {
  "language_info": {
   "codemirror_mode": {
    "name": "ipython",
    "version": 3
   },
   "file_extension": ".py",
   "mimetype": "text/x-python",
   "name": "python",
   "nbconvert_exporter": "python",
   "pygments_lexer": "ipython3",
   "version": "3.9.4"
  },
  "orig_nbformat": 2,
  "kernelspec": {
   "name": "python394jvsc74a57bd0d68dc3596d26fd4f71cc6c5f2c3cc1b3d0ed0ab64dd09e86f9aa75e5d2f92423",
   "display_name": "Python 3.9.4 64-bit"
  },
  "metadata": {
   "interpreter": {
    "hash": "d68dc3596d26fd4f71cc6c5f2c3cc1b3d0ed0ab64dd09e86f9aa75e5d2f92423"
   }
  }
 },
 "nbformat": 4,
 "nbformat_minor": 2,
 "cells": [
  {
   "cell_type": "code",
   "execution_count": 2,
   "metadata": {},
   "outputs": [],
   "source": [
    "import numpy as np "
   ]
  },
  {
   "cell_type": "code",
   "execution_count": 12,
   "metadata": {},
   "outputs": [
    {
     "output_type": "stream",
     "name": "stdout",
     "text": [
      "(36,)\n[1. 1. 1. 1.]\n"
     ]
    }
   ],
   "source": [
    "#loadtxt with Numpy      \n",
    "A = np.loadtxt(\"data.txt\", delimiter=',')\n",
    "print(A.shape)\n",
    "print(A[0:4])\n",
    "\n",
    "np.savetxt(\"data_save.txt\", A, fmt='%.2f', delimiter=',')"
   ]
  },
  {
   "cell_type": "code",
   "execution_count": 16,
   "metadata": {},
   "outputs": [
    {
     "output_type": "stream",
     "name": "stdout",
     "text": [
      "\\neu mot ngay\n"
     ]
    }
   ],
   "source": []
  },
  {
   "cell_type": "code",
   "execution_count": 41,
   "metadata": {},
   "outputs": [
    {
     "output_type": "stream",
     "name": "stdout",
     "text": [
      "Vi chinh em co gai ngay hom qua da cuop mat anh\nVi chinh em co gai ngay hom qua da cuop mat anh\nVi chinh em co gai ngay hom qua da cuop mat anh\nh\n"
     ]
    }
   ],
   "source": []
  },
  {
   "cell_type": "code",
   "execution_count": null,
   "metadata": {},
   "outputs": [],
   "source": []
  }
 ]
}