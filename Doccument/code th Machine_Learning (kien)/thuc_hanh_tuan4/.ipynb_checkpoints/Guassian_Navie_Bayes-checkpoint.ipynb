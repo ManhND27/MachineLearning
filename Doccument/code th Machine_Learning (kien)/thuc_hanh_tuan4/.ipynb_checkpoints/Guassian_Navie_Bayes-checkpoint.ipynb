{
 "cells": [
  {
   "cell_type": "code",
   "execution_count": 2,
   "metadata": {},
   "outputs": [
    {
     "data": {
      "text/plain": [
       "5-element Array{Float64,1}:\n",
       " 0.6907340380389653\n",
       " 0.4238459010767319\n",
       " 0.7674535112222407\n",
       " 0.5900014296793135\n",
       " 0.7194355186397481"
      ]
     },
     "execution_count": 2,
     "metadata": {},
     "output_type": "execute_result"
    }
   ],
   "source": [
    "x= rand(5)"
   ]
  },
  {
   "cell_type": "code",
   "execution_count": 5,
   "metadata": {},
   "outputs": [],
   "source": [
    "using Statistics"
   ]
  },
  {
   "cell_type": "code",
   "execution_count": 2,
   "metadata": {},
   "outputs": [],
   "source": [
    "using DelimitedFiles"
   ]
  },
  {
   "cell_type": "code",
   "execution_count": 6,
   "metadata": {},
   "outputs": [
    {
     "data": {
      "text/plain": [
       "569×32 Array{Float64,2}:\n",
       " 842302.0        0.0  17.99   10.38  …  0.7119  0.2654   0.4601  0.1189\n",
       " 842517.0        0.0  20.57   17.77     0.2416  0.186    0.275   0.08902\n",
       "      8.43009e7  0.0  19.69   21.25     0.4504  0.243    0.3613  0.08758\n",
       "      8.43483e7  0.0  11.42   20.38     0.6869  0.2575   0.6638  0.173\n",
       "      8.43584e7  0.0  20.29   14.34     0.4     0.1625   0.2364  0.07678\n",
       " 843786.0        0.0  12.45   15.7   …  0.5355  0.1741   0.3985  0.1244\n",
       " 844359.0        0.0  18.25   19.98     0.3784  0.1932   0.3063  0.08368\n",
       "      8.44582e7  0.0  13.71   20.83     0.2678  0.1556   0.3196  0.1151\n",
       " 844981.0        0.0  13.0    21.82     0.539   0.206    0.4378  0.1072\n",
       "      8.4501e7   0.0  12.46   24.04     1.105   0.221    0.4366  0.2075\n",
       " 845636.0        0.0  16.02   23.24  …  0.1459  0.09975  0.2948  0.08452\n",
       "      8.461e7    0.0  15.78   17.89     0.3965  0.181    0.3792  0.1048\n",
       " 846226.0        0.0  19.17   24.8      0.3639  0.1767   0.3176  0.1023\n",
       "      ⋮                              ⋱                   ⋮       \n",
       " 925236.0        1.0   9.423  27.88     0.0     0.0      0.2475  0.06969\n",
       " 925277.0        1.0  14.59   22.68     0.3662  0.1105   0.2258  0.08004\n",
       " 925291.0        1.0  11.51   23.93     0.363   0.09653  0.2112  0.08732\n",
       " 925292.0        1.0  14.05   27.15  …  0.1326  0.1048   0.225   0.08321\n",
       " 925311.0        1.0  11.2    29.37     0.0     0.0      0.1566  0.05905\n",
       " 925622.0        0.0  15.22   30.62     1.17    0.2356   0.4089  0.1409\n",
       " 926125.0        0.0  20.92   25.09     0.6599  0.2542   0.2929  0.09873\n",
       " 926424.0        0.0  21.56   22.39     0.4107  0.2216   0.206   0.07115\n",
       " 926682.0        0.0  20.13   28.25  …  0.3215  0.1628   0.2572  0.06637\n",
       " 926954.0        0.0  16.6    28.08     0.3403  0.1418   0.2218  0.0782\n",
       " 927241.0        0.0  20.6    29.33     0.9387  0.265    0.4087  0.124\n",
       "  92751.0        1.0   7.76   24.54     0.0     0.0      0.2871  0.07039"
      ]
     },
     "execution_count": 6,
     "metadata": {},
     "output_type": "execute_result"
    }
   ],
   "source": [
    "A=readdlm(\"wdbc.txt\" , ',' , Float64,'\\n')"
   ]
  },
  {
   "cell_type": "code",
   "execution_count": 67,
   "metadata": {},
   "outputs": [
    {
     "data": {
      "text/plain": [
       "(212, 10)"
      ]
     },
     "execution_count": 67,
     "metadata": {},
     "output_type": "execute_result"
    }
   ],
   "source": [
    "y=A[:,2]\n",
    "X=A[:,3:12]\n",
    "X1=X[y.==0,:]\n",
    "size(X1)"
   ]
  },
  {
   "cell_type": "code",
   "execution_count": 77,
   "metadata": {},
   "outputs": [
    {
     "data": {
      "text/plain": [
       "π = 3.1415926535897..."
      ]
     },
     "execution_count": 77,
     "metadata": {},
     "output_type": "execute_result"
    }
   ],
   "source": [
    "π"
   ]
  },
  {
   "cell_type": "code",
   "execution_count": 72,
   "metadata": {},
   "outputs": [
    {
     "name": "stdout",
     "output_type": "stream",
     "text": [
      "0.0"
     ]
    },
    {
     "data": {
      "text/plain": [
       "10"
      ]
     },
     "execution_count": 72,
     "metadata": {},
     "output_type": "execute_result"
    }
   ],
   "source": [
    "# chiều của ma trận X\n",
    "N,D= size(X)\n",
    "θ=zeros(2)\n",
    "θ[1]=sum(y.==0)/N\n",
    "print(θ[1])\n",
    "θ[2]=sum(y.==1)/N\n",
    "K=length(unique(y))\n",
    "D"
   ]
  },
  {
   "cell_type": "code",
   "execution_count": 73,
   "metadata": {},
   "outputs": [
    {
     "data": {
      "text/plain": [
       "569-element Array{Float64,1}:\n",
       " 1.0\n",
       " 1.0\n",
       " 1.0\n",
       " 1.0\n",
       " 1.0\n",
       " 1.0\n",
       " 1.0\n",
       " 1.0\n",
       " 1.0\n",
       " 1.0\n",
       " 1.0\n",
       " 1.0\n",
       " 1.0\n",
       " ⋮\n",
       " 2.0\n",
       " 2.0\n",
       " 2.0\n",
       " 2.0\n",
       " 2.0\n",
       " 1.0\n",
       " 1.0\n",
       " 1.0\n",
       " 1.0\n",
       " 1.0\n",
       " 1.0\n",
       " 2.0"
      ]
     },
     "execution_count": 73,
     "metadata": {},
     "output_type": "execute_result"
    }
   ],
   "source": [
    "X=A[:,3:12]\n",
    "y=A[:,2]\n",
    "y=y.+1"
   ]
  },
  {
   "cell_type": "code",
   "execution_count": 74,
   "metadata": {},
   "outputs": [
    {
     "data": {
      "text/plain": [
       "train (generic function with 1 method)"
      ]
     },
     "execution_count": 74,
     "metadata": {},
     "output_type": "execute_result"
    }
   ],
   "source": [
    "function train(X,y)\n",
    "    N,D= size(X)\n",
    "    K=length(unique(y))\n",
    "    μ=zeros(K,D)\n",
    "    σ=zeros(K,D)\n",
    "    θ=zeros(K)\n",
    "    for k= 1: K\n",
    "        θ[k]=sum(y.==k)/N\n",
    "        X_k=X[y.==k,:]\n",
    "        μ[k,:]=mean(X_k, dims=1)\n",
    "        σ[k,:]=std(X_k, dims=1)\n",
    "    end\n",
    "    (θ,μ,σ)\n",
    "end"
   ]
  },
  {
   "cell_type": "code",
   "execution_count": 76,
   "metadata": {},
   "outputs": [
    {
     "data": {
      "text/plain": [
       "([0.37258347978910367, 0.6274165202108963], [17.462830188679245 21.604905660377362 … 0.19290896226415097 0.06268009433962264; 12.146523809523813 17.914761904761903 … 0.17418599439775911 0.0628673949579832], [3.203971100779367 3.779469920776341 … 0.027638092143030174 0.007573315024808589; 1.7805116461410393 3.995124593675911 … 0.02480675820679328 0.0067473428139250636])"
      ]
     },
     "execution_count": 76,
     "metadata": {},
     "output_type": "execute_result"
    }
   ],
   "source": [
    "(θ,μ,σ)= train(X,y)"
   ]
  },
  {
   "cell_type": "code",
   "execution_count": 85,
   "metadata": {},
   "outputs": [
    {
     "data": {
      "text/plain": [
       "predict (generic function with 1 method)"
      ]
     },
     "execution_count": 85,
     "metadata": {},
     "output_type": "execute_result"
    }
   ],
   "source": [
    "# xây dựng hàm dự đoán\n",
    "function predict(θ,μ,σ,Xnew)\n",
    "    # dự đoán dựa vào công thức xác suất đầy đủ\n",
    "    # p(y=k|x)=p(y=k)*p(x|y=k) log 2 vế để mất phép nhân chuyển về phép cộng đây là ước lượng hợp lý cực đại\n",
    "    K= length(θ)\n",
    "    t=zeros(K)\n",
    "    for k= 1:K\n",
    "        α=log(θ[k])\n",
    "        tmp=(Xnew - μ[k,:])/σ[k,:]\n",
    "        tmp1=tmp*tmp'\n",
    "        β=sum(log(1/σ[k,:]) - sum(tmp1/2)\n",
    "        t[k]= α + β\n",
    "    end\n",
    "    argmax(t)\n",
    "end"
   ]
  },
  {
   "cell_type": "code",
   "execution_count": 86,
   "metadata": {},
   "outputs": [
    {
     "ename": "LoadError",
     "evalue": "MethodError: no method matching log(::Array{Float64,1})\nClosest candidates are:\n  log(!Matched::Missing) at math.jl:1197\n  log(!Matched::BigFloat) at mpfr.jl:656\n  log(!Matched::Complex{Float16}) at math.jl:1145\n  ...",
     "output_type": "error",
     "traceback": [
      "MethodError: no method matching log(::Array{Float64,1})\nClosest candidates are:\n  log(!Matched::Missing) at math.jl:1197\n  log(!Matched::BigFloat) at mpfr.jl:656\n  log(!Matched::Complex{Float16}) at math.jl:1145\n  ...",
      "",
      "Stacktrace:",
      " [1] predict(::Array{Float64,1}, ::Array{Float64,2}, ::Array{Float64,2}, ::Array{Float64,1}) at .\\In[85]:11",
      " [2] top-level scope at In[86]:2",
      " [3] include_string(::Function, ::Module, ::String, ::String) at .\\loading.jl:1091"
     ]
    }
   ],
   "source": [
    "Xnew=X[100,:]\n",
    "ŷ= predict(θ,μ,σ,Xnew)"
   ]
  }
 ],
 "metadata": {
  "kernelspec": {
   "display_name": "Julia 1.5.1",
   "language": "julia",
   "name": "julia-1.5"
  },
  "language_info": {
   "file_extension": ".jl",
   "mimetype": "application/julia",
   "name": "julia",
   "version": "1.5.1"
  }
 },
 "nbformat": 4,
 "nbformat_minor": 4
}
