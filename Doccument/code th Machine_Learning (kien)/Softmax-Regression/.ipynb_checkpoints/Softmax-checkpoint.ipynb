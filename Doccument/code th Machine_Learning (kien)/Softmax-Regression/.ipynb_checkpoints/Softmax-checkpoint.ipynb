{
 "cells": [
  {
   "cell_type": "code",
   "execution_count": 1,
   "metadata": {},
   "outputs": [],
   "source": [
    "using DelimitedFiles\n",
    "using Plots\n",
    "using Optim"
   ]
  },
  {
   "cell_type": "code",
   "execution_count": 2,
   "metadata": {},
   "outputs": [
    {
     "data": {
      "text/plain": [
       "130×5 Array{Float64,2}:\n",
       " 1.0  5.1  3.5  1.4  0.2\n",
       " 1.0  4.7  3.2  1.3  0.2\n",
       " 1.0  4.6  3.1  1.5  0.2\n",
       " 1.0  5.0  3.6  1.4  0.2\n",
       " 1.0  4.6  3.4  1.4  0.3\n",
       " 1.0  4.4  2.9  1.4  0.2\n",
       " 1.0  4.9  3.1  1.5  0.1\n",
       " 1.0  5.4  3.7  1.5  0.2\n",
       " 1.0  4.8  3.4  1.6  0.2\n",
       " 1.0  4.8  3.0  1.4  0.1\n",
       " 1.0  4.3  3.0  1.1  0.1\n",
       " 1.0  5.8  4.0  1.2  0.2\n",
       " 1.0  5.7  4.4  1.5  0.4\n",
       " ⋮                   \n",
       " 3.0  6.1  2.6  5.6  1.4\n",
       " 3.0  6.3  3.4  5.6  2.4\n",
       " 3.0  6.0  3.0  4.8  1.8\n",
       " 3.0  6.9  3.1  5.4  2.1\n",
       " 3.0  6.7  3.1  5.6  2.4\n",
       " 3.0  6.9  3.1  5.1  2.3\n",
       " 3.0  5.8  2.7  5.1  1.9\n",
       " 3.0  6.7  3.3  5.7  2.5\n",
       " 3.0  6.3  2.5  5.0  1.9\n",
       " 3.0  6.5  3.0  5.2  2.0\n",
       " 3.0  6.2  3.4  5.4  2.3\n",
       " 3.0  5.9  3.0  5.1  1.8"
      ]
     },
     "execution_count": 2,
     "metadata": {},
     "output_type": "execute_result"
    }
   ],
   "source": [
    "A= readdlm(\"iris_flower/iris-train.txt\")"
   ]
  },
  {
   "cell_type": "code",
   "execution_count": 3,
   "metadata": {},
   "outputs": [
    {
     "data": {
      "text/plain": [
       "130×4 Array{Float64,2}:\n",
       " 1.0  5.1  3.5  1.4\n",
       " 1.0  4.7  3.2  1.3\n",
       " 1.0  4.6  3.1  1.5\n",
       " 1.0  5.0  3.6  1.4\n",
       " 1.0  4.6  3.4  1.4\n",
       " 1.0  4.4  2.9  1.4\n",
       " 1.0  4.9  3.1  1.5\n",
       " 1.0  5.4  3.7  1.5\n",
       " 1.0  4.8  3.4  1.6\n",
       " 1.0  4.8  3.0  1.4\n",
       " 1.0  4.3  3.0  1.1\n",
       " 1.0  5.8  4.0  1.2\n",
       " 1.0  5.7  4.4  1.5\n",
       " ⋮              \n",
       " 1.0  6.1  2.6  5.6\n",
       " 1.0  6.3  3.4  5.6\n",
       " 1.0  6.0  3.0  4.8\n",
       " 1.0  6.9  3.1  5.4\n",
       " 1.0  6.7  3.1  5.6\n",
       " 1.0  6.9  3.1  5.1\n",
       " 1.0  5.8  2.7  5.1\n",
       " 1.0  6.7  3.3  5.7\n",
       " 1.0  6.3  2.5  5.0\n",
       " 1.0  6.5  3.0  5.2\n",
       " 1.0  6.2  3.4  5.4\n",
       " 1.0  5.9  3.0  5.1"
      ]
     },
     "execution_count": 3,
     "metadata": {},
     "output_type": "execute_result"
    }
   ],
   "source": [
    "y= Int.(A[:,1])\n",
    "X=[ones(length(y)) A[:,2:4]]"
   ]
  },
  {
   "cell_type": "code",
   "execution_count": 26,
   "metadata": {},
   "outputs": [
    {
     "data": {
      "text/plain": [
       "classify (generic function with 1 method)"
      ]
     },
     "execution_count": 26,
     "metadata": {},
     "output_type": "execute_result"
    }
   ],
   "source": [
    "# xây dựng hàm softmax\n",
    "function softmax(X,θ)\n",
    "    a= exp.(θ*X')\n",
    "    t= a ./ (sum(a, dims=1))\n",
    "    return t\n",
    "end"
   ]
  },
  {
   "cell_type": "code",
   "execution_count": 4,
   "metadata": {},
   "outputs": [
    {
     "data": {
      "text/plain": [
       "loss (generic function with 1 method)"
      ]
     },
     "execution_count": 4,
     "metadata": {},
     "output_type": "execute_result"
    }
   ],
   "source": [
    "# xây dựng hàm loss \n",
    "function loss(X,y,θ)\n",
    "    N,D= size(X)\n",
    "    l=θ*X' - log.(exp.())\n",
    "end"
   ]
  },
  {
   "cell_type": "code",
   "execution_count": 16,
   "metadata": {},
   "outputs": [
    {
     "name": "stdout",
     "output_type": "stream",
     "text": [
      "[4 6 8 10]"
     ]
    },
    {
     "data": {
      "text/plain": [
       "2×4 Array{Float64,2}:\n",
       " 0.25  0.333333  0.375  0.4\n",
       " 0.75  0.666667  0.625  0.6"
      ]
     },
     "execution_count": 16,
     "metadata": {},
     "output_type": "execute_result"
    }
   ],
   "source": [
    "x=[1 2 3 4; 3 4 5 6]\n",
    "x \n",
    "t= sum(x, dims=1)\n",
    "print(t)\n",
    "k= x ./ (sum(x, dims=1))"
   ]
  }
 ],
 "metadata": {
  "kernelspec": {
   "display_name": "Julia 1.5.1",
   "language": "julia",
   "name": "julia-1.5"
  },
  "language_info": {
   "file_extension": ".jl",
   "mimetype": "application/julia",
   "name": "julia",
   "version": "1.5.1"
  }
 },
 "nbformat": 4,
 "nbformat_minor": 4
}
