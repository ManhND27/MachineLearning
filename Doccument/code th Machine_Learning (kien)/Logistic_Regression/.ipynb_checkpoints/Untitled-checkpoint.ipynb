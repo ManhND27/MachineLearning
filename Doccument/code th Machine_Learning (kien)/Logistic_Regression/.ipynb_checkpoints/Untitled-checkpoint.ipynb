{
 "cells": [
  {
   "cell_type": "code",
   "execution_count": 1,
   "metadata": {},
   "outputs": [],
   "source": [
    "using DelimitedFiles\n",
    "using Plots\n",
    "using Optim"
   ]
  },
  {
   "cell_type": "code",
   "execution_count": 2,
   "metadata": {},
   "outputs": [
    {
     "data": {
      "text/plain": [
       "569×32 Array{Float64,2}:\n",
       " 842302.0        0.0  17.99   10.38  …  0.7119  0.2654   0.4601  0.1189\n",
       " 842517.0        0.0  20.57   17.77     0.2416  0.186    0.275   0.08902\n",
       "      8.43009e7  0.0  19.69   21.25     0.4504  0.243    0.3613  0.08758\n",
       "      8.43483e7  0.0  11.42   20.38     0.6869  0.2575   0.6638  0.173\n",
       "      8.43584e7  0.0  20.29   14.34     0.4     0.1625   0.2364  0.07678\n",
       " 843786.0        0.0  12.45   15.7   …  0.5355  0.1741   0.3985  0.1244\n",
       " 844359.0        0.0  18.25   19.98     0.3784  0.1932   0.3063  0.08368\n",
       "      8.44582e7  0.0  13.71   20.83     0.2678  0.1556   0.3196  0.1151\n",
       " 844981.0        0.0  13.0    21.82     0.539   0.206    0.4378  0.1072\n",
       "      8.4501e7   0.0  12.46   24.04     1.105   0.221    0.4366  0.2075\n",
       " 845636.0        0.0  16.02   23.24  …  0.1459  0.09975  0.2948  0.08452\n",
       "      8.461e7    0.0  15.78   17.89     0.3965  0.181    0.3792  0.1048\n",
       " 846226.0        0.0  19.17   24.8      0.3639  0.1767   0.3176  0.1023\n",
       "      ⋮                              ⋱                   ⋮       \n",
       " 925236.0        1.0   9.423  27.88     0.0     0.0      0.2475  0.06969\n",
       " 925277.0        1.0  14.59   22.68     0.3662  0.1105   0.2258  0.08004\n",
       " 925291.0        1.0  11.51   23.93     0.363   0.09653  0.2112  0.08732\n",
       " 925292.0        1.0  14.05   27.15  …  0.1326  0.1048   0.225   0.08321\n",
       " 925311.0        1.0  11.2    29.37     0.0     0.0      0.1566  0.05905\n",
       " 925622.0        0.0  15.22   30.62     1.17    0.2356   0.4089  0.1409\n",
       " 926125.0        0.0  20.92   25.09     0.6599  0.2542   0.2929  0.09873\n",
       " 926424.0        0.0  21.56   22.39     0.4107  0.2216   0.206   0.07115\n",
       " 926682.0        0.0  20.13   28.25  …  0.3215  0.1628   0.2572  0.06637\n",
       " 926954.0        0.0  16.6    28.08     0.3403  0.1418   0.2218  0.0782\n",
       " 927241.0        0.0  20.6    29.33     0.9387  0.265    0.4087  0.124\n",
       "  92751.0        1.0   7.76   24.54     0.0     0.0      0.2871  0.07039"
      ]
     },
     "execution_count": 2,
     "metadata": {},
     "output_type": "execute_result"
    }
   ],
   "source": [
    "A= readdlm(\"wdbc.txt\",',','\\n')"
   ]
  },
  {
   "cell_type": "code",
   "execution_count": 3,
   "metadata": {},
   "outputs": [
    {
     "data": {
      "text/plain": [
       "569×11 Array{Float64,2}:\n",
       " 1.0  17.99   10.38  122.8   1001.0  …  0.3001   0.1471   0.2419  0.07871\n",
       " 1.0  20.57   17.77  132.9   1326.0     0.0869   0.07017  0.1812  0.05667\n",
       " 1.0  19.69   21.25  130.0   1203.0     0.1974   0.1279   0.2069  0.05999\n",
       " 1.0  11.42   20.38   77.58   386.1     0.2414   0.1052   0.2597  0.09744\n",
       " 1.0  20.29   14.34  135.1   1297.0     0.198    0.1043   0.1809  0.05883\n",
       " 1.0  12.45   15.7    82.57   477.1  …  0.1578   0.08089  0.2087  0.07613\n",
       " 1.0  18.25   19.98  119.6   1040.0     0.1127   0.074    0.1794  0.05742\n",
       " 1.0  13.71   20.83   90.2    577.9     0.09366  0.05985  0.2196  0.07451\n",
       " 1.0  13.0    21.82   87.5    519.8     0.1859   0.09353  0.235   0.07389\n",
       " 1.0  12.46   24.04   83.97   475.9     0.2273   0.08543  0.203   0.08243\n",
       " 1.0  16.02   23.24  102.7    797.8  …  0.03299  0.03323  0.1528  0.05697\n",
       " 1.0  15.78   17.89  103.6    781.0     0.09954  0.06606  0.1842  0.06082\n",
       " 1.0  19.17   24.8   132.4   1123.0     0.2065   0.1118   0.2397  0.078\n",
       " ⋮                                   ⋱                            ⋮\n",
       " 1.0   9.423  27.88   59.26   271.3     0.0      0.0      0.1742  0.06059\n",
       " 1.0  14.59   22.68   96.39   657.1     0.1029   0.03736  0.1454  0.06147\n",
       " 1.0  11.51   23.93   74.52   403.5     0.1112   0.04105  0.1388  0.0657\n",
       " 1.0  14.05   27.15   91.38   600.4  …  0.04462  0.04304  0.1537  0.06171\n",
       " 1.0  11.2    29.37   70.67   386.0     0.0      0.0      0.106   0.05502\n",
       " 1.0  15.22   30.62  103.4    716.9     0.255    0.09429  0.2128  0.07152\n",
       " 1.0  20.92   25.09  143.0   1347.0     0.3174   0.1474   0.2149  0.06879\n",
       " 1.0  21.56   22.39  142.0   1479.0     0.2439   0.1389   0.1726  0.05623\n",
       " 1.0  20.13   28.25  131.2   1261.0  …  0.144    0.09791  0.1752  0.05533\n",
       " 1.0  16.6    28.08  108.3    858.1     0.09251  0.05302  0.159   0.05648\n",
       " 1.0  20.6    29.33  140.1   1265.0     0.3514   0.152    0.2397  0.07016\n",
       " 1.0   7.76   24.54   47.92   181.0     0.0      0.0      0.1587  0.05884"
      ]
     },
     "execution_count": 3,
     "metadata": {},
     "output_type": "execute_result"
    }
   ],
   "source": [
    "y= Int.(A[:,2])\n",
    "X= A[:,3:12]\n",
    "N= length(y)\n",
    "X_ungthu= [ones(N) X]"
   ]
  },
  {
   "cell_type": "code",
   "execution_count": 6,
   "metadata": {},
   "outputs": [
    {
     "data": {
      "text/plain": [
       "sigmoid (generic function with 1 method)"
      ]
     },
     "execution_count": 6,
     "metadata": {},
     "output_type": "execute_result"
    }
   ],
   "source": [
    "# xây dựng hàm sigmoid\n",
    "function sigmoid(X, θ)\n",
    "    g=1 ./ (1 .+ exp.(-(X*θ)))\n",
    "    return g\n",
    "end"
   ]
  },
  {
   "cell_type": "code",
   "execution_count": null,
   "metadata": {},
   "outputs": [],
   "source": [
    "# xây dựng hàm loss function \n",
    "function loss(X, y,θ)\n",
    "    N,D= size(X)\n",
    "    g=sigmoid(X,θ)\n",
    "    l=y'*log.(g) + (1 .- y)'*log.(1 .- g)\n",
    "    J= -l/N\n",
    "    return J\n",
    "end"
   ]
  },
  {
   "cell_type": "code",
   "execution_count": null,
   "metadata": {},
   "outputs": [],
   "source": [
    "# xây dựng hàm tính gradient\n",
    "function gradient(X,y,θ)\n",
    "    ∇=(X'*(sigmoid(X,θ) -y))/length(y)\n",
    "    return ∇\n",
    "end"
   ]
  },
  {
   "cell_type": "code",
   "execution_count": 14,
   "metadata": {},
   "outputs": [
    {
     "data": {
      "text/plain": [
       "train (generic function with 3 methods)"
      ]
     },
     "execution_count": 14,
     "metadata": {},
     "output_type": "execute_result"
    }
   ],
   "source": [
    "# xây dựng hàm train\n",
    "function train(X, y, α=0.01, maxIterations= 1000)::Array{Float64,10}\n",
    "    N,D= size(X)\n",
    "    θs= zeros(maxIterations,D)\n",
    "    for i= 1: maxIterations-1\n",
    "        ∇= gradient(X,y,θ)\n",
    "        θ[i+1,:]= θ[i,:]- α*∇\n",
    "    end\n",
    "    return θs\n",
    "end"
   ]
  },
  {
   "cell_type": "code",
   "execution_count": 15,
   "metadata": {},
   "outputs": [
    {
     "ename": "LoadError",
     "evalue": "MethodError: no method matching exp(::Array{Float64,1})\nClosest candidates are:\n  exp(!Matched::Missing) at math.jl:1197\n  exp(!Matched::BigFloat) at mpfr.jl:603\n  exp(!Matched::Complex{Float16}) at math.jl:1145\n  ...",
     "output_type": "error",
     "traceback": [
      "MethodError: no method matching exp(::Array{Float64,1})\nClosest candidates are:\n  exp(!Matched::Missing) at math.jl:1197\n  exp(!Matched::BigFloat) at mpfr.jl:603\n  exp(!Matched::Complex{Float16}) at math.jl:1145\n  ...",
      "",
      "Stacktrace:",
      " [1] (::var\"#1#2\"{Array{Float64,1}})(::Int64) at .\\In[7]:3",
      " [2] iterate at .\\generator.jl:47 [inlined]",
      " [3] _collect at .\\array.jl:699 [inlined]",
      " [4] collect_similar at .\\array.jl:628 [inlined]",
      " [5] map at .\\abstractarray.jl:2162 [inlined]",
      " [6] sigmoid at .\\In[7]:3 [inlined]",
      " [7] train(::Array{Float64,2}, ::Array{Float64,1}, ::Float64, ::Int64) at .\\In[14]:5",
      " [8] train(::Array{Float64,2}, ::Array{Float64,1}) at .\\In[14]:2",
      " [9] top-level scope at In[15]:1",
      " [10] include_string(::Function, ::Module, ::String, ::String) at .\\loading.jl:1091"
     ]
    }
   ],
   "source": [
    "θs= train(X_ungthu, y)"
   ]
  }
 ],
 "metadata": {
  "kernelspec": {
   "display_name": "Julia 1.5.1",
   "language": "julia",
   "name": "julia-1.5"
  },
  "language_info": {
   "file_extension": ".jl",
   "mimetype": "application/julia",
   "name": "julia",
   "version": "1.5.1"
  }
 },
 "nbformat": 4,
 "nbformat_minor": 4
}
