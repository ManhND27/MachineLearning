{
 "cells": [
  {
   "cell_type": "code",
   "execution_count": 2,
   "metadata": {},
   "outputs": [],
   "source": [
    "using Statistics\n",
    "using DelimitedFiles"
   ]
  },
  {
   "cell_type": "code",
   "execution_count": 4,
   "metadata": {},
   "outputs": [
    {
     "data": {
      "text/plain": [
       "569×32 Array{Float64,2}:\n",
       " 842302.0        0.0  17.99   10.38  …  0.7119  0.2654   0.4601  0.1189\n",
       " 842517.0        0.0  20.57   17.77     0.2416  0.186    0.275   0.08902\n",
       "      8.43009e7  0.0  19.69   21.25     0.4504  0.243    0.3613  0.08758\n",
       "      8.43483e7  0.0  11.42   20.38     0.6869  0.2575   0.6638  0.173\n",
       "      8.43584e7  0.0  20.29   14.34     0.4     0.1625   0.2364  0.07678\n",
       " 843786.0        0.0  12.45   15.7   …  0.5355  0.1741   0.3985  0.1244\n",
       " 844359.0        0.0  18.25   19.98     0.3784  0.1932   0.3063  0.08368\n",
       "      8.44582e7  0.0  13.71   20.83     0.2678  0.1556   0.3196  0.1151\n",
       " 844981.0        0.0  13.0    21.82     0.539   0.206    0.4378  0.1072\n",
       "      8.4501e7   0.0  12.46   24.04     1.105   0.221    0.4366  0.2075\n",
       " 845636.0        0.0  16.02   23.24  …  0.1459  0.09975  0.2948  0.08452\n",
       "      8.461e7    0.0  15.78   17.89     0.3965  0.181    0.3792  0.1048\n",
       " 846226.0        0.0  19.17   24.8      0.3639  0.1767   0.3176  0.1023\n",
       "      ⋮                              ⋱                   ⋮       \n",
       " 925236.0        1.0   9.423  27.88     0.0     0.0      0.2475  0.06969\n",
       " 925277.0        1.0  14.59   22.68     0.3662  0.1105   0.2258  0.08004\n",
       " 925291.0        1.0  11.51   23.93     0.363   0.09653  0.2112  0.08732\n",
       " 925292.0        1.0  14.05   27.15  …  0.1326  0.1048   0.225   0.08321\n",
       " 925311.0        1.0  11.2    29.37     0.0     0.0      0.1566  0.05905\n",
       " 925622.0        0.0  15.22   30.62     1.17    0.2356   0.4089  0.1409\n",
       " 926125.0        0.0  20.92   25.09     0.6599  0.2542   0.2929  0.09873\n",
       " 926424.0        0.0  21.56   22.39     0.4107  0.2216   0.206   0.07115\n",
       " 926682.0        0.0  20.13   28.25  …  0.3215  0.1628   0.2572  0.06637\n",
       " 926954.0        0.0  16.6    28.08     0.3403  0.1418   0.2218  0.0782\n",
       " 927241.0        0.0  20.6    29.33     0.9387  0.265    0.4087  0.124\n",
       "  92751.0        1.0   7.76   24.54     0.0     0.0      0.2871  0.07039"
      ]
     },
     "execution_count": 4,
     "metadata": {},
     "output_type": "execute_result"
    }
   ],
   "source": [
    "A = readdlm(\"./data/wdbc.txt\",',')"
   ]
  },
  {
   "cell_type": "code",
   "execution_count": null,
   "metadata": {},
   "outputs": [],
   "source": []
  },
  {
   "cell_type": "code",
   "execution_count": 10,
   "metadata": {},
   "outputs": [
    {
     "data": {
      "text/plain": [
       "569-element Array{Float64,1}:\n",
       " 1.0\n",
       " 1.0\n",
       " 1.0\n",
       " 1.0\n",
       " 1.0\n",
       " 1.0\n",
       " 1.0\n",
       " 1.0\n",
       " 1.0\n",
       " 1.0\n",
       " 1.0\n",
       " 1.0\n",
       " 1.0\n",
       " ⋮\n",
       " 2.0\n",
       " 2.0\n",
       " 2.0\n",
       " 2.0\n",
       " 2.0\n",
       " 1.0\n",
       " 1.0\n",
       " 1.0\n",
       " 1.0\n",
       " 1.0\n",
       " 1.0\n",
       " 2.0"
      ]
     },
     "execution_count": 10,
     "metadata": {},
     "output_type": "execute_result"
    }
   ],
   "source": [
    "y = A[:,2].+1"
   ]
  },
  {
   "cell_type": "code",
   "execution_count": 12,
   "metadata": {},
   "outputs": [
    {
     "data": {
      "text/plain": [
       "0.37258347978910367"
      ]
     },
     "execution_count": 12,
     "metadata": {},
     "output_type": "execute_result"
    }
   ],
   "source": [
    "m=(sum(y.==1))/length(y)"
   ]
  },
  {
   "cell_type": "code",
   "execution_count": 8,
   "metadata": {},
   "outputs": [
    {
     "data": {
      "text/plain": [
       "569×30 Array{Float64,2}:\n",
       " 17.99   10.38  122.8   1001.0  0.1184   …  0.7119  0.2654   0.4601  0.1189\n",
       " 20.57   17.77  132.9   1326.0  0.08474     0.2416  0.186    0.275   0.08902\n",
       " 19.69   21.25  130.0   1203.0  0.1096      0.4504  0.243    0.3613  0.08758\n",
       " 11.42   20.38   77.58   386.1  0.1425      0.6869  0.2575   0.6638  0.173\n",
       " 20.29   14.34  135.1   1297.0  0.1003      0.4     0.1625   0.2364  0.07678\n",
       " 12.45   15.7    82.57   477.1  0.1278   …  0.5355  0.1741   0.3985  0.1244\n",
       " 18.25   19.98  119.6   1040.0  0.09463     0.3784  0.1932   0.3063  0.08368\n",
       " 13.71   20.83   90.2    577.9  0.1189      0.2678  0.1556   0.3196  0.1151\n",
       " 13.0    21.82   87.5    519.8  0.1273      0.539   0.206    0.4378  0.1072\n",
       " 12.46   24.04   83.97   475.9  0.1186      1.105   0.221    0.4366  0.2075\n",
       " 16.02   23.24  102.7    797.8  0.08206  …  0.1459  0.09975  0.2948  0.08452\n",
       " 15.78   17.89  103.6    781.0  0.0971      0.3965  0.181    0.3792  0.1048\n",
       " 19.17   24.8   132.4   1123.0  0.0974      0.3639  0.1767   0.3176  0.1023\n",
       "  ⋮                                      ⋱                           \n",
       "  9.423  27.88   59.26   271.3  0.08123     0.0     0.0      0.2475  0.06969\n",
       " 14.59   22.68   96.39   657.1  0.08473     0.3662  0.1105   0.2258  0.08004\n",
       " 11.51   23.93   74.52   403.5  0.09261     0.363   0.09653  0.2112  0.08732\n",
       " 14.05   27.15   91.38   600.4  0.09929  …  0.1326  0.1048   0.225   0.08321\n",
       " 11.2    29.37   70.67   386.0  0.07449     0.0     0.0      0.1566  0.05905\n",
       " 15.22   30.62  103.4    716.9  0.1048      1.17    0.2356   0.4089  0.1409\n",
       " 20.92   25.09  143.0   1347.0  0.1099      0.6599  0.2542   0.2929  0.09873\n",
       " 21.56   22.39  142.0   1479.0  0.111       0.4107  0.2216   0.206   0.07115\n",
       " 20.13   28.25  131.2   1261.0  0.0978   …  0.3215  0.1628   0.2572  0.06637\n",
       " 16.6    28.08  108.3    858.1  0.08455     0.3403  0.1418   0.2218  0.0782\n",
       " 20.6    29.33  140.1   1265.0  0.1178      0.9387  0.265    0.4087  0.124\n",
       "  7.76   24.54   47.92   181.0  0.05263     0.0     0.0      0.2871  0.07039"
      ]
     },
     "execution_count": 8,
     "metadata": {},
     "output_type": "execute_result"
    }
   ],
   "source": [
    "X  = A[:,3:end]"
   ]
  },
  {
   "cell_type": "code",
   "execution_count": 15,
   "metadata": {},
   "outputs": [
    {
     "data": {
      "text/plain": [
       "train (generic function with 1 method)"
      ]
     },
     "execution_count": 15,
     "metadata": {},
     "output_type": "execute_result"
    }
   ],
   "source": [
    "function train(X,y)\n",
    "    N,D = size(X)\n",
    "    K = length(unique(y))\n",
    "    θ = zeros(K) # \n",
    "    μ = zeros(K,D) #  k hang va xac suat trung binh fitter \n",
    "    σ = zeros(K,D) # sai so tren tung fitter\n",
    "    for i=1:K \n",
    "        θ[i] = (sum(y.==i))/length(y)\n",
    "        X_i = X[y.==i,:]\n",
    "        μ[i,:] = mean(X_i,dims=1) #dims=1(chieu cot) dims=2(chieu hang)\n",
    "        σ[i,:] = std(X_i,dims=1) #tinh do lech chuan cua tung thanh phan \n",
    "    end\n",
    "    return θ, μ, σ\n",
    "end"
   ]
  },
  {
   "cell_type": "code",
   "execution_count": 30,
   "metadata": {},
   "outputs": [
    {
     "data": {
      "text/plain": [
       "([0.37258347978910367, 0.6274165202108963], [17.462830188679245 21.604905660377362 … 0.32346792452830186 0.09152995283018867; 12.146523809523813 17.914761904761903 … 0.27024593837535005 0.07944207282913165], [3.203971100779367 3.779469920776341 … 0.0746849560686125 0.02155288851442655; 1.7805116461410393 3.995124593675911 … 0.0417447664287058 0.013804045110823396])"
      ]
     },
     "execution_count": 30,
     "metadata": {},
     "output_type": "execute_result"
    }
   ],
   "source": [
    "θ, μ, σ=train(X,y)"
   ]
  },
  {
   "cell_type": "markdown",
   "metadata": {},
   "source": [
    "θ"
   ]
  },
  {
   "cell_type": "code",
   "execution_count": 20,
   "metadata": {},
   "outputs": [
    {
     "data": {
      "text/plain": [
       "2-element Array{Float64,1}:\n",
       " 0.37258347978910367\n",
       " 0.6274165202108963"
      ]
     },
     "execution_count": 20,
     "metadata": {},
     "output_type": "execute_result"
    }
   ],
   "source": [
    "θ"
   ]
  },
  {
   "cell_type": "code",
   "execution_count": 21,
   "metadata": {},
   "outputs": [
    {
     "data": {
      "text/plain": [
       "2×30 Array{Float64,2}:\n",
       " 3.20397  3.77947  21.8547  367.938  …  0.0463078  0.074685   0.0215529\n",
       " 1.78051  3.99512  11.8074  134.287     0.0357974  0.0417448  0.013804"
      ]
     },
     "execution_count": 21,
     "metadata": {},
     "output_type": "execute_result"
    }
   ],
   "source": [
    "σ"
   ]
  },
  {
   "cell_type": "code",
   "execution_count": 22,
   "metadata": {},
   "outputs": [
    {
     "data": {
      "text/plain": [
       "2×30 Array{Float64,2}:\n",
       " 17.4628  21.6049  115.365   978.376  …  0.182237   0.323468  0.09153\n",
       " 12.1465  17.9148   78.0754  462.79      0.0744443  0.270246  0.0794421"
      ]
     },
     "execution_count": 22,
     "metadata": {},
     "output_type": "execute_result"
    }
   ],
   "source": [
    "μ"
   ]
  },
  {
   "cell_type": "code",
   "execution_count": 32,
   "metadata": {},
   "outputs": [
    {
     "data": {
      "text/plain": [
       "classify (generic function with 1 method)"
      ]
     },
     "execution_count": 32,
     "metadata": {},
     "output_type": "execute_result"
    }
   ],
   "source": [
    "function classify(xNew,θ,μ,σ)\n",
    "    K = length(θ)\n",
    "    t = zeros(K)\n",
    "    for i = 1:K\n",
    "        α = log(θ[i])\n",
    "        temps = (xNew - μ[i,:])./(σ[i,:])\n",
    "        β_i = temps'*temps #tong cua binh phuong thu hai\n",
    "        H_i = -log.(σ[i,:]) #tong cua log thu nhat\n",
    "        t[i] = α + sum(H_i) - sum(β_i)/2\n",
    "    end\n",
    "    return argmax(t)\n",
    "end"
   ]
  },
  {
   "cell_type": "code",
   "execution_count": 33,
   "metadata": {},
   "outputs": [
    {
     "data": {
      "text/plain": [
       "1"
      ]
     },
     "execution_count": 33,
     "metadata": {},
     "output_type": "execute_result"
    }
   ],
   "source": [
    "classify(X[1,:],θ,μ,σ)"
   ]
  },
  {
   "cell_type": "code",
   "execution_count": 35,
   "metadata": {},
   "outputs": [
    {
     "data": {
      "text/plain": [
       "accurency (generic function with 1 method)"
      ]
     },
     "execution_count": 35,
     "metadata": {},
     "output_type": "execute_result"
    }
   ],
   "source": [
    "function accurency(X,y,θ,μ,σ)\n",
    "    ŷ = zeros(length(y))\n",
    "    for i=1:length(ŷ)\n",
    "        ŷ[i]=classify(X[i,:],θ,μ,σ)\n",
    "    end\n",
    "    t=sum(y.==ŷ)/length(y)\n",
    "    return t\n",
    "end"
   ]
  },
  {
   "cell_type": "code",
   "execution_count": 36,
   "metadata": {},
   "outputs": [
    {
     "data": {
      "text/plain": [
       "0.9402460456942003"
      ]
     },
     "execution_count": 36,
     "metadata": {},
     "output_type": "execute_result"
    }
   ],
   "source": [
    "accurency(X,y,θ,μ,σ)"
   ]
  },
  {
   "cell_type": "code",
   "execution_count": null,
   "metadata": {},
   "outputs": [],
   "source": []
  }
 ],
 "metadata": {
  "kernelspec": {
   "display_name": "Julia 1.5.2",
   "language": "julia",
   "name": "julia-1.5"
  },
  "language_info": {
   "file_extension": ".jl",
   "mimetype": "application/julia",
   "name": "julia",
   "version": "1.5.2"
  }
 },
 "nbformat": 4,
 "nbformat_minor": 4
}
